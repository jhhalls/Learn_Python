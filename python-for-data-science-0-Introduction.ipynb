{
 "cells": [
  {
   "cell_type": "markdown",
   "id": "40fe5a67",
   "metadata": {},
   "source": [
    "# header 1"
   ]
  },
  {
   "cell_type": "markdown",
   "id": "fafd5158",
   "metadata": {},
   "source": [
    "## header 2"
   ]
  },
  {
   "cell_type": "markdown",
   "id": "5d2ff8ca",
   "metadata": {},
   "source": [
    "### header 3"
   ]
  },
  {
   "cell_type": "markdown",
   "id": "a33fbb87",
   "metadata": {},
   "source": [
    "#### header 4"
   ]
  },
  {
   "cell_type": "code",
   "execution_count": null,
   "id": "abe2d3c5",
   "metadata": {},
   "outputs": [],
   "source": []
  },
  {
   "cell_type": "code",
   "execution_count": null,
   "id": "f04aa70c",
   "metadata": {},
   "outputs": [],
   "source": []
  },
  {
   "cell_type": "code",
   "execution_count": null,
   "id": "5acc6331",
   "metadata": {},
   "outputs": [],
   "source": []
  },
  {
   "cell_type": "markdown",
   "id": "ba933ce7",
   "metadata": {},
   "source": [
    "# Home work"
   ]
  },
  {
   "cell_type": "markdown",
   "id": "7fd9ba29",
   "metadata": {},
   "source": [
    "- Explore interface of Jupyter Notebook.\n",
    "- Explore shortcuts"
   ]
  },
  {
   "cell_type": "code",
   "execution_count": 3,
   "id": "fa57fa5e",
   "metadata": {},
   "outputs": [
    {
     "name": "stdout",
     "output_type": "stream",
     "text": [
      "We are learning Python\n"
     ]
    }
   ],
   "source": [
    "print(\"We are learning Python\")"
   ]
  },
  {
   "cell_type": "markdown",
   "id": "21f84418",
   "metadata": {},
   "source": [
    "# Roadmap"
   ]
  },
  {
   "cell_type": "markdown",
   "id": "b5764a71",
   "metadata": {},
   "source": [
    "- Features of Python\n",
    "- Garbage collection (Memory management system of python)\n",
    "- Datatypes iin python\n",
    "- Operators in python\n",
    "- INput & Output operations\n",
    "- Control Statement\n",
    "    -- if-elif -else\n",
    "    -- Loops - for & while\n",
    "    -- Nested loops\n",
    "- Strings\n",
    "- Arrays - NumPy (Numerical python)\n",
    "- List\n",
    "- Tuple\n",
    "- Dictionary\n",
    "- Sets\n",
    "- Functions\n",
    "    Types of fucnitons\n",
    "    - Inbuilt fuction\n",
    "    - User defined functions\n",
    "    - Anonymous Functions\n",
    "- OOPS (Object Oriented Programming)\n",
    "    - Objects & Classes\n",
    "    - Encapsulation\n",
    "    - Inheritance\n",
    "        - Single inheritence\n",
    "        - Multiple Inheritence\n",
    "        - Multillevel Inheritence\n",
    "        - Heirarchical Inheritence\n",
    "        - Hybrid Inheritence\n",
    "    - Polymorphism\n",
    "    - Abstraction\n",
    "- File Handlining in python\n",
    "- Pandas (structured form of data)\n",
    "- Matpotlib\n",
    "- Seaborn"
   ]
  },
  {
   "cell_type": "markdown",
   "id": "dfb6f0e7",
   "metadata": {},
   "source": [
    "# Python"
   ]
  },
  {
   "cell_type": "markdown",
   "id": "0b96dcde",
   "metadata": {},
   "source": [
    "- General Purpose Programming Language (GPPL)\n",
    "- Case sensitive programming Language\n",
    "- Web Development\n",
    "- Backend Development\n",
    "- App Development\n",
    "- Design Content - Tkinter\n",
    "- Sripting Language\n",
    "- Data Science\n",
    "- Develop Games\n",
    "- Database - SQLite, OracleDB, MYSQL,etc\n",
    "- Server side programming"
   ]
  },
  {
   "cell_type": "markdown",
   "id": "01463062",
   "metadata": {},
   "source": [
    "Python is written in C programming language"
   ]
  },
  {
   "cell_type": "markdown",
   "id": "13406ef4",
   "metadata": {},
   "source": [
    "# Features of Python"
   ]
  },
  {
   "cell_type": "markdown",
   "id": "c45c050e",
   "metadata": {},
   "source": [
    "- Simple Programming Language\n",
    "- Easy to learn\n",
    "- Open Source - Free of cost. Source code is openly available. Python.org\n",
    "- High Level Programming Language - Programming Iceberg\n",
    "- Platform Independent - OS independent (macOS, Windows, Solaris, Redhat, Unix, Linux, etc.)\n",
    "- POrtable - Any piece of code working in your system will work in any system worldwide.\n",
    "- Procedure & Object Oriented programming\n",
    "- Interpreted - \n",
    "- Extensible\n",
    "- Embeddable - embed any programming along with python\n",
    "- Huge Library - MOdules in python (numpy, pandas, matploblib,seaborn, scipy, etc.)\n",
    "- Scripting Language\n",
    "- Database connectivity\n",
    "- Scalable - Environment, hardware, etc."
   ]
  },
  {
   "cell_type": "markdown",
   "id": "34632cd0",
   "metadata": {},
   "source": [
    "# Comments in Python"
   ]
  },
  {
   "cell_type": "code",
   "execution_count": 5,
   "id": "862374de",
   "metadata": {},
   "outputs": [],
   "source": [
    "# This is a single line comment"
   ]
  },
  {
   "cell_type": "code",
   "execution_count": 8,
   "id": "bdf42a6f",
   "metadata": {},
   "outputs": [
    {
     "data": {
      "text/plain": [
       "'\\nThis is a multiline commment\\n\\n'"
      ]
     },
     "execution_count": 8,
     "metadata": {},
     "output_type": "execute_result"
    }
   ],
   "source": [
    "\"\"\"\n",
    "This is a multiline commment\n",
    "\n",
    "\"\"\"\n",
    "\n"
   ]
  },
  {
   "cell_type": "markdown",
   "id": "185d12a4",
   "metadata": {},
   "source": [
    "# Datatypes in Python"
   ]
  },
  {
   "cell_type": "markdown",
   "id": "596ed121",
   "metadata": {},
   "source": [
    "- Numbers\n",
    "    - int32\n",
    "    - int64\n",
    "    - float32\n",
    "    - float64\n",
    "- Characters\n",
    "    - object\n",
    "- Date or datetime\n",
    "    - datetime\n",
    "    - timestamp"
   ]
  },
  {
   "cell_type": "markdown",
   "id": "0cc615c5",
   "metadata": {},
   "source": [
    "# Variables in Python"
   ]
  },
  {
   "cell_type": "code",
   "execution_count": 10,
   "id": "f92aac84",
   "metadata": {},
   "outputs": [],
   "source": [
    "# declaring a variable a with the value of 5\n",
    "a = 5"
   ]
  },
  {
   "cell_type": "markdown",
   "id": "24f4e4f3",
   "metadata": {},
   "source": [
    "- a - reference of variable\n",
    "- 5 - Value of variable\n",
    "- x3258dh - Memory location"
   ]
  },
  {
   "cell_type": "code",
   "execution_count": 11,
   "id": "1afb1a37",
   "metadata": {},
   "outputs": [],
   "source": [
    "b = 5"
   ]
  },
  {
   "cell_type": "markdown",
   "id": "f0791f5e",
   "metadata": {},
   "source": [
    "# First code in python"
   ]
  },
  {
   "cell_type": "code",
   "execution_count": 12,
   "id": "dde3bd0b",
   "metadata": {},
   "outputs": [
    {
     "data": {
      "text/plain": [
       "4"
      ]
     },
     "execution_count": 12,
     "metadata": {},
     "output_type": "execute_result"
    }
   ],
   "source": [
    "1+3"
   ]
  },
  {
   "cell_type": "code",
   "execution_count": 13,
   "id": "d2adcfa0",
   "metadata": {},
   "outputs": [
    {
     "data": {
      "text/plain": [
       "int"
      ]
     },
     "execution_count": 13,
     "metadata": {},
     "output_type": "execute_result"
    }
   ],
   "source": [
    "type(4)"
   ]
  },
  {
   "cell_type": "code",
   "execution_count": 14,
   "id": "3876bfc5",
   "metadata": {},
   "outputs": [
    {
     "data": {
      "text/plain": [
       "float"
      ]
     },
     "execution_count": 14,
     "metadata": {},
     "output_type": "execute_result"
    }
   ],
   "source": [
    "type(3.8)"
   ]
  },
  {
   "cell_type": "code",
   "execution_count": 15,
   "id": "e3767201",
   "metadata": {},
   "outputs": [
    {
     "data": {
      "text/plain": [
       "str"
      ]
     },
     "execution_count": 15,
     "metadata": {},
     "output_type": "execute_result"
    }
   ],
   "source": [
    "type('a')"
   ]
  },
  {
   "cell_type": "code",
   "execution_count": 16,
   "id": "0fbe6355",
   "metadata": {},
   "outputs": [
    {
     "data": {
      "text/plain": [
       "int"
      ]
     },
     "execution_count": 16,
     "metadata": {},
     "output_type": "execute_result"
    }
   ],
   "source": [
    "type(a)"
   ]
  },
  {
   "cell_type": "code",
   "execution_count": 17,
   "id": "881df1fc",
   "metadata": {},
   "outputs": [
    {
     "name": "stdout",
     "output_type": "stream",
     "text": [
      "\n"
     ]
    },
    {
     "data": {
      "text/plain": [
       "NoneType"
      ]
     },
     "execution_count": 17,
     "metadata": {},
     "output_type": "execute_result"
    }
   ],
   "source": [
    "type(print())"
   ]
  },
  {
   "cell_type": "code",
   "execution_count": 18,
   "id": "65c170d8",
   "metadata": {},
   "outputs": [
    {
     "data": {
      "text/plain": [
       "str"
      ]
     },
     "execution_count": 18,
     "metadata": {},
     "output_type": "execute_result"
    }
   ],
   "source": [
    "type('Rohit')"
   ]
  },
  {
   "cell_type": "code",
   "execution_count": 21,
   "id": "ab13c3e3",
   "metadata": {},
   "outputs": [
    {
     "data": {
      "text/plain": [
       "str"
      ]
     },
     "execution_count": 21,
     "metadata": {},
     "output_type": "execute_result"
    }
   ],
   "source": [
    "type(Rohit)"
   ]
  },
  {
   "cell_type": "code",
   "execution_count": 20,
   "id": "6e78cc1f",
   "metadata": {},
   "outputs": [],
   "source": [
    "Rohit = 'My name is Rohit'"
   ]
  },
  {
   "cell_type": "code",
   "execution_count": 22,
   "id": "82c230e9",
   "metadata": {},
   "outputs": [
    {
     "data": {
      "text/plain": [
       "'My name is Rohit'"
      ]
     },
     "execution_count": 22,
     "metadata": {},
     "output_type": "execute_result"
    }
   ],
   "source": [
    "Rohit"
   ]
  },
  {
   "cell_type": "code",
   "execution_count": 23,
   "id": "7a57baf5",
   "metadata": {},
   "outputs": [
    {
     "ename": "NameError",
     "evalue": "name 'rohit' is not defined",
     "output_type": "error",
     "traceback": [
      "\u001b[1;31m---------------------------------------------------------------------------\u001b[0m",
      "\u001b[1;31mNameError\u001b[0m                                 Traceback (most recent call last)",
      "Cell \u001b[1;32mIn[23], line 1\u001b[0m\n\u001b[1;32m----> 1\u001b[0m rohit\n",
      "\u001b[1;31mNameError\u001b[0m: name 'rohit' is not defined"
     ]
    }
   ],
   "source": [
    "rohit"
   ]
  },
  {
   "cell_type": "code",
   "execution_count": 24,
   "id": "51f3b1e3",
   "metadata": {},
   "outputs": [
    {
     "data": {
      "text/plain": [
       "5"
      ]
     },
     "execution_count": 24,
     "metadata": {},
     "output_type": "execute_result"
    }
   ],
   "source": [
    "a"
   ]
  },
  {
   "cell_type": "code",
   "execution_count": 26,
   "id": "3de42503",
   "metadata": {},
   "outputs": [],
   "source": [
    "A = 45"
   ]
  },
  {
   "cell_type": "code",
   "execution_count": 27,
   "id": "c3156bcb",
   "metadata": {},
   "outputs": [
    {
     "data": {
      "text/plain": [
       "45"
      ]
     },
     "execution_count": 27,
     "metadata": {},
     "output_type": "execute_result"
    }
   ],
   "source": [
    "A"
   ]
  },
  {
   "cell_type": "markdown",
   "id": "5c7d2543",
   "metadata": {},
   "source": [
    "# Operations in python"
   ]
  },
  {
   "cell_type": "code",
   "execution_count": 28,
   "id": "617bbfe4",
   "metadata": {},
   "outputs": [
    {
     "data": {
      "text/plain": [
       "4"
      ]
     },
     "execution_count": 28,
     "metadata": {},
     "output_type": "execute_result"
    }
   ],
   "source": [
    "1+3"
   ]
  },
  {
   "cell_type": "code",
   "execution_count": 29,
   "id": "95e730a3",
   "metadata": {},
   "outputs": [],
   "source": [
    "g = 1+3"
   ]
  },
  {
   "cell_type": "code",
   "execution_count": 30,
   "id": "876396ca",
   "metadata": {},
   "outputs": [
    {
     "data": {
      "text/plain": [
       "4"
      ]
     },
     "execution_count": 30,
     "metadata": {},
     "output_type": "execute_result"
    }
   ],
   "source": [
    "g"
   ]
  },
  {
   "cell_type": "code",
   "execution_count": 34,
   "id": "660b5a70",
   "metadata": {},
   "outputs": [],
   "source": [
    "a = 4"
   ]
  },
  {
   "cell_type": "code",
   "execution_count": 35,
   "id": "5212e97e",
   "metadata": {},
   "outputs": [],
   "source": [
    "b=6"
   ]
  },
  {
   "cell_type": "code",
   "execution_count": 36,
   "id": "e3109685",
   "metadata": {},
   "outputs": [],
   "source": [
    "c = a+b"
   ]
  },
  {
   "cell_type": "code",
   "execution_count": 37,
   "id": "36711afb",
   "metadata": {},
   "outputs": [
    {
     "data": {
      "text/plain": [
       "10"
      ]
     },
     "execution_count": 37,
     "metadata": {},
     "output_type": "execute_result"
    }
   ],
   "source": [
    "c"
   ]
  },
  {
   "cell_type": "code",
   "execution_count": 38,
   "id": "6211c1af",
   "metadata": {},
   "outputs": [],
   "source": [
    "marks = 344\n",
    "total = 400"
   ]
  },
  {
   "cell_type": "code",
   "execution_count": 39,
   "id": "b7ffc4ad",
   "metadata": {},
   "outputs": [],
   "source": [
    "percentage = marks/total*100"
   ]
  },
  {
   "cell_type": "code",
   "execution_count": 40,
   "id": "7aa35fbc",
   "metadata": {},
   "outputs": [
    {
     "data": {
      "text/plain": [
       "86.0"
      ]
     },
     "execution_count": 40,
     "metadata": {},
     "output_type": "execute_result"
    }
   ],
   "source": [
    "percentage"
   ]
  },
  {
   "cell_type": "markdown",
   "id": "ab37f6d0",
   "metadata": {},
   "source": [
    "# keywords in python "
   ]
  },
  {
   "cell_type": "code",
   "execution_count": 49,
   "id": "0c373c39",
   "metadata": {},
   "outputs": [],
   "source": [
    "import keyword "
   ]
  },
  {
   "cell_type": "code",
   "execution_count": 51,
   "id": "72364cfb",
   "metadata": {
    "collapsed": true
   },
   "outputs": [
    {
     "data": {
      "text/plain": [
       "['False',\n",
       " 'None',\n",
       " 'True',\n",
       " 'and',\n",
       " 'as',\n",
       " 'assert',\n",
       " 'async',\n",
       " 'await',\n",
       " 'break',\n",
       " 'class',\n",
       " 'continue',\n",
       " 'def',\n",
       " 'del',\n",
       " 'elif',\n",
       " 'else',\n",
       " 'except',\n",
       " 'finally',\n",
       " 'for',\n",
       " 'from',\n",
       " 'global',\n",
       " 'if',\n",
       " 'import',\n",
       " 'in',\n",
       " 'is',\n",
       " 'lambda',\n",
       " 'nonlocal',\n",
       " 'not',\n",
       " 'or',\n",
       " 'pass',\n",
       " 'raise',\n",
       " 'return',\n",
       " 'try',\n",
       " 'while',\n",
       " 'with',\n",
       " 'yield']"
      ]
     },
     "execution_count": 51,
     "metadata": {},
     "output_type": "execute_result"
    }
   ],
   "source": [
    "keyword.kwlist"
   ]
  },
  {
   "cell_type": "code",
   "execution_count": 46,
   "id": "947abb74",
   "metadata": {
    "scrolled": true
   },
   "outputs": [
    {
     "data": {
      "text/plain": [
       "35"
      ]
     },
     "execution_count": 46,
     "metadata": {},
     "output_type": "execute_result"
    }
   ],
   "source": [
    "len(keyword.kwlist)"
   ]
  },
  {
   "cell_type": "code",
   "execution_count": 53,
   "id": "f60e759c",
   "metadata": {
    "collapsed": true
   },
   "outputs": [
    {
     "data": {
      "text/plain": [
       "['False',\n",
       " 'None',\n",
       " 'True',\n",
       " 'and',\n",
       " 'as',\n",
       " 'assert',\n",
       " 'async',\n",
       " 'await',\n",
       " 'break',\n",
       " 'class',\n",
       " 'continue',\n",
       " 'def',\n",
       " 'del',\n",
       " 'elif',\n",
       " 'else',\n",
       " 'except',\n",
       " 'finally',\n",
       " 'for',\n",
       " 'from',\n",
       " 'global',\n",
       " 'if',\n",
       " 'import',\n",
       " 'in',\n",
       " 'is',\n",
       " 'lambda',\n",
       " 'nonlocal',\n",
       " 'not',\n",
       " 'or',\n",
       " 'pass',\n",
       " 'raise',\n",
       " 'return',\n",
       " 'try',\n",
       " 'while',\n",
       " 'with',\n",
       " 'yield']"
      ]
     },
     "execution_count": 53,
     "metadata": {},
     "output_type": "execute_result"
    }
   ],
   "source": [
    "aman.kwlist"
   ]
  },
  {
   "cell_type": "code",
   "execution_count": 52,
   "id": "37d2142b",
   "metadata": {
    "collapsed": true
   },
   "outputs": [
    {
     "data": {
      "text/plain": [
       "['False',\n",
       " 'None',\n",
       " 'True',\n",
       " 'and',\n",
       " 'as',\n",
       " 'assert',\n",
       " 'async',\n",
       " 'await',\n",
       " 'break',\n",
       " 'class',\n",
       " 'continue',\n",
       " 'def',\n",
       " 'del',\n",
       " 'elif',\n",
       " 'else',\n",
       " 'except',\n",
       " 'finally',\n",
       " 'for',\n",
       " 'from',\n",
       " 'global',\n",
       " 'if',\n",
       " 'import',\n",
       " 'in',\n",
       " 'is',\n",
       " 'lambda',\n",
       " 'nonlocal',\n",
       " 'not',\n",
       " 'or',\n",
       " 'pass',\n",
       " 'raise',\n",
       " 'return',\n",
       " 'try',\n",
       " 'while',\n",
       " 'with',\n",
       " 'yield']"
      ]
     },
     "execution_count": 52,
     "metadata": {},
     "output_type": "execute_result"
    }
   ],
   "source": [
    "rohit.kwlist"
   ]
  },
  {
   "cell_type": "code",
   "execution_count": null,
   "id": "a74ec8db",
   "metadata": {},
   "outputs": [],
   "source": []
  }
 ],
 "metadata": {
  "kernelspec": {
   "display_name": "Python 3 (ipykernel)",
   "language": "python",
   "name": "python3"
  },
  "language_info": {
   "codemirror_mode": {
    "name": "ipython",
    "version": 3
   },
   "file_extension": ".py",
   "mimetype": "text/x-python",
   "name": "python",
   "nbconvert_exporter": "python",
   "pygments_lexer": "ipython3",
   "version": "3.11.5"
  }
 },
 "nbformat": 4,
 "nbformat_minor": 5
}
