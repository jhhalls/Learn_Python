{
 "cells": [
  {
   "cell_type": "markdown",
   "id": "630c2c2b",
   "metadata": {},
   "source": [
    "#### 1. What is the syntax for a for loop in Python?"
   ]
  },
  {
   "cell_type": "code",
   "execution_count": null,
   "id": "87e289db",
   "metadata": {},
   "outputs": [],
   "source": [
    "for item in iterable:\n",
    "    # code block"
   ]
  },
  {
   "cell_type": "markdown",
   "id": "3f58e3b1",
   "metadata": {},
   "source": [
    "#### 2. How do you iterate over a list using a for loop?"
   ]
  },
  {
   "cell_type": "code",
   "execution_count": 1,
   "id": "362a6853",
   "metadata": {},
   "outputs": [
    {
     "name": "stdout",
     "output_type": "stream",
     "text": [
      "1\n",
      "2\n",
      "3\n",
      "4\n",
      "5\n"
     ]
    }
   ],
   "source": [
    "my_list = [1, 2, 3, 4, 5]\n",
    "for item in my_list:\n",
    "    print(item)"
   ]
  },
  {
   "cell_type": "markdown",
   "id": "e80875cf",
   "metadata": {},
   "source": [
    "#### 3. How can you iterate over the characters in a string using a for loop?"
   ]
  },
  {
   "cell_type": "code",
   "execution_count": 2,
   "id": "4a7ea942",
   "metadata": {},
   "outputs": [
    {
     "name": "stdout",
     "output_type": "stream",
     "text": [
      "h\n",
      "e\n",
      "l\n",
      "l\n",
      "o\n"
     ]
    }
   ],
   "source": [
    "my_string = \"hello\"\n",
    "for char in my_string:\n",
    "    print(char)"
   ]
  },
  {
   "cell_type": "markdown",
   "id": "f7695452",
   "metadata": {},
   "source": [
    "#### 4. Explain the purpose of the range() function in a for loop."
   ]
  },
  {
   "cell_type": "code",
   "execution_count": 3,
   "id": "e06f1daa",
   "metadata": {},
   "outputs": [
    {
     "name": "stdout",
     "output_type": "stream",
     "text": [
      "0\n",
      "1\n",
      "2\n",
      "3\n",
      "4\n"
     ]
    }
   ],
   "source": [
    "for i in range(5):\n",
    "    print(i)"
   ]
  },
  {
   "cell_type": "markdown",
   "id": "6f00c305",
   "metadata": {},
   "source": [
    "#### 5. How do you iterate over key-value pairs in a dictionary using a for loop?"
   ]
  },
  {
   "cell_type": "code",
   "execution_count": 4,
   "id": "45cfe301",
   "metadata": {},
   "outputs": [
    {
     "name": "stdout",
     "output_type": "stream",
     "text": [
      "a 1\n",
      "b 2\n",
      "c 3\n"
     ]
    }
   ],
   "source": [
    "my_dict = {\"a\": 1, \"b\": 2, \"c\": 3}\n",
    "for key, value in my_dict.items():\n",
    "    print(key, value)"
   ]
  },
  {
   "cell_type": "markdown",
   "id": "f7eb97c4",
   "metadata": {},
   "source": [
    "#### 6. What happens if you use a for loop to iterate over an empty list?"
   ]
  },
  {
   "cell_type": "markdown",
   "id": "4b16db0f",
   "metadata": {},
   "source": [
    "If you use a for loop to iterate over an empty list, the loop will not execute any iterations, and the code block inside the loop will not be executed."
   ]
  },
  {
   "cell_type": "markdown",
   "id": "7ba891a4",
   "metadata": {},
   "source": [
    "#### 7. How can you use the break statement within a for loop?"
   ]
  },
  {
   "cell_type": "code",
   "execution_count": 5,
   "id": "ffe357d5",
   "metadata": {},
   "outputs": [
    {
     "name": "stdout",
     "output_type": "stream",
     "text": [
      "0\n",
      "1\n",
      "2\n",
      "3\n",
      "4\n"
     ]
    }
   ],
   "source": [
    "for i in range(10):\n",
    "    if i == 5:\n",
    "        break\n",
    "    print(i)"
   ]
  },
  {
   "cell_type": "markdown",
   "id": "57f6d1da",
   "metadata": {},
   "source": [
    "#### 8. What is the significance of the else block in a for loop?"
   ]
  },
  {
   "cell_type": "code",
   "execution_count": 6,
   "id": "6accf527",
   "metadata": {},
   "outputs": [
    {
     "name": "stdout",
     "output_type": "stream",
     "text": [
      "0\n",
      "1\n",
      "2\n",
      "3\n",
      "4\n",
      "Loop completed without a break statement\n"
     ]
    }
   ],
   "source": [
    "for i in range(5):\n",
    "    print(i)\n",
    "else:\n",
    "    print(\"Loop completed without a break statement\")"
   ]
  },
  {
   "cell_type": "markdown",
   "id": "4048ff2b",
   "metadata": {},
   "source": [
    "#### 9. Can you nest for loops in Python? If yes, provide an example."
   ]
  },
  {
   "cell_type": "code",
   "execution_count": 7,
   "id": "cd4abc6e",
   "metadata": {},
   "outputs": [
    {
     "name": "stdout",
     "output_type": "stream",
     "text": [
      "0 0\n",
      "0 1\n",
      "1 0\n",
      "1 1\n",
      "2 0\n",
      "2 1\n"
     ]
    }
   ],
   "source": [
    "for i in range(3):\n",
    "    for j in range(2):\n",
    "        print(i, j)"
   ]
  },
  {
   "cell_type": "markdown",
   "id": "b90200ac",
   "metadata": {},
   "source": [
    "#### 10. Explain the difference between iterating over a list directly and using the range() function in a for loop."
   ]
  },
  {
   "cell_type": "code",
   "execution_count": 8,
   "id": "58aff114",
   "metadata": {},
   "outputs": [
    {
     "name": "stdout",
     "output_type": "stream",
     "text": [
      "1\n",
      "2\n",
      "3\n",
      "4\n",
      "5\n"
     ]
    }
   ],
   "source": [
    "my_list = [1, 2, 3, 4, 5]\n",
    "for item in my_list:\n",
    "    print(item)"
   ]
  },
  {
   "cell_type": "code",
   "execution_count": 9,
   "id": "c94e1fc4",
   "metadata": {},
   "outputs": [
    {
     "name": "stdout",
     "output_type": "stream",
     "text": [
      "1\n",
      "2\n",
      "3\n",
      "4\n",
      "5\n"
     ]
    }
   ],
   "source": [
    "my_list = [1, 2, 3, 4, 5]\n",
    "for i in range(len(my_list)):\n",
    "    print(my_list[i])"
   ]
  },
  {
   "cell_type": "markdown",
   "id": "957fb239",
   "metadata": {},
   "source": [
    "# Patterns using For Loop"
   ]
  },
  {
   "cell_type": "markdown",
   "id": "bedeb2bc",
   "metadata": {},
   "source": [
    "### 1. **Triangle Pattern**\n",
    "   Write a Python program to generate a triangle pattern using nested for loops. The program should prompt the user to enter the number of rows for the triangle and then print the pattern accordingly."
   ]
  },
  {
   "cell_type": "code",
   "execution_count": 10,
   "id": "11a0b773",
   "metadata": {},
   "outputs": [
    {
     "name": "stdout",
     "output_type": "stream",
     "text": [
      "Enter the number of rows for the triangle: 10\n",
      "          * \n",
      "         * * \n",
      "        * * * \n",
      "       * * * * \n",
      "      * * * * * \n",
      "     * * * * * * \n",
      "    * * * * * * * \n",
      "   * * * * * * * * \n",
      "  * * * * * * * * * \n",
      " * * * * * * * * * * \n"
     ]
    }
   ],
   "source": [
    "rows = int(input(\"Enter the number of rows for the triangle: \"))\n",
    "for i in range(1, rows + 1):\n",
    "    print(\" \"*rows, end = '')\n",
    "    print('* '*i)\n",
    "    rows-=1"
   ]
  },
  {
   "cell_type": "markdown",
   "id": "41e3f5cd",
   "metadata": {},
   "source": [
    "### 2. **Square Pattern**\n",
    "   Develop a Python program that uses nested for loops to generate a square pattern of asterisks. The program should ask the user for the size of the square (number of rows and columns) and print the pattern accordingly."
   ]
  },
  {
   "cell_type": "code",
   "execution_count": 11,
   "id": "020ba70d",
   "metadata": {},
   "outputs": [
    {
     "name": "stdout",
     "output_type": "stream",
     "text": [
      "Enter the size of the square: 10\n",
      "**********\n",
      "**********\n",
      "**********\n",
      "**********\n",
      "**********\n",
      "**********\n",
      "**********\n",
      "**********\n",
      "**********\n",
      "**********\n"
     ]
    }
   ],
   "source": [
    "size = int(input(\"Enter the size of the square: \"))\n",
    "for i in range(size):\n",
    "    print(\"*\" * size)"
   ]
  },
  {
   "cell_type": "markdown",
   "id": "9321c95c",
   "metadata": {},
   "source": [
    "### 3. **Diamond Pattern**\n",
    "   Create a Python program to generate a diamond pattern using nested for loops. The program should prompt the user to enter the number of rows for the diamond and then print the pattern accordingly."
   ]
  },
  {
   "cell_type": "code",
   "execution_count": 12,
   "id": "98ffc3a1",
   "metadata": {},
   "outputs": [
    {
     "name": "stdout",
     "output_type": "stream",
     "text": [
      "Enter the number of rows for the diamond: 10\n",
      "         *\n",
      "        ***\n",
      "       *****\n",
      "      *******\n",
      "     *********\n",
      "    ***********\n",
      "   *************\n",
      "  ***************\n",
      " *****************\n",
      "*******************\n",
      " *****************\n",
      "  ***************\n",
      "   *************\n",
      "    ***********\n",
      "     *********\n",
      "      *******\n",
      "       *****\n",
      "        ***\n",
      "         *\n"
     ]
    }
   ],
   "source": [
    "rows = int(input(\"Enter the number of rows for the diamond: \"))\n",
    "for i in range(1, rows + 1):\n",
    "    print(\" \" * (rows - i) + \"*\" * (2 * i - 1))\n",
    "for i in range(rows - 1, 0, -1):\n",
    "    print(\" \" * (rows - i) + \"*\" * (2 * i - 1))"
   ]
  },
  {
   "cell_type": "markdown",
   "id": "14a37d20",
   "metadata": {},
   "source": [
    "### 4. **Number Pattern**\n",
    "   Write a Python program to generate a number pattern using nested for loops. The program should prompt the user to enter the number of rows for the pattern and then print the pattern accordingly, where each row contains numbers from 1 to the row number."
   ]
  },
  {
   "cell_type": "code",
   "execution_count": 13,
   "id": "ac814ebe",
   "metadata": {},
   "outputs": [
    {
     "name": "stdout",
     "output_type": "stream",
     "text": [
      "Enter the number of rows for the pattern: 10\n",
      "1 \n",
      "1 2 \n",
      "1 2 3 \n",
      "1 2 3 4 \n",
      "1 2 3 4 5 \n",
      "1 2 3 4 5 6 \n",
      "1 2 3 4 5 6 7 \n",
      "1 2 3 4 5 6 7 8 \n",
      "1 2 3 4 5 6 7 8 9 \n",
      "1 2 3 4 5 6 7 8 9 10 \n"
     ]
    }
   ],
   "source": [
    "rows = int(input(\"Enter the number of rows for the pattern: \"))\n",
    "for i in range(1, rows + 1):\n",
    "    for j in range(1, i + 1):\n",
    "        print(j, end=\" \")\n",
    "    print()"
   ]
  },
  {
   "cell_type": "markdown",
   "id": "03ce22b2",
   "metadata": {},
   "source": [
    "### 5. **Pascal's Triangle**\n",
    "   Develop a Python program to generate Pascal's triangle using nested for loops. The program should prompt the user to enter the number of rows for the triangle and then print the pattern accordingly."
   ]
  },
  {
   "cell_type": "code",
   "execution_count": 15,
   "id": "14fd92f8",
   "metadata": {},
   "outputs": [
    {
     "name": "stdout",
     "output_type": "stream",
     "text": [
      "Enter the number of rows for Pascal's triangle: 10\n",
      "1\n",
      "1 1\n",
      "1 2 1\n",
      "1 3 3 1\n",
      "1 4 6 4 1\n",
      "1 5 10 10 5 1\n",
      "1 6 15 20 15 6 1\n",
      "1 7 21 35 35 21 7 1\n",
      "1 8 28 56 70 56 28 8 1\n",
      "1 9 36 84 126 126 84 36 9 1\n"
     ]
    }
   ],
   "source": [
    "def generate_pascals_triangle(rows):\n",
    "    triangle = []\n",
    "    for i in range(rows):\n",
    "        row = [1] * (i + 1)\n",
    "        for j in range(1, i):\n",
    "            row[j] = triangle[i - 1][j - 1] + triangle[i - 1][j]\n",
    "        triangle.append(row)\n",
    "    return triangle\n",
    "\n",
    "rows = int(input(\"Enter the number of rows for Pascal's triangle: \"))\n",
    "triangle = generate_pascals_triangle(rows)\n",
    "for row in triangle:\n",
    "    print(\" \".join(map(str, row)))"
   ]
  },
  {
   "cell_type": "markdown",
   "id": "1f7ac9a0",
   "metadata": {},
   "source": [
    "### 6. **Hollow Square Pattern**\n",
    "   Create a Python program to generate a hollow square pattern using nested for loops. The program should ask the user for the size of the square (number of rows and columns) and print the pattern accordingly, where the border is filled with asterisks and the inside is empty."
   ]
  },
  {
   "cell_type": "code",
   "execution_count": 16,
   "id": "a57efc87",
   "metadata": {},
   "outputs": [
    {
     "name": "stdout",
     "output_type": "stream",
     "text": [
      "Enter the size of the square: 10\n",
      "**********\n",
      "*        *\n",
      "*        *\n",
      "*        *\n",
      "*        *\n",
      "*        *\n",
      "*        *\n",
      "*        *\n",
      "*        *\n",
      "**********\n"
     ]
    }
   ],
   "source": [
    "size = int(input(\"Enter the size of the square: \"))\n",
    "for i in range(size):\n",
    "    if i == 0 or i == size - 1:\n",
    "        print(\"*\" * size)\n",
    "    else:\n",
    "        print(\"*\" + \" \" * (size-2) + \"*\")"
   ]
  },
  {
   "cell_type": "markdown",
   "id": "672ae42c",
   "metadata": {},
   "source": [
    "### 7. **Right Triangle Pattern**\n",
    "   Write a Python program to generate a right triangle pattern using nested for loops. The program should prompt the user to enter the number of rows for the triangle and then print the pattern accordingly."
   ]
  },
  {
   "cell_type": "code",
   "execution_count": 17,
   "id": "503529f7",
   "metadata": {},
   "outputs": [
    {
     "name": "stdout",
     "output_type": "stream",
     "text": [
      "Enter the number of rows for the triangle: 10\n",
      "* \n",
      "* * \n",
      "* * * \n",
      "* * * * \n",
      "* * * * * \n",
      "* * * * * * \n",
      "* * * * * * * \n",
      "* * * * * * * * \n",
      "* * * * * * * * * \n",
      "* * * * * * * * * * \n"
     ]
    }
   ],
   "source": [
    "rows = int(input(\"Enter the number of rows for the triangle: \"))\n",
    "for i in range(1, rows + 1):\n",
    "    print(\"* \" * i)"
   ]
  },
  {
   "cell_type": "markdown",
   "id": "45a59c4f",
   "metadata": {},
   "source": [
    "### 8. **Pyramid Pattern**\n",
    "   Develop a Python program to generate a pyramid pattern using nested for loops. The program should ask the user for the number of rows for the pyramid and then print the pattern accordingly."
   ]
  },
  {
   "cell_type": "code",
   "execution_count": 18,
   "id": "fabd011e",
   "metadata": {},
   "outputs": [
    {
     "name": "stdout",
     "output_type": "stream",
     "text": [
      "Enter the number of rows for the pyramid: 10\n",
      "         *\n",
      "        ***\n",
      "       *****\n",
      "      *******\n",
      "     *********\n",
      "    ***********\n",
      "   *************\n",
      "  ***************\n",
      " *****************\n",
      "*******************\n"
     ]
    }
   ],
   "source": [
    "rows = int(input(\"Enter the number of rows for the pyramid: \"))\n",
    "for i in range(1, rows + 1):\n",
    "    print(\" \" * (rows - i) + \"*\" * (2 * i - 1))"
   ]
  },
  {
   "cell_type": "markdown",
   "id": "c1275f4f",
   "metadata": {},
   "source": [
    "### 9. **Hourglass Pattern**\n",
    "   Create a Python program to generate an hourglass pattern using nested for loops. The program should prompt the user to enter the number of rows for the hourglass and then print the pattern accordingly."
   ]
  },
  {
   "cell_type": "code",
   "execution_count": 19,
   "id": "cf8deb0e",
   "metadata": {},
   "outputs": [
    {
     "name": "stdout",
     "output_type": "stream",
     "text": [
      "Enter the number of rows for the hourglass: 10\n",
      "*******************\n",
      " *****************\n",
      "  ***************\n",
      "   *************\n",
      "    ***********\n",
      "     *********\n",
      "      *******\n",
      "       *****\n",
      "        ***\n",
      "         *\n",
      "        ***\n",
      "       *****\n",
      "      *******\n",
      "     *********\n",
      "    ***********\n",
      "   *************\n",
      "  ***************\n",
      " *****************\n",
      "*******************\n"
     ]
    }
   ],
   "source": [
    "rows = int(input(\"Enter the number of rows for the hourglass: \"))\n",
    "for i in range(rows, 0, -1):\n",
    "    print(\" \" * (rows - i) + \"*\" * (2 * i - 1))\n",
    "for i in range(2, rows + 1):\n",
    "    print(\" \" * (rows - i) + \"*\" * (2 * i - 1))"
   ]
  },
  {
   "cell_type": "markdown",
   "id": "45bee606",
   "metadata": {},
   "source": [
    "### 10. **Zigzag Pattern**\n",
    "    Write a Python program to generate a zigzag pattern using nested for loops. The program should ask the user for the number of rows for the pattern and then print the pattern accordingly, where each row alternates between increasing and decreasing numbers or characters."
   ]
  },
  {
   "cell_type": "code",
   "execution_count": 20,
   "id": "463196b4",
   "metadata": {},
   "outputs": [
    {
     "name": "stdout",
     "output_type": "stream",
     "text": [
      "Enter the number of rows for the pattern: 10\n",
      "*\n",
      "**\n",
      "***\n",
      "****\n",
      "*****\n",
      "******\n",
      "*******\n",
      "********\n",
      "*********\n",
      "**********\n",
      "*********\n",
      "********\n",
      "*******\n",
      "******\n",
      "*****\n",
      "****\n",
      "***\n",
      "**\n",
      "*\n"
     ]
    }
   ],
   "source": [
    "rows = int(input(\"Enter the number of rows for the pattern: \"))\n",
    "for i in range(1, rows + 1):\n",
    "    print(\"*\" * i)\n",
    "for i in range(rows - 1, 0, -1):\n",
    "    print(\"*\" * i)"
   ]
  },
  {
   "cell_type": "markdown",
   "id": "48406b94",
   "metadata": {},
   "source": [
    "### 11. Zigzag pattern using numbers\n",
    "Write a python program to create a zigzag pattern as mentioned in <u>**Question. 10**</u> using numbers"
   ]
  },
  {
   "cell_type": "code",
   "execution_count": 21,
   "id": "a3ca8fdf",
   "metadata": {},
   "outputs": [
    {
     "name": "stdout",
     "output_type": "stream",
     "text": [
      "Enter the number of rows for the pattern: 10\n",
      "1 \n",
      "1 2 \n",
      "1 2 3 \n",
      "1 2 3 4 \n",
      "1 2 3 4 5 \n",
      "1 2 3 4 5 6 \n",
      "1 2 3 4 5 6 7 \n",
      "1 2 3 4 5 6 7 8 \n",
      "1 2 3 4 5 6 7 8 9 \n",
      "1 2 3 4 5 6 7 8 9 10 \n",
      "1 2 3 4 5 6 7 8 9 \n",
      "1 2 3 4 5 6 7 8 \n",
      "1 2 3 4 5 6 7 \n",
      "1 2 3 4 5 6 \n",
      "1 2 3 4 5 \n",
      "1 2 3 4 \n",
      "1 2 3 \n",
      "1 2 \n",
      "1 \n"
     ]
    }
   ],
   "source": [
    "rows = int(input(\"Enter the number of rows for the pattern: \"))\n",
    "\n",
    "for i in range(1, rows + 1):\n",
    "    # Print increasing numbers\n",
    "    for j in range(1, i + 1):\n",
    "        print(j, end=\" \")\n",
    "    print()\n",
    "\n",
    "for i in range(rows - 1, 0, -1):\n",
    "    # Print decreasing numbers\n",
    "    for j in range(1, i + 1):\n",
    "        print(j, end=\" \")\n",
    "    print()"
   ]
  },
  {
   "cell_type": "markdown",
   "id": "467ef2bc",
   "metadata": {},
   "source": [
    "### 12. Pyramid Pattern with Numbers\n",
    "Write a Python program to generate a pyramid pattern using numbers. The program should prompt the user to enter the number of rows for the pyramid and then print the pattern accordingly, where each row contains numbers incrementing from 1."
   ]
  },
  {
   "cell_type": "code",
   "execution_count": 22,
   "id": "2c10fdf2",
   "metadata": {},
   "outputs": [
    {
     "name": "stdout",
     "output_type": "stream",
     "text": [
      "Enter the number of rows for the pyramid: 10\n",
      "         1 \n",
      "        1 2 \n",
      "       1 2 3 \n",
      "      1 2 3 4 \n",
      "     1 2 3 4 5 \n",
      "    1 2 3 4 5 6 \n",
      "   1 2 3 4 5 6 7 \n",
      "  1 2 3 4 5 6 7 8 \n",
      " 1 2 3 4 5 6 7 8 9 \n",
      "1 2 3 4 5 6 7 8 9 10 \n"
     ]
    }
   ],
   "source": [
    "rows = int(input(\"Enter the number of rows for the pyramid: \"))\n",
    "for i in range(1, rows + 1):\n",
    "    print(\" \" * (rows - i), end=\"\")\n",
    "    for j in range(1, i + 1):\n",
    "        print(j, end=\" \")\n",
    "    print()"
   ]
  },
  {
   "cell_type": "markdown",
   "id": "682355eb",
   "metadata": {},
   "source": [
    "### 13. Hollow Right-Triangle Pattern\n",
    "Develop a Python program to generate a hollow triangle pattern using asterisks. The program should ask the user for the number of rows for the triangle and then print the pattern accordingly, where the border is filled with asterisks and the inside is empty."
   ]
  },
  {
   "cell_type": "code",
   "execution_count": 23,
   "id": "5aef21a9",
   "metadata": {},
   "outputs": [
    {
     "name": "stdout",
     "output_type": "stream",
     "text": [
      "Enter the number of rows for the triangle: 10\n",
      "* \n",
      "* *\n",
      "*   *\n",
      "*     *\n",
      "*       *\n",
      "*         *\n",
      "*           *\n",
      "*             *\n",
      "*               *\n",
      "* * * * * * * * * * \n"
     ]
    }
   ],
   "source": [
    "rows = int(input(\"Enter the number of rows for the triangle: \"))\n",
    "for i in range(1, rows + 1):\n",
    "    if i == 1 or i == rows:\n",
    "        print(\"* \" * i)\n",
    "    else:\n",
    "        print(\"* \" + \"  \" * (i - 2) + \"*\")"
   ]
  },
  {
   "cell_type": "markdown",
   "id": "b7999b86",
   "metadata": {},
   "source": [
    "### 14. Diamond Pattern with Characters\n",
    "Create a Python program to generate a diamond pattern using characters. The program should prompt the user to enter the number of rows for the diamond and then print the pattern accordingly, where each row contains alphabetic characters in ascending order."
   ]
  },
  {
   "cell_type": "code",
   "execution_count": 24,
   "id": "dd45e332",
   "metadata": {},
   "outputs": [
    {
     "name": "stdout",
     "output_type": "stream",
     "text": [
      "Enter the number of rows for the diamond: 10\n",
      "         A\n",
      "        ABC\n",
      "       ABCDE\n",
      "      ABCDEFG\n",
      "     ABCDEFGHI\n",
      "    ABCDEFGHIJK\n",
      "   ABCDEFGHIJKLM\n",
      "  ABCDEFGHIJKLMNO\n",
      " ABCDEFGHIJKLMNOPQ\n",
      "ABCDEFGHIJKLMNOPQRS\n",
      " ABCDEFGHIJKLMNOPQ\n",
      "  ABCDEFGHIJKLMNO\n",
      "   ABCDEFGHIJKLM\n",
      "    ABCDEFGHIJK\n",
      "     ABCDEFGHI\n",
      "      ABCDEFG\n",
      "       ABCDE\n",
      "        ABC\n",
      "         A\n"
     ]
    }
   ],
   "source": [
    "rows = int(input(\"Enter the number of rows for the diamond: \"))\n",
    "for i in range(1, rows + 1):\n",
    "    print(\" \" * (rows - i) + \"\".join(chr(64 + j) for j in range(1, i * 2)))\n",
    "for i in range(rows - 1, 0, -1):\n",
    "    print(\" \" * (rows - i) + \"\".join(chr(64 + j) for j in range(1, i * 2)))"
   ]
  },
  {
   "cell_type": "markdown",
   "id": "9a0487bc",
   "metadata": {},
   "source": [
    "### 15. Right Triangle Pattern with Spaces\n",
    "Write a Python program to generate a right triangle pattern with spaces. The program should prompt the user to enter the number of rows for the triangle and then print the pattern accordingly, where each row contains spaces followed by asterisks."
   ]
  },
  {
   "cell_type": "code",
   "execution_count": 25,
   "id": "463aabc2",
   "metadata": {
    "scrolled": true
   },
   "outputs": [
    {
     "name": "stdout",
     "output_type": "stream",
     "text": [
      "Enter the number of rows for the triangle: 10\n",
      "         *\n",
      "        **\n",
      "       ***\n",
      "      ****\n",
      "     *****\n",
      "    ******\n",
      "   *******\n",
      "  ********\n",
      " *********\n",
      "**********\n"
     ]
    }
   ],
   "source": [
    "rows = int(input(\"Enter the number of rows for the triangle: \"))\n",
    "for i in range(1, rows + 1):\n",
    "    print(\" \" * (rows - i) + \"*\" * i)"
   ]
  },
  {
   "cell_type": "markdown",
   "id": "e6d7f12c",
   "metadata": {},
   "source": [
    "### 16. Inverted Pyramid Pattern\n",
    "Develop a Python program to generate an inverted pyramid pattern using asterisks. The program should ask the user for the number of rows for the pyramid and then print the pattern accordingly, where each row contains decreasing numbers of asterisks."
   ]
  },
  {
   "cell_type": "code",
   "execution_count": 26,
   "id": "440d83c6",
   "metadata": {},
   "outputs": [
    {
     "name": "stdout",
     "output_type": "stream",
     "text": [
      "Enter the number of rows for the pyramid: 10\n",
      "******************\n",
      " ****************\n",
      "  **************\n",
      "   ************\n",
      "    **********\n",
      "     ********\n",
      "      ******\n",
      "       ****\n",
      "        **\n"
     ]
    }
   ],
   "source": [
    "rows = int(input(\"Enter the number of rows for the pyramid: \"))\n",
    "for i in range(rows, 1,-1):\n",
    "    print(\" \" * (rows - i) + \"*\" *2* (i-1))"
   ]
  },
  {
   "cell_type": "markdown",
   "id": "6b0e6f45",
   "metadata": {},
   "source": [
    "### 17. Inverted Right Triangle\n",
    "Write a Python program to generate a inverted right triangle pattern with spaces. The program should prompt the user to enter the number of rows for the triangle and then print the pattern accordingly, where each row contains spaces followed by asterisks."
   ]
  },
  {
   "cell_type": "code",
   "execution_count": 27,
   "id": "5128afe8",
   "metadata": {},
   "outputs": [
    {
     "name": "stdout",
     "output_type": "stream",
     "text": [
      "Enter the number of rows for the pyramid: 10\n",
      "**********\n",
      " *********\n",
      "  ********\n",
      "   *******\n",
      "    ******\n",
      "     *****\n",
      "      ****\n",
      "       ***\n",
      "        **\n",
      "         *\n"
     ]
    }
   ],
   "source": [
    "rows = int(input(\"Enter the number of rows for the pyramid: \"))\n",
    "for i in range(rows, 0, -1):\n",
    "    print(\" \" * (rows - i) + \"*\" * i)"
   ]
  },
  {
   "cell_type": "markdown",
   "id": "02f4c34a",
   "metadata": {},
   "source": [
    "### 18. Square with Characters\n",
    "Develop a Python program that uses for loops to generate a square pattern of characters. The program should ask the user for the size of the square (number of rows) and print the pattern accordingly."
   ]
  },
  {
   "cell_type": "code",
   "execution_count": 28,
   "id": "9dd78e67",
   "metadata": {},
   "outputs": [
    {
     "name": "stdout",
     "output_type": "stream",
     "text": [
      "Enter the number of rows for the pattern: 10\n",
      "BABABABABA\n",
      "ABABABABAB\n",
      "BABABABABA\n",
      "ABABABABAB\n",
      "BABABABABA\n",
      "ABABABABAB\n",
      "BABABABABA\n",
      "ABABABABAB\n",
      "BABABABABA\n",
      "ABABABABAB\n"
     ]
    }
   ],
   "source": [
    "rows = int(input(\"Enter the number of rows for the pattern: \"))\n",
    "for i in range(1, rows + 1):\n",
    "    print(\"\".join(chr(65 + (i + j) % 2) for j in range(rows)))"
   ]
  },
  {
   "cell_type": "markdown",
   "id": "dedafa52",
   "metadata": {},
   "source": [
    "### 19. Pascal's Triangle with Asterisks\n",
    "Write a Python program to generate Pascal's triangle using asterisks. The program should prompt the user to enter the number of rows for the triangle and then print the pattern accordingly, where each row contains asterisks representing the binomial coefficients."
   ]
  },
  {
   "cell_type": "code",
   "execution_count": 29,
   "id": "4b6775b1",
   "metadata": {},
   "outputs": [
    {
     "name": "stdout",
     "output_type": "stream",
     "text": [
      "Enter the number of rows for Pascal's triangle: 10\n",
      "*\n",
      "* *\n",
      "* * *\n",
      "* * * *\n",
      "* * * * *\n",
      "* * * * * *\n",
      "* * * * * * *\n",
      "* * * * * * * *\n",
      "* * * * * * * * *\n",
      "* * * * * * * * * *\n"
     ]
    }
   ],
   "source": [
    "def generate_pascals_triangle(rows):\n",
    "    triangle = []\n",
    "    for i in range(rows):\n",
    "        row = ['*'] * (i + 1)\n",
    "        triangle.append(row)\n",
    "    return triangle\n",
    "\n",
    "rows = int(input(\"Enter the number of rows for Pascal's triangle: \"))\n",
    "triangle = generate_pascals_triangle(rows)\n",
    "for row in triangle:\n",
    "    print(\" \".join(row))"
   ]
  },
  {
   "cell_type": "markdown",
   "id": "f7b9a4f8",
   "metadata": {},
   "source": [
    "### 20. Pattern of Prime Numbers\n",
    "Create a Python program to generate a pattern of prime numbers. The program should prompt the user to enter the number of rows for the pattern and then print the pattern accordingly, where each row contains prime numbers."
   ]
  },
  {
   "cell_type": "code",
   "execution_count": 30,
   "id": "538c8d40",
   "metadata": {},
   "outputs": [
    {
     "name": "stdout",
     "output_type": "stream",
     "text": [
      "Enter the number of rows for the pattern: 10\n",
      "2 3 5 7 11 13 17 19 23 29 \n",
      "\n",
      "31 37 41 43 47 53 59 61 67 71 \n",
      "\n",
      "73 79 83 89 97 "
     ]
    }
   ],
   "source": [
    "def is_prime(num):\n",
    "    if num <= 1:\n",
    "        return False\n",
    "    for i in range(2, int(num ** 0.5) + 1):\n",
    "        if num % i == 0:\n",
    "            return False\n",
    "    return True\n",
    "\n",
    "rows = int(input(\"Enter the number of rows for the pattern: \"))\n",
    "prime_count = 0\n",
    "for i in range(2, rows * rows + 1):\n",
    "    if is_prime(i):\n",
    "        prime_count += 1\n",
    "        print(i, end=\" \")\n",
    "        if prime_count % rows == 0:\n",
    "            print(\"\\n\")"
   ]
  },
  {
   "cell_type": "code",
   "execution_count": 31,
   "id": "b863cdc2",
   "metadata": {},
   "outputs": [
    {
     "name": "stdout",
     "output_type": "stream",
     "text": [
      "Enter the number of rows for the pattern: 10\n",
      "2 3 5 7 11 13 17 19 23 29 \n",
      "31 37 41 43 47 53 59 61 67 71 \n",
      "73 79 83 89 97 "
     ]
    }
   ],
   "source": [
    "def is_prime(num):\n",
    "    if num <= 1:\n",
    "        return False\n",
    "    for i in range(2, int(num ** 0.5) + 1):\n",
    "        if num % i == 0:\n",
    "            return False\n",
    "    return True\n",
    "\n",
    "def generate_prime_pattern(rows):\n",
    "    prime_count = 0\n",
    "    for i in range(2, rows * rows + 1):\n",
    "        if is_prime(i):\n",
    "            prime_count += 1\n",
    "            print(i, end=\" \")\n",
    "            if prime_count % rows == 0:\n",
    "                print()\n",
    "\n",
    "rows = int(input(\"Enter the number of rows for the pattern: \"))\n",
    "generate_prime_pattern(rows)"
   ]
  },
  {
   "cell_type": "markdown",
   "id": "4a4e8c0f",
   "metadata": {},
   "source": [
    "### 21. Double Zig Zag Pattern\n",
    "Write a python program to creeate a zig zag pattern using asterisk and hash symbols. "
   ]
  },
  {
   "cell_type": "code",
   "execution_count": 32,
   "id": "6a400c36",
   "metadata": {},
   "outputs": [
    {
     "name": "stdout",
     "output_type": "stream",
     "text": [
      "Enter the number of rows for the hourglass: 10\n",
      "********************\n",
      " *********##*********\n",
      "  ********####********\n",
      "   *******######*******\n",
      "    ******########******\n",
      "     *****##########*****\n",
      "      ****############****\n",
      "       ***##############***\n",
      "        **################**\n",
      "         *##################*\n",
      "         *##################*\n",
      "        **################**\n",
      "       ***##############***\n",
      "      ****############****\n",
      "     *****##########*****\n",
      "    ******########******\n",
      "   *******######*******\n",
      "  ********####********\n",
      " *********##*********\n",
      "********************\n"
     ]
    }
   ],
   "source": [
    "rows = int(input(\"Enter the number of rows for the hourglass: \"))\n",
    "for i in range(rows, 0, -1):\n",
    "    print(\" \" * (rows - i) + \"*\" * i + \"#\" * (rows - i) + \"#\" * (rows - i) + \"*\" * i)\n",
    "for i in range(1, rows + 1):\n",
    "    print(\" \" * (rows - i) + \"*\" * i + \"#\" * (rows - i) + \"#\" * (rows - i) + \"*\" * i)"
   ]
  },
  {
   "cell_type": "code",
   "execution_count": null,
   "id": "7cc7dc30",
   "metadata": {},
   "outputs": [],
   "source": []
  }
 ],
 "metadata": {
  "kernelspec": {
   "display_name": "Python 3 (ipykernel)",
   "language": "python",
   "name": "python3"
  },
  "language_info": {
   "codemirror_mode": {
    "name": "ipython",
    "version": 3
   },
   "file_extension": ".py",
   "mimetype": "text/x-python",
   "name": "python",
   "nbconvert_exporter": "python",
   "pygments_lexer": "ipython3",
   "version": "3.11.5"
  }
 },
 "nbformat": 4,
 "nbformat_minor": 5
}
