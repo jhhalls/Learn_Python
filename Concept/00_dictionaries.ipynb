{
 "cells": [
  {
   "cell_type": "markdown",
   "id": "dac7f41a",
   "metadata": {},
   "source": [
    "1. **Key-Value Pairs**: Each entry in a dictionary consists of a key and its corresponding value. The key must be unique within the dictionary, but the values can be of any data type.\n",
    "\n",
    "2. **Mutable**: Dictionaries are mutable, meaning they can be modified after creation by adding, removing, or modifying key-value pairs.\n",
    "\n",
    "3. **Unordered**: Items in a dictionary are not stored in any particular order. When you iterate over a dictionary, the order in which you get the items may not be the same as the order in which they were added.\n",
    "\n",
    "4. **Syntax**: Dictionaries are defined using curly braces `{}`, with colon `:` separating keys and values, and commas `,` separating key-value pairs. For example:\n",
    "   \n",
    "   my_dict = {\"key1\": value1, \"key2\": value2, \"key3\": value3}\n",
    "   \n",
    "\n",
    "5. **Accessing Values**: You can retrieve the value associated with a key using square brackets `[]` and the key itself. For example:\n",
    "   \n",
    "   value = my_dict[\"key1\"]\n",
    "   \n",
    "\n",
    "6. **Operations**: Dictionaries support various operations like adding new key-value pairs, updating existing ones, deleting items, and checking for the existence of keys."
   ]
  },
  {
   "cell_type": "code",
   "execution_count": 60,
   "id": "03277ad0",
   "metadata": {},
   "outputs": [],
   "source": [
    "# Creating a dictionary\n",
    "my_dict = {\"apple\": 2, \"banana\": 3, \"orange\": 1}"
   ]
  },
  {
   "cell_type": "code",
   "execution_count": 36,
   "id": "c4b0f688",
   "metadata": {},
   "outputs": [
    {
     "data": {
      "text/plain": [
       "{'apple': 2, 'banana': 5, 'grapes': 4}"
      ]
     },
     "execution_count": 36,
     "metadata": {},
     "output_type": "execute_result"
    }
   ],
   "source": [
    "my_dict"
   ]
  },
  {
   "cell_type": "code",
   "execution_count": 28,
   "id": "4d5500d2",
   "metadata": {},
   "outputs": [
    {
     "data": {
      "text/plain": [
       "dict"
      ]
     },
     "execution_count": 28,
     "metadata": {},
     "output_type": "execute_result"
    }
   ],
   "source": [
    "type(my_dict)"
   ]
  },
  {
   "cell_type": "code",
   "execution_count": 29,
   "id": "06cbee51",
   "metadata": {},
   "outputs": [
    {
     "name": "stdout",
     "output_type": "stream",
     "text": [
      "2\n"
     ]
    }
   ],
   "source": [
    "# Accessing values\n",
    "print(my_dict[\"apple\"])  # Output: 2"
   ]
  },
  {
   "cell_type": "code",
   "execution_count": 30,
   "id": "4b5a6a59",
   "metadata": {},
   "outputs": [
    {
     "data": {
      "text/plain": [
       "3"
      ]
     },
     "execution_count": 30,
     "metadata": {},
     "output_type": "execute_result"
    }
   ],
   "source": [
    "my_dict['banana']"
   ]
  },
  {
   "cell_type": "code",
   "execution_count": 31,
   "id": "ebdc32b7",
   "metadata": {},
   "outputs": [],
   "source": [
    "# Adding a new key-value pair\n",
    "my_dict[\"grapes\"] = 4"
   ]
  },
  {
   "cell_type": "code",
   "execution_count": 33,
   "id": "d810a914",
   "metadata": {},
   "outputs": [],
   "source": [
    "# Updating an existing value\n",
    "my_dict[\"banana\"] = 5     # new value assigned to key banana"
   ]
  },
  {
   "cell_type": "code",
   "execution_count": 35,
   "id": "11d67978",
   "metadata": {},
   "outputs": [],
   "source": [
    "# Deleting a key-value pair\n",
    "del my_dict[\"orange\"]"
   ]
  },
  {
   "cell_type": "code",
   "execution_count": 39,
   "id": "e3b47a72",
   "metadata": {},
   "outputs": [
    {
     "name": "stdout",
     "output_type": "stream",
     "text": [
      "strawberry  is not a key\n"
     ]
    }
   ],
   "source": [
    "# Checking if a key exists\n",
    "a = \"strawberry\"\n",
    "if a in my_dict:\n",
    "    print(\"Yes\",a,\" is a key in the dictionary.\")\n",
    "else:\n",
    "    print(a,\" is not a key\")"
   ]
  },
  {
   "cell_type": "markdown",
   "id": "d1bcfbe2",
   "metadata": {},
   "source": [
    "Dictionaries are very efficient for tasks like fast lookups, mapping unique keys to values, and maintaining a collection of related data."
   ]
  },
  {
   "cell_type": "markdown",
   "id": "8b87a1fa",
   "metadata": {},
   "source": [
    "# Operations"
   ]
  },
  {
   "cell_type": "markdown",
   "id": "cfb7e64c",
   "metadata": {},
   "source": [
    "Dictionaries in Python support a variety of operations for managing and manipulating key-value pairs."
   ]
  },
  {
   "cell_type": "markdown",
   "id": "744df6fc",
   "metadata": {},
   "source": [
    "1. **Accessing Values**: You can retrieve the value associated with a key using square brackets `[]` and the key itself."
   ]
  },
  {
   "cell_type": "code",
   "execution_count": 70,
   "id": "3fda5f39",
   "metadata": {},
   "outputs": [
    {
     "name": "stdout",
     "output_type": "stream",
     "text": [
      "2\n"
     ]
    }
   ],
   "source": [
    "\n",
    "my_dict = {\"apple\": 2, \"banana\": 3, \"orange\": 1}\n",
    "print(my_dict[\"apple\"])  # Output: 2"
   ]
  },
  {
   "cell_type": "markdown",
   "id": "1f3b4ae4",
   "metadata": {},
   "source": [
    "   \n",
    "\n",
    "2. **Adding or Updating Entries**: You can add new key-value pairs or update existing ones by assigning a value to a new or existing key."
   ]
  },
  {
   "cell_type": "code",
   "execution_count": 41,
   "id": "f0ea49d1",
   "metadata": {},
   "outputs": [],
   "source": [
    "my_dict[\"grapes\"] = 4  # Adding a new key-value pair\n",
    "my_dict[\"banana\"] = 5  # Updating an existing value"
   ]
  },
  {
   "cell_type": "markdown",
   "id": "06d49996",
   "metadata": {},
   "source": [
    "3. **Removing Entries**: You can remove key-value pairs using the `del` statement or the `pop()` method."
   ]
  },
  {
   "cell_type": "code",
   "execution_count": 51,
   "id": "0932ec4c",
   "metadata": {},
   "outputs": [],
   "source": [
    "del my_dict[\"orange\"]  # Deleting a key-value pair\n",
    "popped_value = my_dict.pop(\"banana\")  # Removing and returning the value for a specific key"
   ]
  },
  {
   "cell_type": "code",
   "execution_count": 52,
   "id": "0b247e53",
   "metadata": {},
   "outputs": [
    {
     "data": {
      "text/plain": [
       "{'apple': 2}"
      ]
     },
     "execution_count": 52,
     "metadata": {},
     "output_type": "execute_result"
    }
   ],
   "source": [
    "my_dict"
   ]
  },
  {
   "cell_type": "markdown",
   "id": "479045d0",
   "metadata": {},
   "source": [
    "4. **Checking for Key Existence**: You can check if a key exists in a dictionary using the `in` keyword or the `get()` method."
   ]
  },
  {
   "cell_type": "code",
   "execution_count": 44,
   "id": "8e2fcfc2",
   "metadata": {},
   "outputs": [
    {
     "name": "stdout",
     "output_type": "stream",
     "text": [
      "Yes, 'apple' is a key in the dictionary.\n"
     ]
    }
   ],
   "source": [
    "if \"apple\" in my_dict:\n",
    "    print(\"Yes, 'apple' is a key in the dictionary.\")"
   ]
  },
  {
   "cell_type": "code",
   "execution_count": 54,
   "id": "03117aa9",
   "metadata": {},
   "outputs": [],
   "source": [
    "# Using get() method\n",
    "value = my_dict.get(\"banana\")"
   ]
  },
  {
   "cell_type": "code",
   "execution_count": 55,
   "id": "f9853f89",
   "metadata": {},
   "outputs": [],
   "source": [
    "value"
   ]
  },
  {
   "cell_type": "code",
   "execution_count": 71,
   "id": "0cebd8cc",
   "metadata": {},
   "outputs": [
    {
     "data": {
      "text/plain": [
       "3"
      ]
     },
     "execution_count": 71,
     "metadata": {},
     "output_type": "execute_result"
    }
   ],
   "source": [
    "my_dict[\"banana\"]"
   ]
  },
  {
   "cell_type": "code",
   "execution_count": 58,
   "id": "ef8cf159",
   "metadata": {},
   "outputs": [
    {
     "name": "stdout",
     "output_type": "stream",
     "text": [
      "None is None\n"
     ]
    }
   ],
   "source": [
    "if value is not None:\n",
    "    print(\"The value of 'banana' is:\", value)\n",
    "else:\n",
    "    print(value,\"is None\")"
   ]
  },
  {
   "cell_type": "markdown",
   "id": "c4f50a33",
   "metadata": {},
   "source": [
    "   \n",
    "\n",
    "5. **Iterating Over Items**: You can iterate over the key-value pairs in a dictionary using loops like `for`."
   ]
  },
  {
   "cell_type": "code",
   "execution_count": 61,
   "id": "d49d9a2f",
   "metadata": {},
   "outputs": [
    {
     "data": {
      "text/plain": [
       "dict_items([('apple', 2), ('banana', 3), ('orange', 1)])"
      ]
     },
     "execution_count": 61,
     "metadata": {},
     "output_type": "execute_result"
    }
   ],
   "source": [
    "my_dict.items()"
   ]
  },
  {
   "cell_type": "code",
   "execution_count": 72,
   "id": "2302d3b6",
   "metadata": {},
   "outputs": [
    {
     "name": "stdout",
     "output_type": "stream",
     "text": [
      "apple -> 2\n",
      "banana -> 3\n",
      "orange -> 1\n"
     ]
    }
   ],
   "source": [
    "\n",
    "for k, v in my_dict.items():\n",
    "    print(k, \"->\", v)\n"
   ]
  },
  {
   "cell_type": "markdown",
   "id": "9f3e3305",
   "metadata": {},
   "source": [
    "6. **Getting Keys or Values**: You can retrieve keys or values separately using the `keys()` and `values()` methods, respectively."
   ]
  },
  {
   "cell_type": "code",
   "execution_count": 63,
   "id": "b1575e9b",
   "metadata": {},
   "outputs": [],
   "source": [
    "keys = my_dict.keys()  # Get all keys"
   ]
  },
  {
   "cell_type": "code",
   "execution_count": 64,
   "id": "0047f685",
   "metadata": {},
   "outputs": [
    {
     "data": {
      "text/plain": [
       "dict_keys(['apple', 'banana', 'orange'])"
      ]
     },
     "execution_count": 64,
     "metadata": {},
     "output_type": "execute_result"
    }
   ],
   "source": [
    "keys"
   ]
  },
  {
   "cell_type": "code",
   "execution_count": 65,
   "id": "dcbd1b68",
   "metadata": {},
   "outputs": [],
   "source": [
    "values = my_dict.values()  # Get all values"
   ]
  },
  {
   "cell_type": "code",
   "execution_count": 66,
   "id": "f3dd9deb",
   "metadata": {},
   "outputs": [
    {
     "data": {
      "text/plain": [
       "dict_values([2, 3, 1])"
      ]
     },
     "execution_count": 66,
     "metadata": {},
     "output_type": "execute_result"
    }
   ],
   "source": [
    "values"
   ]
  },
  {
   "cell_type": "markdown",
   "id": "725ccb04",
   "metadata": {},
   "source": [
    "7. **Clearing a Dictionary**: You can remove all items from a dictionary using the `clear()` method."
   ]
  },
  {
   "cell_type": "code",
   "execution_count": 67,
   "id": "02e715c7",
   "metadata": {},
   "outputs": [],
   "source": [
    "\n",
    "my_dict.clear()  # Remove all items"
   ]
  },
  {
   "cell_type": "code",
   "execution_count": 68,
   "id": "b3d9e41d",
   "metadata": {},
   "outputs": [
    {
     "data": {
      "text/plain": [
       "{}"
      ]
     },
     "execution_count": 68,
     "metadata": {},
     "output_type": "execute_result"
    }
   ],
   "source": [
    "my_dict"
   ]
  },
  {
   "cell_type": "markdown",
   "id": "0e7fefef",
   "metadata": {},
   "source": [
    "These operations make dictionaries a versatile and powerful tool for handling data in Python."
   ]
  },
  {
   "cell_type": "markdown",
   "id": "2d7bfb3c",
   "metadata": {},
   "source": [
    "# Methods"
   ]
  },
  {
   "cell_type": "markdown",
   "id": "c01ab46f",
   "metadata": {},
   "source": [
    "In Python, dictionaries come with a variety of built-in methods that allow you to manipulate, iterate over, and perform various operations on dictionary objects."
   ]
  },
  {
   "cell_type": "markdown",
   "id": "19721057",
   "metadata": {},
   "source": [
    "1. **`clear()`:** Removes all items from the dictionary.\n",
    " "
   ]
  },
  {
   "cell_type": "code",
   "execution_count": 73,
   "id": "b9e41cac",
   "metadata": {},
   "outputs": [
    {
     "name": "stdout",
     "output_type": "stream",
     "text": [
      "{}\n"
     ]
    }
   ],
   "source": [
    "\n",
    "my_dict = {\"apple\": 2, \"banana\": 3}\n",
    "my_dict.clear()\n",
    "print(my_dict)  "
   ]
  },
  {
   "cell_type": "markdown",
   "id": "42d391d9",
   "metadata": {},
   "source": [
    "   \n",
    "\n",
    "2. **`copy()`:** Returns a shallow copy of the dictionary."
   ]
  },
  {
   "cell_type": "code",
   "execution_count": 74,
   "id": "443e3fc7",
   "metadata": {},
   "outputs": [],
   "source": [
    "\n",
    "my_dict = {\"apple\": 2, \"banana\": 3}\n",
    "new_dict = my_dict.copy()\n"
   ]
  },
  {
   "cell_type": "code",
   "execution_count": 75,
   "id": "ed5b35f2",
   "metadata": {},
   "outputs": [
    {
     "data": {
      "text/plain": [
       "{'apple': 2, 'banana': 3}"
      ]
     },
     "execution_count": 75,
     "metadata": {},
     "output_type": "execute_result"
    }
   ],
   "source": [
    "my_dict"
   ]
  },
  {
   "cell_type": "code",
   "execution_count": 76,
   "id": "3e8f11fb",
   "metadata": {},
   "outputs": [
    {
     "data": {
      "text/plain": [
       "{'apple': 2, 'banana': 3}"
      ]
     },
     "execution_count": 76,
     "metadata": {},
     "output_type": "execute_result"
    }
   ],
   "source": [
    "new_dict"
   ]
  },
  {
   "cell_type": "code",
   "execution_count": 77,
   "id": "ae8222de",
   "metadata": {},
   "outputs": [
    {
     "data": {
      "text/plain": [
       "4374103488"
      ]
     },
     "execution_count": 77,
     "metadata": {},
     "output_type": "execute_result"
    }
   ],
   "source": [
    "id(my_dict)"
   ]
  },
  {
   "cell_type": "code",
   "execution_count": 78,
   "id": "68dfeec4",
   "metadata": {},
   "outputs": [
    {
     "data": {
      "text/plain": [
       "4402501312"
      ]
     },
     "execution_count": 78,
     "metadata": {},
     "output_type": "execute_result"
    }
   ],
   "source": [
    "id(new_dict)"
   ]
  },
  {
   "cell_type": "code",
   "execution_count": null,
   "id": "f6491e4f",
   "metadata": {},
   "outputs": [],
   "source": []
  },
  {
   "cell_type": "code",
   "execution_count": null,
   "id": "d906963e",
   "metadata": {},
   "outputs": [],
   "source": []
  },
  {
   "cell_type": "markdown",
   "id": "433aed24",
   "metadata": {},
   "source": [
    "3. **`get(key[, default])`:** Returns the value for the specified key. If the key is not found, it returns the default value (if provided) or `None`."
   ]
  },
  {
   "cell_type": "code",
   "execution_count": 79,
   "id": "181b9dd3",
   "metadata": {},
   "outputs": [],
   "source": [
    "\n",
    "my_dict = {\"apple\": 2, \"banana\": 3}\n",
    "value = my_dict.get(\"apple\")\n"
   ]
  },
  {
   "cell_type": "code",
   "execution_count": 80,
   "id": "d4c6e2af",
   "metadata": {},
   "outputs": [
    {
     "data": {
      "text/plain": [
       "2"
      ]
     },
     "execution_count": 80,
     "metadata": {},
     "output_type": "execute_result"
    }
   ],
   "source": [
    "value"
   ]
  },
  {
   "cell_type": "markdown",
   "id": "b962c732",
   "metadata": {},
   "source": [
    "4. **`items()`:** Returns a view object that displays a list of a dictionary's `(key, value)` tuple pairs."
   ]
  },
  {
   "cell_type": "code",
   "execution_count": 81,
   "id": "011b1618",
   "metadata": {},
   "outputs": [
    {
     "data": {
      "text/plain": [
       "dict_items([('apple', 2), ('banana', 3)])"
      ]
     },
     "execution_count": 81,
     "metadata": {},
     "output_type": "execute_result"
    }
   ],
   "source": [
    "\n",
    "my_dict = {\"apple\": 2, \"banana\": 3}\n",
    "items = my_dict.items()\n",
    "items"
   ]
  },
  {
   "cell_type": "markdown",
   "id": "51ef9db5",
   "metadata": {},
   "source": [
    "5. **`keys()`:** Returns a view object that displays a list of all the keys in the dictionary."
   ]
  },
  {
   "cell_type": "code",
   "execution_count": 82,
   "id": "e774d6c0",
   "metadata": {},
   "outputs": [],
   "source": [
    "\n",
    "my_dict = {\"apple\": 2, \"banana\": 3}\n",
    "keys = my_dict.keys()\n"
   ]
  },
  {
   "cell_type": "markdown",
   "id": "f25e5f1d",
   "metadata": {},
   "source": [
    "6. **`values()`:** Returns a view object that displays a list of all the values in the dictionary.\n",
    "   "
   ]
  },
  {
   "cell_type": "code",
   "execution_count": 83,
   "id": "4bf52bd4",
   "metadata": {},
   "outputs": [],
   "source": [
    "my_dict = {\"apple\": 2, \"banana\": 3}\n",
    "values = my_dict.values()\n"
   ]
  },
  {
   "cell_type": "markdown",
   "id": "c79497a6",
   "metadata": {},
   "source": [
    "7. **`pop(key[, default])`:** Removes and returns the value for the specified key. If the key is not found, it returns the default value (if provided) or raises a `KeyError`."
   ]
  },
  {
   "cell_type": "code",
   "execution_count": 85,
   "id": "8afcf1dc",
   "metadata": {},
   "outputs": [],
   "source": [
    "my_dict = {\"apple\": 2, \"banana\": 3}"
   ]
  },
  {
   "cell_type": "code",
   "execution_count": 88,
   "id": "79d5d979",
   "metadata": {},
   "outputs": [
    {
     "data": {
      "text/plain": [
       "{'banana': 3}"
      ]
     },
     "execution_count": 88,
     "metadata": {},
     "output_type": "execute_result"
    }
   ],
   "source": [
    "my_dict"
   ]
  },
  {
   "cell_type": "code",
   "execution_count": 89,
   "id": "6dcc5f53",
   "metadata": {},
   "outputs": [
    {
     "ename": "KeyError",
     "evalue": "'apple'",
     "output_type": "error",
     "traceback": [
      "\u001b[0;31m---------------------------------------------------------------------------\u001b[0m",
      "\u001b[0;31mKeyError\u001b[0m                                  Traceback (most recent call last)",
      "Cell \u001b[0;32mIn[89], line 1\u001b[0m\n\u001b[0;32m----> 1\u001b[0m my_dict\u001b[38;5;241m.\u001b[39mpop(\u001b[38;5;124m\"\u001b[39m\u001b[38;5;124mapple\u001b[39m\u001b[38;5;124m\"\u001b[39m)\n",
      "\u001b[0;31mKeyError\u001b[0m: 'apple'"
     ]
    }
   ],
   "source": [
    "my_dict.pop(\"apple\")"
   ]
  },
  {
   "cell_type": "markdown",
   "id": "511eeed5",
   "metadata": {},
   "source": [
    "8. **`popitem()`:** Removes and returns an arbitrary `(key, value)` pair from the dictionary. Raises a `KeyError` if the dictionary is empty."
   ]
  },
  {
   "cell_type": "code",
   "execution_count": 98,
   "id": "5466d352",
   "metadata": {},
   "outputs": [],
   "source": [
    "my_dict = {\"apple\": 2, \"banana\": 3, \"pineapple\":5, \"strawberry\":10}"
   ]
  },
  {
   "cell_type": "code",
   "execution_count": 99,
   "id": "2d00cf46",
   "metadata": {},
   "outputs": [
    {
     "data": {
      "text/plain": [
       "{'apple': 2, 'banana': 3, 'pineapple': 5, 'strawberry': 10}"
      ]
     },
     "execution_count": 99,
     "metadata": {},
     "output_type": "execute_result"
    }
   ],
   "source": [
    "my_dict"
   ]
  },
  {
   "cell_type": "code",
   "execution_count": 100,
   "id": "b12caad8",
   "metadata": {},
   "outputs": [
    {
     "data": {
      "text/plain": [
       "('strawberry', 10)"
      ]
     },
     "execution_count": 100,
     "metadata": {},
     "output_type": "execute_result"
    }
   ],
   "source": [
    "my_dict.popitem()"
   ]
  },
  {
   "cell_type": "markdown",
   "id": "3b89a698",
   "metadata": {},
   "source": [
    "9. **`update(iterable)`:** Updates the dictionary with elements from another dictionary object or an iterable of key-value pairs."
   ]
  },
  {
   "cell_type": "code",
   "execution_count": 101,
   "id": "df4056dd",
   "metadata": {},
   "outputs": [],
   "source": [
    "\n",
    "my_dict = {\"apple\": 2, \"banana\": 3}\n",
    "my_dict.update({\"orange\": 4})\n"
   ]
  },
  {
   "cell_type": "code",
   "execution_count": 102,
   "id": "8f4ae3f1",
   "metadata": {},
   "outputs": [
    {
     "data": {
      "text/plain": [
       "{'apple': 2, 'banana': 3, 'orange': 4}"
      ]
     },
     "execution_count": 102,
     "metadata": {},
     "output_type": "execute_result"
    }
   ],
   "source": [
    "my_dict"
   ]
  },
  {
   "cell_type": "markdown",
   "id": "1346b9cd",
   "metadata": {},
   "source": [
    "10. **`fromkeys(seq[, value])`:** Creates a new dictionary with keys from the iterable `seq` and values set to `value` (default is `None`)."
   ]
  },
  {
   "cell_type": "code",
   "execution_count": 103,
   "id": "6adcd5e4",
   "metadata": {},
   "outputs": [],
   "source": [
    "keys = [\"apple\", \"banana\", \"orange\"]"
   ]
  },
  {
   "cell_type": "code",
   "execution_count": 104,
   "id": "6059e34f",
   "metadata": {},
   "outputs": [
    {
     "data": {
      "text/plain": [
       "['apple', 'banana', 'orange']"
      ]
     },
     "execution_count": 104,
     "metadata": {},
     "output_type": "execute_result"
    }
   ],
   "source": [
    "keys"
   ]
  },
  {
   "cell_type": "code",
   "execution_count": 105,
   "id": "98d506d9",
   "metadata": {},
   "outputs": [
    {
     "data": {
      "text/plain": [
       "{'apple': 0, 'banana': 0, 'orange': 0}"
      ]
     },
     "execution_count": 105,
     "metadata": {},
     "output_type": "execute_result"
    }
   ],
   "source": [
    "my_dict = dict.fromkeys(keys, 0)\n",
    "my_dict"
   ]
  },
  {
   "cell_type": "markdown",
   "id": "522c8071",
   "metadata": {},
   "source": [
    "These methods provide a wide range of functionality for working with dictionaries in Python, allowing you to efficiently manipulate and interact with key-value data."
   ]
  }
 ],
 "metadata": {
  "kernelspec": {
   "display_name": "Python 3 (ipykernel)",
   "language": "python",
   "name": "python3"
  },
  "language_info": {
   "codemirror_mode": {
    "name": "ipython",
    "version": 3
   },
   "file_extension": ".py",
   "mimetype": "text/x-python",
   "name": "python",
   "nbconvert_exporter": "python",
   "pygments_lexer": "ipython3",
   "version": "3.11.4"
  }
 },
 "nbformat": 4,
 "nbformat_minor": 5
}
