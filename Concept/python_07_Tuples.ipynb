{
 "cells": [
  {
   "cell_type": "markdown",
   "id": "9398f514",
   "metadata": {},
   "source": [
    "# What is a Tuple?"
   ]
  },
  {
   "cell_type": "markdown",
   "id": "a135ca61",
   "metadata": {},
   "source": [
    "- A tuple in Python is a collection of items, similar to a list. \n",
    "- However, it has one key difference: **tuples are immutable**, meaning once created, their contents cannot be changed.\n",
    "- Tuples are ordered sequences, meaning the elements in a tuple have a specific order and can be accessed by their index."
   ]
  },
  {
   "cell_type": "markdown",
   "id": "32b5d58d",
   "metadata": {},
   "source": [
    "# Creating a Tuple"
   ]
  },
  {
   "cell_type": "markdown",
   "id": "13e3c0a9",
   "metadata": {},
   "source": [
    "**You can create a tuple by placing comma-separated values inside parentheses `()`.**"
   ]
  },
  {
   "cell_type": "code",
   "execution_count": 1,
   "id": "05d4d83d",
   "metadata": {},
   "outputs": [],
   "source": [
    "my_tuple = (1, 2, 3, 4, 5)"
   ]
  },
  {
   "cell_type": "code",
   "execution_count": 2,
   "id": "7dd1d50e",
   "metadata": {},
   "outputs": [
    {
     "data": {
      "text/plain": [
       "(1, 2, 3, 4, 5)"
      ]
     },
     "execution_count": 2,
     "metadata": {},
     "output_type": "execute_result"
    }
   ],
   "source": [
    "my_tuple"
   ]
  },
  {
   "cell_type": "code",
   "execution_count": 3,
   "id": "38d30ae9",
   "metadata": {},
   "outputs": [
    {
     "data": {
      "text/plain": [
       "tuple"
      ]
     },
     "execution_count": 3,
     "metadata": {},
     "output_type": "execute_result"
    }
   ],
   "source": [
    "type(my_tuple)"
   ]
  },
  {
   "cell_type": "markdown",
   "id": "464ec17c",
   "metadata": {},
   "source": [
    "Alternatively, you can **create a tuple without parentheses**, but it's recommended to include them for clarity."
   ]
  },
  {
   "cell_type": "code",
   "execution_count": 4,
   "id": "ceb5ec0c",
   "metadata": {},
   "outputs": [],
   "source": [
    "my_tuple = 1, 2, 3, 4, 5"
   ]
  },
  {
   "cell_type": "code",
   "execution_count": 5,
   "id": "112e2eab",
   "metadata": {},
   "outputs": [
    {
     "data": {
      "text/plain": [
       "(1, 2, 3, 4, 5)"
      ]
     },
     "execution_count": 5,
     "metadata": {},
     "output_type": "execute_result"
    }
   ],
   "source": [
    "my_tuple"
   ]
  },
  {
   "cell_type": "code",
   "execution_count": 6,
   "id": "8583420a",
   "metadata": {},
   "outputs": [
    {
     "data": {
      "text/plain": [
       "tuple"
      ]
     },
     "execution_count": 6,
     "metadata": {},
     "output_type": "execute_result"
    }
   ],
   "source": [
    "type(my_tuple)"
   ]
  },
  {
   "cell_type": "markdown",
   "id": "4f23fb2f",
   "metadata": {},
   "source": [
    "## Accessing Elements"
   ]
  },
  {
   "cell_type": "markdown",
   "id": "e6df42b8",
   "metadata": {},
   "source": [
    "- Accessing tuple elements in Python is quite straightforward.\n",
    "- You can access individual elements of a tuple using indexing or slicing."
   ]
  },
  {
   "cell_type": "markdown",
   "id": "51d7a49c",
   "metadata": {},
   "source": [
    "### Indexing"
   ]
  },
  {
   "cell_type": "markdown",
   "id": "ddfc2bf6",
   "metadata": {},
   "source": [
    "We can access elements of a tuple by specifying the index of the element within **square brackets `[]`.**"
   ]
  },
  {
   "cell_type": "code",
   "execution_count": 22,
   "id": "9b69c22c",
   "metadata": {},
   "outputs": [],
   "source": [
    "my_tuple = (1, 2, 3, 4, 5)"
   ]
  },
  {
   "cell_type": "code",
   "execution_count": 23,
   "id": "a7a4b490",
   "metadata": {},
   "outputs": [
    {
     "name": "stdout",
     "output_type": "stream",
     "text": [
      "1\n"
     ]
    }
   ],
   "source": [
    "# Accessing the first element\n",
    "print(my_tuple[0])"
   ]
  },
  {
   "cell_type": "code",
   "execution_count": 24,
   "id": "6be16289",
   "metadata": {},
   "outputs": [
    {
     "name": "stdout",
     "output_type": "stream",
     "text": [
      "3\n"
     ]
    }
   ],
   "source": [
    "# Accessing the third element\n",
    "print(my_tuple[2])"
   ]
  },
  {
   "cell_type": "markdown",
   "id": "3e19d57d",
   "metadata": {},
   "source": [
    "### Negative Indexing"
   ]
  },
  {
   "cell_type": "markdown",
   "id": "37e5d76f",
   "metadata": {},
   "source": [
    "- You can also use negative indexing to access elements from the end of the tuple."
   ]
  },
  {
   "cell_type": "code",
   "execution_count": 25,
   "id": "bc96bc8c",
   "metadata": {},
   "outputs": [
    {
     "name": "stdout",
     "output_type": "stream",
     "text": [
      "5\n"
     ]
    }
   ],
   "source": [
    "# Accessing the last element\n",
    "print(my_tuple[-1])"
   ]
  },
  {
   "cell_type": "code",
   "execution_count": 26,
   "id": "80ac17cc",
   "metadata": {},
   "outputs": [
    {
     "name": "stdout",
     "output_type": "stream",
     "text": [
      "4\n"
     ]
    }
   ],
   "source": [
    "# Accessing the second-to-last element\n",
    "print(my_tuple[-2])"
   ]
  },
  {
   "cell_type": "markdown",
   "id": "322f4aad",
   "metadata": {},
   "source": [
    "### Slicing"
   ]
  },
  {
   "cell_type": "markdown",
   "id": "dca80b02",
   "metadata": {},
   "source": [
    "- You can retrieve a subset of elements from a tuple using slicing, which involves specifying a start index and an end index separated by a colon `:`."
   ]
  },
  {
   "cell_type": "code",
   "execution_count": 27,
   "id": "3fc151a1",
   "metadata": {},
   "outputs": [
    {
     "name": "stdout",
     "output_type": "stream",
     "text": [
      "(2, 3)\n"
     ]
    }
   ],
   "source": [
    "# Slicing from index 1 to 3 (excluding 3)\n",
    "print(my_tuple[1:3])  "
   ]
  },
  {
   "cell_type": "code",
   "execution_count": 28,
   "id": "83ca2cd8",
   "metadata": {},
   "outputs": [
    {
     "name": "stdout",
     "output_type": "stream",
     "text": [
      "(1, 2, 3)\n"
     ]
    }
   ],
   "source": [
    "# Slicing from the beginning to index 3 (excluding 3)\n",
    "print(my_tuple[:3])"
   ]
  },
  {
   "cell_type": "code",
   "execution_count": 29,
   "id": "0c2bd09b",
   "metadata": {},
   "outputs": [
    {
     "name": "stdout",
     "output_type": "stream",
     "text": [
      "(3, 4, 5)\n"
     ]
    }
   ],
   "source": [
    "# Slicing from index 2 to the end\n",
    "print(my_tuple[2:])"
   ]
  },
  {
   "cell_type": "markdown",
   "id": "2ddefb98",
   "metadata": {},
   "source": [
    "### Accessing Nested Tuples"
   ]
  },
  {
   "cell_type": "markdown",
   "id": "1203cab2",
   "metadata": {},
   "source": [
    "- If your tuple contains nested tuples, you can access elements of the inner tuples using **multiple levels of indexing.**"
   ]
  },
  {
   "cell_type": "code",
   "execution_count": 30,
   "id": "7a7f7427",
   "metadata": {},
   "outputs": [],
   "source": [
    "nested_tuple = ((1, 2), (3, 4), (5, 6))"
   ]
  },
  {
   "cell_type": "code",
   "execution_count": 31,
   "id": "b7ae7e7a",
   "metadata": {},
   "outputs": [
    {
     "name": "stdout",
     "output_type": "stream",
     "text": [
      "2\n"
     ]
    }
   ],
   "source": [
    "# Accessing the second element of the first inner tuple\n",
    "print(nested_tuple[0][1])"
   ]
  },
  {
   "cell_type": "markdown",
   "id": "7e065620",
   "metadata": {},
   "source": [
    "Accessing tuple elements involves using indexing, negative indexing, slicing, and tuple unpacking. Understanding these methods will allow you to manipulate tuple data effectively in Python."
   ]
  },
  {
   "cell_type": "code",
   "execution_count": null,
   "id": "508bef6b",
   "metadata": {},
   "outputs": [],
   "source": []
  },
  {
   "cell_type": "markdown",
   "id": "6cc8aa22",
   "metadata": {},
   "source": [
    "## Tuple Length"
   ]
  },
  {
   "cell_type": "markdown",
   "id": "ed16e09e",
   "metadata": {},
   "source": [
    "You can find the length of a tuple using the `len()` function."
   ]
  },
  {
   "cell_type": "code",
   "execution_count": 9,
   "id": "f18c1aab",
   "metadata": {},
   "outputs": [
    {
     "name": "stdout",
     "output_type": "stream",
     "text": [
      "5\n"
     ]
    }
   ],
   "source": [
    "print(len(my_tuple))"
   ]
  },
  {
   "cell_type": "markdown",
   "id": "8799fe51",
   "metadata": {},
   "source": [
    "## Tuple Immutability"
   ]
  },
  {
   "cell_type": "markdown",
   "id": "062aff50",
   "metadata": {},
   "source": [
    "- As mentioned earlier, **tuples are immutable**, meaning you cannot change the values once the tuple is created."
   ]
  },
  {
   "cell_type": "code",
   "execution_count": 10,
   "id": "ff1098cd",
   "metadata": {},
   "outputs": [
    {
     "ename": "TypeError",
     "evalue": "'tuple' object does not support item assignment",
     "output_type": "error",
     "traceback": [
      "\u001b[1;31m---------------------------------------------------------------------------\u001b[0m",
      "\u001b[1;31mTypeError\u001b[0m                                 Traceback (most recent call last)",
      "Cell \u001b[1;32mIn[10], line 2\u001b[0m\n\u001b[0;32m      1\u001b[0m \u001b[38;5;66;03m# This will raise a TypeError\u001b[39;00m\n\u001b[1;32m----> 2\u001b[0m my_tuple[\u001b[38;5;241m0\u001b[39m] \u001b[38;5;241m=\u001b[39m \u001b[38;5;241m10\u001b[39m\n",
      "\u001b[1;31mTypeError\u001b[0m: 'tuple' object does not support item assignment"
     ]
    }
   ],
   "source": [
    "# This will raise a TypeError\n",
    "my_tuple[0] = 10"
   ]
  },
  {
   "cell_type": "markdown",
   "id": "15988be7",
   "metadata": {},
   "source": [
    "## Tuple with Mixed Data Types"
   ]
  },
  {
   "cell_type": "markdown",
   "id": "b0f9b22a",
   "metadata": {},
   "source": [
    "**Tuples can contain elements of different data types.**"
   ]
  },
  {
   "cell_type": "code",
   "execution_count": 11,
   "id": "dff14358",
   "metadata": {},
   "outputs": [],
   "source": [
    "mixed_tuple = (1, \"hello\", 3.5, True)"
   ]
  },
  {
   "cell_type": "markdown",
   "id": "e54c886d",
   "metadata": {},
   "source": [
    "## Tuple Packing and Unpacking"
   ]
  },
  {
   "cell_type": "markdown",
   "id": "6ff469c1",
   "metadata": {},
   "source": [
    "- Tuple packing is when multiple values are assigned to a tuple.\n",
    "- Tuple unpacking is the reverse process, where a tuple's values are assigned to multiple variables."
   ]
  },
  {
   "cell_type": "code",
   "execution_count": 12,
   "id": "ce78a17e",
   "metadata": {},
   "outputs": [],
   "source": [
    "my_tuple = 3, 4"
   ]
  },
  {
   "cell_type": "code",
   "execution_count": 13,
   "id": "d2696427",
   "metadata": {},
   "outputs": [],
   "source": [
    "x, y = my_tuple"
   ]
  },
  {
   "cell_type": "code",
   "execution_count": 14,
   "id": "186cc411",
   "metadata": {},
   "outputs": [
    {
     "name": "stdout",
     "output_type": "stream",
     "text": [
      "x = 3\n"
     ]
    }
   ],
   "source": [
    "print(\"x =\", x)"
   ]
  },
  {
   "cell_type": "code",
   "execution_count": 15,
   "id": "3349c2d9",
   "metadata": {},
   "outputs": [
    {
     "name": "stdout",
     "output_type": "stream",
     "text": [
      "y = 4\n"
     ]
    }
   ],
   "source": [
    "print(\"y =\", y)"
   ]
  },
  {
   "cell_type": "markdown",
   "id": "f2365190",
   "metadata": {},
   "source": [
    "## Tuple Operations"
   ]
  },
  {
   "cell_type": "markdown",
   "id": "5c722be3",
   "metadata": {},
   "source": [
    "**Tuples support various operations like concatenation and repetition, just like lists.**"
   ]
  },
  {
   "cell_type": "code",
   "execution_count": null,
   "id": "613f3309",
   "metadata": {},
   "outputs": [],
   "source": []
  },
  {
   "cell_type": "markdown",
   "id": "29699e23",
   "metadata": {},
   "source": [
    "- Some basic operations that you can perform on tuples in Python"
   ]
  },
  {
   "cell_type": "markdown",
   "id": "507ba0c4",
   "metadata": {},
   "source": [
    "### 1. Creating a Tuple"
   ]
  },
  {
   "cell_type": "code",
   "execution_count": 32,
   "id": "41c67da4",
   "metadata": {},
   "outputs": [],
   "source": [
    "# Real-life example: Storing coordinates\n",
    "coordinates = (3, 4)"
   ]
  },
  {
   "cell_type": "markdown",
   "id": "7ee1c5b8",
   "metadata": {},
   "source": [
    "### 2. Accessing Elements"
   ]
  },
  {
   "cell_type": "code",
   "execution_count": 33,
   "id": "9c48eed7",
   "metadata": {},
   "outputs": [
    {
     "name": "stdout",
     "output_type": "stream",
     "text": [
      "3\n"
     ]
    }
   ],
   "source": [
    "# Accessing individual data points\n",
    "print(coordinates[0])"
   ]
  },
  {
   "cell_type": "markdown",
   "id": "0a391af3",
   "metadata": {},
   "source": [
    "### 3. Slicing"
   ]
  },
  {
   "cell_type": "code",
   "execution_count": 34,
   "id": "67382599",
   "metadata": {},
   "outputs": [],
   "source": [
    "# Real-life example: Extracting a subset of data\n",
    "week_days = (\"Monday\", \"Tuesday\", \"Wednesday\", \"Thursday\", \"Friday\", \"Saturday\", \"Sunday\")\n",
    "working_days = week_days[:5]"
   ]
  },
  {
   "cell_type": "code",
   "execution_count": 35,
   "id": "951569eb",
   "metadata": {},
   "outputs": [
    {
     "name": "stdout",
     "output_type": "stream",
     "text": [
      "('Monday', 'Tuesday', 'Wednesday', 'Thursday', 'Friday')\n"
     ]
    }
   ],
   "source": [
    "print(working_days)"
   ]
  },
  {
   "cell_type": "markdown",
   "id": "56b6c4dc",
   "metadata": {},
   "source": [
    "### 4. Concatenation"
   ]
  },
  {
   "cell_type": "code",
   "execution_count": 36,
   "id": "a4cec768",
   "metadata": {},
   "outputs": [],
   "source": [
    "# Combining multiple tuples\n",
    "tuple1 = (1, 2, 3)\n",
    "tuple2 = (4, 5, 6)\n",
    "combined_tuple = tuple1 + tuple2"
   ]
  },
  {
   "cell_type": "code",
   "execution_count": 37,
   "id": "4b477b91",
   "metadata": {},
   "outputs": [
    {
     "name": "stdout",
     "output_type": "stream",
     "text": [
      "(1, 2, 3, 4, 5, 6)\n"
     ]
    }
   ],
   "source": [
    "print(combined_tuple)"
   ]
  },
  {
   "cell_type": "markdown",
   "id": "07caede1",
   "metadata": {},
   "source": [
    "### 5. Repetition"
   ]
  },
  {
   "cell_type": "code",
   "execution_count": 38,
   "id": "2c7273ad",
   "metadata": {},
   "outputs": [],
   "source": [
    "# Replicating data\n",
    "repeated_tuple = (\"Hello\",) * 3"
   ]
  },
  {
   "cell_type": "code",
   "execution_count": 39,
   "id": "204a0edd",
   "metadata": {},
   "outputs": [
    {
     "name": "stdout",
     "output_type": "stream",
     "text": [
      "('Hello', 'Hello', 'Hello')\n"
     ]
    }
   ],
   "source": [
    "print(repeated_tuple)"
   ]
  },
  {
   "cell_type": "markdown",
   "id": "5777c208",
   "metadata": {},
   "source": [
    "### 6. Membership Test"
   ]
  },
  {
   "cell_type": "code",
   "execution_count": 40,
   "id": "d1c0e0e4",
   "metadata": {},
   "outputs": [],
   "source": [
    "# Checking if an item is in a collection\n",
    "fruits = (\"apple\", \"banana\", \"orange\")"
   ]
  },
  {
   "cell_type": "code",
   "execution_count": 41,
   "id": "09c5f3c5",
   "metadata": {},
   "outputs": [
    {
     "name": "stdout",
     "output_type": "stream",
     "text": [
      "True\n"
     ]
    }
   ],
   "source": [
    "print(\"banana\" in fruits)"
   ]
  },
  {
   "cell_type": "code",
   "execution_count": 42,
   "id": "d6b82c8d",
   "metadata": {},
   "outputs": [
    {
     "name": "stdout",
     "output_type": "stream",
     "text": [
      "False\n"
     ]
    }
   ],
   "source": [
    "print(\"grape\" in fruits)"
   ]
  },
  {
   "cell_type": "markdown",
   "id": "4a2e8d61",
   "metadata": {},
   "source": [
    "### 7. Length"
   ]
  },
  {
   "cell_type": "code",
   "execution_count": 43,
   "id": "38e15b6d",
   "metadata": {},
   "outputs": [
    {
     "name": "stdout",
     "output_type": "stream",
     "text": [
      "3\n"
     ]
    }
   ],
   "source": [
    "# Finding the number of elements in a collection\n",
    "print(len(fruits))"
   ]
  },
  {
   "cell_type": "markdown",
   "id": "a6eeaf6e",
   "metadata": {},
   "source": [
    "### 8. Iteration"
   ]
  },
  {
   "cell_type": "code",
   "execution_count": 44,
   "id": "40995c52",
   "metadata": {},
   "outputs": [
    {
     "name": "stdout",
     "output_type": "stream",
     "text": [
      "apple\n",
      "banana\n",
      "orange\n"
     ]
    }
   ],
   "source": [
    "# Looping through items in a collection\n",
    "for fruit in fruits:\n",
    "    print(fruit)"
   ]
  },
  {
   "cell_type": "markdown",
   "id": "16fccd67",
   "metadata": {},
   "source": [
    "### 9. Tuple Unpacking"
   ]
  },
  {
   "cell_type": "code",
   "execution_count": null,
   "id": "dd96669c",
   "metadata": {},
   "outputs": [],
   "source": [
    "# Assigning values to multiple variables\n",
    "point = (3, 4)\n",
    "x, y = point"
   ]
  },
  {
   "cell_type": "code",
   "execution_count": 45,
   "id": "c8a999b1",
   "metadata": {},
   "outputs": [
    {
     "name": "stdout",
     "output_type": "stream",
     "text": [
      "x = 3\n",
      "y = 4\n"
     ]
    }
   ],
   "source": [
    "print(\"x =\", x)\n",
    "print(\"y =\", y)"
   ]
  },
  {
   "cell_type": "markdown",
   "id": "d765e3e5",
   "metadata": {},
   "source": [
    "### 10. Nested Tuples"
   ]
  },
  {
   "cell_type": "code",
   "execution_count": 46,
   "id": "b90afaee",
   "metadata": {},
   "outputs": [
    {
     "name": "stdout",
     "output_type": "stream",
     "text": [
      "Doe\n"
     ]
    }
   ],
   "source": [
    "# Real-life example: Representing hierarchical data\n",
    "person = (\"John\", (\"Doe\", 30))\n",
    "print(person[1][0])"
   ]
  },
  {
   "cell_type": "code",
   "execution_count": null,
   "id": "11da7a45",
   "metadata": {},
   "outputs": [],
   "source": []
  },
  {
   "cell_type": "markdown",
   "id": "daf64a44",
   "metadata": {},
   "source": [
    "## Tuple Methods"
   ]
  },
  {
   "cell_type": "markdown",
   "id": "27e18abf",
   "metadata": {},
   "source": [
    "- Though tuples are immutable and don't have many methods compared to lists, they still have a few useful methods such as **`count()` and `index()`.**"
   ]
  },
  {
   "cell_type": "code",
   "execution_count": 19,
   "id": "82e8f69a",
   "metadata": {},
   "outputs": [],
   "source": [
    "my_tuple = (1, 2, 2, 3, 4, 2)"
   ]
  },
  {
   "cell_type": "code",
   "execution_count": 20,
   "id": "c31d59f9",
   "metadata": {},
   "outputs": [
    {
     "name": "stdout",
     "output_type": "stream",
     "text": [
      "3\n"
     ]
    }
   ],
   "source": [
    "print(my_tuple.count(2))"
   ]
  },
  {
   "cell_type": "code",
   "execution_count": 21,
   "id": "b6508b7b",
   "metadata": {},
   "outputs": [
    {
     "name": "stdout",
     "output_type": "stream",
     "text": [
      "3\n"
     ]
    }
   ],
   "source": [
    "print(my_tuple.index(3))"
   ]
  },
  {
   "cell_type": "code",
   "execution_count": null,
   "id": "63fe8855",
   "metadata": {},
   "outputs": [],
   "source": []
  },
  {
   "cell_type": "code",
   "execution_count": null,
   "id": "946219b1",
   "metadata": {},
   "outputs": [],
   "source": []
  },
  {
   "cell_type": "markdown",
   "id": "4ab501ab",
   "metadata": {},
   "source": [
    "### 1. `len()`"
   ]
  },
  {
   "cell_type": "code",
   "execution_count": 47,
   "id": "dd1df1c6",
   "metadata": {},
   "outputs": [
    {
     "name": "stdout",
     "output_type": "stream",
     "text": [
      "5\n"
     ]
    }
   ],
   "source": [
    "my_tuple = (1, 2, 3, 4, 5)\n",
    "print(len(my_tuple))"
   ]
  },
  {
   "cell_type": "markdown",
   "id": "ffe0df04",
   "metadata": {},
   "source": [
    "### 2. `max()`"
   ]
  },
  {
   "cell_type": "code",
   "execution_count": 48,
   "id": "6b0cdbd6",
   "metadata": {},
   "outputs": [
    {
     "name": "stdout",
     "output_type": "stream",
     "text": [
      "5\n"
     ]
    }
   ],
   "source": [
    "my_tuple = (1, 2, 3, 4, 5)\n",
    "print(max(my_tuple))"
   ]
  },
  {
   "cell_type": "markdown",
   "id": "a56504ab",
   "metadata": {},
   "source": [
    "### 3. `min()`"
   ]
  },
  {
   "cell_type": "code",
   "execution_count": 49,
   "id": "83226f92",
   "metadata": {},
   "outputs": [
    {
     "name": "stdout",
     "output_type": "stream",
     "text": [
      "1\n"
     ]
    }
   ],
   "source": [
    "my_tuple = (1, 2, 3, 4, 5)\n",
    "print(min(my_tuple))"
   ]
  },
  {
   "cell_type": "markdown",
   "id": "0294d43b",
   "metadata": {},
   "source": [
    "### 4. `sum()`"
   ]
  },
  {
   "cell_type": "code",
   "execution_count": 50,
   "id": "c4317fa0",
   "metadata": {},
   "outputs": [
    {
     "name": "stdout",
     "output_type": "stream",
     "text": [
      "15\n"
     ]
    }
   ],
   "source": [
    "my_tuple = (1, 2, 3, 4, 5)\n",
    "print(sum(my_tuple))"
   ]
  },
  {
   "cell_type": "markdown",
   "id": "ac6bfd68",
   "metadata": {},
   "source": [
    "### 5. `sorted()`"
   ]
  },
  {
   "cell_type": "code",
   "execution_count": 51,
   "id": "cbdd392b",
   "metadata": {},
   "outputs": [
    {
     "name": "stdout",
     "output_type": "stream",
     "text": [
      "[1, 2, 3, 5, 8]\n"
     ]
    }
   ],
   "source": [
    "my_tuple = (5, 2, 8, 1, 3)\n",
    "sorted_tuple = sorted(my_tuple)\n",
    "print(sorted_tuple)"
   ]
  },
  {
   "cell_type": "markdown",
   "id": "aa42b6d7",
   "metadata": {},
   "source": [
    "### 6. `tuple()`"
   ]
  },
  {
   "cell_type": "markdown",
   "id": "4a571fc4",
   "metadata": {},
   "source": [
    "Converts another iterable (e.g., list, string) into a tuple."
   ]
  },
  {
   "cell_type": "code",
   "execution_count": 52,
   "id": "64fd76b5",
   "metadata": {},
   "outputs": [
    {
     "name": "stdout",
     "output_type": "stream",
     "text": [
      "(1, 2, 3)\n"
     ]
    }
   ],
   "source": [
    "my_list = [1, 2, 3]\n",
    "converted_tuple = tuple(my_list)\n",
    "print(converted_tuple)"
   ]
  },
  {
   "cell_type": "markdown",
   "id": "1ba31177",
   "metadata": {},
   "source": [
    "### 7. `count()`"
   ]
  },
  {
   "cell_type": "markdown",
   "id": "43395c58",
   "metadata": {},
   "source": [
    "Counts the occurrences of a specified element in a tuple."
   ]
  },
  {
   "cell_type": "code",
   "execution_count": 53,
   "id": "8020141a",
   "metadata": {},
   "outputs": [
    {
     "name": "stdout",
     "output_type": "stream",
     "text": [
      "3\n"
     ]
    }
   ],
   "source": [
    "my_tuple = (1, 2, 2, 3, 4, 2)\n",
    "print(my_tuple.count(2))"
   ]
  },
  {
   "cell_type": "markdown",
   "id": "fe279466",
   "metadata": {},
   "source": [
    "### 8. `index()`"
   ]
  },
  {
   "cell_type": "markdown",
   "id": "93a1374a",
   "metadata": {},
   "source": [
    "Returns the index of the first occurrence of a specified element in a tuple."
   ]
  },
  {
   "cell_type": "code",
   "execution_count": 54,
   "id": "82f91ee7",
   "metadata": {},
   "outputs": [
    {
     "name": "stdout",
     "output_type": "stream",
     "text": [
      "2\n"
     ]
    }
   ],
   "source": [
    "my_tuple = (1, 2, 3, 4, 5)\n",
    "print(my_tuple.index(3))"
   ]
  },
  {
   "cell_type": "markdown",
   "id": "8cb03002",
   "metadata": {},
   "source": [
    "### 9. `any()`"
   ]
  },
  {
   "cell_type": "markdown",
   "id": "04ab7a89",
   "metadata": {},
   "source": [
    "Checks if any element in the tuple evaluates to True."
   ]
  },
  {
   "cell_type": "code",
   "execution_count": 60,
   "id": "36fe4eb3",
   "metadata": {},
   "outputs": [
    {
     "name": "stdout",
     "output_type": "stream",
     "text": [
      "True\n"
     ]
    }
   ],
   "source": [
    "my_tuple = (0, False, \"\", 1)\n",
    "print(any(my_tuple))"
   ]
  },
  {
   "cell_type": "markdown",
   "id": "515e385b",
   "metadata": {},
   "source": [
    "**Explanation**\n",
    "\n",
    "- In the example above, the any() function checks if any of the elements in the tuple my_tuple evaluate to True.\n",
    "- Since the integer 1 evaluates to True, the any() function returns True."
   ]
  },
  {
   "cell_type": "markdown",
   "id": "f30627bc",
   "metadata": {},
   "source": [
    "### 10. `all()`"
   ]
  },
  {
   "cell_type": "markdown",
   "id": "547a28f2",
   "metadata": {},
   "source": [
    "Checks if all elements in the tuple evaluate to True."
   ]
  },
  {
   "cell_type": "code",
   "execution_count": null,
   "id": "96d91535",
   "metadata": {},
   "outputs": [],
   "source": [
    "all(iterable)"
   ]
  },
  {
   "cell_type": "code",
   "execution_count": 61,
   "id": "fc070575",
   "metadata": {},
   "outputs": [
    {
     "name": "stdout",
     "output_type": "stream",
     "text": [
      "True\n"
     ]
    }
   ],
   "source": [
    "my_tuple = (1, True, \"hello\")\n",
    "print(all(my_tuple))"
   ]
  },
  {
   "cell_type": "markdown",
   "id": "77b94df6",
   "metadata": {},
   "source": [
    "**Explanation**\n",
    "\n",
    "- In the example above, the all() function checks if all elements in the tuple my_tuple evaluate to True.\n",
    "- Since all elements in the tuple evaluate to True, the all() function returns True."
   ]
  },
  {
   "cell_type": "markdown",
   "id": "b910b382",
   "metadata": {},
   "source": [
    "#### Key Points"
   ]
  },
  {
   "cell_type": "markdown",
   "id": "354bb39d",
   "metadata": {},
   "source": [
    "- Both `any()` and `all()` functions are useful for evaluating the truthiness of elements within an iterable.\n",
    "- `any()` returns True if at least one element is true.\n",
    "- `all()` returns True only if all elements are true.\n",
    "- For empty iterables, `any()` returns False, while `all()` returns True because there are no elements to evaluate.\n",
    "- These functions are handy when you need to perform logical checks on collections of data, especially when dealing with conditions involving multiple elements."
   ]
  },
  {
   "cell_type": "code",
   "execution_count": null,
   "id": "ffbd9a61",
   "metadata": {},
   "outputs": [],
   "source": []
  },
  {
   "cell_type": "code",
   "execution_count": null,
   "id": "176d31a3",
   "metadata": {},
   "outputs": [],
   "source": []
  },
  {
   "cell_type": "markdown",
   "id": "993b1099",
   "metadata": {},
   "source": [
    "## When to Use Tuples"
   ]
  },
  {
   "cell_type": "markdown",
   "id": "a81e566d",
   "metadata": {},
   "source": [
    "- Use tuples when you have a collection of items that should not change during the program's execution, such as **coordinates, constant values**, or when you want to **ensure data integrity.**"
   ]
  },
  {
   "cell_type": "markdown",
   "id": "9f2c276e",
   "metadata": {},
   "source": [
    "## Inserting Elements in tuples"
   ]
  },
  {
   "cell_type": "markdown",
   "id": "c9eaa79a",
   "metadata": {},
   "source": [
    "- In Python, **tuples are immutable**, which means you cannot directly insert or modify elements once the tuple is created.\n",
    "- However, you can **achieve a similar effect** by creating a new tuple with the desired elements added."
   ]
  },
  {
   "cell_type": "markdown",
   "id": "e60f827a",
   "metadata": {},
   "source": [
    "### 1. Concatenation"
   ]
  },
  {
   "cell_type": "markdown",
   "id": "a24dfdf4",
   "metadata": {},
   "source": [
    "**You can concatenate tuples to create a new tuple with additional elements.**"
   ]
  },
  {
   "cell_type": "code",
   "execution_count": 62,
   "id": "7bdf6237",
   "metadata": {},
   "outputs": [
    {
     "name": "stdout",
     "output_type": "stream",
     "text": [
      "(1, 2, 3, 4)\n"
     ]
    }
   ],
   "source": [
    "original_tuple = (1, 2, 3)\n",
    "new_tuple = original_tuple + (4,)\n",
    "print(new_tuple)"
   ]
  },
  {
   "cell_type": "markdown",
   "id": "8b0e640b",
   "metadata": {},
   "source": [
    "### 2. Slicing and Concatenation"
   ]
  },
  {
   "cell_type": "markdown",
   "id": "84c5b33f",
   "metadata": {},
   "source": [
    "**You can slice the original tuple and then concatenate it with the new elements.**"
   ]
  },
  {
   "cell_type": "code",
   "execution_count": 63,
   "id": "5dc11f4e",
   "metadata": {},
   "outputs": [
    {
     "name": "stdout",
     "output_type": "stream",
     "text": [
      "(1, 2, 4, 3)\n"
     ]
    }
   ],
   "source": [
    "original_tuple = (1, 2, 3)\n",
    "new_tuple = original_tuple[:2] + (4,) + original_tuple[2:]\n",
    "print(new_tuple)"
   ]
  },
  {
   "cell_type": "markdown",
   "id": "23cd325e",
   "metadata": {},
   "source": [
    "### 3. Using `tuple()`"
   ]
  },
  {
   "cell_type": "markdown",
   "id": "aa721014",
   "metadata": {},
   "source": [
    "**You can convert other iterable objects (such as lists) into tuples and then concatenate them.**"
   ]
  },
  {
   "cell_type": "code",
   "execution_count": 64,
   "id": "421b3b44",
   "metadata": {},
   "outputs": [
    {
     "name": "stdout",
     "output_type": "stream",
     "text": [
      "(1, 2, 3, 4, 5)\n"
     ]
    }
   ],
   "source": [
    "original_tuple = (1, 2, 3)\n",
    "new_elements = [4, 5]\n",
    "new_tuple = original_tuple + tuple(new_elements)\n",
    "print(new_tuple)"
   ]
  },
  {
   "cell_type": "markdown",
   "id": "4a351c62",
   "metadata": {},
   "source": [
    "### Important Points"
   ]
  },
  {
   "cell_type": "markdown",
   "id": "563b6e31",
   "metadata": {},
   "source": [
    "- Remember to include a comma `,` after the new element when concatenating with a single-element tuple to differentiate it from an expression within parentheses.\n",
    "- While you cannot directly modify tuples, you can create new tuples with the desired modifications.\n",
    "- These methods allow you to simulate the behavior of inserting elements into tuples while adhering to Python's immutability principle."
   ]
  },
  {
   "cell_type": "markdown",
   "id": "50c15097",
   "metadata": {},
   "source": [
    "## Modifying elements in Tuples"
   ]
  },
  {
   "cell_type": "markdown",
   "id": "c692b8ca",
   "metadata": {},
   "source": [
    "- In Python, **tuples are immutable**, meaning once they are created, their elements cannot be modified directly. \n",
    "- However, if you need to change or modify elements in a tuple, you'll typically create a new tuple with the desired modifications. "
   ]
  },
  {
   "cell_type": "markdown",
   "id": "5430f9fe",
   "metadata": {},
   "source": [
    "### 1. Creating a New Tuple"
   ]
  },
  {
   "cell_type": "markdown",
   "id": "4259081e",
   "metadata": {},
   "source": [
    "- You can create a new tuple with the modified elements by concatenating parts of the original tuple with the modified elements."
   ]
  },
  {
   "cell_type": "code",
   "execution_count": 65,
   "id": "e024af8f",
   "metadata": {},
   "outputs": [
    {
     "name": "stdout",
     "output_type": "stream",
     "text": [
      "(1, 2, 4)\n"
     ]
    }
   ],
   "source": [
    "original_tuple = (1, 2, 3)\n",
    "modified_tuple = original_tuple[:2] + (4,) + original_tuple[3:]\n",
    "print(modified_tuple)"
   ]
  },
  {
   "cell_type": "markdown",
   "id": "cdee00fe",
   "metadata": {},
   "source": [
    "### 2. Using List Conversion"
   ]
  },
  {
   "cell_type": "markdown",
   "id": "c25f1c68",
   "metadata": {},
   "source": [
    "- You can convert the tuple into a list, modify the elements as needed, and then convert it back to a tuple."
   ]
  },
  {
   "cell_type": "code",
   "execution_count": 67,
   "id": "a280509a",
   "metadata": {},
   "outputs": [
    {
     "name": "stdout",
     "output_type": "stream",
     "text": [
      "(1, 2, 4)\n"
     ]
    }
   ],
   "source": [
    "# Define a tuple\n",
    "original_tuple = (1, 2, 3)\n",
    "\n",
    "# convert it into list\n",
    "list_version = list(original_tuple)\n",
    "\n",
    "# modify the element in list\n",
    "list_version[2] = 4\n",
    "\n",
    "# convert it back to tuple\n",
    "modified_tuple = tuple(list_version)\n",
    "\n",
    "# See the effect\n",
    "print(modified_tuple)"
   ]
  },
  {
   "cell_type": "markdown",
   "id": "e8744eb7",
   "metadata": {},
   "source": [
    "### Important Points"
   ]
  },
  {
   "cell_type": "markdown",
   "id": "f8ff86b4",
   "metadata": {},
   "source": [
    "- Although tuples themselves are immutable, their elements may be mutable objects. \n",
    "- In such cases, you can modify the mutable objects contained within the tuple, but you cannot modify the tuple itself.\n",
    "- Modifying a tuple directly is not possible due to its immutable nature.\n",
    "- Instead, you create a new tuple with the desired modifications.\n",
    "- Converting a tuple to a list allows you to modify its elements, but keep in mind that this approach changes the data structure from a tuple to a list.\n",
    "  "
   ]
  },
  {
   "cell_type": "markdown",
   "id": "24c8b08a",
   "metadata": {},
   "source": [
    "## Deleting elements from a tuple"
   ]
  },
  {
   "cell_type": "markdown",
   "id": "b810c3f3",
   "metadata": {},
   "source": [
    "- Since tuples are immutable in Python, you cannot directly delete elements from them. \n",
    "- However, you can achieve the effect of deleting elements by creating a new tuple without the elements you want to remove."
   ]
  },
  {
   "cell_type": "markdown",
   "id": "82b646a4",
   "metadata": {},
   "source": [
    "### 1. Using Slicing"
   ]
  },
  {
   "cell_type": "markdown",
   "id": "8d8593f5",
   "metadata": {},
   "source": [
    "**You can create a new tuple by slicing the original tuple to exclude the elements you want to delete.**"
   ]
  },
  {
   "cell_type": "code",
   "execution_count": 68,
   "id": "4171d4f7",
   "metadata": {},
   "outputs": [
    {
     "name": "stdout",
     "output_type": "stream",
     "text": [
      "(1, 2, 4, 5)\n"
     ]
    }
   ],
   "source": [
    "original_tuple = (1, 2, 3, 4, 5)\n",
    "index_to_delete = 2\n",
    "new_tuple = original_tuple[:index_to_delete] + original_tuple[index_to_delete+1:]\n",
    "print(new_tuple)"
   ]
  },
  {
   "cell_type": "markdown",
   "id": "455770a4",
   "metadata": {},
   "source": [
    "### 2. Using List Conversion"
   ]
  },
  {
   "cell_type": "markdown",
   "id": "55e9dcc1",
   "metadata": {},
   "source": [
    "- Similar to modifying elements, you can convert the tuple into a list, remove the desired elements, and then convert it back to a tuple."
   ]
  },
  {
   "cell_type": "code",
   "execution_count": 69,
   "id": "9199ae3a",
   "metadata": {},
   "outputs": [
    {
     "name": "stdout",
     "output_type": "stream",
     "text": [
      "(1, 2, 4, 5)\n"
     ]
    }
   ],
   "source": [
    "# define the tuple\n",
    "original_tuple = (1, 2, 3, 4, 5)\n",
    "\n",
    "# convert it to list\n",
    "list_version = list(original_tuple)\n",
    "\n",
    "# index locaiton of the element to delete\n",
    "index_to_delete = 2\n",
    "\n",
    "# use `del` method\n",
    "del list_version[index_to_delete]\n",
    "\n",
    "# convert it back to tuple\n",
    "new_tuple = tuple(list_version)\n",
    "\n",
    "# print the result\n",
    "print(new_tuple)"
   ]
  },
  {
   "cell_type": "markdown",
   "id": "690308c4",
   "metadata": {},
   "source": [
    "### Important Points\n",
    "- Deleting elements from tuples involves creating a new tuple with the desired modifications.\n",
    "- Converting a tuple to a list allows you to perform deletion operations, but it changes the data structure from a tuple to a list.\n",
    "- Tuples being immutable means that their elements cannot be directly deleted or modified."
   ]
  },
  {
   "cell_type": "code",
   "execution_count": null,
   "id": "49e5f273",
   "metadata": {},
   "outputs": [],
   "source": []
  }
 ],
 "metadata": {
  "kernelspec": {
   "display_name": "Python 3 (ipykernel)",
   "language": "python",
   "name": "python3"
  },
  "language_info": {
   "codemirror_mode": {
    "name": "ipython",
    "version": 3
   },
   "file_extension": ".py",
   "mimetype": "text/x-python",
   "name": "python",
   "nbconvert_exporter": "python",
   "pygments_lexer": "ipython3",
   "version": "3.11.5"
  }
 },
 "nbformat": 4,
 "nbformat_minor": 5
}
