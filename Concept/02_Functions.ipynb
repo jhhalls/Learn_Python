{
 "cells": [
  {
   "cell_type": "markdown",
   "id": "d262e52f",
   "metadata": {},
   "source": [
    "**A function is simimlar to a program that consists of a group of statements that is intended to perform a specific task.**"
   ]
  },
  {
   "cell_type": "code",
   "execution_count": null,
   "id": "12e46215",
   "metadata": {},
   "outputs": [],
   "source": []
  },
  {
   "cell_type": "code",
   "execution_count": null,
   "id": "a79a58fd",
   "metadata": {},
   "outputs": [],
   "source": [
    "# Syntax\n",
    "def functionName():\n",
    "    # What to make the function do"
   ]
  },
  {
   "cell_type": "markdown",
   "id": "c5d9c8d0",
   "metadata": {},
   "source": [
    "##### Arguments in Python Functions"
   ]
  },
  {
   "cell_type": "markdown",
   "id": "d70e953b",
   "metadata": {},
   "source": [
    "- While defining a function in Python, you can pass argument(s) into the function by putting them inside the parenthesis."
   ]
  },
  {
   "cell_type": "code",
   "execution_count": null,
   "id": "f924e29a",
   "metadata": {},
   "outputs": [],
   "source": [
    "# syntax\n",
    "\n",
    "def functionName(arg1, arg2,....)"
   ]
  },
  {
   "cell_type": "markdown",
   "id": "08a5e0d8",
   "metadata": {},
   "source": [
    "# Formal Arguments"
   ]
  },
  {
   "cell_type": "markdown",
   "id": "f7379476",
   "metadata": {},
   "source": [
    "Formal Arguments:\n",
    "Formal arguments, also known as parameters, are the placeholders or variables defined in the function signature that represent the data the function expects to receive when it is called. These parameters are used to define the structure of the function and act as local variables within the function's scope."
   ]
  },
  {
   "cell_type": "code",
   "execution_count": 1,
   "id": "03acb13d",
   "metadata": {},
   "outputs": [],
   "source": [
    "# multiplication using function\n",
    "def mul(a,b):\n",
    "    return a*b"
   ]
  },
  {
   "cell_type": "code",
   "execution_count": 2,
   "id": "544ea234",
   "metadata": {},
   "outputs": [
    {
     "data": {
      "text/plain": [
       "6"
      ]
     },
     "execution_count": 2,
     "metadata": {},
     "output_type": "execute_result"
    }
   ],
   "source": [
    "mul(2,3)"
   ]
  },
  {
   "cell_type": "code",
   "execution_count": 3,
   "id": "c7634a4a",
   "metadata": {},
   "outputs": [
    {
     "data": {
      "text/plain": [
       "990"
      ]
     },
     "execution_count": 3,
     "metadata": {},
     "output_type": "execute_result"
    }
   ],
   "source": [
    "mul(30,33)"
   ]
  },
  {
   "cell_type": "code",
   "execution_count": 9,
   "id": "9ae89c34",
   "metadata": {},
   "outputs": [
    {
     "data": {
      "text/plain": [
       "20"
      ]
     },
     "execution_count": 9,
     "metadata": {},
     "output_type": "execute_result"
    }
   ],
   "source": [
    "mul(2,10)"
   ]
  },
  {
   "cell_type": "code",
   "execution_count": 4,
   "id": "ff780904",
   "metadata": {},
   "outputs": [],
   "source": [
    "def addition(a,b,c,d):\n",
    "    return a+b+c+d"
   ]
  },
  {
   "cell_type": "code",
   "execution_count": 5,
   "id": "43b51a55",
   "metadata": {},
   "outputs": [
    {
     "data": {
      "text/plain": [
       "10"
      ]
     },
     "execution_count": 5,
     "metadata": {},
     "output_type": "execute_result"
    }
   ],
   "source": [
    "addition(1,2,3,4)"
   ]
  },
  {
   "cell_type": "code",
   "execution_count": null,
   "id": "4a01c13e",
   "metadata": {},
   "outputs": [],
   "source": []
  },
  {
   "cell_type": "code",
   "execution_count": null,
   "id": "a44e8c95",
   "metadata": {},
   "outputs": [],
   "source": []
  },
  {
   "cell_type": "code",
   "execution_count": null,
   "id": "76a6f657",
   "metadata": {},
   "outputs": [],
   "source": []
  },
  {
   "cell_type": "code",
   "execution_count": null,
   "id": "a6e38d88",
   "metadata": {},
   "outputs": [],
   "source": []
  },
  {
   "cell_type": "markdown",
   "id": "521e300f",
   "metadata": {},
   "source": [
    "**Here a,b are formal arguments**"
   ]
  },
  {
   "cell_type": "markdown",
   "id": "6bead1d2",
   "metadata": {},
   "source": [
    "# Actual Arguments"
   ]
  },
  {
   "cell_type": "markdown",
   "id": "1cfc9bec",
   "metadata": {},
   "source": [
    "Actual Arguments:\n",
    "Actual arguments, also known as arguments or function call arguments, are the values passed to the function when it is called. These are the concrete values that will be used in place of the formal arguments in the function's execution. Actual arguments can be variables, literals, expressions, or even other function calls.\n",
    "\n",
    "In Python, actual arguments are provided inside the parentheses when calling the function."
   ]
  },
  {
   "cell_type": "markdown",
   "id": "535d0d0c",
   "metadata": {},
   "source": [
    "**Example**"
   ]
  },
  {
   "cell_type": "code",
   "execution_count": 10,
   "id": "245da437",
   "metadata": {},
   "outputs": [
    {
     "data": {
      "text/plain": [
       "6"
      ]
     },
     "execution_count": 10,
     "metadata": {},
     "output_type": "execute_result"
    }
   ],
   "source": [
    "# 2,3 are the actual arguments\n",
    "mul(2,3)"
   ]
  },
  {
   "cell_type": "markdown",
   "id": "b895586b",
   "metadata": {},
   "source": [
    "## Types of Acutal Arguments"
   ]
  },
  {
   "cell_type": "markdown",
   "id": "6b9be331",
   "metadata": {},
   "source": [
    "#### 1. Positional Actual Arguments"
   ]
  },
  {
   "cell_type": "markdown",
   "id": "469ab192",
   "metadata": {},
   "source": [
    "Positional Arguments: These are arguments passed in the order of the function's parameters. The position determines which formal argument the value will be assigned to. "
   ]
  },
  {
   "cell_type": "code",
   "execution_count": null,
   "id": "d5f30709",
   "metadata": {},
   "outputs": [],
   "source": [
    "mul(2,3)"
   ]
  },
  {
   "cell_type": "markdown",
   "id": "7249cf49",
   "metadata": {},
   "source": [
    "**In this case, 2 and 3 are actual arguments that correspond to the formal arguments 'a' and 'b' respectively.**"
   ]
  },
  {
   "cell_type": "markdown",
   "id": "e3bc039c",
   "metadata": {},
   "source": [
    "#### 2. Keyword Actual Arguments"
   ]
  },
  {
   "cell_type": "markdown",
   "id": "b3474b65",
   "metadata": {},
   "source": [
    "Keyword arguments identify the parameters by their names. Here, the order of the arguments doesn't matter because we are using keyword arguments to explicitly specify which value goes to which formal parameter."
   ]
  },
  {
   "cell_type": "code",
   "execution_count": 11,
   "id": "4cc71776",
   "metadata": {},
   "outputs": [
    {
     "data": {
      "text/plain": [
       "8"
      ]
     },
     "execution_count": 11,
     "metadata": {},
     "output_type": "execute_result"
    }
   ],
   "source": [
    "mul(b=4,a=2)"
   ]
  },
  {
   "cell_type": "code",
   "execution_count": 12,
   "id": "6db81e36",
   "metadata": {},
   "outputs": [
    {
     "data": {
      "text/plain": [
       "8"
      ]
     },
     "execution_count": 12,
     "metadata": {},
     "output_type": "execute_result"
    }
   ],
   "source": [
    "mul(4,2)"
   ]
  },
  {
   "cell_type": "markdown",
   "id": "072efb41",
   "metadata": {},
   "source": [
    "#### 3. Default Arguments"
   ]
  },
  {
   "cell_type": "markdown",
   "id": "fca9b8d5",
   "metadata": {},
   "source": [
    "- Default arguments are a feature that allows you to assign default values to function parameters. \n",
    "- These default values are used when the corresponding argument is not provided during the function call."
   ]
  },
  {
   "cell_type": "code",
   "execution_count": 13,
   "id": "a655c0ef",
   "metadata": {},
   "outputs": [],
   "source": [
    "def mul(a,b=3):\n",
    "    return a*b"
   ]
  },
  {
   "cell_type": "markdown",
   "id": "b532ed2b",
   "metadata": {},
   "source": [
    "In the above program the default value of parameter \"b\" is 3. If no value is passed by the user, the 3 will be taken for the value of \"b\""
   ]
  },
  {
   "cell_type": "code",
   "execution_count": 14,
   "id": "12d14614",
   "metadata": {},
   "outputs": [
    {
     "data": {
      "text/plain": [
       "6"
      ]
     },
     "execution_count": 14,
     "metadata": {},
     "output_type": "execute_result"
    }
   ],
   "source": [
    "mul(a=2)"
   ]
  },
  {
   "cell_type": "code",
   "execution_count": 15,
   "id": "473961c4",
   "metadata": {},
   "outputs": [
    {
     "data": {
      "text/plain": [
       "15"
      ]
     },
     "execution_count": 15,
     "metadata": {},
     "output_type": "execute_result"
    }
   ],
   "source": [
    "mul(5)"
   ]
  },
  {
   "cell_type": "code",
   "execution_count": 7,
   "id": "3fe98378",
   "metadata": {},
   "outputs": [
    {
     "data": {
      "text/plain": [
       "12"
      ]
     },
     "execution_count": 7,
     "metadata": {},
     "output_type": "execute_result"
    }
   ],
   "source": [
    "mul(3,4)"
   ]
  },
  {
   "cell_type": "code",
   "execution_count": 17,
   "id": "8ba88f08",
   "metadata": {},
   "outputs": [],
   "source": [
    "def mul_2(x=3,y=12):\n",
    "    print(\"x :\", x, \"y :\", y)\n",
    "    print(\"sum : \", x+y)"
   ]
  },
  {
   "cell_type": "code",
   "execution_count": 18,
   "id": "d8f2134c",
   "metadata": {},
   "outputs": [
    {
     "name": "stdout",
     "output_type": "stream",
     "text": [
      "x : 3 y : 12\n",
      "sum :  15\n"
     ]
    }
   ],
   "source": [
    "mul_2()"
   ]
  },
  {
   "cell_type": "code",
   "execution_count": 19,
   "id": "c548a0ba",
   "metadata": {},
   "outputs": [
    {
     "name": "stdout",
     "output_type": "stream",
     "text": [
      "x : 2 y : 12\n",
      "sum :  14\n"
     ]
    }
   ],
   "source": [
    "mul_2(2)"
   ]
  },
  {
   "cell_type": "code",
   "execution_count": 21,
   "id": "b2aea868",
   "metadata": {},
   "outputs": [
    {
     "name": "stdout",
     "output_type": "stream",
     "text": [
      "x : 3 y : 4\n",
      "sum :  7\n"
     ]
    }
   ],
   "source": [
    "mul_2(y=4)"
   ]
  },
  {
   "cell_type": "code",
   "execution_count": 22,
   "id": "ad5f92f4",
   "metadata": {},
   "outputs": [
    {
     "name": "stdout",
     "output_type": "stream",
     "text": [
      "x : 2 y : 3\n",
      "sum :  5\n"
     ]
    }
   ],
   "source": [
    "mul_2(2,3)"
   ]
  },
  {
   "cell_type": "code",
   "execution_count": 23,
   "id": "7781a8c3",
   "metadata": {},
   "outputs": [
    {
     "name": "stdout",
     "output_type": "stream",
     "text": [
      "x : 3 y : 2\n",
      "sum :  5\n"
     ]
    }
   ],
   "source": [
    "mul_2(y=2)"
   ]
  },
  {
   "cell_type": "code",
   "execution_count": 24,
   "id": "c76132e2",
   "metadata": {},
   "outputs": [
    {
     "name": "stdout",
     "output_type": "stream",
     "text": [
      "x : 4 y : 3\n",
      "sum :  7\n"
     ]
    }
   ],
   "source": [
    "mul_2(y= 3, x= 4)"
   ]
  },
  {
   "cell_type": "code",
   "execution_count": 23,
   "id": "d55ddf7b",
   "metadata": {},
   "outputs": [
    {
     "ename": "TypeError",
     "evalue": "mul_2() takes from 0 to 2 positional arguments but 3 were given",
     "output_type": "error",
     "traceback": [
      "\u001b[0;31m---------------------------------------------------------------------------\u001b[0m",
      "\u001b[0;31mTypeError\u001b[0m                                 Traceback (most recent call last)",
      "Cell \u001b[0;32mIn[23], line 1\u001b[0m\n\u001b[0;32m----> 1\u001b[0m \u001b[43mmul_2\u001b[49m\u001b[43m(\u001b[49m\u001b[38;5;241;43m2\u001b[39;49m\u001b[43m,\u001b[49m\u001b[38;5;241;43m3\u001b[39;49m\u001b[43m,\u001b[49m\u001b[38;5;241;43m4\u001b[39;49m\u001b[43m)\u001b[49m\n",
      "\u001b[0;31mTypeError\u001b[0m: mul_2() takes from 0 to 2 positional arguments but 3 were given"
     ]
    }
   ],
   "source": [
    "mul_2(2,3,4)"
   ]
  },
  {
   "cell_type": "code",
   "execution_count": null,
   "id": "a0027557",
   "metadata": {},
   "outputs": [],
   "source": []
  },
  {
   "cell_type": "markdown",
   "id": "1e8d3133",
   "metadata": {},
   "source": [
    "#### 4. Variable Length Arguments"
   ]
  },
  {
   "cell_type": "markdown",
   "id": "da566cf5",
   "metadata": {},
   "source": [
    "- In Python, you can define functions that accept a variable number of arguments using two special syntaxes: * args and ** kwargs. \n",
    "- These allow you to pass an arbitrary number of positional arguments and keyword arguments, respectively."
   ]
  },
  {
   "cell_type": "markdown",
   "id": "a181f0d9",
   "metadata": {},
   "source": [
    "##### 4.1. *args (Variable-length Positional Arguments):"
   ]
  },
  {
   "cell_type": "markdown",
   "id": "f37a323d",
   "metadata": {},
   "source": [
    "- The * args syntax allows a function to accept any number of positional arguments. \n",
    "- The * before args unpacks the arguments passed to the function and collects them as a tuple within the function.\n",
    "- You can use any variable name instead of args, but the * is essential to indicate that it should collect all positional arguments."
   ]
  },
  {
   "cell_type": "code",
   "execution_count": 25,
   "id": "b3681d60",
   "metadata": {},
   "outputs": [],
   "source": [
    "def sum_all(*args):\n",
    "    total = 0     #local variable\n",
    "    for num in args:\n",
    "        total += num\n",
    "    return total"
   ]
  },
  {
   "cell_type": "code",
   "execution_count": 29,
   "id": "cdf33299",
   "metadata": {},
   "outputs": [
    {
     "data": {
      "text/plain": [
       "6"
      ]
     },
     "execution_count": 29,
     "metadata": {},
     "output_type": "execute_result"
    }
   ],
   "source": [
    "sum_all(1,2,3)"
   ]
  },
  {
   "cell_type": "code",
   "execution_count": 27,
   "id": "176436e4",
   "metadata": {},
   "outputs": [
    {
     "data": {
      "text/plain": [
       "225"
      ]
     },
     "execution_count": 27,
     "metadata": {},
     "output_type": "execute_result"
    }
   ],
   "source": [
    "sum_all(10,20,30,11,22,33,44,55)"
   ]
  },
  {
   "cell_type": "markdown",
   "id": "d398535b",
   "metadata": {},
   "source": [
    "##### 4.2. **kwargs (Variable-length Keyword Arguments):"
   ]
  },
  {
   "cell_type": "markdown",
   "id": "6eac8345",
   "metadata": {},
   "source": [
    "- The **kwargs syntax allows a function to accept any number of keyword arguments. \n",
    "- The ** before kwargs unpacks the keyword arguments passed to the function and collects them as a dictionary within the function. \n",
    "- Similar to *args, you can use any variable name instead of kwargs."
   ]
  },
  {
   "cell_type": "code",
   "execution_count": 28,
   "id": "5530e4f4",
   "metadata": {},
   "outputs": [],
   "source": [
    "def example_function(**kwargs):\n",
    "    print(\"Keyword arguments:\", kwargs)"
   ]
  },
  {
   "cell_type": "code",
   "execution_count": 29,
   "id": "a1a0ca5c",
   "metadata": {},
   "outputs": [
    {
     "name": "stdout",
     "output_type": "stream",
     "text": [
      "Keyword arguments: {'name': 'Alice', 'age': 30}\n"
     ]
    }
   ],
   "source": [
    "example_function(name=\"Alice\", age=30)"
   ]
  },
  {
   "cell_type": "code",
   "execution_count": 30,
   "id": "3158addc",
   "metadata": {},
   "outputs": [
    {
     "name": "stdout",
     "output_type": "stream",
     "text": [
      "Keyword arguments: {'name': 'Getrude', 'Place': 'Ghana', 'Animal': 'Tiger', 'Thing': 'Laptop'}\n"
     ]
    }
   ],
   "source": [
    "example_function(name = \"Getrude\", Place = \"Ghana\", Animal = 'Tiger', Thing = 'Laptop')"
   ]
  },
  {
   "cell_type": "code",
   "execution_count": 31,
   "id": "db590364",
   "metadata": {},
   "outputs": [],
   "source": [
    "d = {'name': 'Getrude', 'Place': 'Ghana', 'Animal': ['Tiger', 'Lion'], 'Thing': 'Laptop'}"
   ]
  },
  {
   "cell_type": "code",
   "execution_count": 33,
   "id": "5d7432aa",
   "metadata": {},
   "outputs": [
    {
     "data": {
      "text/plain": [
       "{'name': 'Getrude',\n",
       " 'Place': 'Ghana',\n",
       " 'Animal': ['Tiger', 'Lion'],\n",
       " 'Thing': 'Laptop'}"
      ]
     },
     "execution_count": 33,
     "metadata": {},
     "output_type": "execute_result"
    }
   ],
   "source": [
    "d"
   ]
  },
  {
   "cell_type": "code",
   "execution_count": 34,
   "id": "41664ffd",
   "metadata": {},
   "outputs": [
    {
     "data": {
      "text/plain": [
       "dict"
      ]
     },
     "execution_count": 34,
     "metadata": {},
     "output_type": "execute_result"
    }
   ],
   "source": [
    "type(d)"
   ]
  },
  {
   "cell_type": "code",
   "execution_count": 35,
   "id": "a637bdff",
   "metadata": {},
   "outputs": [
    {
     "data": {
      "text/plain": [
       "'Getrude'"
      ]
     },
     "execution_count": 35,
     "metadata": {},
     "output_type": "execute_result"
    }
   ],
   "source": [
    "d['name']"
   ]
  },
  {
   "cell_type": "code",
   "execution_count": 38,
   "id": "8bff467b",
   "metadata": {},
   "outputs": [
    {
     "data": {
      "text/plain": [
       "list"
      ]
     },
     "execution_count": 38,
     "metadata": {},
     "output_type": "execute_result"
    }
   ],
   "source": [
    "type(d['Animal'])"
   ]
  },
  {
   "cell_type": "code",
   "execution_count": 36,
   "id": "df66aaef",
   "metadata": {},
   "outputs": [
    {
     "data": {
      "text/plain": [
       "['Tiger', 'Lion']"
      ]
     },
     "execution_count": 36,
     "metadata": {},
     "output_type": "execute_result"
    }
   ],
   "source": [
    "d['Animal']"
   ]
  },
  {
   "cell_type": "code",
   "execution_count": 37,
   "id": "e0b8366b",
   "metadata": {},
   "outputs": [
    {
     "data": {
      "text/plain": [
       "'Lion'"
      ]
     },
     "execution_count": 37,
     "metadata": {},
     "output_type": "execute_result"
    }
   ],
   "source": [
    "d['Animal'][1]"
   ]
  },
  {
   "cell_type": "code",
   "execution_count": 40,
   "id": "5b234df6",
   "metadata": {},
   "outputs": [
    {
     "data": {
      "text/plain": [
       "'L'"
      ]
     },
     "execution_count": 40,
     "metadata": {},
     "output_type": "execute_result"
    }
   ],
   "source": [
    "d['Animal'][1][0]"
   ]
  },
  {
   "cell_type": "code",
   "execution_count": null,
   "id": "5953db03",
   "metadata": {},
   "outputs": [],
   "source": []
  },
  {
   "cell_type": "code",
   "execution_count": 41,
   "id": "6ba1f1bd",
   "metadata": {},
   "outputs": [],
   "source": [
    "def person_info(**kwargs):\n",
    "    print(kwargs)"
   ]
  },
  {
   "cell_type": "code",
   "execution_count": 42,
   "id": "cc741600",
   "metadata": {},
   "outputs": [
    {
     "name": "stdout",
     "output_type": "stream",
     "text": [
      "{'Name': 'Getrude', 'Age': 23, 'Country': 'Ghana'}\n"
     ]
    }
   ],
   "source": [
    "person_info(Name= 'Getrude',Age= 23, Country= 'Ghana')"
   ]
  },
  {
   "cell_type": "code",
   "execution_count": 41,
   "id": "3bd81a54",
   "metadata": {
    "scrolled": true
   },
   "outputs": [
    {
     "name": "stdout",
     "output_type": "stream",
     "text": [
      "Name: Getrude\n",
      "Age: 23\n",
      "Country: Ghana\n"
     ]
    }
   ],
   "source": [
    "def print_person_info(name, age, country):\n",
    "    print(f\"Name: {name}\")\n",
    "    print(f\"Age: {age}\")\n",
    "    print(f\"Country: {country}\")\n",
    "\n",
    "# Using keyword arguments to call the function\n",
    "print_person_info(name=\"Getrude\", age=23, country=\"Ghana\")"
   ]
  },
  {
   "cell_type": "code",
   "execution_count": null,
   "id": "34511fb4",
   "metadata": {},
   "outputs": [],
   "source": []
  },
  {
   "cell_type": "code",
   "execution_count": null,
   "id": "86e15b70",
   "metadata": {},
   "outputs": [],
   "source": []
  },
  {
   "cell_type": "markdown",
   "id": "745790c4",
   "metadata": {},
   "source": [
    "- **Functions are important in programming becasuse they are used to process data, make calculations or perform any task which is required in the process.**"
   ]
  },
  {
   "cell_type": "code",
   "execution_count": 42,
   "id": "4baeb669",
   "metadata": {},
   "outputs": [],
   "source": [
    "# GST - Different products fall into different tax categories"
   ]
  },
  {
   "cell_type": "code",
   "execution_count": 45,
   "id": "4061a671",
   "metadata": {},
   "outputs": [],
   "source": [
    "def tax(price, tax_percent):\n",
    "    \"\"\"\n",
    "    This function calculates the tax basd on the price and the tax percentage.\n",
    "    This function will return the tax in same currency as the price\n",
    "    and it will also return the total price (MRP) of the product including the tax\n",
    "    \n",
    "    Eg. tax(100, 28)\n",
    "    \n",
    "    price is 100\n",
    "    tax_percent is 28\n",
    "    \n",
    "    tax = 28\n",
    "    price = 100\n",
    "    total price = 100 + 28 =128\n",
    "    \n",
    "    \n",
    "    \"\"\"\n",
    "    total_tax = price*tax_percent*0.01\n",
    "    print(\"The total tax on the product is \", total_tax)\n",
    "    print(\"The final price of the product (incl. tax) is: \", price+total_tax)"
   ]
  },
  {
   "cell_type": "code",
   "execution_count": 47,
   "id": "ec625118",
   "metadata": {},
   "outputs": [
    {
     "name": "stdout",
     "output_type": "stream",
     "text": [
      "The total tax on the product is  2.0\n",
      "The final price of the product (incl. tax) is:  22.0\n"
     ]
    }
   ],
   "source": [
    "tax(20,10)"
   ]
  },
  {
   "cell_type": "code",
   "execution_count": 48,
   "id": "bcfde9b4",
   "metadata": {},
   "outputs": [
    {
     "name": "stdout",
     "output_type": "stream",
     "text": [
      "The total tax on the product is  2.0\n",
      "The final price of the product (incl. tax) is:  102.0\n"
     ]
    }
   ],
   "source": [
    "tax(100, 2)"
   ]
  },
  {
   "cell_type": "code",
   "execution_count": null,
   "id": "a1a93fd3",
   "metadata": {},
   "outputs": [],
   "source": []
  },
  {
   "cell_type": "code",
   "execution_count": 51,
   "id": "a28d28f3",
   "metadata": {},
   "outputs": [],
   "source": [
    "def delivery_charge(price):\n",
    "    if price > 500:\n",
    "        print('delivery is free')\n",
    "    else:\n",
    "        print('Delivery charge is Rs.100')"
   ]
  },
  {
   "cell_type": "code",
   "execution_count": 54,
   "id": "96818cbf",
   "metadata": {},
   "outputs": [
    {
     "name": "stdout",
     "output_type": "stream",
     "text": [
      "delivery is free\n"
     ]
    }
   ],
   "source": [
    "delivery_charge(600)"
   ]
  },
  {
   "cell_type": "code",
   "execution_count": null,
   "id": "949b423e",
   "metadata": {},
   "outputs": [],
   "source": []
  },
  {
   "cell_type": "markdown",
   "id": "75131d17",
   "metadata": {},
   "source": [
    "- **Function needs to be defined only once and it can be reused as and when reuired. Moreover, there is no limitations to the number of times it can be used. Hence it is a reusable code.**"
   ]
  },
  {
   "cell_type": "code",
   "execution_count": 46,
   "id": "bd1d9604",
   "metadata": {},
   "outputs": [
    {
     "name": "stdout",
     "output_type": "stream",
     "text": [
      "The total tax on the product is  2.5\n",
      "The final price of the product (incl. tax) is:  52.5\n"
     ]
    }
   ],
   "source": [
    "tax(50,5)"
   ]
  },
  {
   "cell_type": "code",
   "execution_count": 47,
   "id": "62e2eea4",
   "metadata": {},
   "outputs": [
    {
     "name": "stdout",
     "output_type": "stream",
     "text": [
      "The total tax on the product is  300.0\n",
      "The final price of the product (incl. tax) is:  600.0\n"
     ]
    }
   ],
   "source": [
    "tax(300,100)"
   ]
  },
  {
   "cell_type": "markdown",
   "id": "c2683a28",
   "metadata": {},
   "source": [
    "- **Functions provide modlarity in code** - a module represents a part of the program.\n",
    "- To perform each task, programmers develop modules using functions and then these modules can be called in the main program to accomplish the overall tasks."
   ]
  },
  {
   "cell_type": "markdown",
   "id": "4ddf9059",
   "metadata": {},
   "source": [
    "### Discuss in OOPS"
   ]
  },
  {
   "cell_type": "code",
   "execution_count": 59,
   "id": "deb3dfa1",
   "metadata": {},
   "outputs": [],
   "source": [
    "import taxing"
   ]
  },
  {
   "cell_type": "code",
   "execution_count": 60,
   "id": "98d58a42",
   "metadata": {},
   "outputs": [
    {
     "ename": "AttributeError",
     "evalue": "module 'taxing' has no attribute 'tax'",
     "output_type": "error",
     "traceback": [
      "\u001b[0;31m---------------------------------------------------------------------------\u001b[0m",
      "\u001b[0;31mAttributeError\u001b[0m                            Traceback (most recent call last)",
      "Cell \u001b[0;32mIn[60], line 1\u001b[0m\n\u001b[0;32m----> 1\u001b[0m taxing\u001b[38;5;241m.\u001b[39mtax(\u001b[38;5;241m200\u001b[39m,\u001b[38;5;241m10\u001b[39m)\n",
      "\u001b[0;31mAttributeError\u001b[0m: module 'taxing' has no attribute 'tax'"
     ]
    }
   ],
   "source": [
    "taxing.tax(200,10)"
   ]
  },
  {
   "cell_type": "code",
   "execution_count": 4,
   "id": "d80d5566",
   "metadata": {},
   "outputs": [],
   "source": [
    "# aliasing while importing\n",
    "import taxing as t"
   ]
  },
  {
   "cell_type": "code",
   "execution_count": 5,
   "id": "d7d6b99e",
   "metadata": {},
   "outputs": [
    {
     "name": "stdout",
     "output_type": "stream",
     "text": [
      "The total tax on the product is  10.0\n",
      "The final price of the product (incl. tax) is:  110.0\n"
     ]
    }
   ],
   "source": [
    "t.taxed(100,10)"
   ]
  },
  {
   "cell_type": "code",
   "execution_count": 6,
   "id": "602809ad",
   "metadata": {},
   "outputs": [],
   "source": [
    "from taxing import taxed"
   ]
  },
  {
   "cell_type": "code",
   "execution_count": 10,
   "id": "7454437c",
   "metadata": {},
   "outputs": [
    {
     "name": "stdout",
     "output_type": "stream",
     "text": [
      "The total tax on the product is  4.8\n",
      "The final price of the product (incl. tax) is:  124.8\n"
     ]
    }
   ],
   "source": [
    "taxed(120,4)"
   ]
  },
  {
   "cell_type": "code",
   "execution_count": 8,
   "id": "13020369",
   "metadata": {},
   "outputs": [],
   "source": [
    "from taxing import taxed as tx"
   ]
  },
  {
   "cell_type": "code",
   "execution_count": 12,
   "id": "221f3ecb",
   "metadata": {},
   "outputs": [
    {
     "name": "stdout",
     "output_type": "stream",
     "text": [
      "The total tax on the product is  1.6\n",
      "The final price of the product (incl. tax) is:  81.6\n"
     ]
    }
   ],
   "source": [
    "tx(80,2)"
   ]
  },
  {
   "cell_type": "code",
   "execution_count": null,
   "id": "32979b72",
   "metadata": {},
   "outputs": [],
   "source": []
  },
  {
   "cell_type": "code",
   "execution_count": null,
   "id": "d1a874b3",
   "metadata": {},
   "outputs": [],
   "source": []
  },
  {
   "cell_type": "code",
   "execution_count": null,
   "id": "4ab1c6b2",
   "metadata": {},
   "outputs": [],
   "source": []
  },
  {
   "cell_type": "markdown",
   "id": "aee1218c",
   "metadata": {},
   "source": [
    "- **Code maintainance becomes easy using functions.**"
   ]
  },
  {
   "cell_type": "markdown",
   "id": "e5cc2f64",
   "metadata": {},
   "source": [
    "- **Use of functions will reduce the length of the code.**"
   ]
  },
  {
   "cell_type": "markdown",
   "id": "d47e062c",
   "metadata": {},
   "source": [
    "## Module discussion ends here. Pending for OOPS"
   ]
  },
  {
   "cell_type": "markdown",
   "id": "7cf20da4",
   "metadata": {},
   "source": [
    "# Use cases"
   ]
  },
  {
   "cell_type": "markdown",
   "id": "82dd6a3d",
   "metadata": {},
   "source": [
    "## calculating the factorial of a number."
   ]
  },
  {
   "cell_type": "markdown",
   "id": "6f16b2e5",
   "metadata": {},
   "source": [
    "- factorial for any number n is written as n!.\n",
    "\n",
    "**n! = n x (n-1) x (n-2) x .........3 x 2x 1**"
   ]
  },
  {
   "cell_type": "markdown",
   "id": "bec66833",
   "metadata": {},
   "source": [
    "**Eg.      4! = 4x3x2x1 = 24**"
   ]
  },
  {
   "cell_type": "code",
   "execution_count": 61,
   "id": "e701d00b",
   "metadata": {},
   "outputs": [],
   "source": [
    "def factorial(n):\n",
    "    \"\"\"\n",
    "    This function calculates the factorial of a number.\n",
    "    \n",
    "    n! = n x (n-1) x (n-2) x .........3 x 2x 1\n",
    "    Eg. 4! = 4x3x2x1 = 24\n",
    "    \n",
    "    \n",
    "    There are multiple approaches to solve the same problem.\n",
    "    A few approaches - \n",
    "        - while loop, \n",
    "        - for loop,\n",
    "        - recursion,\n",
    "        - lambda function,\n",
    "        - user defined function\n",
    "        - math module\n",
    "    \"\"\"\n",
    "    temp = 1\n",
    "    while n>=1:\n",
    "        temp = temp*n\n",
    "        n = n-1\n",
    "    return temp"
   ]
  },
  {
   "cell_type": "code",
   "execution_count": 62,
   "id": "550701d9",
   "metadata": {},
   "outputs": [
    {
     "data": {
      "text/plain": [
       "24"
      ]
     },
     "execution_count": 62,
     "metadata": {},
     "output_type": "execute_result"
    }
   ],
   "source": [
    "factorial(4)"
   ]
  },
  {
   "cell_type": "code",
   "execution_count": 63,
   "id": "02d40554",
   "metadata": {},
   "outputs": [
    {
     "data": {
      "text/plain": [
       "120"
      ]
     },
     "execution_count": 63,
     "metadata": {},
     "output_type": "execute_result"
    }
   ],
   "source": [
    "factorial(5)"
   ]
  },
  {
   "cell_type": "code",
   "execution_count": 64,
   "id": "c7b7f3bf",
   "metadata": {},
   "outputs": [
    {
     "data": {
      "text/plain": [
       "93326215443944152681699238856266700490715968264381621468592963895217599993229915608941463976156518286253697920827223758251185210916864000000000000000000000000"
      ]
     },
     "execution_count": 64,
     "metadata": {},
     "output_type": "execute_result"
    }
   ],
   "source": [
    "factorial(100)"
   ]
  },
  {
   "cell_type": "code",
   "execution_count": null,
   "id": "d3c2a7dd",
   "metadata": {},
   "outputs": [],
   "source": []
  },
  {
   "cell_type": "markdown",
   "id": "df1815b6",
   "metadata": {},
   "source": [
    "##### Get factorial for a series of numbers"
   ]
  },
  {
   "cell_type": "code",
   "execution_count": 17,
   "id": "b2dfdca9",
   "metadata": {},
   "outputs": [
    {
     "data": {
      "text/plain": [
       "[1, 2, 3, 4, 5, 6, 7, 8, 9, 10]"
      ]
     },
     "execution_count": 17,
     "metadata": {},
     "output_type": "execute_result"
    }
   ],
   "source": [
    "list(range(1,11))"
   ]
  },
  {
   "cell_type": "code",
   "execution_count": 65,
   "id": "f3367d61",
   "metadata": {},
   "outputs": [
    {
     "name": "stdout",
     "output_type": "stream",
     "text": [
      "The factorial of 1 is 1\n",
      "The factorial of 2 is 2\n",
      "The factorial of 3 is 6\n",
      "The factorial of 4 is 24\n",
      "The factorial of 5 is 120\n",
      "The factorial of 6 is 720\n",
      "The factorial of 7 is 5040\n",
      "The factorial of 8 is 40320\n",
      "The factorial of 9 is 362880\n",
      "The factorial of 10 is 3628800\n"
     ]
    }
   ],
   "source": [
    "for i in range(1,11):\n",
    "    print(\"The factorial of {0} is {1}\".format(i,factorial(i)))"
   ]
  },
  {
   "cell_type": "code",
   "execution_count": null,
   "id": "fc14c813",
   "metadata": {},
   "outputs": [],
   "source": []
  },
  {
   "cell_type": "code",
   "execution_count": 66,
   "id": "088d5f43",
   "metadata": {},
   "outputs": [],
   "source": [
    "list_1 = [1,3,6,9,12,10]"
   ]
  },
  {
   "cell_type": "code",
   "execution_count": 67,
   "id": "71e8b5ad",
   "metadata": {},
   "outputs": [
    {
     "name": "stdout",
     "output_type": "stream",
     "text": [
      "The factorial of 1 is 1\n",
      "The factorial of 3 is 6\n",
      "The factorial of 6 is 720\n",
      "The factorial of 9 is 362880\n",
      "The factorial of 12 is 479001600\n",
      "The factorial of 10 is 3628800\n"
     ]
    }
   ],
   "source": [
    "for i in list_1:\n",
    "        print(\"The factorial of {0} is {1}\".format(i,factorial(i)))"
   ]
  },
  {
   "cell_type": "code",
   "execution_count": null,
   "id": "3ea0f988",
   "metadata": {},
   "outputs": [],
   "source": []
  },
  {
   "cell_type": "code",
   "execution_count": null,
   "id": "3b58f26c",
   "metadata": {},
   "outputs": [],
   "source": []
  },
  {
   "cell_type": "code",
   "execution_count": null,
   "id": "04a3e76c",
   "metadata": {},
   "outputs": [],
   "source": []
  },
  {
   "cell_type": "code",
   "execution_count": null,
   "id": "e559ae65",
   "metadata": {},
   "outputs": [],
   "source": []
  },
  {
   "cell_type": "markdown",
   "id": "6ba7c343",
   "metadata": {},
   "source": [
    "## Prime numbers"
   ]
  },
  {
   "cell_type": "markdown",
   "id": "ba26a3d7",
   "metadata": {},
   "source": [
    "**A prime number is a number that has only two divisors : 1, and the number itself**"
   ]
  },
  {
   "cell_type": "code",
   "execution_count": 93,
   "id": "40ddf0de",
   "metadata": {},
   "outputs": [],
   "source": [
    "def prime(n):\n",
    "    x=1\n",
    "    for i in range (2,n):\n",
    "        if n%i == 0:\n",
    "            x=0\n",
    "            return(x)\n",
    "            break\n",
    "        else:\n",
    "            x=1\n",
    "            return(x)\n",
    "            "
   ]
  },
  {
   "cell_type": "code",
   "execution_count": 94,
   "id": "b5d3d848",
   "metadata": {},
   "outputs": [
    {
     "name": "stdout",
     "output_type": "stream",
     "text": [
      "Enter the number : 8\n"
     ]
    }
   ],
   "source": [
    "n = int(input(\"Enter the number : \"))"
   ]
  },
  {
   "cell_type": "code",
   "execution_count": 95,
   "id": "dc52df70",
   "metadata": {},
   "outputs": [
    {
     "data": {
      "text/plain": [
       "0"
      ]
     },
     "execution_count": 95,
     "metadata": {},
     "output_type": "execute_result"
    }
   ],
   "source": [
    "result = prime(n)\n",
    "result"
   ]
  },
  {
   "cell_type": "code",
   "execution_count": 96,
   "id": "2e940616",
   "metadata": {},
   "outputs": [
    {
     "name": "stdout",
     "output_type": "stream",
     "text": [
      "8 is not prime\n"
     ]
    }
   ],
   "source": [
    "if result == 0:\n",
    "    print(\"{} is not prime\".format(n))\n",
    "else:\n",
    "    print(\"{} is prime\".format(n))"
   ]
  },
  {
   "cell_type": "markdown",
   "id": "482dc72c",
   "metadata": {},
   "source": [
    "# Funtions that can output multiple results"
   ]
  },
  {
   "cell_type": "code",
   "execution_count": 97,
   "id": "34df8201",
   "metadata": {},
   "outputs": [],
   "source": [
    "def arithmetic(a,b):\n",
    "    '''This function will return multiple outputs'''\n",
    "    add = a+b\n",
    "    sub = a-b\n",
    "    prod = a*b\n",
    "    div = a/b\n",
    "    mini = min(a,b)\n",
    "    maxi = max(a,b)\n",
    "    \n",
    "    print('The Addition of {} and {} is {}'.format(a,b,add))\n",
    "    print('The Subtraction of {} and {} is {}'.format(a,b,sub))\n",
    "    print('The Product of {} and {} is {}'.format(a,b,prod))\n",
    "    print('The Division of {} and {} is {}'.format(a,b,div))\n",
    "    print('The Minimum of {} and {} is {}'.format(a,b,mini))\n",
    "    print('The maximum of {} and {} is {}'.format(a,b,maxi))"
   ]
  },
  {
   "cell_type": "code",
   "execution_count": 99,
   "id": "aacd21ac",
   "metadata": {},
   "outputs": [
    {
     "name": "stdout",
     "output_type": "stream",
     "text": [
      "The Addition of 5 and 2 is 7\n",
      "The Subtraction of 5 and 2 is 3\n",
      "The Product of 5 and 2 is 10\n",
      "The Division of 5 and 2 is 2.5\n",
      "The Minimum of 5 and 2 is 2\n",
      "The maximum of 5 and 2 is 5\n"
     ]
    }
   ],
   "source": [
    "arithmetic(5,2)"
   ]
  },
  {
   "cell_type": "code",
   "execution_count": 100,
   "id": "9dd6b39a",
   "metadata": {},
   "outputs": [
    {
     "name": "stdout",
     "output_type": "stream",
     "text": [
      "The Addition of 10 and 45 is 55\n",
      "The Subtraction of 10 and 45 is -35\n",
      "The Product of 10 and 45 is 450\n",
      "The Division of 10 and 45 is 0.2222222222222222\n",
      "The Minimum of 10 and 45 is 10\n",
      "The maximum of 10 and 45 is 45\n"
     ]
    }
   ],
   "source": [
    "arithmetic(10,45)"
   ]
  },
  {
   "cell_type": "code",
   "execution_count": null,
   "id": "7a34e463",
   "metadata": {},
   "outputs": [],
   "source": []
  },
  {
   "cell_type": "markdown",
   "id": "3edd63e7",
   "metadata": {},
   "source": [
    "# Functions are First class objects"
   ]
  },
  {
   "cell_type": "markdown",
   "id": "5e8dfd23",
   "metadata": {},
   "source": [
    "- It is possible to assign a function to a variable"
   ]
  },
  {
   "cell_type": "code",
   "execution_count": 101,
   "id": "cc0d3814",
   "metadata": {},
   "outputs": [],
   "source": [
    "def product(a,b):\n",
    "    '''This function will return product as outputs'''\n",
    "    prod = a*b\n",
    "    \n",
    "    return 'The Product of {} and {} is {}'.format(a,b,prod)"
   ]
  },
  {
   "cell_type": "code",
   "execution_count": 104,
   "id": "af090005",
   "metadata": {
    "scrolled": true
   },
   "outputs": [],
   "source": [
    "# output_1 is object\n",
    "output_1 = product(10,5)"
   ]
  },
  {
   "cell_type": "code",
   "execution_count": 105,
   "id": "752113a7",
   "metadata": {},
   "outputs": [
    {
     "data": {
      "text/plain": [
       "'The Product of 10 and 5 is 50'"
      ]
     },
     "execution_count": 105,
     "metadata": {},
     "output_type": "execute_result"
    }
   ],
   "source": [
    "output_1"
   ]
  },
  {
   "cell_type": "code",
   "execution_count": null,
   "id": "31a4c373",
   "metadata": {},
   "outputs": [],
   "source": []
  },
  {
   "cell_type": "markdown",
   "id": "c4e1d688",
   "metadata": {},
   "source": [
    "- **It is possible to define one function in side another**"
   ]
  },
  {
   "cell_type": "code",
   "execution_count": 106,
   "id": "61f36e1b",
   "metadata": {},
   "outputs": [],
   "source": [
    "def factorial(number):\n",
    "    # Validate input\n",
    "    if not isinstance(number, int):\n",
    "        raise TypeError(\"Sorry. 'number' must be an integer.\")\n",
    "    if number < 0:\n",
    "        raise ValueError(\"Sorry. 'number' must be zero or positive.\")\n",
    "    # Calculate the factorial of number\n",
    "    def inner_factorial(number):\n",
    "        if number <= 1:\n",
    "            return 1\n",
    "        return number * inner_factorial(number - 1)\n",
    "    return inner_factorial(number)"
   ]
  },
  {
   "cell_type": "code",
   "execution_count": 107,
   "id": "7eb5bacf",
   "metadata": {},
   "outputs": [
    {
     "ename": "TypeError",
     "evalue": "Sorry. 'number' must be an integer.",
     "output_type": "error",
     "traceback": [
      "\u001b[0;31m---------------------------------------------------------------------------\u001b[0m",
      "\u001b[0;31mTypeError\u001b[0m                                 Traceback (most recent call last)",
      "Cell \u001b[0;32mIn[107], line 1\u001b[0m\n\u001b[0;32m----> 1\u001b[0m factorial(\u001b[38;5;124m\"\u001b[39m\u001b[38;5;124mrohit\u001b[39m\u001b[38;5;124m\"\u001b[39m)\n",
      "Cell \u001b[0;32mIn[106], line 4\u001b[0m, in \u001b[0;36mfactorial\u001b[0;34m(number)\u001b[0m\n\u001b[1;32m      1\u001b[0m \u001b[38;5;28;01mdef\u001b[39;00m \u001b[38;5;21mfactorial\u001b[39m(number):\n\u001b[1;32m      2\u001b[0m     \u001b[38;5;66;03m# Validate input\u001b[39;00m\n\u001b[1;32m      3\u001b[0m     \u001b[38;5;28;01mif\u001b[39;00m \u001b[38;5;129;01mnot\u001b[39;00m \u001b[38;5;28misinstance\u001b[39m(number, \u001b[38;5;28mint\u001b[39m):\n\u001b[0;32m----> 4\u001b[0m         \u001b[38;5;28;01mraise\u001b[39;00m \u001b[38;5;167;01mTypeError\u001b[39;00m(\u001b[38;5;124m\"\u001b[39m\u001b[38;5;124mSorry. \u001b[39m\u001b[38;5;124m'\u001b[39m\u001b[38;5;124mnumber\u001b[39m\u001b[38;5;124m'\u001b[39m\u001b[38;5;124m must be an integer.\u001b[39m\u001b[38;5;124m\"\u001b[39m)\n\u001b[1;32m      5\u001b[0m     \u001b[38;5;28;01mif\u001b[39;00m number \u001b[38;5;241m<\u001b[39m \u001b[38;5;241m0\u001b[39m:\n\u001b[1;32m      6\u001b[0m         \u001b[38;5;28;01mraise\u001b[39;00m \u001b[38;5;167;01mValueError\u001b[39;00m(\u001b[38;5;124m\"\u001b[39m\u001b[38;5;124mSorry. \u001b[39m\u001b[38;5;124m'\u001b[39m\u001b[38;5;124mnumber\u001b[39m\u001b[38;5;124m'\u001b[39m\u001b[38;5;124m must be zero or positive.\u001b[39m\u001b[38;5;124m\"\u001b[39m)\n",
      "\u001b[0;31mTypeError\u001b[0m: Sorry. 'number' must be an integer."
     ]
    }
   ],
   "source": [
    "factorial(\"rohit\")"
   ]
  },
  {
   "cell_type": "code",
   "execution_count": 108,
   "id": "9ea0dc11",
   "metadata": {},
   "outputs": [
    {
     "ename": "ValueError",
     "evalue": "Sorry. 'number' must be zero or positive.",
     "output_type": "error",
     "traceback": [
      "\u001b[0;31m---------------------------------------------------------------------------\u001b[0m",
      "\u001b[0;31mValueError\u001b[0m                                Traceback (most recent call last)",
      "Cell \u001b[0;32mIn[108], line 1\u001b[0m\n\u001b[0;32m----> 1\u001b[0m factorial(\u001b[38;5;241m-\u001b[39m\u001b[38;5;241m2\u001b[39m)\n",
      "Cell \u001b[0;32mIn[106], line 6\u001b[0m, in \u001b[0;36mfactorial\u001b[0;34m(number)\u001b[0m\n\u001b[1;32m      4\u001b[0m     \u001b[38;5;28;01mraise\u001b[39;00m \u001b[38;5;167;01mTypeError\u001b[39;00m(\u001b[38;5;124m\"\u001b[39m\u001b[38;5;124mSorry. \u001b[39m\u001b[38;5;124m'\u001b[39m\u001b[38;5;124mnumber\u001b[39m\u001b[38;5;124m'\u001b[39m\u001b[38;5;124m must be an integer.\u001b[39m\u001b[38;5;124m\"\u001b[39m)\n\u001b[1;32m      5\u001b[0m \u001b[38;5;28;01mif\u001b[39;00m number \u001b[38;5;241m<\u001b[39m \u001b[38;5;241m0\u001b[39m:\n\u001b[0;32m----> 6\u001b[0m     \u001b[38;5;28;01mraise\u001b[39;00m \u001b[38;5;167;01mValueError\u001b[39;00m(\u001b[38;5;124m\"\u001b[39m\u001b[38;5;124mSorry. \u001b[39m\u001b[38;5;124m'\u001b[39m\u001b[38;5;124mnumber\u001b[39m\u001b[38;5;124m'\u001b[39m\u001b[38;5;124m must be zero or positive.\u001b[39m\u001b[38;5;124m\"\u001b[39m)\n\u001b[1;32m      7\u001b[0m \u001b[38;5;66;03m# Calculate the factorial of number\u001b[39;00m\n\u001b[1;32m      8\u001b[0m \u001b[38;5;28;01mdef\u001b[39;00m \u001b[38;5;21minner_factorial\u001b[39m(number):\n",
      "\u001b[0;31mValueError\u001b[0m: Sorry. 'number' must be zero or positive."
     ]
    }
   ],
   "source": [
    "factorial(-2)"
   ]
  },
  {
   "cell_type": "code",
   "execution_count": 109,
   "id": "60c1bce8",
   "metadata": {},
   "outputs": [
    {
     "data": {
      "text/plain": [
       "120"
      ]
     },
     "execution_count": 109,
     "metadata": {},
     "output_type": "execute_result"
    }
   ],
   "source": [
    "factorial(5)"
   ]
  },
  {
   "cell_type": "code",
   "execution_count": 112,
   "id": "ca20c330",
   "metadata": {},
   "outputs": [
    {
     "data": {
      "text/plain": [
       "7"
      ]
     },
     "execution_count": 112,
     "metadata": {},
     "output_type": "execute_result"
    }
   ],
   "source": [
    "sum([3,4])"
   ]
  },
  {
   "cell_type": "code",
   "execution_count": null,
   "id": "b287a510",
   "metadata": {},
   "outputs": [],
   "source": []
  },
  {
   "cell_type": "markdown",
   "id": "c5b6dd96",
   "metadata": {},
   "source": [
    "- **It is possible to pass a function as parameter to another function**"
   ]
  },
  {
   "cell_type": "code",
   "execution_count": 116,
   "id": "f37ba4b6",
   "metadata": {},
   "outputs": [],
   "source": [
    "#decorator\n",
    "def hello_decorator(func):\n",
    "    #Wrapper function\n",
    "    def inner1():\n",
    "        print(\"Hello, this is before function execution\")\n",
    "\n",
    "        func()\n",
    "        print(\"This is after function execution\")\n",
    "    \n",
    "    return  inner1\n",
    "\n",
    "# defining a function, to be called inside wrapper\n",
    "def function_to_be_used():\n",
    "    print(\"This is inside the function !!\")"
   ]
  },
  {
   "cell_type": "code",
   "execution_count": 115,
   "id": "cdf2b65c",
   "metadata": {},
   "outputs": [
    {
     "name": "stdout",
     "output_type": "stream",
     "text": [
      "Hello, this is before function execution\n",
      "This is inside the function !!\n",
      "This is after function execution\n"
     ]
    }
   ],
   "source": [
    "# pass 'function_to_be_used' inside the decorator to control its behavior\n",
    "function_to_be_used = hello_decorator(function_to_be_used)\n",
    "\n",
    "# calling the function\n",
    "function_to_be_used()"
   ]
  },
  {
   "cell_type": "markdown",
   "id": "331a8f5f",
   "metadata": {},
   "source": [
    "### using map"
   ]
  },
  {
   "cell_type": "code",
   "execution_count": 117,
   "id": "8031289b",
   "metadata": {},
   "outputs": [],
   "source": [
    "def sqr(x):\n",
    "    return x ** 2\n",
    "\n",
    "list1 = [1, 3, 5, 7, 9]"
   ]
  },
  {
   "cell_type": "code",
   "execution_count": 119,
   "id": "60088d9f",
   "metadata": {},
   "outputs": [
    {
     "data": {
      "text/plain": [
       "[1, 9, 25, 49, 81]"
      ]
     },
     "execution_count": 119,
     "metadata": {},
     "output_type": "execute_result"
    }
   ],
   "source": [
    "list(map(sqr, list1))"
   ]
  },
  {
   "cell_type": "markdown",
   "id": "c2a2d892",
   "metadata": {},
   "source": [
    "### using lambda"
   ]
  },
  {
   "cell_type": "code",
   "execution_count": 37,
   "id": "ffc9b971",
   "metadata": {},
   "outputs": [
    {
     "data": {
      "text/plain": [
       "[1, 3, 6, 9, 12, 10]"
      ]
     },
     "execution_count": 37,
     "metadata": {},
     "output_type": "execute_result"
    }
   ],
   "source": [
    "list_1"
   ]
  },
  {
   "cell_type": "code",
   "execution_count": 120,
   "id": "f1f76cc4",
   "metadata": {},
   "outputs": [
    {
     "data": {
      "text/plain": [
       "[1, 9, 36, 81, 144, 100]"
      ]
     },
     "execution_count": 120,
     "metadata": {},
     "output_type": "execute_result"
    }
   ],
   "source": [
    "list(map(lambda i: i**2, list_1))"
   ]
  },
  {
   "cell_type": "code",
   "execution_count": null,
   "id": "b083ba5d",
   "metadata": {},
   "outputs": [],
   "source": []
  },
  {
   "cell_type": "code",
   "execution_count": null,
   "id": "63252be5",
   "metadata": {},
   "outputs": [],
   "source": []
  },
  {
   "cell_type": "code",
   "execution_count": 7,
   "id": "4fcd933d",
   "metadata": {},
   "outputs": [
    {
     "name": "stdout",
     "output_type": "stream",
     "text": [
      "[1, 9, 25, 49, 81]\n"
     ]
    }
   ],
   "source": [
    "#use lambda\n",
    "print(list(map((lambda x: x**2), list1)))"
   ]
  },
  {
   "cell_type": "markdown",
   "id": "a05f8d05",
   "metadata": {},
   "source": [
    "- It is possible that a function can return another function"
   ]
  },
  {
   "cell_type": "code",
   "execution_count": 122,
   "id": "760c401d",
   "metadata": {},
   "outputs": [],
   "source": [
    "def function_1(a):\n",
    "    print('the value of a is :',a)\n",
    "    def function_2(b):\n",
    "        print(\"the value of b is : \",b)\n",
    "        return b + 5\n",
    "    return function_2"
   ]
  },
  {
   "cell_type": "code",
   "execution_count": 123,
   "id": "f6f21f1c",
   "metadata": {},
   "outputs": [
    {
     "name": "stdout",
     "output_type": "stream",
     "text": [
      "the value of a is : 2\n"
     ]
    }
   ],
   "source": [
    "fun = function_1(2)"
   ]
  },
  {
   "cell_type": "code",
   "execution_count": 124,
   "id": "2de587cd",
   "metadata": {},
   "outputs": [
    {
     "name": "stdout",
     "output_type": "stream",
     "text": [
      "the value of b is :  5\n"
     ]
    },
    {
     "data": {
      "text/plain": [
       "10"
      ]
     },
     "execution_count": 124,
     "metadata": {},
     "output_type": "execute_result"
    }
   ],
   "source": [
    "fun(5)"
   ]
  },
  {
   "cell_type": "code",
   "execution_count": 125,
   "id": "4e7b8f61",
   "metadata": {},
   "outputs": [
    {
     "name": "stdout",
     "output_type": "stream",
     "text": [
      "the value of a is : 3\n",
      "the value of b is :  2\n"
     ]
    },
    {
     "data": {
      "text/plain": [
       "7"
      ]
     },
     "execution_count": 125,
     "metadata": {},
     "output_type": "execute_result"
    }
   ],
   "source": [
    "function_1(3)(2)"
   ]
  },
  {
   "cell_type": "code",
   "execution_count": null,
   "id": "28663db1",
   "metadata": {},
   "outputs": [],
   "source": []
  },
  {
   "cell_type": "code",
   "execution_count": null,
   "id": "a2638a68",
   "metadata": {},
   "outputs": [],
   "source": []
  },
  {
   "cell_type": "code",
   "execution_count": null,
   "id": "21b2535e",
   "metadata": {},
   "outputs": [],
   "source": []
  },
  {
   "cell_type": "markdown",
   "id": "e80d337f",
   "metadata": {},
   "source": [
    "# Local Vs Global Variables"
   ]
  },
  {
   "cell_type": "markdown",
   "id": "98b63dbb",
   "metadata": {},
   "source": [
    "- In Python, variables can be classified as local or global based on their scope, which determines where the variable is accessible and where it can be modified. \n",
    "- Understanding the difference between local and global variables is essential for writing efficient and error-free code."
   ]
  },
  {
   "cell_type": "markdown",
   "id": "31cb4a9d",
   "metadata": {},
   "source": [
    "## Local Variables:"
   ]
  },
  {
   "cell_type": "markdown",
   "id": "eb7f355f",
   "metadata": {},
   "source": [
    "- Local variables are declared inside a function and can only be accessed and modified within that function's scope.\n",
    "- These variables are created when the function is called and are destroyed when the function completes its execution. \n",
    "- Local variables cannot be accessed or modified outside of the function where they are defined."
   ]
  },
  {
   "cell_type": "code",
   "execution_count": 126,
   "id": "2bd186da",
   "metadata": {},
   "outputs": [],
   "source": [
    "def sample_function():\n",
    "    x_sample = 10  # x is a local variable\n",
    "    print(x_sample)"
   ]
  },
  {
   "cell_type": "code",
   "execution_count": 127,
   "id": "95e85549",
   "metadata": {},
   "outputs": [
    {
     "ename": "NameError",
     "evalue": "name 'x_sample' is not defined",
     "output_type": "error",
     "traceback": [
      "\u001b[0;31m---------------------------------------------------------------------------\u001b[0m",
      "\u001b[0;31mNameError\u001b[0m                                 Traceback (most recent call last)",
      "Cell \u001b[0;32mIn[127], line 1\u001b[0m\n\u001b[0;32m----> 1\u001b[0m x_sample\n",
      "\u001b[0;31mNameError\u001b[0m: name 'x_sample' is not defined"
     ]
    }
   ],
   "source": [
    "x_sample"
   ]
  },
  {
   "cell_type": "code",
   "execution_count": 128,
   "id": "24c40ad5",
   "metadata": {},
   "outputs": [
    {
     "name": "stdout",
     "output_type": "stream",
     "text": [
      "10\n"
     ]
    }
   ],
   "source": [
    "sample_function()"
   ]
  },
  {
   "cell_type": "code",
   "execution_count": 46,
   "id": "45d878ec",
   "metadata": {},
   "outputs": [
    {
     "ename": "NameError",
     "evalue": "name 'x_sample' is not defined",
     "output_type": "error",
     "traceback": [
      "\u001b[0;31m---------------------------------------------------------------------------\u001b[0m",
      "\u001b[0;31mNameError\u001b[0m                                 Traceback (most recent call last)",
      "Cell \u001b[0;32mIn[46], line 1\u001b[0m\n\u001b[0;32m----> 1\u001b[0m \u001b[43mx_sample\u001b[49m\n",
      "\u001b[0;31mNameError\u001b[0m: name 'x_sample' is not defined"
     ]
    }
   ],
   "source": [
    "x_sample"
   ]
  },
  {
   "cell_type": "markdown",
   "id": "9b164d1f",
   "metadata": {},
   "source": [
    "## Global variable"
   ]
  },
  {
   "cell_type": "markdown",
   "id": "a279e609",
   "metadata": {},
   "source": [
    "- Global variables are declared outside of any function or at the module level.\n",
    "- They are accessible throughout the entire module and can be used in any function within that module.\n",
    "- Global variables persist as long as the program is running, and any function can access and modify them."
   ]
  },
  {
   "cell_type": "code",
   "execution_count": 129,
   "id": "2d2055b0",
   "metadata": {},
   "outputs": [
    {
     "data": {
      "text/plain": [
       "8"
      ]
     },
     "execution_count": 129,
     "metadata": {},
     "output_type": "execute_result"
    }
   ],
   "source": [
    "n"
   ]
  },
  {
   "cell_type": "code",
   "execution_count": 130,
   "id": "905582a7",
   "metadata": {},
   "outputs": [],
   "source": [
    "y = 20  # y is a global variable"
   ]
  },
  {
   "cell_type": "code",
   "execution_count": 131,
   "id": "fc93d71e",
   "metadata": {},
   "outputs": [
    {
     "data": {
      "text/plain": [
       "20"
      ]
     },
     "execution_count": 131,
     "metadata": {},
     "output_type": "execute_result"
    }
   ],
   "source": [
    "y"
   ]
  },
  {
   "cell_type": "code",
   "execution_count": 132,
   "id": "5721831c",
   "metadata": {},
   "outputs": [],
   "source": [
    "def sample_function_2():\n",
    "    print(y)"
   ]
  },
  {
   "cell_type": "code",
   "execution_count": 133,
   "id": "989b7954",
   "metadata": {},
   "outputs": [
    {
     "name": "stdout",
     "output_type": "stream",
     "text": [
      "20\n"
     ]
    }
   ],
   "source": [
    "sample_function_2()"
   ]
  },
  {
   "cell_type": "markdown",
   "id": "4328f69f",
   "metadata": {},
   "source": [
    "**To modify a global variable within a function, you need to explicitly declare it as global using the global keyword**"
   ]
  },
  {
   "cell_type": "code",
   "execution_count": 146,
   "id": "9bcca759",
   "metadata": {},
   "outputs": [],
   "source": [
    "z = 30  # z is a global variable"
   ]
  },
  {
   "cell_type": "code",
   "execution_count": 152,
   "id": "6b78be57",
   "metadata": {},
   "outputs": [
    {
     "data": {
      "text/plain": [
       "40"
      ]
     },
     "execution_count": 152,
     "metadata": {},
     "output_type": "execute_result"
    }
   ],
   "source": [
    "z"
   ]
  },
  {
   "cell_type": "code",
   "execution_count": 149,
   "id": "c2d05356",
   "metadata": {},
   "outputs": [],
   "source": [
    "def modify_global_variable():\n",
    "    global z\n",
    "    z = 40\n",
    "    print(\"z = \",z)"
   ]
  },
  {
   "cell_type": "code",
   "execution_count": 150,
   "id": "b1274bf0",
   "metadata": {},
   "outputs": [
    {
     "name": "stdout",
     "output_type": "stream",
     "text": [
      "30\n"
     ]
    }
   ],
   "source": [
    "print(z)  "
   ]
  },
  {
   "cell_type": "code",
   "execution_count": 151,
   "id": "5e3d2169",
   "metadata": {},
   "outputs": [
    {
     "name": "stdout",
     "output_type": "stream",
     "text": [
      "z =  40\n"
     ]
    }
   ],
   "source": [
    "modify_global_variable()"
   ]
  },
  {
   "cell_type": "code",
   "execution_count": 153,
   "id": "ca2756b0",
   "metadata": {},
   "outputs": [
    {
     "name": "stdout",
     "output_type": "stream",
     "text": [
      "40\n"
     ]
    }
   ],
   "source": [
    "print(z)  "
   ]
  },
  {
   "cell_type": "code",
   "execution_count": 154,
   "id": "7be95d8b",
   "metadata": {},
   "outputs": [
    {
     "data": {
      "text/plain": [
       "40"
      ]
     },
     "execution_count": 154,
     "metadata": {},
     "output_type": "execute_result"
    }
   ],
   "source": [
    "z"
   ]
  },
  {
   "cell_type": "code",
   "execution_count": null,
   "id": "d443b61a",
   "metadata": {},
   "outputs": [],
   "source": []
  },
  {
   "cell_type": "code",
   "execution_count": null,
   "id": "79e5a18a",
   "metadata": {},
   "outputs": [],
   "source": []
  },
  {
   "cell_type": "code",
   "execution_count": null,
   "id": "478cb4d9",
   "metadata": {},
   "outputs": [],
   "source": []
  },
  {
   "cell_type": "markdown",
   "id": "eaf22dff",
   "metadata": {},
   "source": [
    "Without the global keyword, the function would create a new local variable named z instead of modifying the global variable z."
   ]
  },
  {
   "cell_type": "markdown",
   "id": "68716b96",
   "metadata": {},
   "source": [
    "# Passing a group of elements"
   ]
  },
  {
   "cell_type": "markdown",
   "id": "5064ee09",
   "metadata": {},
   "source": [
    "- In Python, you can pass a group of elements into a function using different techniques, such as **positional arguments, unpacking, *args, \\ **kwargs, or passing collections like lists, tuples, or dictionaries. Let's explore each method:**"
   ]
  },
  {
   "cell_type": "markdown",
   "id": "a5cf2ebb",
   "metadata": {},
   "source": [
    "### Positional Arguments:"
   ]
  },
  {
   "cell_type": "markdown",
   "id": "b64453a5",
   "metadata": {},
   "source": [
    "- You can pass individual elements as positional arguments to the function.\n",
    "- The order in which you pass the elements matters, and they are assigned to the function parameters based on their position."
   ]
  },
  {
   "cell_type": "code",
   "execution_count": 158,
   "id": "95320126",
   "metadata": {},
   "outputs": [],
   "source": [
    "def print_elements(a, b, c):\n",
    "    print('a :',a, '\\nb : ',b , '\\nc : ',c)"
   ]
  },
  {
   "cell_type": "code",
   "execution_count": 159,
   "id": "c6c72736",
   "metadata": {},
   "outputs": [
    {
     "name": "stdout",
     "output_type": "stream",
     "text": [
      "a : 1 \n",
      "b :  2 \n",
      "c :  3\n"
     ]
    }
   ],
   "source": [
    "print_elements(1, 2, 3)"
   ]
  },
  {
   "cell_type": "markdown",
   "id": "c37e194a",
   "metadata": {},
   "source": [
    "### Unpacking:"
   ]
  },
  {
   "cell_type": "markdown",
   "id": "9f1aed62",
   "metadata": {},
   "source": [
    "- If you have a collection (list, tuple, etc.) containing the elements, you can unpack it and pass its elements as individual arguments to the function."
   ]
  },
  {
   "cell_type": "code",
   "execution_count": 160,
   "id": "eddfe4c4",
   "metadata": {},
   "outputs": [
    {
     "name": "stdout",
     "output_type": "stream",
     "text": [
      "a : 4 \n",
      "b :  5 \n",
      "c :  6\n"
     ]
    }
   ],
   "source": [
    "elements = [4, 5, 6]\n",
    "print_elements(*elements)"
   ]
  },
  {
   "cell_type": "code",
   "execution_count": 161,
   "id": "b9c5e4ba",
   "metadata": {},
   "outputs": [],
   "source": [
    "elements_2 = [1,2,34,57,87]"
   ]
  },
  {
   "cell_type": "code",
   "execution_count": 162,
   "id": "dc9ef289",
   "metadata": {},
   "outputs": [
    {
     "ename": "TypeError",
     "evalue": "print_elements() takes 3 positional arguments but 5 were given",
     "output_type": "error",
     "traceback": [
      "\u001b[0;31m---------------------------------------------------------------------------\u001b[0m",
      "\u001b[0;31mTypeError\u001b[0m                                 Traceback (most recent call last)",
      "Cell \u001b[0;32mIn[162], line 1\u001b[0m\n\u001b[0;32m----> 1\u001b[0m print_elements(\u001b[38;5;241m*\u001b[39melements_2)\n",
      "\u001b[0;31mTypeError\u001b[0m: print_elements() takes 3 positional arguments but 5 were given"
     ]
    }
   ],
   "source": [
    "print_elements(*elements_2)"
   ]
  },
  {
   "cell_type": "markdown",
   "id": "3dfbab7b",
   "metadata": {},
   "source": [
    "### *args (Variable-length Positional Arguments):"
   ]
  },
  {
   "cell_type": "markdown",
   "id": "9f9e9fd4",
   "metadata": {},
   "source": [
    "- You can use the *args syntax to pass a variable number of elements as positional arguments to the function."
   ]
  },
  {
   "cell_type": "code",
   "execution_count": 163,
   "id": "55b3865c",
   "metadata": {},
   "outputs": [],
   "source": [
    "def print_all(*args):\n",
    "    for element in args:\n",
    "        print(element)"
   ]
  },
  {
   "cell_type": "code",
   "execution_count": 164,
   "id": "f4a9565f",
   "metadata": {},
   "outputs": [
    {
     "name": "stdout",
     "output_type": "stream",
     "text": [
      "7\n",
      "8\n",
      "9\n"
     ]
    }
   ],
   "source": [
    "print_all(7, 8, 9)"
   ]
  },
  {
   "cell_type": "markdown",
   "id": "d9d6812d",
   "metadata": {},
   "source": [
    "### Passing a List or Tuple:"
   ]
  },
  {
   "cell_type": "markdown",
   "id": "50950d34",
   "metadata": {},
   "source": [
    "- You can pass a list or tuple directly to a function and access its elements inside the function."
   ]
  },
  {
   "cell_type": "code",
   "execution_count": 165,
   "id": "5bb25dd7",
   "metadata": {},
   "outputs": [],
   "source": [
    "def print_list_elements(elements):\n",
    "    for element in elements:\n",
    "        print(element)"
   ]
  },
  {
   "cell_type": "code",
   "execution_count": 166,
   "id": "e8608098",
   "metadata": {},
   "outputs": [
    {
     "name": "stdout",
     "output_type": "stream",
     "text": [
      "10\n",
      "11\n",
      "12\n"
     ]
    }
   ],
   "source": [
    "my_list = [10, 11, 12]\n",
    "print_list_elements(my_list) "
   ]
  },
  {
   "cell_type": "code",
   "execution_count": 167,
   "id": "b4edf680",
   "metadata": {},
   "outputs": [],
   "source": [
    "list_2 = [23,34,45,67,89,43]"
   ]
  },
  {
   "cell_type": "code",
   "execution_count": 168,
   "id": "520ffc0f",
   "metadata": {},
   "outputs": [
    {
     "name": "stdout",
     "output_type": "stream",
     "text": [
      "23\n",
      "34\n",
      "45\n",
      "67\n",
      "89\n",
      "43\n"
     ]
    }
   ],
   "source": [
    "print_list_elements(list_2)"
   ]
  },
  {
   "cell_type": "markdown",
   "id": "801dfd5d",
   "metadata": {},
   "source": [
    "#### **kwargs (Variable-length Keyword Arguments):"
   ]
  },
  {
   "cell_type": "markdown",
   "id": "e87e0b38",
   "metadata": {},
   "source": [
    "- If you have key-value pairs representing the elements, you can use the **kwargs syntax to pass them as keyword arguments to the function."
   ]
  },
  {
   "cell_type": "code",
   "execution_count": 170,
   "id": "6b2a958d",
   "metadata": {},
   "outputs": [],
   "source": [
    "def print_keyword_elements(**kwargs):\n",
    "    for key, value in kwargs.items():\n",
    "        print(key, value)"
   ]
  },
  {
   "cell_type": "code",
   "execution_count": 171,
   "id": "6d4fdece",
   "metadata": {},
   "outputs": [
    {
     "name": "stdout",
     "output_type": "stream",
     "text": [
      "a apple\n",
      "b banana\n",
      "c cherry\n"
     ]
    }
   ],
   "source": [
    "my_dict = {'a': 'apple', \n",
    "           'b': 'banana', \n",
    "           'c': 'cherry'}\n",
    "print_keyword_elements(**my_dict)"
   ]
  },
  {
   "cell_type": "markdown",
   "id": "44770606",
   "metadata": {},
   "source": [
    "## Recursive Functions"
   ]
  },
  {
   "cell_type": "markdown",
   "id": "29190aac",
   "metadata": {},
   "source": [
    "- Recursive functions in Python are functions that call themselves during their execution.\n",
    "- Instead of using a traditional iterative approach, recursive functions use self-referential function calls to solve problems in a way that breaks them down into smaller, similar subproblems. \n",
    "- Recursive functions are widely used in various algorithms and can be an elegant and concise way to solve certain problems.\n",
    "\n"
   ]
  },
  {
   "cell_type": "markdown",
   "id": "ec25c8b7",
   "metadata": {},
   "source": [
    "- The key idea behind recursive functions is the concept of a base case and a recursive case:"
   ]
  },
  {
   "cell_type": "markdown",
   "id": "162c505a",
   "metadata": {},
   "source": [
    "####     Base Case:"
   ]
  },
  {
   "cell_type": "markdown",
   "id": "6077e3f0",
   "metadata": {},
   "source": [
    "- The base case is the stopping condition of the recursive function. It is a condition where the function does not call itself and directly returns a result. \n",
    " - Without a base case, the recursive function would continue calling itself indefinitely, leading to a stack overflow and crashing the program."
   ]
  },
  {
   "cell_type": "markdown",
   "id": "9398e94b",
   "metadata": {},
   "source": [
    "#### Recursive Case:"
   ]
  },
  {
   "cell_type": "markdown",
   "id": "b178e74f",
   "metadata": {},
   "source": [
    "- The recursive case is where the function calls itself with a smaller (usually simpler) version of the original problem. \n",
    "- This recursive call continues until the base case is reached."
   ]
  },
  {
   "cell_type": "markdown",
   "id": "97b1ff42",
   "metadata": {},
   "source": [
    "##### Example - Factorial function"
   ]
  },
  {
   "cell_type": "code",
   "execution_count": 9,
   "id": "0cb3e37a",
   "metadata": {},
   "outputs": [],
   "source": [
    "def factorial(n):\n",
    "    if n == 0:  # Base case: factorial(0) = 1\n",
    "        return 1\n",
    "    else:\n",
    "        return n * factorial(n - 1)  # Recursive case"
   ]
  },
  {
   "cell_type": "code",
   "execution_count": 10,
   "id": "a7436b5f",
   "metadata": {},
   "outputs": [
    {
     "name": "stdout",
     "output_type": "stream",
     "text": [
      "120\n"
     ]
    }
   ],
   "source": [
    "# Calculate the factorial of 5\n",
    "result = factorial(5)\n",
    "print(result)"
   ]
  },
  {
   "cell_type": "markdown",
   "id": "04d682bd",
   "metadata": {},
   "source": [
    "- In The above example, the **factorial** function is a **recursive function**. \n",
    "- The base case is when n is 0, where the function directly returns 1. \n",
    "- Otherwise, it calls itself with a smaller value (n - 1) until the base case is reached."
   ]
  },
  {
   "cell_type": "markdown",
   "id": "4db0ab1b",
   "metadata": {},
   "source": [
    "###### Note"
   ]
  },
  {
   "cell_type": "markdown",
   "id": "d5d90119",
   "metadata": {},
   "source": [
    "- Recursion can be a powerful tool for solving problems that have a recursive nature, such as traversing tree structures, searching algorithms, and certain mathematical calculations. \n",
    "- However, excessive or inefficient use of recursion can lead to high memory consumption and slow execution due to the overhead of managing the call stack.\n",
    "- Therefore, it's essential to design recursive functions with care and consider their efficiency and termination conditions."
   ]
  },
  {
   "cell_type": "markdown",
   "id": "d5709a74",
   "metadata": {},
   "source": [
    "#### IMP"
   ]
  },
  {
   "cell_type": "markdown",
   "id": "1066a672",
   "metadata": {},
   "source": [
    "- Recursive functions are not commonly used in data science tasks\n",
    "- since most data science problems involve working with large datasets and complex algorithms, which are better suited for iterative and vectorized approaches. \n",
    "- However, in certain scenarios where recursive algorithms can provide elegant solutions or are naturally applicable, you might find recursive functions used in data science."
   ]
  },
  {
   "cell_type": "markdown",
   "id": "380ee37e",
   "metadata": {},
   "source": [
    "**Recursive Tree Traversal:**\n",
    "- In data science, you might encounter problems where you need to traverse and process hierarchical data structures like decision trees or nested dictionaries. Recursive functions can be useful for traversing these structures efficiently.\n",
    "\n",
    "**Recursive Graph Traversal:**\n",
    "- Graph-based algorithms, such as depth-first search (DFS) or breadth-first search (BFS), often involve recursive calls to explore and process nodes in a graph.\n",
    "\n",
    "**Recursive Combinatorial Problems:**\n",
    "- Certain data science problems involve combinations, permutations, or subsets of elements, such as feature selection, where a recursive function can generate all possible combinations.\n",
    "\n",
    "**Recursive Clustering Algorithms:**\n",
    "- Some clustering algorithms, like hierarchical clustering, use recursive techniques to merge clusters iteratively and build a hierarchical structure.\n",
    "\n",
    "**Recursive Feature Engineering:**\n",
    "- In feature engineering tasks, where you want to create new features based on existing ones, you might encounter situations where recursive functions can help generate complex features based on nested data.\n",
    "\n"
   ]
  },
  {
   "cell_type": "markdown",
   "id": "c5786efa",
   "metadata": {},
   "source": [
    "## Anonymous Functions "
   ]
  },
  {
   "cell_type": "markdown",
   "id": "779ae54f",
   "metadata": {},
   "source": [
    "- In Python, anonymous functions are functions that are defined without a name.\n",
    "- They are also known as \"lambda functions\" because they are created using the lambda keyword. \n",
    "- Lambda functions are a way to create small, simple, and one-line functions quickly without the need for a formal function definition.\n",
    "\n"
   ]
  },
  {
   "cell_type": "markdown",
   "id": "4e20f326",
   "metadata": {},
   "source": [
    "##### syntax"
   ]
  },
  {
   "cell_type": "code",
   "execution_count": null,
   "id": "a92aa988",
   "metadata": {},
   "outputs": [],
   "source": [
    "lambda arguments: expression\n"
   ]
  },
  {
   "cell_type": "markdown",
   "id": "403fea62",
   "metadata": {},
   "source": [
    "- **lambda** : The keyword used to create a lambda function.\n",
    "- **arguments** : The input parameters or arguments passed to the lambda function.\n",
    "- **expression** : The expression or computation that the lambda function performs, which is usually a single expression that returns a value.\n"
   ]
  },
  {
   "cell_type": "markdown",
   "id": "736d529b",
   "metadata": {},
   "source": [
    "##### Usage"
   ]
  },
  {
   "cell_type": "markdown",
   "id": "0a8d7ac2",
   "metadata": {},
   "source": [
    "- Lambda functions are mainly used in situations where you need a short and throwaway function to be used as an argument to higher-order functions like **map**, **filter**, and **reduce**.\n",
    "- They are especially useful in functional programming and situations where defining a regular function with def would be too verbose."
   ]
  },
  {
   "cell_type": "code",
   "execution_count": 172,
   "id": "73fc7dee",
   "metadata": {},
   "outputs": [
    {
     "name": "stdout",
     "output_type": "stream",
     "text": [
      "8\n"
     ]
    }
   ],
   "source": [
    "# Regular function to add two numbers\n",
    "def add(x, y):\n",
    "    return x + y\n",
    "\n",
    "result = add(3, 5)\n",
    "print(result) "
   ]
  },
  {
   "cell_type": "code",
   "execution_count": 173,
   "id": "66690b22",
   "metadata": {},
   "outputs": [
    {
     "name": "stdout",
     "output_type": "stream",
     "text": [
      "8\n"
     ]
    }
   ],
   "source": [
    "# Equivalent lambda function to add two numbers\n",
    "add_lambda = lambda x, y: x + y\n",
    "\n",
    "result = add_lambda(3, 5)\n",
    "print(result)  # Output: 8"
   ]
  },
  {
   "cell_type": "markdown",
   "id": "f1afadda",
   "metadata": {},
   "source": [
    "- Lambda functions are typically used when the function logic is simple and fits within a single expression.\n",
    "- They cannot contain statements, multiple expressions, or function calls.\n",
    "\n"
   ]
  },
  {
   "cell_type": "markdown",
   "id": "dcc505f2",
   "metadata": {},
   "source": [
    "- Lambda functions can be assigned to variables, passed as arguments to other functions, and used in many contexts where a regular function is used. \n",
    "- However, because they lack a formal name, they can sometimes make the code harder to read and understand, especially for more complex logic. \n",
    "- In such cases, using regular named functions is recommended for better code organization and readability."
   ]
  },
  {
   "cell_type": "markdown",
   "id": "0c32ba5e",
   "metadata": {},
   "source": [
    "### assigned to a variable"
   ]
  },
  {
   "cell_type": "code",
   "execution_count": 174,
   "id": "8f5497f0",
   "metadata": {},
   "outputs": [
    {
     "name": "stdout",
     "output_type": "stream",
     "text": [
      "25\n"
     ]
    }
   ],
   "source": [
    "# Lambda function to calculate the square of a number\n",
    "square = lambda x: x**2\n",
    "\n",
    "# Using the lambda function\n",
    "result = square(5)\n",
    "print(result) "
   ]
  },
  {
   "cell_type": "markdown",
   "id": "d5caa4f5",
   "metadata": {},
   "source": [
    "### Assigned as arguments to other functions"
   ]
  },
  {
   "cell_type": "markdown",
   "id": "5995c10f",
   "metadata": {},
   "source": [
    "**Using Lambda with map:**\n",
    "- The map function applies a given function to each item of an iterable (e.g., list) and returns an iterator of the results. Here, we'll use a lambda function to square each element of a list.\n"
   ]
  },
  {
   "cell_type": "code",
   "execution_count": 176,
   "id": "f59b6be2",
   "metadata": {},
   "outputs": [
    {
     "name": "stdout",
     "output_type": "stream",
     "text": [
      "[1, 4, 9, 16, 25]\n"
     ]
    }
   ],
   "source": [
    "numbers = [1, 2, 3, 4, 5]\n",
    "\n",
    "# Using lambda with map to square each element\n",
    "squared_numbers = map(lambda x: x**2, numbers)\n",
    "\n",
    "print(list(squared_numbers))"
   ]
  },
  {
   "cell_type": "markdown",
   "id": "64858987",
   "metadata": {},
   "source": [
    "**Using Lambda with filter:**\n",
    "- The filter function filters elements from an iterable based on a given function's condition. \n",
    "- Here, we'll use a lambda function to filter even numbers from a list."
   ]
  },
  {
   "cell_type": "code",
   "execution_count": 177,
   "id": "e309f106",
   "metadata": {},
   "outputs": [
    {
     "name": "stdout",
     "output_type": "stream",
     "text": [
      "[2, 4, 6, 8, 10]\n"
     ]
    }
   ],
   "source": [
    "numbers = [1, 2, 3, 4, 5, 6, 7, 8, 9, 10]\n",
    "\n",
    "# Using lambda with filter to filter even numbers\n",
    "even_numbers = filter(lambda x: x % 2 == 0, numbers)\n",
    "\n",
    "print(list(even_numbers))  "
   ]
  },
  {
   "cell_type": "code",
   "execution_count": 178,
   "id": "4c2a9e12",
   "metadata": {},
   "outputs": [
    {
     "data": {
      "text/plain": [
       "[1, 3, 5, 7, 9]"
      ]
     },
     "execution_count": 178,
     "metadata": {},
     "output_type": "execute_result"
    }
   ],
   "source": [
    "odds = filter(lambda y : y%2 ==1, numbers)\n",
    "list(odds)"
   ]
  },
  {
   "cell_type": "markdown",
   "id": "bc57421b",
   "metadata": {},
   "source": [
    "**Using Lambda with sorted:**\n",
    "- The sorted function sorts elements of an iterable based on a specified key function.\n",
    "- Here, we'll use a lambda function to sort a list of tuples based on the second element of each tuple."
   ]
  },
  {
   "cell_type": "code",
   "execution_count": 180,
   "id": "5cfef920",
   "metadata": {},
   "outputs": [],
   "source": [
    "points = [(1, 5), (3, 2), (7, 10), (2, 8)]"
   ]
  },
  {
   "cell_type": "code",
   "execution_count": 181,
   "id": "a13980d1",
   "metadata": {},
   "outputs": [
    {
     "data": {
      "text/plain": [
       "list"
      ]
     },
     "execution_count": 181,
     "metadata": {},
     "output_type": "execute_result"
    }
   ],
   "source": [
    "type(points)"
   ]
  },
  {
   "cell_type": "code",
   "execution_count": 183,
   "id": "34ee342d",
   "metadata": {},
   "outputs": [
    {
     "data": {
      "text/plain": [
       "(3, 2)"
      ]
     },
     "execution_count": 183,
     "metadata": {},
     "output_type": "execute_result"
    }
   ],
   "source": [
    "points[1]"
   ]
  },
  {
   "cell_type": "code",
   "execution_count": 182,
   "id": "7ad3cbd5",
   "metadata": {},
   "outputs": [
    {
     "data": {
      "text/plain": [
       "tuple"
      ]
     },
     "execution_count": 182,
     "metadata": {},
     "output_type": "execute_result"
    }
   ],
   "source": [
    "type(points[1])"
   ]
  },
  {
   "cell_type": "code",
   "execution_count": 184,
   "id": "8f920b55",
   "metadata": {},
   "outputs": [
    {
     "data": {
      "text/plain": [
       "5"
      ]
     },
     "execution_count": 184,
     "metadata": {},
     "output_type": "execute_result"
    }
   ],
   "source": [
    "points[0][1]"
   ]
  },
  {
   "cell_type": "code",
   "execution_count": 185,
   "id": "576478aa",
   "metadata": {},
   "outputs": [
    {
     "data": {
      "text/plain": [
       "int"
      ]
     },
     "execution_count": 185,
     "metadata": {},
     "output_type": "execute_result"
    }
   ],
   "source": [
    "type(points[0][1])"
   ]
  },
  {
   "cell_type": "code",
   "execution_count": null,
   "id": "72ca517f",
   "metadata": {},
   "outputs": [],
   "source": []
  },
  {
   "cell_type": "code",
   "execution_count": 189,
   "id": "e07d2892",
   "metadata": {},
   "outputs": [
    {
     "name": "stdout",
     "output_type": "stream",
     "text": [
      "[(7, 10), (3, 2), (2, 8), (1, 5)]\n"
     ]
    }
   ],
   "source": [
    "# Using lambda with sorted to sort based on the second element of each tuple\n",
    "sorted_points = sorted(points, key=lambda x: x[0], reverse=True)\n",
    "\n",
    "print(sorted_points) "
   ]
  },
  {
   "cell_type": "markdown",
   "id": "ca7136c9",
   "metadata": {},
   "source": [
    "**Using lambda with reduce:**\n",
    "- The reduce function applies a binary function cumulatively to the items of an iterable from left to right to reduce it to a single value. \n",
    "- In Python 3, reduce was moved to the functools module, so you need to import it before using it.\n",
    "\n"
   ]
  },
  {
   "cell_type": "code",
   "execution_count": 191,
   "id": "35a4380f",
   "metadata": {},
   "outputs": [
    {
     "name": "stdout",
     "output_type": "stream",
     "text": [
      "120\n"
     ]
    }
   ],
   "source": [
    "from functools import reduce\n",
    "\n",
    "# List of numbers\n",
    "numbers = [1, 2, 3, 4, 5]\n",
    "\n",
    "# Using lambda with reduce to calculate the product of all numbers in the list\n",
    "factorial = reduce(lambda x, y: x * y, numbers)\n",
    "\n",
    "print(factorial)"
   ]
  },
  {
   "cell_type": "code",
   "execution_count": 192,
   "id": "0fda69e5",
   "metadata": {},
   "outputs": [],
   "source": [
    "power = reduce(lambda x, y: x**y, numbers)"
   ]
  },
  {
   "cell_type": "code",
   "execution_count": 193,
   "id": "bf5e1a46",
   "metadata": {},
   "outputs": [
    {
     "data": {
      "text/plain": [
       "1"
      ]
     },
     "execution_count": 193,
     "metadata": {},
     "output_type": "execute_result"
    }
   ],
   "source": [
    "power"
   ]
  },
  {
   "cell_type": "code",
   "execution_count": null,
   "id": "1540c1f6",
   "metadata": {},
   "outputs": [],
   "source": []
  },
  {
   "cell_type": "code",
   "execution_count": 194,
   "id": "6034de4c",
   "metadata": {},
   "outputs": [],
   "source": [
    "x = [2,3,4,5,6]"
   ]
  },
  {
   "cell_type": "code",
   "execution_count": 197,
   "id": "5002abd6",
   "metadata": {},
   "outputs": [],
   "source": [
    "exp = reduce(lambda a,b: a**b, x)"
   ]
  },
  {
   "cell_type": "code",
   "execution_count": 198,
   "id": "cc9f459f",
   "metadata": {},
   "outputs": [
    {
     "data": {
      "text/plain": [
       "2348542582773833227889480596789337027375682548908319870707290971532209025114608443463698998384768703031934976"
      ]
     },
     "execution_count": 198,
     "metadata": {},
     "output_type": "execute_result"
    }
   ],
   "source": [
    "exp"
   ]
  },
  {
   "cell_type": "code",
   "execution_count": null,
   "id": "74d1c2fc",
   "metadata": {},
   "outputs": [],
   "source": []
  },
  {
   "cell_type": "code",
   "execution_count": null,
   "id": "aa1160a9",
   "metadata": {},
   "outputs": [],
   "source": []
  },
  {
   "cell_type": "code",
   "execution_count": null,
   "id": "85679629",
   "metadata": {},
   "outputs": [],
   "source": []
  },
  {
   "cell_type": "code",
   "execution_count": null,
   "id": "5da8f4d8",
   "metadata": {},
   "outputs": [],
   "source": []
  },
  {
   "cell_type": "markdown",
   "id": "e282f645",
   "metadata": {},
   "source": [
    "###### Explaination:"
   ]
  },
  {
   "cell_type": "markdown",
   "id": "e32ea460",
   "metadata": {},
   "source": [
    "- **numbers**: numbers is a list of numbers [1, 2, 3, 4, 5]. \n",
    "- It represents the iterable that we want to perform the reduction operation on.\n",
    "\n",
    "\n",
    "- lambda x, y: x * y: \n",
    "        -- This is a lambda function that takes two arguments x and y, and returns their product x * y. \n",
    "        -- It serves as the binary function that will be applied cumulatively to the elements of the iterable numbers.\n",
    "\n",
    "    \n",
    "    - **reduce**: The reduce function from the functools module is used to reduce the iterable using the specified binary function.\n",
    "    - It applies the binary function to the first two elements of the iterable (1 and 2) and gets the result (1 * 2 = 2). \n",
    "     - Then, it applies the same binary function to this result (2) and the next element of the iterable (3), giving the new result (2 * 3 = 6). \n",
    "      - It continues this process until all elements in the iterable are processed, and a single final value is obtained.\n",
    "\n",
    "\n",
    "\n",
    "\n",
    "Let's see how the reduction happens step by step:\n",
    "\n",
    "- 1 * 2 = 2\n",
    "- 2 * 3 = 6\n",
    "- 6 * 4 = 24\n",
    "- 24 * 5 = 120\n",
    "\n",
    "\n",
    "\n",
    "\n",
    "\n",
    "\n",
    "- So, the final output of reduce(lambda x, y: x * y, numbers) is 120, which is the product of all the numbers in the numbers list."
   ]
  },
  {
   "cell_type": "markdown",
   "id": "44822929",
   "metadata": {},
   "source": [
    "# \\_ \\_name_ _"
   ]
  },
  {
   "cell_type": "markdown",
   "id": "b3b4d784",
   "metadata": {},
   "source": [
    "- In Python, \\_ \\_name_ _ is a special built-in variable that holds the name of the current module or script. \n",
    "- It is automatically set by the Python interpreter based on how the code is being executed. \n",
    "- The value of \\_ \\_name_ _ changes depending on whether the script is being run as the main program or if it's imported as a module into another script."
   ]
  },
  {
   "cell_type": "markdown",
   "id": "e640fa29",
   "metadata": {},
   "source": [
    "1. - When a Python script is run as the main program, the variable \\_ \\_name_ _ is set to '\\_ \\_main_ _'.\n",
    "    - This is the default behavior when you run a Python script from the command line or an IDE."
   ]
  },
  {
   "cell_type": "code",
   "execution_count": 26,
   "id": "ad6aa4ce",
   "metadata": {},
   "outputs": [
    {
     "name": "stdout",
     "output_type": "stream",
     "text": [
      "__main__\n"
     ]
    }
   ],
   "source": [
    "print(__name__)"
   ]
  },
  {
   "cell_type": "markdown",
   "id": "e3089c45",
   "metadata": {},
   "source": [
    "2. - When a Python script is imported as a module into another script, the variable \\_ \\_name_ _ is set to the name of the module (i.e., the filename without the '.py' extension).\n"
   ]
  },
  {
   "cell_type": "markdown",
   "id": "41b8ad61",
   "metadata": {},
   "source": [
    "- This behavior is useful when you have a script that contains both standalone executable code and functions or classes that you want to reuse in other scripts.\n",
    "- By using the \n",
    "\n",
    "    **if  \\_ \\_name_ _ == '\\_ \\_main_ _':** \n",
    "\n",
    "\n",
    "     block, you can ensure that certain code is only executed when the script is run as the main program and not when it is imported as a module.\n",
    "\n"
   ]
  },
  {
   "cell_type": "code",
   "execution_count": 27,
   "id": "55605de0",
   "metadata": {},
   "outputs": [
    {
     "name": "stdout",
     "output_type": "stream",
     "text": [
      "This code will only run if the script is run as the main program.\n"
     ]
    }
   ],
   "source": [
    "# filename: my_module.py\n",
    "\n",
    "def my_function():\n",
    "    print(\"This function can be reused in other scripts.\")\n",
    "\n",
    "if __name__ == '__main__':\n",
    "    print(\"This code will only run if the script is run as the main program.\")\n",
    "    # Additional code for standalone execution\n"
   ]
  },
  {
   "cell_type": "markdown",
   "id": "5c9b86c3",
   "metadata": {},
   "source": [
    "- This conditional block allows you to organize your code effectively and differentiate between the main program's execution and module import behavior. \n",
    "- It is a common practice in Python scripts that can be run both as standalone applications and as reusable modules.\n",
    "\n",
    "\n",
    "\n",
    "\n"
   ]
  },
  {
   "cell_type": "code",
   "execution_count": null,
   "id": "050c352c",
   "metadata": {},
   "outputs": [],
   "source": []
  }
 ],
 "metadata": {
  "kernelspec": {
   "display_name": "Python 3 (ipykernel)",
   "language": "python",
   "name": "python3"
  },
  "language_info": {
   "codemirror_mode": {
    "name": "ipython",
    "version": 3
   },
   "file_extension": ".py",
   "mimetype": "text/x-python",
   "name": "python",
   "nbconvert_exporter": "python",
   "pygments_lexer": "ipython3",
   "version": "3.11.4"
  },
  "vp": {
   "vp_config_version": "1.0.0",
   "vp_menu_width": 273,
   "vp_note_display": false,
   "vp_note_width": 0,
   "vp_position": {
    "width": 278
   },
   "vp_section_display": false,
   "vp_signature": "VisualPython"
  }
 },
 "nbformat": 4,
 "nbformat_minor": 5
}
