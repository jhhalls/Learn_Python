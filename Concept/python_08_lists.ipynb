{
 "cells": [
  {
   "cell_type": "markdown",
   "id": "8ee3a5da",
   "metadata": {},
   "source": [
    "# What are Lists?"
   ]
  },
  {
   "cell_type": "markdown",
   "id": "ff7ca053",
   "metadata": {},
   "source": [
    "- Lists in Python are ordered collections of items, capable of holding a variety of data types such as integers, floats, strings, or even other lists.\n",
    "- They are **mutable**, meaning that you can change, add, or remove elements from them after they have been created. \n",
    "- Lists are denoted by square brackets `[ ]` and can be nested to create multidimensional arrays."
   ]
  },
  {
   "cell_type": "markdown",
   "id": "4a304ed3",
   "metadata": {},
   "source": [
    "- Lists are versatile and fundamental data structures in Python, offering flexibility, mutability, and a wide range of operations for handling collections of elements efficiently.\n",
    "- Understanding lists and their functionalities is crucial for writing clear, concise, and effective Python code."
   ]
  },
  {
   "cell_type": "markdown",
   "id": "bf8c90a6",
   "metadata": {},
   "source": [
    "## **1. Declaration and Initialization**"
   ]
  },
  {
   "cell_type": "markdown",
   "id": "e39b0bad",
   "metadata": {},
   "source": [
    "- You can create a list in Python by enclosing comma-separated elements within square brackets `[ ]`."
   ]
  },
  {
   "cell_type": "code",
   "execution_count": 1,
   "id": "f92bc4b9",
   "metadata": {},
   "outputs": [],
   "source": [
    "my_list = [1, 2, 3, 4, 5]"
   ]
  },
  {
   "cell_type": "code",
   "execution_count": 2,
   "id": "26195be6",
   "metadata": {},
   "outputs": [
    {
     "data": {
      "text/plain": [
       "[1, 2, 3, 4, 5]"
      ]
     },
     "execution_count": 2,
     "metadata": {},
     "output_type": "execute_result"
    }
   ],
   "source": [
    "my_list"
   ]
  },
  {
   "cell_type": "markdown",
   "id": "d8794e07",
   "metadata": {},
   "source": [
    "- Lists can also be initialized with elements of different data types:"
   ]
  },
  {
   "cell_type": "code",
   "execution_count": 3,
   "id": "0fd39c9e",
   "metadata": {},
   "outputs": [],
   "source": [
    "mixed_list = [1, 'a', 3.14, True, [5, 6, 7]]"
   ]
  },
  {
   "cell_type": "code",
   "execution_count": 4,
   "id": "80237af1",
   "metadata": {},
   "outputs": [
    {
     "data": {
      "text/plain": [
       "[1, 'a', 3.14, True, [5, 6, 7]]"
      ]
     },
     "execution_count": 4,
     "metadata": {},
     "output_type": "execute_result"
    }
   ],
   "source": [
    "mixed_list"
   ]
  },
  {
   "cell_type": "markdown",
   "id": "ffa4d7a1",
   "metadata": {},
   "source": [
    "## **2. Indexing and Slicing**"
   ]
  },
  {
   "cell_type": "markdown",
   "id": "bad59c67",
   "metadata": {},
   "source": [
    "- Lists support indexing, allowing you to access individual elements by their position (index) within the list.\n",
    "- Indexing starts from 0 for the first element and goes up to `len(list) - 1` for the last element."
   ]
  },
  {
   "cell_type": "code",
   "execution_count": 5,
   "id": "486bfb85",
   "metadata": {},
   "outputs": [
    {
     "name": "stdout",
     "output_type": "stream",
     "text": [
      "1\n"
     ]
    }
   ],
   "source": [
    "print(my_list[0])  "
   ]
  },
  {
   "cell_type": "code",
   "execution_count": 6,
   "id": "ad45083a",
   "metadata": {},
   "outputs": [
    {
     "data": {
      "text/plain": [
       "3.14"
      ]
     },
     "execution_count": 6,
     "metadata": {},
     "output_type": "execute_result"
    }
   ],
   "source": [
    "mixed_list[2]"
   ]
  },
  {
   "cell_type": "code",
   "execution_count": 7,
   "id": "5c34c781",
   "metadata": {},
   "outputs": [
    {
     "data": {
      "text/plain": [
       "5"
      ]
     },
     "execution_count": 7,
     "metadata": {},
     "output_type": "execute_result"
    }
   ],
   "source": [
    "len(mixed_list)"
   ]
  },
  {
   "cell_type": "code",
   "execution_count": 8,
   "id": "ebbcb9b0",
   "metadata": {},
   "outputs": [
    {
     "data": {
      "text/plain": [
       "[5, 6, 7]"
      ]
     },
     "execution_count": 8,
     "metadata": {},
     "output_type": "execute_result"
    }
   ],
   "source": [
    "mixed_list[4]"
   ]
  },
  {
   "cell_type": "code",
   "execution_count": 10,
   "id": "0e5c06b8",
   "metadata": {},
   "outputs": [
    {
     "data": {
      "text/plain": [
       "[5, 6, 7]"
      ]
     },
     "execution_count": 10,
     "metadata": {},
     "output_type": "execute_result"
    }
   ],
   "source": [
    "mixed_list[-1]"
   ]
  },
  {
   "cell_type": "code",
   "execution_count": 9,
   "id": "106731c9",
   "metadata": {},
   "outputs": [
    {
     "name": "stdout",
     "output_type": "stream",
     "text": [
      "5\n"
     ]
    }
   ],
   "source": [
    "print(my_list[-1])"
   ]
  },
  {
   "cell_type": "markdown",
   "id": "be1d62f8",
   "metadata": {},
   "source": [
    "**Slicing allows you to access a subset of elements within the list by specifying a range of indices**"
   ]
  },
  {
   "cell_type": "code",
   "execution_count": 12,
   "id": "09784fdd",
   "metadata": {},
   "outputs": [
    {
     "data": {
      "text/plain": [
       "[1, 2, 3, 4, 5]"
      ]
     },
     "execution_count": 12,
     "metadata": {},
     "output_type": "execute_result"
    }
   ],
   "source": [
    "my_list"
   ]
  },
  {
   "cell_type": "code",
   "execution_count": 13,
   "id": "c1ce0636",
   "metadata": {},
   "outputs": [
    {
     "name": "stdout",
     "output_type": "stream",
     "text": [
      "[2, 3, 4]\n"
     ]
    }
   ],
   "source": [
    "print(my_list[1:4]) "
   ]
  },
  {
   "cell_type": "code",
   "execution_count": 14,
   "id": "62ac2de6",
   "metadata": {},
   "outputs": [
    {
     "name": "stdout",
     "output_type": "stream",
     "text": [
      "[1, 2, 3]\n"
     ]
    }
   ],
   "source": [
    "# elements from the beginning to index 2\n",
    "print(my_list[:3])"
   ]
  },
  {
   "cell_type": "code",
   "execution_count": 15,
   "id": "2497f824",
   "metadata": {},
   "outputs": [
    {
     "name": "stdout",
     "output_type": "stream",
     "text": [
      "[3, 4, 5]\n"
     ]
    }
   ],
   "source": [
    "# elements from index 2 to the end\n",
    "print(my_list[2:])  "
   ]
  },
  {
   "cell_type": "markdown",
   "id": "0a6306f0",
   "metadata": {},
   "source": [
    "## **3. Mutable Nature**"
   ]
  },
  {
   "cell_type": "markdown",
   "id": "ada3ae54",
   "metadata": {},
   "source": [
    "- Lists are mutable, meaning that you can modify their elements after creation.\n",
    "- You can change, add, or remove elements as needed."
   ]
  },
  {
   "cell_type": "code",
   "execution_count": 19,
   "id": "e46af438",
   "metadata": {},
   "outputs": [
    {
     "data": {
      "text/plain": [
       "[1, 2, 10, 4, 5]"
      ]
     },
     "execution_count": 19,
     "metadata": {},
     "output_type": "execute_result"
    }
   ],
   "source": [
    "my_list\n"
   ]
  },
  {
   "cell_type": "code",
   "execution_count": 20,
   "id": "4c462dab",
   "metadata": {},
   "outputs": [],
   "source": [
    "# Change the value at index 2 to 10\n",
    "my_list[2] = 90 "
   ]
  },
  {
   "cell_type": "code",
   "execution_count": 22,
   "id": "ff328a12",
   "metadata": {},
   "outputs": [
    {
     "name": "stdout",
     "output_type": "stream",
     "text": [
      "[1, 2, 90, 4, 5]\n"
     ]
    }
   ],
   "source": [
    "print(my_list)"
   ]
  },
  {
   "cell_type": "code",
   "execution_count": 23,
   "id": "f951e30b",
   "metadata": {},
   "outputs": [],
   "source": [
    "# Add new element 6 to the end of the list\n",
    "my_list.append(6)"
   ]
  },
  {
   "cell_type": "code",
   "execution_count": 24,
   "id": "7b10c004",
   "metadata": {},
   "outputs": [
    {
     "name": "stdout",
     "output_type": "stream",
     "text": [
      "[1, 2, 90, 4, 5, 6]\n"
     ]
    }
   ],
   "source": [
    "print(my_list)"
   ]
  },
  {
   "cell_type": "code",
   "execution_count": 25,
   "id": "5007cdf4",
   "metadata": {},
   "outputs": [],
   "source": [
    "# Remove the element 2 from the list\n",
    "my_list.remove(90)"
   ]
  },
  {
   "cell_type": "code",
   "execution_count": 28,
   "id": "f4331e92",
   "metadata": {},
   "outputs": [
    {
     "name": "stdout",
     "output_type": "stream",
     "text": [
      "[1, 2, 4, 5, 6]\n"
     ]
    }
   ],
   "source": [
    "print(my_list)"
   ]
  },
  {
   "cell_type": "markdown",
   "id": "ccc7e1c8",
   "metadata": {},
   "source": [
    "## **4. Length and Membership**"
   ]
  },
  {
   "cell_type": "markdown",
   "id": "00c869ed",
   "metadata": {},
   "source": [
    "- You can determine the length of a list using the `len()` function"
   ]
  },
  {
   "cell_type": "code",
   "execution_count": 27,
   "id": "f80a52bd",
   "metadata": {},
   "outputs": [
    {
     "name": "stdout",
     "output_type": "stream",
     "text": [
      "5\n"
     ]
    }
   ],
   "source": [
    "print(len(my_list))"
   ]
  },
  {
   "cell_type": "markdown",
   "id": "1a678c81",
   "metadata": {},
   "source": [
    "- Lists support membership testing to check if an element is present in the list"
   ]
  },
  {
   "cell_type": "code",
   "execution_count": 30,
   "id": "33f69587",
   "metadata": {},
   "outputs": [
    {
     "name": "stdout",
     "output_type": "stream",
     "text": [
      "True\n"
     ]
    }
   ],
   "source": [
    "print(4 in my_list)"
   ]
  },
  {
   "cell_type": "code",
   "execution_count": 31,
   "id": "76687557",
   "metadata": {},
   "outputs": [
    {
     "name": "stdout",
     "output_type": "stream",
     "text": [
      "False\n"
     ]
    }
   ],
   "source": [
    "print(7 in my_list)"
   ]
  },
  {
   "cell_type": "markdown",
   "id": "9d39a24f",
   "metadata": {},
   "source": [
    "## **5. Iteration and List Comprehension**"
   ]
  },
  {
   "cell_type": "markdown",
   "id": "bf367f59",
   "metadata": {},
   "source": [
    "- You can iterate over the elements of a list using a loop"
   ]
  },
  {
   "cell_type": "code",
   "execution_count": 33,
   "id": "7349f405",
   "metadata": {},
   "outputs": [
    {
     "name": "stdout",
     "output_type": "stream",
     "text": [
      "1\n",
      "2\n",
      "4\n",
      "5\n",
      "6\n"
     ]
    }
   ],
   "source": [
    "for item in my_list:\n",
    "    print(item)"
   ]
  },
  {
   "cell_type": "code",
   "execution_count": 36,
   "id": "5c974076",
   "metadata": {},
   "outputs": [],
   "source": [
    "list_comp = [item for item in my_list]"
   ]
  },
  {
   "cell_type": "code",
   "execution_count": 37,
   "id": "c848b671",
   "metadata": {},
   "outputs": [
    {
     "data": {
      "text/plain": [
       "[1, 2, 4, 5, 6]"
      ]
     },
     "execution_count": 37,
     "metadata": {},
     "output_type": "execute_result"
    }
   ],
   "source": [
    "list_comp"
   ]
  },
  {
   "cell_type": "code",
   "execution_count": 38,
   "id": "e7649fcf",
   "metadata": {},
   "outputs": [
    {
     "data": {
      "text/plain": [
       "list"
      ]
     },
     "execution_count": 38,
     "metadata": {},
     "output_type": "execute_result"
    }
   ],
   "source": [
    "type(list_comp)"
   ]
  },
  {
   "cell_type": "markdown",
   "id": "2e17cdab",
   "metadata": {},
   "source": [
    "- List comprehension provides a concise way to create lists based on existing lists"
   ]
  },
  {
   "cell_type": "code",
   "execution_count": 39,
   "id": "7fc6aaeb",
   "metadata": {},
   "outputs": [],
   "source": [
    "squared = [x**2 for x in my_list]"
   ]
  },
  {
   "cell_type": "code",
   "execution_count": 40,
   "id": "4b51b12b",
   "metadata": {},
   "outputs": [
    {
     "name": "stdout",
     "output_type": "stream",
     "text": [
      "[1, 4, 16, 25, 36]\n"
     ]
    }
   ],
   "source": [
    "print(squared)"
   ]
  },
  {
   "cell_type": "code",
   "execution_count": 43,
   "id": "8b01c894",
   "metadata": {},
   "outputs": [],
   "source": [
    "squared_numbers = []"
   ]
  },
  {
   "cell_type": "code",
   "execution_count": 44,
   "id": "2944ddc0",
   "metadata": {},
   "outputs": [
    {
     "data": {
      "text/plain": [
       "[]"
      ]
     },
     "execution_count": 44,
     "metadata": {},
     "output_type": "execute_result"
    }
   ],
   "source": [
    "squared_numbers"
   ]
  },
  {
   "cell_type": "code",
   "execution_count": 45,
   "id": "9281f6a1",
   "metadata": {},
   "outputs": [
    {
     "data": {
      "text/plain": [
       "list"
      ]
     },
     "execution_count": 45,
     "metadata": {},
     "output_type": "execute_result"
    }
   ],
   "source": [
    "type(squared_numbers)"
   ]
  },
  {
   "cell_type": "code",
   "execution_count": 46,
   "id": "e6b32878",
   "metadata": {},
   "outputs": [],
   "source": [
    "for number in my_list:\n",
    "    squared_numbers.append(number**2)"
   ]
  },
  {
   "cell_type": "code",
   "execution_count": 47,
   "id": "0ccb9ecd",
   "metadata": {},
   "outputs": [
    {
     "data": {
      "text/plain": [
       "[1, 4, 16, 25, 36]"
      ]
     },
     "execution_count": 47,
     "metadata": {},
     "output_type": "execute_result"
    }
   ],
   "source": [
    "squared_numbers"
   ]
  },
  {
   "cell_type": "code",
   "execution_count": null,
   "id": "afe8191c",
   "metadata": {},
   "outputs": [],
   "source": []
  },
  {
   "cell_type": "code",
   "execution_count": null,
   "id": "72dbb469",
   "metadata": {},
   "outputs": [],
   "source": []
  },
  {
   "cell_type": "markdown",
   "id": "ebb4a0aa",
   "metadata": {},
   "source": [
    "## **6. Built-in Functions**"
   ]
  },
  {
   "cell_type": "markdown",
   "id": "da69c111",
   "metadata": {},
   "source": [
    "- Python provides several built-in functions for working with lists"
   ]
  },
  {
   "cell_type": "markdown",
   "id": "c16e20da",
   "metadata": {},
   "source": [
    "- `len(list)`: Returns the number of elements in the list.\n",
    "- `min(list)`: Returns the smallest element in the list.\n",
    "- `max(list)`: Returns the largest element in the list.\n",
    "- `sum(list)`: Returns the sum of all elements in the list.\n",
    "- `sorted(list)`: Returns a new sorted list."
   ]
  },
  {
   "cell_type": "code",
   "execution_count": 50,
   "id": "ab2c69ad",
   "metadata": {},
   "outputs": [
    {
     "data": {
      "text/plain": [
       "[1, 2, 4, 5, 6]"
      ]
     },
     "execution_count": 50,
     "metadata": {},
     "output_type": "execute_result"
    }
   ],
   "source": [
    "my_list"
   ]
  },
  {
   "cell_type": "code",
   "execution_count": 51,
   "id": "625d22ab",
   "metadata": {},
   "outputs": [
    {
     "name": "stdout",
     "output_type": "stream",
     "text": [
      "5\n"
     ]
    }
   ],
   "source": [
    "print(len(my_list))"
   ]
  },
  {
   "cell_type": "code",
   "execution_count": 52,
   "id": "f6875d9f",
   "metadata": {},
   "outputs": [
    {
     "name": "stdout",
     "output_type": "stream",
     "text": [
      "1\n"
     ]
    }
   ],
   "source": [
    "print(min(my_list))"
   ]
  },
  {
   "cell_type": "code",
   "execution_count": 53,
   "id": "6b9bf4f1",
   "metadata": {},
   "outputs": [
    {
     "name": "stdout",
     "output_type": "stream",
     "text": [
      "6\n"
     ]
    }
   ],
   "source": [
    "print(max(my_list))"
   ]
  },
  {
   "cell_type": "code",
   "execution_count": 54,
   "id": "b0924bab",
   "metadata": {},
   "outputs": [
    {
     "name": "stdout",
     "output_type": "stream",
     "text": [
      "18\n"
     ]
    }
   ],
   "source": [
    "print(sum(my_list))"
   ]
  },
  {
   "cell_type": "code",
   "execution_count": 55,
   "id": "d5ef3c57",
   "metadata": {},
   "outputs": [
    {
     "name": "stdout",
     "output_type": "stream",
     "text": [
      "[1, 2, 4, 5, 6]\n"
     ]
    }
   ],
   "source": [
    "print(sorted(my_list))"
   ]
  },
  {
   "cell_type": "code",
   "execution_count": 56,
   "id": "4b96ecb9",
   "metadata": {},
   "outputs": [
    {
     "data": {
      "text/plain": [
       "[1, 2, 4, 5, 6]"
      ]
     },
     "execution_count": 56,
     "metadata": {},
     "output_type": "execute_result"
    }
   ],
   "source": [
    "# not stored in memory until assigned with a variable\n",
    "my_list"
   ]
  },
  {
   "cell_type": "markdown",
   "id": "0fb5e44d",
   "metadata": {},
   "source": [
    "## **7. Practical Applications**"
   ]
  },
  {
   "cell_type": "markdown",
   "id": "101f4730",
   "metadata": {},
   "source": [
    "- Lists are widely used in various applications:\n",
    "\n",
    "    - Storing and processing collections of data.\n",
    "    - Implementing stacks, queues, and other data structures.\n",
    "    - Iterating over and manipulating sequences of elements.\n",
    "    - Representing matrices, graphs, and other mathematical structures."
   ]
  },
  {
   "cell_type": "markdown",
   "id": "6ec9f528",
   "metadata": {},
   "source": [
    "## Creating list using the `range()` function"
   ]
  },
  {
   "cell_type": "markdown",
   "id": "9a589fc6",
   "metadata": {},
   "source": [
    "- The `range()` function in Python generates a sequence of numbers within a specified range.\n",
    "- You can create a list using the `range()` function by passing its output to the `list()` constructor."
   ]
  },
  {
   "cell_type": "code",
   "execution_count": 58,
   "id": "69e856aa",
   "metadata": {},
   "outputs": [
    {
     "data": {
      "text/plain": [
       "range(0, 10)"
      ]
     },
     "execution_count": 58,
     "metadata": {},
     "output_type": "execute_result"
    }
   ],
   "source": [
    "range(10)"
   ]
  },
  {
   "cell_type": "code",
   "execution_count": 59,
   "id": "5dbe13c7",
   "metadata": {},
   "outputs": [
    {
     "name": "stdout",
     "output_type": "stream",
     "text": [
      "[0, 1, 2, 3, 4, 5, 6, 7, 8, 9]\n"
     ]
    }
   ],
   "source": [
    "# Creating a list of numbers from 0 to 9\n",
    "my_list = list(range(10))\n",
    "print(my_list)"
   ]
  },
  {
   "cell_type": "code",
   "execution_count": 63,
   "id": "a6fbceff",
   "metadata": {},
   "outputs": [
    {
     "data": {
      "text/plain": [
       "[3, 5, 7]"
      ]
     },
     "execution_count": 63,
     "metadata": {},
     "output_type": "execute_result"
    }
   ],
   "source": [
    "list(range(3,8,2))"
   ]
  },
  {
   "cell_type": "markdown",
   "id": "f233a6c6",
   "metadata": {},
   "source": [
    "#### Explanation"
   ]
  },
  {
   "cell_type": "markdown",
   "id": "f3f8e92c",
   "metadata": {},
   "source": [
    "- In this example, `range(10)` generates numbers from 0 to 9 (excluding 10), and `list(range(10))` converts this sequence into a list. \n",
    "- You can also specify a starting number and a step size within the `range()` function to customize the sequence further."
   ]
  },
  {
   "cell_type": "markdown",
   "id": "cd55b4bb",
   "metadata": {},
   "source": [
    "## Concatenation"
   ]
  },
  {
   "cell_type": "markdown",
   "id": "bf165362",
   "metadata": {},
   "source": [
    "- In Python, you can concatenate two lists using the `+` operator or the `extend()` method."
   ]
  },
  {
   "cell_type": "code",
   "execution_count": 67,
   "id": "82ee739d",
   "metadata": {},
   "outputs": [
    {
     "name": "stdout",
     "output_type": "stream",
     "text": [
      "[1, 2, 3, 4, 5, 6]\n"
     ]
    }
   ],
   "source": [
    "# Using the `+` operator:\n",
    "list1 = [1, 2, 3]\n",
    "list2 = [4, 5, 6]\n",
    "concatenated_list = list1 + list2\n",
    "print(concatenated_list)"
   ]
  },
  {
   "cell_type": "code",
   "execution_count": 68,
   "id": "a2ea849d",
   "metadata": {},
   "outputs": [
    {
     "name": "stdout",
     "output_type": "stream",
     "text": [
      "[1, 2, 3, 4, 5, 6]\n"
     ]
    }
   ],
   "source": [
    "# Using the `extend()` method:\n",
    "list1 = [1, 2, 3]\n",
    "list2 = [4, 5, 6]\n",
    "list1.extend(list2)\n",
    "print(list1)"
   ]
  },
  {
   "cell_type": "markdown",
   "id": "805dbc39",
   "metadata": {},
   "source": [
    "### **Real-life Example: Merging Two Contact Lists**"
   ]
  },
  {
   "cell_type": "markdown",
   "id": "8ed3b319",
   "metadata": {},
   "source": [
    "- Imagine you have two contact lists, one for your personal contacts and another for your professional contacts.\n",
    "- You want to merge these two lists into one comprehensive list without any duplicates."
   ]
  },
  {
   "cell_type": "code",
   "execution_count": 69,
   "id": "438090ab",
   "metadata": {},
   "outputs": [],
   "source": [
    "personal_contacts = [\"Alice\", \"Bob\", \"Charlie\"]\n",
    "professional_contacts = [\"David\", \"Alice\", \"Eve\"]"
   ]
  },
  {
   "cell_type": "code",
   "execution_count": 70,
   "id": "9504c604",
   "metadata": {},
   "outputs": [
    {
     "data": {
      "text/plain": [
       "['Alice', 'Bob', 'Charlie']"
      ]
     },
     "execution_count": 70,
     "metadata": {},
     "output_type": "execute_result"
    }
   ],
   "source": [
    "personal_contacts"
   ]
  },
  {
   "cell_type": "code",
   "execution_count": 72,
   "id": "94aeb38f",
   "metadata": {},
   "outputs": [
    {
     "data": {
      "text/plain": [
       "list"
      ]
     },
     "execution_count": 72,
     "metadata": {},
     "output_type": "execute_result"
    }
   ],
   "source": [
    "type(personal_contacts)"
   ]
  },
  {
   "cell_type": "code",
   "execution_count": 71,
   "id": "e42a7598",
   "metadata": {},
   "outputs": [
    {
     "data": {
      "text/plain": [
       "['David', 'Alice', 'Eve']"
      ]
     },
     "execution_count": 71,
     "metadata": {},
     "output_type": "execute_result"
    }
   ],
   "source": [
    "professional_contacts"
   ]
  },
  {
   "cell_type": "code",
   "execution_count": 73,
   "id": "250c3adb",
   "metadata": {},
   "outputs": [
    {
     "data": {
      "text/plain": [
       "list"
      ]
     },
     "execution_count": 73,
     "metadata": {},
     "output_type": "execute_result"
    }
   ],
   "source": [
    "type(professional_contacts)"
   ]
  },
  {
   "cell_type": "code",
   "execution_count": 74,
   "id": "75c8a76b",
   "metadata": {},
   "outputs": [],
   "source": [
    "# Merge the two lists\n",
    "all_contacts = personal_contacts + professional_contacts"
   ]
  },
  {
   "cell_type": "code",
   "execution_count": 75,
   "id": "244fc960",
   "metadata": {},
   "outputs": [
    {
     "data": {
      "text/plain": [
       "['Alice', 'Bob', 'Charlie', 'David', 'Alice', 'Eve']"
      ]
     },
     "execution_count": 75,
     "metadata": {},
     "output_type": "execute_result"
    }
   ],
   "source": [
    "all_contacts"
   ]
  },
  {
   "cell_type": "code",
   "execution_count": 76,
   "id": "82327bac",
   "metadata": {},
   "outputs": [
    {
     "data": {
      "text/plain": [
       "list"
      ]
     },
     "execution_count": 76,
     "metadata": {},
     "output_type": "execute_result"
    }
   ],
   "source": [
    "type(all_contacts)"
   ]
  },
  {
   "cell_type": "code",
   "execution_count": 77,
   "id": "5c4ffa01",
   "metadata": {},
   "outputs": [],
   "source": [
    "# Remove duplicates\n",
    "all_contacts = list(set(all_contacts))"
   ]
  },
  {
   "cell_type": "code",
   "execution_count": 78,
   "id": "eac4e0b0",
   "metadata": {},
   "outputs": [
    {
     "name": "stdout",
     "output_type": "stream",
     "text": [
      "['Charlie', 'Bob', 'David', 'Eve', 'Alice']\n"
     ]
    }
   ],
   "source": [
    "print(all_contacts)"
   ]
  },
  {
   "cell_type": "code",
   "execution_count": null,
   "id": "aa7ebf24",
   "metadata": {},
   "outputs": [],
   "source": []
  },
  {
   "cell_type": "markdown",
   "id": "7af972c5",
   "metadata": {},
   "source": [
    "## Repetition of Lists"
   ]
  },
  {
   "cell_type": "markdown",
   "id": "fc555d43",
   "metadata": {},
   "source": [
    "- In Python, you can repeat a list by using the `*` operator.\n",
    "- This operator allows you to replicate the elements of a list a specified number of times."
   ]
  },
  {
   "cell_type": "code",
   "execution_count": 79,
   "id": "5eeb412e",
   "metadata": {},
   "outputs": [
    {
     "name": "stdout",
     "output_type": "stream",
     "text": [
      "[1, 2, 3, 1, 2, 3, 1, 2, 3]\n"
     ]
    }
   ],
   "source": [
    "original_list = [1, 2, 3]\n",
    "\n",
    "# Repeat the list three times\n",
    "repeated_list = original_list * 3  \n",
    "\n",
    "# printing the repeated list\n",
    "print(repeated_list)"
   ]
  },
  {
   "cell_type": "markdown",
   "id": "99000500",
   "metadata": {},
   "source": [
    "- In this example, the original list `[1, 2, 3]` is repeated three times using the `*` operator, resulting in `[1, 2, 3, 1, 2, 3, 1, 2, 3]`."
   ]
  },
  {
   "cell_type": "markdown",
   "id": "47e99ded",
   "metadata": {},
   "source": [
    "- Repeating a list can be useful in various scenarios, such as when you need to initialize a list with a certain pattern of values, or when you want to create a list with a specific length by repeating a smaller list."
   ]
  },
  {
   "cell_type": "markdown",
   "id": "b0483621",
   "metadata": {},
   "source": [
    "#### **Example 1: Initializing a List with Default Values**"
   ]
  },
  {
   "cell_type": "code",
   "execution_count": 80,
   "id": "0ea5f7ba",
   "metadata": {},
   "outputs": [
    {
     "name": "stdout",
     "output_type": "stream",
     "text": [
      "[0, 0, 0, 0, 0, 0, 0, 0, 0, 0]\n"
     ]
    }
   ],
   "source": [
    "# Initialize a list with ten zeros\n",
    "zeros_list = [0] * 10\n",
    "print(zeros_list)"
   ]
  },
  {
   "cell_type": "markdown",
   "id": "0503835f",
   "metadata": {},
   "source": [
    "#### **Example 2: Creating a List with a Specific Pattern**"
   ]
  },
  {
   "cell_type": "code",
   "execution_count": 33,
   "id": "cbde7e59",
   "metadata": {},
   "outputs": [
    {
     "name": "stdout",
     "output_type": "stream",
     "text": [
      "[1, 2, 1, 2, 1, 2, 1, 2, 1, 2]\n"
     ]
    }
   ],
   "source": [
    "# Create a list with alternating values of 1 and 2\n",
    "pattern_list = [1, 2] * 5\n",
    "print(pattern_list)"
   ]
  },
  {
   "cell_type": "markdown",
   "id": "cfae51c3",
   "metadata": {},
   "source": [
    "**These examples demonstrate how list repetition can be leveraged to simplify code and achieve desired patterns or lengths in lists.**"
   ]
  },
  {
   "cell_type": "markdown",
   "id": "09b63a74",
   "metadata": {},
   "source": [
    "## Memberships in Lists"
   ]
  },
  {
   "cell_type": "markdown",
   "id": "42df86a1",
   "metadata": {},
   "source": [
    "- In Python, membership operators are used to test whether a value or an element is present in a sequence (like a list) or not. \n",
    "- There are two membership operators: `in` and `not in`. "
   ]
  },
  {
   "cell_type": "markdown",
   "id": "1653563c",
   "metadata": {},
   "source": [
    "### 1. **`in` Operator**"
   ]
  },
  {
   "cell_type": "markdown",
   "id": "b9760067",
   "metadata": {},
   "source": [
    "- The `in` operator checks if a value exists in a list.\n",
    "- It returns `True` if the value is found in the list, and `False` otherwise."
   ]
  },
  {
   "cell_type": "code",
   "execution_count": 81,
   "id": "594d8dea",
   "metadata": {},
   "outputs": [],
   "source": [
    "my_list = [1, 2, 3, 4, 5]"
   ]
  },
  {
   "cell_type": "code",
   "execution_count": 82,
   "id": "4a7081b2",
   "metadata": {},
   "outputs": [
    {
     "name": "stdout",
     "output_type": "stream",
     "text": [
      "True\n"
     ]
    }
   ],
   "source": [
    "print(3 in my_list)  "
   ]
  },
  {
   "cell_type": "code",
   "execution_count": 83,
   "id": "120729a3",
   "metadata": {},
   "outputs": [
    {
     "name": "stdout",
     "output_type": "stream",
     "text": [
      "False\n"
     ]
    }
   ],
   "source": [
    "print(6 in my_list) "
   ]
  },
  {
   "cell_type": "markdown",
   "id": "5bebe945",
   "metadata": {},
   "source": [
    "### 2. **`not in` Operator**"
   ]
  },
  {
   "cell_type": "markdown",
   "id": "1b7cd176",
   "metadata": {},
   "source": [
    "- The `not in` operator checks if a value does not exist in a list.\n",
    "- It returns `True` if the value is not found in the list, and `False` otherwise."
   ]
  },
  {
   "cell_type": "code",
   "execution_count": 84,
   "id": "0ae223d6",
   "metadata": {},
   "outputs": [],
   "source": [
    "my_list = [1, 2, 3, 4, 5]"
   ]
  },
  {
   "cell_type": "code",
   "execution_count": 85,
   "id": "00c85937",
   "metadata": {},
   "outputs": [
    {
     "name": "stdout",
     "output_type": "stream",
     "text": [
      "False\n"
     ]
    }
   ],
   "source": [
    "print(3 not in my_list)"
   ]
  },
  {
   "cell_type": "code",
   "execution_count": 86,
   "id": "2605fa97",
   "metadata": {},
   "outputs": [
    {
     "name": "stdout",
     "output_type": "stream",
     "text": [
      "True\n"
     ]
    }
   ],
   "source": [
    "print(6 not in my_list)"
   ]
  },
  {
   "cell_type": "markdown",
   "id": "5863e6e4",
   "metadata": {},
   "source": [
    "**Membership operators are commonly used to perform conditional checks and filtering in Python.**"
   ]
  },
  {
   "cell_type": "markdown",
   "id": "17bd3cb4",
   "metadata": {},
   "source": [
    "#### **Example 1: Check if a User is in a List of Allowed Users**"
   ]
  },
  {
   "cell_type": "code",
   "execution_count": 87,
   "id": "94d90bcb",
   "metadata": {},
   "outputs": [
    {
     "name": "stdout",
     "output_type": "stream",
     "text": [
      "Enter your username: Arun\n",
      "Access denied!\n"
     ]
    }
   ],
   "source": [
    "allowed_users = ['Alice', 'Bob', 'Charlie', 'David']\n",
    "\n",
    "username = input(\"Enter your username: \")\n",
    "\n",
    "if username in allowed_users:\n",
    "    print(\"Access granted!\")\n",
    "else:\n",
    "    print(\"Access denied!\")"
   ]
  },
  {
   "cell_type": "markdown",
   "id": "a5497f26",
   "metadata": {},
   "source": [
    "#### **Example 2: Filter Even Numbers from a List**"
   ]
  },
  {
   "cell_type": "code",
   "execution_count": 89,
   "id": "22e5759e",
   "metadata": {},
   "outputs": [],
   "source": [
    "numbers = [1, 2, 3, 4, 5, 6, 7, 8, 9, 10]"
   ]
  },
  {
   "cell_type": "code",
   "execution_count": 90,
   "id": "e5711619",
   "metadata": {},
   "outputs": [],
   "source": [
    "even_numbers = [num for num in numbers if num % 2 == 0]"
   ]
  },
  {
   "cell_type": "code",
   "execution_count": 91,
   "id": "24d6d275",
   "metadata": {},
   "outputs": [
    {
     "name": "stdout",
     "output_type": "stream",
     "text": [
      "[2, 4, 6, 8, 10]\n"
     ]
    }
   ],
   "source": [
    "print(even_numbers)"
   ]
  },
  {
   "cell_type": "code",
   "execution_count": 92,
   "id": "1f5e77a4",
   "metadata": {},
   "outputs": [],
   "source": [
    "even = []\n",
    "odd = []\n",
    "for i in numbers:\n",
    "    if i % 2 == 0:\n",
    "        even.append(i)\n",
    "    else:\n",
    "        odd.append(i)"
   ]
  },
  {
   "cell_type": "code",
   "execution_count": 93,
   "id": "d09e7c2c",
   "metadata": {},
   "outputs": [
    {
     "data": {
      "text/plain": [
       "[2, 4, 6, 8, 10]"
      ]
     },
     "execution_count": 93,
     "metadata": {},
     "output_type": "execute_result"
    }
   ],
   "source": [
    "even"
   ]
  },
  {
   "cell_type": "code",
   "execution_count": 94,
   "id": "4af31fdc",
   "metadata": {},
   "outputs": [
    {
     "data": {
      "text/plain": [
       "[1, 3, 5, 7, 9]"
      ]
     },
     "execution_count": 94,
     "metadata": {},
     "output_type": "execute_result"
    }
   ],
   "source": [
    "odd"
   ]
  },
  {
   "cell_type": "code",
   "execution_count": null,
   "id": "f6ad8e6f",
   "metadata": {},
   "outputs": [],
   "source": []
  },
  {
   "cell_type": "markdown",
   "id": "ea0b27fd",
   "metadata": {},
   "source": [
    "#### **Example 3: Remove Specific Values from a List**"
   ]
  },
  {
   "cell_type": "code",
   "execution_count": 46,
   "id": "714aba55",
   "metadata": {},
   "outputs": [],
   "source": [
    "my_list = [1, 2, 3, 4, 5]"
   ]
  },
  {
   "cell_type": "code",
   "execution_count": 47,
   "id": "7ec53ba7",
   "metadata": {},
   "outputs": [
    {
     "name": "stdout",
     "output_type": "stream",
     "text": [
      "[1, 2, 4, 5]\n"
     ]
    }
   ],
   "source": [
    "value_to_remove = 3\n",
    "\n",
    "if value_to_remove in my_list:\n",
    "    my_list.remove(value_to_remove)\n",
    "\n",
    "print(my_list)"
   ]
  },
  {
   "cell_type": "markdown",
   "id": "8ea232e5",
   "metadata": {},
   "source": [
    "**These examples demonstrate how membership operators (`in` and `not in`) are used with lists to perform various operations such as checking for existence, filtering, and conditional processing.**"
   ]
  },
  {
   "cell_type": "markdown",
   "id": "a5684119",
   "metadata": {},
   "source": [
    "## Aliasing and Cloning"
   ]
  },
  {
   "cell_type": "markdown",
   "id": "f245c339",
   "metadata": {},
   "source": [
    "### **1. Aliasing**"
   ]
  },
  {
   "cell_type": "markdown",
   "id": "3078940c",
   "metadata": {},
   "source": [
    "- Aliasing occurs when two or more variables refer to the same object or memory location.\n",
    "- In the context of lists, if you assign one list to another variable, both variables will refer to the same list object in memory.\n",
    "- Changes made to one variable will affect the other variable as well."
   ]
  },
  {
   "cell_type": "code",
   "execution_count": 1,
   "id": "dc95f6c1",
   "metadata": {},
   "outputs": [],
   "source": [
    "original_list = [1, 2, 3]\n",
    "\n",
    "# alias_list is now an alias for original_list\n",
    "alias_list = original_list  "
   ]
  },
  {
   "cell_type": "code",
   "execution_count": 2,
   "id": "3a9995b7",
   "metadata": {},
   "outputs": [
    {
     "name": "stdout",
     "output_type": "stream",
     "text": [
      "[1, 2, 3, 4]\n"
     ]
    }
   ],
   "source": [
    "# Modify the alias_list\n",
    "alias_list.append(4)\n",
    "\n",
    "# Check the original list\n",
    "print(original_list)"
   ]
  },
  {
   "cell_type": "markdown",
   "id": "14f8304d",
   "metadata": {},
   "source": [
    "#### Explanation"
   ]
  },
  {
   "cell_type": "markdown",
   "id": "46e739e2",
   "metadata": {},
   "source": [
    "- In this example, `alias_list` is an alias for `original_list`. \n",
    "- When we append `4` to `alias_list`, it also modifies `original_list` because they both refer to the same list object in memory."
   ]
  },
  {
   "cell_type": "markdown",
   "id": "e997af27",
   "metadata": {},
   "source": [
    "### **2. Cloning**"
   ]
  },
  {
   "cell_type": "markdown",
   "id": "f74622a0",
   "metadata": {},
   "source": [
    "- Cloning, also known as copying, involves creating a new list that contains the same elements as the original list."
   ]
  },
  {
   "cell_type": "markdown",
   "id": "e0e0aeff",
   "metadata": {},
   "source": [
    "- Cloning, also known as copying, involves creating a new list that contains the same elements as the original list.\n",
    "- This ensures that changes made to one list do not affect the other list. "
   ]
  },
  {
   "cell_type": "markdown",
   "id": "77682355",
   "metadata": {},
   "source": [
    "**There are several ways to clone a list in Python**"
   ]
  },
  {
   "cell_type": "markdown",
   "id": "e755a9ed",
   "metadata": {},
   "source": [
    "- Using slicing (`[:]`)\n",
    "- Using the `list()` constructor\n",
    "- Using the `copy()` method (for Python 3 and above)"
   ]
  },
  {
   "cell_type": "markdown",
   "id": "558fb6bb",
   "metadata": {},
   "source": [
    "### Using slicing (`[:]`)"
   ]
  },
  {
   "cell_type": "code",
   "execution_count": 3,
   "id": "0daaae9a",
   "metadata": {},
   "outputs": [],
   "source": [
    "original_list = [1, 2, 3]"
   ]
  },
  {
   "cell_type": "code",
   "execution_count": 4,
   "id": "8f53a279",
   "metadata": {},
   "outputs": [
    {
     "data": {
      "text/plain": [
       "[1, 2, 3]"
      ]
     },
     "execution_count": 4,
     "metadata": {},
     "output_type": "execute_result"
    }
   ],
   "source": [
    "original_list"
   ]
  },
  {
   "cell_type": "code",
   "execution_count": 7,
   "id": "d88477b1",
   "metadata": {},
   "outputs": [
    {
     "data": {
      "text/plain": [
       "2955021467008"
      ]
     },
     "execution_count": 7,
     "metadata": {},
     "output_type": "execute_result"
    }
   ],
   "source": [
    "id(original_list)"
   ]
  },
  {
   "cell_type": "code",
   "execution_count": 5,
   "id": "7aba86f5",
   "metadata": {},
   "outputs": [],
   "source": [
    "# Clone original_list using slicing\n",
    "cloned_list = original_list[:]  "
   ]
  },
  {
   "cell_type": "code",
   "execution_count": 6,
   "id": "121887d5",
   "metadata": {},
   "outputs": [
    {
     "data": {
      "text/plain": [
       "[1, 2, 3]"
      ]
     },
     "execution_count": 6,
     "metadata": {},
     "output_type": "execute_result"
    }
   ],
   "source": [
    "cloned_list"
   ]
  },
  {
   "cell_type": "code",
   "execution_count": 8,
   "id": "efcef7f2",
   "metadata": {},
   "outputs": [
    {
     "data": {
      "text/plain": [
       "2955024343744"
      ]
     },
     "execution_count": 8,
     "metadata": {},
     "output_type": "execute_result"
    }
   ],
   "source": [
    "id(cloned_list)"
   ]
  },
  {
   "cell_type": "code",
   "execution_count": 9,
   "id": "35964e51",
   "metadata": {},
   "outputs": [],
   "source": [
    "# Modify the cloned_list\n",
    "cloned_list.append(4)"
   ]
  },
  {
   "cell_type": "code",
   "execution_count": 10,
   "id": "33226850",
   "metadata": {},
   "outputs": [
    {
     "data": {
      "text/plain": [
       "[1, 2, 3, 4]"
      ]
     },
     "execution_count": 10,
     "metadata": {},
     "output_type": "execute_result"
    }
   ],
   "source": [
    "cloned_list"
   ]
  },
  {
   "cell_type": "code",
   "execution_count": 11,
   "id": "e8502c6f",
   "metadata": {},
   "outputs": [
    {
     "name": "stdout",
     "output_type": "stream",
     "text": [
      "[1, 2, 3]\n"
     ]
    }
   ],
   "source": [
    "# print the original list\n",
    "print(original_list)"
   ]
  },
  {
   "cell_type": "markdown",
   "id": "9c135bd9",
   "metadata": {},
   "source": [
    "### Using the `list()` constructor"
   ]
  },
  {
   "cell_type": "code",
   "execution_count": 12,
   "id": "3ad21b44",
   "metadata": {},
   "outputs": [],
   "source": [
    "original_list = [1, 2, 3]"
   ]
  },
  {
   "cell_type": "code",
   "execution_count": 13,
   "id": "748571b8",
   "metadata": {},
   "outputs": [],
   "source": [
    "# Clone original_list using list constructor\n",
    "cloned_list = list(original_list) "
   ]
  },
  {
   "cell_type": "code",
   "execution_count": 14,
   "id": "d49fab7c",
   "metadata": {},
   "outputs": [
    {
     "data": {
      "text/plain": [
       "2955024926656"
      ]
     },
     "execution_count": 14,
     "metadata": {},
     "output_type": "execute_result"
    }
   ],
   "source": [
    "id(original_list)"
   ]
  },
  {
   "cell_type": "code",
   "execution_count": 15,
   "id": "45f077a7",
   "metadata": {},
   "outputs": [
    {
     "data": {
      "text/plain": [
       "2955021457344"
      ]
     },
     "execution_count": 15,
     "metadata": {},
     "output_type": "execute_result"
    }
   ],
   "source": [
    "id(cloned_list)"
   ]
  },
  {
   "cell_type": "code",
   "execution_count": 16,
   "id": "2198903e",
   "metadata": {},
   "outputs": [],
   "source": [
    "# Modify the cloned_list\n",
    "cloned_list.append(4)"
   ]
  },
  {
   "cell_type": "code",
   "execution_count": 17,
   "id": "8712d0f6",
   "metadata": {},
   "outputs": [
    {
     "data": {
      "text/plain": [
       "[1, 2, 3, 4]"
      ]
     },
     "execution_count": 17,
     "metadata": {},
     "output_type": "execute_result"
    }
   ],
   "source": [
    "cloned_list"
   ]
  },
  {
   "cell_type": "code",
   "execution_count": 18,
   "id": "7ef58920",
   "metadata": {},
   "outputs": [
    {
     "name": "stdout",
     "output_type": "stream",
     "text": [
      "[1, 2, 3]\n"
     ]
    }
   ],
   "source": [
    "print(original_list)"
   ]
  },
  {
   "cell_type": "markdown",
   "id": "deb07890",
   "metadata": {},
   "source": [
    "### Using the `copy()` method"
   ]
  },
  {
   "cell_type": "code",
   "execution_count": 19,
   "id": "f85a4ae9",
   "metadata": {},
   "outputs": [],
   "source": [
    "import copy"
   ]
  },
  {
   "cell_type": "code",
   "execution_count": 20,
   "id": "bbbb34eb",
   "metadata": {},
   "outputs": [],
   "source": [
    "original_list = [1, 2, 3]"
   ]
  },
  {
   "cell_type": "code",
   "execution_count": 21,
   "id": "7abad049",
   "metadata": {},
   "outputs": [],
   "source": [
    "# Clone original_list using copy method\n",
    "cloned_list = copy.copy(original_list)  "
   ]
  },
  {
   "cell_type": "code",
   "execution_count": 22,
   "id": "51bb48dc",
   "metadata": {},
   "outputs": [
    {
     "data": {
      "text/plain": [
       "2955025123904"
      ]
     },
     "execution_count": 22,
     "metadata": {},
     "output_type": "execute_result"
    }
   ],
   "source": [
    "id(original_list)"
   ]
  },
  {
   "cell_type": "code",
   "execution_count": 23,
   "id": "97a5fa1a",
   "metadata": {},
   "outputs": [
    {
     "data": {
      "text/plain": [
       "2955025241280"
      ]
     },
     "execution_count": 23,
     "metadata": {},
     "output_type": "execute_result"
    }
   ],
   "source": [
    "id(cloned_list)"
   ]
  },
  {
   "cell_type": "code",
   "execution_count": 24,
   "id": "e1c5c479",
   "metadata": {},
   "outputs": [],
   "source": [
    "# Modify the cloned_list\n",
    "cloned_list.append(4)"
   ]
  },
  {
   "cell_type": "code",
   "execution_count": 25,
   "id": "a324da02",
   "metadata": {},
   "outputs": [
    {
     "data": {
      "text/plain": [
       "[1, 2, 3, 4]"
      ]
     },
     "execution_count": 25,
     "metadata": {},
     "output_type": "execute_result"
    }
   ],
   "source": [
    "cloned_list"
   ]
  },
  {
   "cell_type": "code",
   "execution_count": 26,
   "id": "f8cd8064",
   "metadata": {},
   "outputs": [
    {
     "name": "stdout",
     "output_type": "stream",
     "text": [
      "[1, 2, 3]\n"
     ]
    }
   ],
   "source": [
    "print(original_list)"
   ]
  },
  {
   "cell_type": "markdown",
   "id": "4870e244",
   "metadata": {},
   "source": [
    "**In each of these examples**, \n",
    "- `cloned_list` is a separate list object that contains the same elements as `original_list`. \n",
    "- Therefore, modifying `cloned_list` does not affect `original_list`."
   ]
  },
  {
   "cell_type": "markdown",
   "id": "a468ed6f",
   "metadata": {},
   "source": [
    "**It's important to understand the difference between aliasing and cloning, as they can have different implications depending on your use case.**"
   ]
  },
  {
   "cell_type": "markdown",
   "id": "2db7c87e",
   "metadata": {},
   "source": [
    "## Methods to process a list"
   ]
  },
  {
   "cell_type": "markdown",
   "id": "318b89bf",
   "metadata": {},
   "source": [
    "- There are numerous methods and techniques available in Python for processing lists, allowing you to **manipulate, iterate, filter, and transform list** elements according to your requirements."
   ]
  },
  {
   "cell_type": "markdown",
   "id": "93f23a62",
   "metadata": {},
   "source": [
    "### 1. **Iteration with Loops**"
   ]
  },
  {
   "cell_type": "markdown",
   "id": "15ef18be",
   "metadata": {},
   "source": [
    "- You can use loops like `for` or `while` to iterate over the elements of a list and perform actions on each element."
   ]
  },
  {
   "cell_type": "code",
   "execution_count": 27,
   "id": "fef98dee",
   "metadata": {},
   "outputs": [],
   "source": [
    "my_list = [1, 2, 3, 4, 5]"
   ]
  },
  {
   "cell_type": "code",
   "execution_count": 28,
   "id": "0b9f2ec9",
   "metadata": {},
   "outputs": [
    {
     "data": {
      "text/plain": [
       "[1, 2, 3, 4, 5]"
      ]
     },
     "execution_count": 28,
     "metadata": {},
     "output_type": "execute_result"
    }
   ],
   "source": [
    "my_list"
   ]
  },
  {
   "cell_type": "code",
   "execution_count": 32,
   "id": "881db5ed",
   "metadata": {},
   "outputs": [
    {
     "name": "stdout",
     "output_type": "stream",
     "text": [
      "1\n",
      "2\n",
      "3\n",
      "4\n",
      "5\n"
     ]
    }
   ],
   "source": [
    "# Iterate over the elements using a for loop\n",
    "for element in my_list:\n",
    "    print(element)"
   ]
  },
  {
   "cell_type": "code",
   "execution_count": 34,
   "id": "fd1a8e7b",
   "metadata": {},
   "outputs": [
    {
     "data": {
      "text/plain": [
       "5"
      ]
     },
     "execution_count": 34,
     "metadata": {},
     "output_type": "execute_result"
    }
   ],
   "source": [
    "# local variable\n",
    "element"
   ]
  },
  {
   "cell_type": "code",
   "execution_count": 35,
   "id": "93511332",
   "metadata": {},
   "outputs": [],
   "source": [
    "# user defined variable (global varibale)\n",
    "a=5"
   ]
  },
  {
   "cell_type": "code",
   "execution_count": 36,
   "id": "a0e12c0c",
   "metadata": {},
   "outputs": [
    {
     "name": "stdout",
     "output_type": "stream",
     "text": [
      "1\n",
      "2\n",
      "3\n",
      "4\n",
      "5\n"
     ]
    }
   ],
   "source": [
    "# Iterate over the elements using a while loop\n",
    "i = 0\n",
    "while i < len(my_list):\n",
    "    print(my_list[i])\n",
    "    i += 1"
   ]
  },
  {
   "cell_type": "markdown",
   "id": "40eeb6aa",
   "metadata": {},
   "source": [
    "### 2. **List Comprehensions**"
   ]
  },
  {
   "cell_type": "markdown",
   "id": "042da5b2",
   "metadata": {},
   "source": [
    "- List comprehensions provide a concise way to create lists based on existing lists, with **optional filtering and transformation.**"
   ]
  },
  {
   "cell_type": "code",
   "execution_count": 38,
   "id": "3cc5771f",
   "metadata": {},
   "outputs": [
    {
     "data": {
      "text/plain": [
       "[1, 2, 3, 4, 5]"
      ]
     },
     "execution_count": 38,
     "metadata": {},
     "output_type": "execute_result"
    }
   ],
   "source": [
    "list(range(1,6))"
   ]
  },
  {
   "cell_type": "code",
   "execution_count": 39,
   "id": "1506c72f",
   "metadata": {},
   "outputs": [
    {
     "name": "stdout",
     "output_type": "stream",
     "text": [
      "[1, 4, 9, 16, 25]\n"
     ]
    }
   ],
   "source": [
    "# Create a new list containing the squares of numbers from 1 to 5\n",
    "squares = [x**2 for x in range(1, 6)]\n",
    "print(squares)  "
   ]
  },
  {
   "cell_type": "markdown",
   "id": "9ff967d7",
   "metadata": {},
   "source": [
    "#### HW - convert the above list comprehension to a for loop"
   ]
  },
  {
   "cell_type": "code",
   "execution_count": 40,
   "id": "c31e8920",
   "metadata": {},
   "outputs": [
    {
     "name": "stdout",
     "output_type": "stream",
     "text": [
      "[2, 4, 6, 8, 10]\n"
     ]
    }
   ],
   "source": [
    "# Filter even numbers from a list\n",
    "numbers = [1, 2, 3, 4, 5, 6, 7, 8, 9, 10]\n",
    "even_numbers = [x for x in numbers if x % 2 == 0]\n",
    "print(even_numbers)  "
   ]
  },
  {
   "cell_type": "markdown",
   "id": "70845c7f",
   "metadata": {},
   "source": [
    "#### HW - Convert the above list comprehension into a for loop to ge tthe same results"
   ]
  },
  {
   "cell_type": "markdown",
   "id": "6c2bc868",
   "metadata": {},
   "source": [
    "### 3. **Built-in Functions**"
   ]
  },
  {
   "cell_type": "markdown",
   "id": "1797603d",
   "metadata": {},
   "source": [
    "- Python provides several built-in functions for processing lists, such as `len()`, `min()`, `max()`, `sum()`, and `sorted()`."
   ]
  },
  {
   "cell_type": "code",
   "execution_count": 41,
   "id": "03c2a3eb",
   "metadata": {},
   "outputs": [],
   "source": [
    "my_list = [3, 1, 4, 1, 5, 9, 2, 6]"
   ]
  },
  {
   "cell_type": "code",
   "execution_count": 42,
   "id": "d5edb197",
   "metadata": {},
   "outputs": [
    {
     "data": {
      "text/plain": [
       "[3, 1, 4, 1, 5, 9, 2, 6]"
      ]
     },
     "execution_count": 42,
     "metadata": {},
     "output_type": "execute_result"
    }
   ],
   "source": [
    "my_list"
   ]
  },
  {
   "cell_type": "markdown",
   "id": "34ef5d06",
   "metadata": {},
   "source": [
    "**1. `len()`**"
   ]
  },
  {
   "cell_type": "code",
   "execution_count": 43,
   "id": "a1dd08a0",
   "metadata": {},
   "outputs": [
    {
     "name": "stdout",
     "output_type": "stream",
     "text": [
      "8\n"
     ]
    }
   ],
   "source": [
    "# return the number of elements in a list\n",
    "print(len(my_list))    "
   ]
  },
  {
   "cell_type": "markdown",
   "id": "e769a10c",
   "metadata": {},
   "source": [
    "**2. `min()`**"
   ]
  },
  {
   "cell_type": "code",
   "execution_count": 44,
   "id": "62e22f0f",
   "metadata": {},
   "outputs": [
    {
     "name": "stdout",
     "output_type": "stream",
     "text": [
      "1\n"
     ]
    }
   ],
   "source": [
    "# return the minimum value from the list\n",
    "print(min(my_list))    "
   ]
  },
  {
   "cell_type": "markdown",
   "id": "5141f614",
   "metadata": {},
   "source": [
    "**3. `max()`**"
   ]
  },
  {
   "cell_type": "code",
   "execution_count": 45,
   "id": "f701017f",
   "metadata": {},
   "outputs": [
    {
     "name": "stdout",
     "output_type": "stream",
     "text": [
      "9\n"
     ]
    }
   ],
   "source": [
    "# return the maximum vlue from the list\n",
    "print(max(my_list))    "
   ]
  },
  {
   "cell_type": "markdown",
   "id": "5a59c808",
   "metadata": {},
   "source": [
    "#### **4. `sum()`**"
   ]
  },
  {
   "cell_type": "code",
   "execution_count": 47,
   "id": "67e26cba",
   "metadata": {},
   "outputs": [
    {
     "name": "stdout",
     "output_type": "stream",
     "text": [
      "31\n"
     ]
    }
   ],
   "source": [
    "# returns the sum of elements\n",
    "print(sum(my_list))    "
   ]
  },
  {
   "cell_type": "markdown",
   "id": "2c91f3e0",
   "metadata": {},
   "source": [
    "#### **5. `sorted()`**"
   ]
  },
  {
   "cell_type": "code",
   "execution_count": 52,
   "id": "6b2a123a",
   "metadata": {},
   "outputs": [
    {
     "name": "stdout",
     "output_type": "stream",
     "text": [
      "[9, 6, 5, 4, 3, 2, 1, 1]\n"
     ]
    }
   ],
   "source": [
    "# returns the sorted list\n",
    "print(sorted(my_list, reverse=True)) "
   ]
  },
  {
   "cell_type": "code",
   "execution_count": 50,
   "id": "2b8c6924",
   "metadata": {},
   "outputs": [],
   "source": [
    "sorted_list = sorted(my_list)"
   ]
  },
  {
   "cell_type": "code",
   "execution_count": 51,
   "id": "5740ce76",
   "metadata": {},
   "outputs": [
    {
     "data": {
      "text/plain": [
       "[1, 1, 2, 3, 4, 5, 6, 9]"
      ]
     },
     "execution_count": 51,
     "metadata": {},
     "output_type": "execute_result"
    }
   ],
   "source": [
    "sorted_list"
   ]
  },
  {
   "cell_type": "code",
   "execution_count": 49,
   "id": "e874bac9",
   "metadata": {},
   "outputs": [
    {
     "data": {
      "text/plain": [
       "[3, 1, 4, 1, 5, 9, 2, 6]"
      ]
     },
     "execution_count": 49,
     "metadata": {},
     "output_type": "execute_result"
    }
   ],
   "source": [
    "my_list"
   ]
  },
  {
   "cell_type": "markdown",
   "id": "4d5644c4",
   "metadata": {},
   "source": [
    "### 4. **Manipulating Elements**"
   ]
  },
  {
   "cell_type": "markdown",
   "id": "f5e4a0ed",
   "metadata": {},
   "source": [
    "- You can modify, add, remove, or search for elements in a list using various methods such as `append()`, `extend()`, `insert()`, `remove()`, `pop()`, `index()`, and `count()`."
   ]
  },
  {
   "cell_type": "code",
   "execution_count": 53,
   "id": "2d88dd47",
   "metadata": {},
   "outputs": [],
   "source": [
    "my_list = [1, 2, 3]"
   ]
  },
  {
   "cell_type": "code",
   "execution_count": 54,
   "id": "7f2aab66",
   "metadata": {},
   "outputs": [
    {
     "data": {
      "text/plain": [
       "[1, 2, 3]"
      ]
     },
     "execution_count": 54,
     "metadata": {},
     "output_type": "execute_result"
    }
   ],
   "source": [
    "my_list"
   ]
  },
  {
   "cell_type": "markdown",
   "id": "064b9ba8",
   "metadata": {},
   "source": [
    "#### **1. `append()`**"
   ]
  },
  {
   "cell_type": "code",
   "execution_count": 55,
   "id": "01145553",
   "metadata": {},
   "outputs": [],
   "source": [
    "# Append an element to the end\n",
    "my_list.append(4)    "
   ]
  },
  {
   "cell_type": "code",
   "execution_count": 56,
   "id": "1d7e4300",
   "metadata": {},
   "outputs": [
    {
     "data": {
      "text/plain": [
       "[1, 2, 3, 4]"
      ]
     },
     "execution_count": 56,
     "metadata": {},
     "output_type": "execute_result"
    }
   ],
   "source": [
    "my_list"
   ]
  },
  {
   "cell_type": "markdown",
   "id": "b4c6e09b",
   "metadata": {},
   "source": [
    "#### **2. `extend()`**"
   ]
  },
  {
   "cell_type": "code",
   "execution_count": 57,
   "id": "79edf16c",
   "metadata": {},
   "outputs": [],
   "source": [
    "# Extend the list with another list\n",
    "my_list.extend([5, 6]) "
   ]
  },
  {
   "cell_type": "code",
   "execution_count": 58,
   "id": "1ff27d63",
   "metadata": {},
   "outputs": [
    {
     "data": {
      "text/plain": [
       "[1, 2, 3, 4, 5, 6]"
      ]
     },
     "execution_count": 58,
     "metadata": {},
     "output_type": "execute_result"
    }
   ],
   "source": [
    "my_list"
   ]
  },
  {
   "cell_type": "code",
   "execution_count": 61,
   "id": "44e9363c",
   "metadata": {},
   "outputs": [],
   "source": [
    "list1 = [10,20,30]\n",
    "list2 = [100,200,300]"
   ]
  },
  {
   "cell_type": "code",
   "execution_count": 62,
   "id": "0fb9a928",
   "metadata": {},
   "outputs": [
    {
     "data": {
      "text/plain": [
       "[10, 20, 30]"
      ]
     },
     "execution_count": 62,
     "metadata": {},
     "output_type": "execute_result"
    }
   ],
   "source": [
    "list1\n"
   ]
  },
  {
   "cell_type": "code",
   "execution_count": 63,
   "id": "f0fc4260",
   "metadata": {},
   "outputs": [
    {
     "data": {
      "text/plain": [
       "[100, 200, 300]"
      ]
     },
     "execution_count": 63,
     "metadata": {},
     "output_type": "execute_result"
    }
   ],
   "source": [
    "list2"
   ]
  },
  {
   "cell_type": "code",
   "execution_count": 64,
   "id": "7caaf0e1",
   "metadata": {},
   "outputs": [],
   "source": [
    "list1.extend(list2)"
   ]
  },
  {
   "cell_type": "code",
   "execution_count": 65,
   "id": "ca13a48e",
   "metadata": {},
   "outputs": [
    {
     "data": {
      "text/plain": [
       "[10, 20, 30, 100, 200, 300]"
      ]
     },
     "execution_count": 65,
     "metadata": {},
     "output_type": "execute_result"
    }
   ],
   "source": [
    "list1"
   ]
  },
  {
   "cell_type": "code",
   "execution_count": 66,
   "id": "e2c349ee",
   "metadata": {},
   "outputs": [],
   "source": [
    "list2.extend(list1)"
   ]
  },
  {
   "cell_type": "code",
   "execution_count": 67,
   "id": "d1c89b74",
   "metadata": {},
   "outputs": [
    {
     "data": {
      "text/plain": [
       "[100, 200, 300, 10, 20, 30, 100, 200, 300]"
      ]
     },
     "execution_count": 67,
     "metadata": {},
     "output_type": "execute_result"
    }
   ],
   "source": [
    "list2"
   ]
  },
  {
   "cell_type": "markdown",
   "id": "e361c751",
   "metadata": {},
   "source": [
    "#### **3. `insert()`**"
   ]
  },
  {
   "cell_type": "code",
   "execution_count": 68,
   "id": "f9fc63d8",
   "metadata": {},
   "outputs": [
    {
     "data": {
      "text/plain": [
       "[10, 1, 2, 3, 4, 5, 6]"
      ]
     },
     "execution_count": 68,
     "metadata": {},
     "output_type": "execute_result"
    }
   ],
   "source": [
    "my_list"
   ]
  },
  {
   "cell_type": "code",
   "execution_count": 69,
   "id": "f220baf1",
   "metadata": {},
   "outputs": [],
   "source": [
    "# Insert an element at a specific index\n",
    "my_list.insert(3, 100)"
   ]
  },
  {
   "cell_type": "code",
   "execution_count": 71,
   "id": "4b910e9c",
   "metadata": {},
   "outputs": [],
   "source": [
    "# Insert an element at a specific index\n",
    "my_list.insert(3, 3)"
   ]
  },
  {
   "cell_type": "code",
   "execution_count": 72,
   "id": "c4056d45",
   "metadata": {},
   "outputs": [
    {
     "data": {
      "text/plain": [
       "[10, 1, 2, 3, 100, 3, 4, 5, 6]"
      ]
     },
     "execution_count": 72,
     "metadata": {},
     "output_type": "execute_result"
    }
   ],
   "source": [
    "my_list"
   ]
  },
  {
   "cell_type": "markdown",
   "id": "f4870443",
   "metadata": {},
   "source": [
    "#### **4. `remove()`**"
   ]
  },
  {
   "cell_type": "code",
   "execution_count": 73,
   "id": "3bae12e7",
   "metadata": {},
   "outputs": [],
   "source": [
    "# Remove the first occurrence of a value\n",
    "my_list.remove(3)      "
   ]
  },
  {
   "cell_type": "code",
   "execution_count": 74,
   "id": "8ef69a9f",
   "metadata": {},
   "outputs": [
    {
     "data": {
      "text/plain": [
       "[10, 1, 2, 100, 3, 4, 5, 6]"
      ]
     },
     "execution_count": 74,
     "metadata": {},
     "output_type": "execute_result"
    }
   ],
   "source": [
    "my_list"
   ]
  },
  {
   "cell_type": "markdown",
   "id": "383ec76b",
   "metadata": {},
   "source": [
    "#### **5. `pop()`**"
   ]
  },
  {
   "cell_type": "code",
   "execution_count": 75,
   "id": "75f1cd0d",
   "metadata": {},
   "outputs": [
    {
     "data": {
      "text/plain": [
       "[10, 1, 2, 100, 3, 4, 5, 6]"
      ]
     },
     "execution_count": 75,
     "metadata": {},
     "output_type": "execute_result"
    }
   ],
   "source": [
    "my_list"
   ]
  },
  {
   "cell_type": "code",
   "execution_count": 78,
   "id": "911b77f8",
   "metadata": {},
   "outputs": [
    {
     "data": {
      "text/plain": [
       "5"
      ]
     },
     "execution_count": 78,
     "metadata": {},
     "output_type": "execute_result"
    }
   ],
   "source": [
    "my_list.pop()"
   ]
  },
  {
   "cell_type": "code",
   "execution_count": 79,
   "id": "57521d9e",
   "metadata": {},
   "outputs": [
    {
     "data": {
      "text/plain": [
       "[10, 1, 2, 100, 3, 4]"
      ]
     },
     "execution_count": 79,
     "metadata": {},
     "output_type": "execute_result"
    }
   ],
   "source": [
    "my_list"
   ]
  },
  {
   "cell_type": "code",
   "execution_count": 80,
   "id": "9188edf8",
   "metadata": {},
   "outputs": [],
   "source": [
    "# Remove and return the last element\n",
    "popped_element = my_list.pop()  "
   ]
  },
  {
   "cell_type": "code",
   "execution_count": 81,
   "id": "a7f89ba5",
   "metadata": {},
   "outputs": [
    {
     "data": {
      "text/plain": [
       "4"
      ]
     },
     "execution_count": 81,
     "metadata": {},
     "output_type": "execute_result"
    }
   ],
   "source": [
    "popped_element"
   ]
  },
  {
   "cell_type": "markdown",
   "id": "b1d5a31e",
   "metadata": {},
   "source": [
    "#### **6. `index()`**"
   ]
  },
  {
   "cell_type": "code",
   "execution_count": 82,
   "id": "b5ba9969",
   "metadata": {},
   "outputs": [
    {
     "data": {
      "text/plain": [
       "3"
      ]
     },
     "execution_count": 82,
     "metadata": {},
     "output_type": "execute_result"
    }
   ],
   "source": [
    "my_list.index(100)"
   ]
  },
  {
   "cell_type": "code",
   "execution_count": 74,
   "id": "34691507",
   "metadata": {},
   "outputs": [],
   "source": [
    "# Find the index of a value\n",
    "index_of_2 = my_list.index(2)   "
   ]
  },
  {
   "cell_type": "code",
   "execution_count": 75,
   "id": "2ca6101a",
   "metadata": {},
   "outputs": [
    {
     "data": {
      "text/plain": [
       "2"
      ]
     },
     "execution_count": 75,
     "metadata": {},
     "output_type": "execute_result"
    }
   ],
   "source": [
    "index_of_2"
   ]
  },
  {
   "cell_type": "code",
   "execution_count": 85,
   "id": "23d6987e",
   "metadata": {},
   "outputs": [
    {
     "name": "stdout",
     "output_type": "stream",
     "text": [
      "index =  0 Value =  10\n",
      "index =  1 Value =  1\n",
      "index =  2 Value =  2\n",
      "index =  3 Value =  100\n",
      "index =  4 Value =  3\n"
     ]
    }
   ],
   "source": [
    "for i in my_list:\n",
    "    print(\"index = \",my_list.index(i),\"Value = \",i)"
   ]
  },
  {
   "cell_type": "markdown",
   "id": "066afa67",
   "metadata": {},
   "source": [
    "#### **7. `count()`**"
   ]
  },
  {
   "cell_type": "code",
   "execution_count": 88,
   "id": "4478f8e9",
   "metadata": {},
   "outputs": [],
   "source": [
    "my_list.extend([1,2,3,4,2,3,100,3,4])"
   ]
  },
  {
   "cell_type": "code",
   "execution_count": 89,
   "id": "cded81d5",
   "metadata": {},
   "outputs": [
    {
     "data": {
      "text/plain": [
       "[10, 1, 2, 100, 3, 1, 2, 3, 4, 2, 3, 100, 3, 4]"
      ]
     },
     "execution_count": 89,
     "metadata": {},
     "output_type": "execute_result"
    }
   ],
   "source": [
    "my_list"
   ]
  },
  {
   "cell_type": "code",
   "execution_count": 91,
   "id": "a91054ca",
   "metadata": {
    "scrolled": true
   },
   "outputs": [
    {
     "data": {
      "text/plain": [
       "2"
      ]
     },
     "execution_count": 91,
     "metadata": {},
     "output_type": "execute_result"
    }
   ],
   "source": [
    "my_list.count(100)"
   ]
  },
  {
   "cell_type": "code",
   "execution_count": 92,
   "id": "4126206a",
   "metadata": {},
   "outputs": [],
   "source": [
    "# Count occurrences of a value\n",
    "count_of_1 = my_list.count(1)    "
   ]
  },
  {
   "cell_type": "code",
   "execution_count": 93,
   "id": "76bbdce9",
   "metadata": {},
   "outputs": [
    {
     "data": {
      "text/plain": [
       "2"
      ]
     },
     "execution_count": 93,
     "metadata": {},
     "output_type": "execute_result"
    }
   ],
   "source": [
    "count_of_1"
   ]
  },
  {
   "cell_type": "markdown",
   "id": "bd5e02a3",
   "metadata": {},
   "source": [
    "### 5. **Sorting and Reversing**"
   ]
  },
  {
   "cell_type": "markdown",
   "id": "f21122c2",
   "metadata": {},
   "source": [
    "- You can sort a list using the `sort()` method or the `sorted()` function.\n",
    "- You can also reverse the order of elements using the `reverse()` method."
   ]
  },
  {
   "cell_type": "code",
   "execution_count": 103,
   "id": "8967ddf0",
   "metadata": {},
   "outputs": [],
   "source": [
    "my_list = [3, 1, 4, 1, 5, 9, 2, 6]"
   ]
  },
  {
   "cell_type": "code",
   "execution_count": 96,
   "id": "0ea2c01e",
   "metadata": {},
   "outputs": [
    {
     "data": {
      "text/plain": [
       "[10, 1, 2, 100, 3, 1, 2, 3, 4, 2, 3, 100, 3, 4]"
      ]
     },
     "execution_count": 96,
     "metadata": {},
     "output_type": "execute_result"
    }
   ],
   "source": [
    "my_list"
   ]
  },
  {
   "cell_type": "markdown",
   "id": "6dcc0747",
   "metadata": {},
   "source": [
    "#### 1. sort()**"
   ]
  },
  {
   "cell_type": "code",
   "execution_count": 99,
   "id": "65cfb11f",
   "metadata": {},
   "outputs": [],
   "source": [
    "# Sort the list in ascending order with permanent change\n",
    "my_list.sort(reverse=True)         "
   ]
  },
  {
   "cell_type": "code",
   "execution_count": 100,
   "id": "6988e4ad",
   "metadata": {},
   "outputs": [
    {
     "data": {
      "text/plain": [
       "[100, 100, 10, 4, 4, 3, 3, 3, 3, 2, 2, 2, 1, 1]"
      ]
     },
     "execution_count": 100,
     "metadata": {},
     "output_type": "execute_result"
    }
   ],
   "source": [
    "my_list"
   ]
  },
  {
   "cell_type": "markdown",
   "id": "74f1950b",
   "metadata": {},
   "source": [
    "#### 2. sorted()"
   ]
  },
  {
   "cell_type": "code",
   "execution_count": 101,
   "id": "7e01df91",
   "metadata": {},
   "outputs": [],
   "source": [
    "# Create a sorted copy of the list\n",
    "sorted_list = sorted(my_list)"
   ]
  },
  {
   "cell_type": "code",
   "execution_count": 102,
   "id": "2ec5cb4d",
   "metadata": {},
   "outputs": [
    {
     "data": {
      "text/plain": [
       "[100, 100, 10, 4, 4, 3, 3, 3, 3, 2, 2, 2, 1, 1]"
      ]
     },
     "execution_count": 102,
     "metadata": {},
     "output_type": "execute_result"
    }
   ],
   "source": [
    "my_list"
   ]
  },
  {
   "cell_type": "markdown",
   "id": "e3daa8f8",
   "metadata": {},
   "source": [
    "#### **3. Reverse**"
   ]
  },
  {
   "cell_type": "code",
   "execution_count": 104,
   "id": "5c927722",
   "metadata": {},
   "outputs": [
    {
     "data": {
      "text/plain": [
       "[3, 1, 4, 1, 5, 9, 2, 6]"
      ]
     },
     "execution_count": 104,
     "metadata": {},
     "output_type": "execute_result"
    }
   ],
   "source": [
    "my_list"
   ]
  },
  {
   "cell_type": "code",
   "execution_count": 105,
   "id": "d0343f1f",
   "metadata": {},
   "outputs": [],
   "source": [
    "# Reverse the order of elements\n",
    "my_list.reverse()     "
   ]
  },
  {
   "cell_type": "code",
   "execution_count": 106,
   "id": "ea6ffeac",
   "metadata": {},
   "outputs": [
    {
     "name": "stdout",
     "output_type": "stream",
     "text": [
      "[6, 2, 9, 5, 1, 4, 1, 3]\n"
     ]
    }
   ],
   "source": [
    "print(my_list)         "
   ]
  },
  {
   "cell_type": "markdown",
   "id": "7bc70107",
   "metadata": {},
   "source": [
    "# Number of occurrences of elements"
   ]
  },
  {
   "cell_type": "markdown",
   "id": "63e2890c",
   "metadata": {},
   "source": [
    "- Dealing with the number of occurrences of elements in a list is a common task in Python programming.\n",
    "- There are several methods and techniques available to accomplish this, including **built-in methods** and **functions from different modules**. "
   ]
  },
  {
   "cell_type": "markdown",
   "id": "30c20259",
   "metadata": {},
   "source": [
    "## **1. Using the `count()` Method**"
   ]
  },
  {
   "cell_type": "markdown",
   "id": "e0a83f79",
   "metadata": {},
   "source": [
    "- The `count()` method is a built-in method of lists in Python that returns the number of occurrences of a specified element in the list."
   ]
  },
  {
   "cell_type": "code",
   "execution_count": 108,
   "id": "f468bc9d",
   "metadata": {},
   "outputs": [],
   "source": [
    "my_list = [1, 2, 2, 3, 3, 3, 4, 4, 4, 4]"
   ]
  },
  {
   "cell_type": "code",
   "execution_count": 109,
   "id": "6893e98c",
   "metadata": {},
   "outputs": [
    {
     "name": "stdout",
     "output_type": "stream",
     "text": [
      "3\n"
     ]
    }
   ],
   "source": [
    "# Count occurrences of 3 in the list\n",
    "count_of_3 = my_list.count(3)\n",
    "print(count_of_3)"
   ]
  },
  {
   "cell_type": "markdown",
   "id": "7eb2dbb4",
   "metadata": {},
   "source": [
    "## **2. Using the `collections.Counter` Class**"
   ]
  },
  {
   "cell_type": "markdown",
   "id": "f64821f5",
   "metadata": {},
   "source": [
    "- The `Counter` class from the `collections` module provides a dictionary-like container for counting hashable objects.\n",
    "- You can use it to count the occurrences of elements in a list."
   ]
  },
  {
   "cell_type": "code",
   "execution_count": 110,
   "id": "7fde490d",
   "metadata": {},
   "outputs": [],
   "source": [
    "from collections import Counter"
   ]
  },
  {
   "cell_type": "code",
   "execution_count": 111,
   "id": "8926a88d",
   "metadata": {},
   "outputs": [],
   "source": [
    "my_list = [1, 2, 2, 3, 3, 3, 4, 4, 4, 4]"
   ]
  },
  {
   "cell_type": "code",
   "execution_count": 114,
   "id": "40385db9",
   "metadata": {},
   "outputs": [
    {
     "name": "stdout",
     "output_type": "stream",
     "text": [
      "Counter({4: 4, 3: 3, 2: 2, 1: 1})\n"
     ]
    }
   ],
   "source": [
    "# Count occurrences of elements in the list\n",
    "counts = Counter(my_list)\n",
    "print(counts)"
   ]
  },
  {
   "cell_type": "code",
   "execution_count": 115,
   "id": "119b4f13",
   "metadata": {},
   "outputs": [
    {
     "name": "stdout",
     "output_type": "stream",
     "text": [
      "3\n"
     ]
    }
   ],
   "source": [
    "# Access count of a specific element\n",
    "print(counts[3])  "
   ]
  },
  {
   "cell_type": "markdown",
   "id": "026721bf",
   "metadata": {},
   "source": [
    "## **3. Using List Comprehension with `collections.defaultdict`**"
   ]
  },
  {
   "cell_type": "markdown",
   "id": "1dda7354",
   "metadata": {},
   "source": [
    "- You can use list comprehension along with `collections.defaultdict` to count occurrences of elements in a list."
   ]
  },
  {
   "cell_type": "code",
   "execution_count": 116,
   "id": "f7eebf0e",
   "metadata": {},
   "outputs": [],
   "source": [
    "from collections import defaultdict"
   ]
  },
  {
   "cell_type": "code",
   "execution_count": 117,
   "id": "e00523ba",
   "metadata": {},
   "outputs": [],
   "source": [
    "my_list = [1, 2, 2, 3, 3, 3, 4, 4, 4, 4]"
   ]
  },
  {
   "cell_type": "code",
   "execution_count": 118,
   "id": "832c5e4d",
   "metadata": {},
   "outputs": [
    {
     "name": "stdout",
     "output_type": "stream",
     "text": [
      "{1: 1, 2: 2, 3: 3, 4: 4}\n"
     ]
    }
   ],
   "source": [
    "# Count occurrences of elements in the list\n",
    "counts = defaultdict(int)\n",
    "for element in my_list:\n",
    "    counts[element] += 1\n",
    "\n",
    "print(dict(counts))"
   ]
  },
  {
   "cell_type": "code",
   "execution_count": 119,
   "id": "dfd3a106",
   "metadata": {},
   "outputs": [
    {
     "name": "stdout",
     "output_type": "stream",
     "text": [
      "3\n"
     ]
    }
   ],
   "source": [
    "# Access count of a specific element\n",
    "print(counts[3])"
   ]
  },
  {
   "cell_type": "markdown",
   "id": "2648dd8e",
   "metadata": {},
   "source": [
    "## **4. Using `numpy.bincount()`**"
   ]
  },
  {
   "cell_type": "markdown",
   "id": "b08f1f5a",
   "metadata": {},
   "source": [
    "- If the elements of the list are non-negative integers, you can use the `numpy.bincount()` function to count occurrences efficiently."
   ]
  },
  {
   "cell_type": "code",
   "execution_count": 122,
   "id": "41dfe888",
   "metadata": {},
   "outputs": [],
   "source": [
    "import numpy as np"
   ]
  },
  {
   "cell_type": "code",
   "execution_count": 123,
   "id": "073068b9",
   "metadata": {},
   "outputs": [],
   "source": [
    "my_list = [1, 2, 2, 3, 3, 3, 4, 4, 4, 4]"
   ]
  },
  {
   "cell_type": "code",
   "execution_count": 124,
   "id": "42da798c",
   "metadata": {},
   "outputs": [
    {
     "data": {
      "text/plain": [
       "[1, 2, 2, 3, 3, 3, 4, 4, 4, 4]"
      ]
     },
     "execution_count": 124,
     "metadata": {},
     "output_type": "execute_result"
    }
   ],
   "source": [
    "my_list"
   ]
  },
  {
   "cell_type": "code",
   "execution_count": 126,
   "id": "52127015",
   "metadata": {},
   "outputs": [
    {
     "name": "stdout",
     "output_type": "stream",
     "text": [
      "[0 1 2 3 4]\n"
     ]
    }
   ],
   "source": [
    "# Count occurrences of elements in the list\n",
    "counts = np.bincount(my_list)\n",
    "\n",
    "print(counts)"
   ]
  },
  {
   "cell_type": "code",
   "execution_count": 127,
   "id": "07c849fc",
   "metadata": {},
   "outputs": [
    {
     "name": "stdout",
     "output_type": "stream",
     "text": [
      "3\n"
     ]
    }
   ],
   "source": [
    "# Access count of a specific element\n",
    "print(counts[3])  "
   ]
  },
  {
   "cell_type": "code",
   "execution_count": null,
   "id": "64831cc3",
   "metadata": {},
   "outputs": [],
   "source": []
  },
  {
   "cell_type": "markdown",
   "id": "bd48a1da",
   "metadata": {},
   "source": [
    "## Common elements in two lists"
   ]
  },
  {
   "cell_type": "markdown",
   "id": "a0e03242",
   "metadata": {},
   "source": [
    "- You can find common elements between two lists in Python using various methods."
   ]
  },
  {
   "cell_type": "markdown",
   "id": "2e297921",
   "metadata": {},
   "source": [
    "### 1. **Using List Comprehension**"
   ]
  },
  {
   "cell_type": "markdown",
   "id": "68ae9c56",
   "metadata": {},
   "source": [
    "- You can use list comprehension to create a new list containing elements that are common in both lists."
   ]
  },
  {
   "cell_type": "code",
   "execution_count": 128,
   "id": "da722e04",
   "metadata": {},
   "outputs": [],
   "source": [
    "list1 = [1, 2, 3, 4, 5]\n",
    "list2 = [3, 4, 5, 6, 7]"
   ]
  },
  {
   "cell_type": "code",
   "execution_count": 129,
   "id": "8b2cb832",
   "metadata": {},
   "outputs": [
    {
     "data": {
      "text/plain": [
       "[1, 2, 3, 4, 5]"
      ]
     },
     "execution_count": 129,
     "metadata": {},
     "output_type": "execute_result"
    }
   ],
   "source": [
    "list1"
   ]
  },
  {
   "cell_type": "code",
   "execution_count": 130,
   "id": "3216e9ab",
   "metadata": {},
   "outputs": [
    {
     "data": {
      "text/plain": [
       "[3, 4, 5, 6, 7]"
      ]
     },
     "execution_count": 130,
     "metadata": {},
     "output_type": "execute_result"
    }
   ],
   "source": [
    "list2"
   ]
  },
  {
   "cell_type": "code",
   "execution_count": 131,
   "id": "a3af6083",
   "metadata": {},
   "outputs": [
    {
     "name": "stdout",
     "output_type": "stream",
     "text": [
      "[3, 4, 5]\n"
     ]
    }
   ],
   "source": [
    "common_elements = [x for x in list1 if x in list2]\n",
    "print(common_elements)  "
   ]
  },
  {
   "cell_type": "markdown",
   "id": "c0085707",
   "metadata": {},
   "source": [
    "#### HW - Convert above list comprehencsion into a for loop and relicate the results"
   ]
  },
  {
   "cell_type": "markdown",
   "id": "871b6aa9",
   "metadata": {},
   "source": [
    "### 2. **Using the `set` Intersection**"
   ]
  },
  {
   "cell_type": "markdown",
   "id": "20cd2301",
   "metadata": {},
   "source": [
    "- You can convert both lists into sets and then use the intersection (`&`) operator to find common elements."
   ]
  },
  {
   "cell_type": "code",
   "execution_count": 132,
   "id": "07631e47",
   "metadata": {},
   "outputs": [],
   "source": [
    "list1 = [1, 2, 3, 4, 5]\n",
    "list2 = [3, 4, 5, 6, 7]"
   ]
  },
  {
   "cell_type": "code",
   "execution_count": 133,
   "id": "65fd4531",
   "metadata": {},
   "outputs": [
    {
     "data": {
      "text/plain": [
       "[1, 2, 3, 4, 5]"
      ]
     },
     "execution_count": 133,
     "metadata": {},
     "output_type": "execute_result"
    }
   ],
   "source": [
    "list1"
   ]
  },
  {
   "cell_type": "code",
   "execution_count": 134,
   "id": "0f5f561e",
   "metadata": {},
   "outputs": [
    {
     "data": {
      "text/plain": [
       "[3, 4, 5, 6, 7]"
      ]
     },
     "execution_count": 134,
     "metadata": {},
     "output_type": "execute_result"
    }
   ],
   "source": [
    "list2"
   ]
  },
  {
   "cell_type": "code",
   "execution_count": 135,
   "id": "e6ee4542",
   "metadata": {},
   "outputs": [
    {
     "data": {
      "text/plain": [
       "list"
      ]
     },
     "execution_count": 135,
     "metadata": {},
     "output_type": "execute_result"
    }
   ],
   "source": [
    "type(list1)"
   ]
  },
  {
   "cell_type": "code",
   "execution_count": 136,
   "id": "e7dcd795",
   "metadata": {},
   "outputs": [
    {
     "data": {
      "text/plain": [
       "list"
      ]
     },
     "execution_count": 136,
     "metadata": {},
     "output_type": "execute_result"
    }
   ],
   "source": [
    "type(list2)"
   ]
  },
  {
   "cell_type": "code",
   "execution_count": null,
   "id": "18639d53",
   "metadata": {},
   "outputs": [],
   "source": []
  },
  {
   "cell_type": "code",
   "execution_count": 137,
   "id": "67c189b4",
   "metadata": {},
   "outputs": [
    {
     "name": "stdout",
     "output_type": "stream",
     "text": [
      "[3, 4, 5]\n"
     ]
    }
   ],
   "source": [
    "set1 = set(list1)\n",
    "set2 = set(list2)\n",
    "\n",
    "common_elements = list(set1 & set2)\n",
    "print(common_elements)"
   ]
  },
  {
   "cell_type": "markdown",
   "id": "be94a30a",
   "metadata": {},
   "source": [
    "### 3. **Using the `set` Intersection (Shorter Version)**"
   ]
  },
  {
   "cell_type": "markdown",
   "id": "3aa61202",
   "metadata": {},
   "source": [
    "- You can directly perform the intersection operation between the sets created from the lists."
   ]
  },
  {
   "cell_type": "code",
   "execution_count": 138,
   "id": "13890163",
   "metadata": {},
   "outputs": [
    {
     "name": "stdout",
     "output_type": "stream",
     "text": [
      "[3, 4, 5]\n"
     ]
    }
   ],
   "source": [
    "list1 = [1, 2, 3, 4, 5]\n",
    "list2 = [3, 4, 5, 6, 7]\n",
    "\n",
    "common_elements = list(set(list1) & set(list2))\n",
    "print(common_elements)  "
   ]
  },
  {
   "cell_type": "markdown",
   "id": "a3108231",
   "metadata": {},
   "source": [
    "### 4. **Using the `filter` Function**"
   ]
  },
  {
   "cell_type": "markdown",
   "id": "f9eefbe7",
   "metadata": {},
   "source": [
    "- You can use the `filter()` function along with a lambda function to filter elements that are common in both lists."
   ]
  },
  {
   "cell_type": "code",
   "execution_count": 139,
   "id": "587c8f97",
   "metadata": {},
   "outputs": [
    {
     "name": "stdout",
     "output_type": "stream",
     "text": [
      "[3, 4, 5]\n"
     ]
    }
   ],
   "source": [
    "list1 = [1, 2, 3, 4, 5]\n",
    "list2 = [3, 4, 5, 6, 7]\n",
    "\n",
    "common_elements = list(filter(lambda x: x in list1, list2))\n",
    "print(common_elements) "
   ]
  },
  {
   "cell_type": "markdown",
   "id": "e9e5fd38",
   "metadata": {},
   "source": [
    "### 5. **Using List Intersection (`set.intersection()`)**"
   ]
  },
  {
   "cell_type": "markdown",
   "id": "a0c63f04",
   "metadata": {},
   "source": [
    "- You can directly use the `intersection()` method of sets to find common elements between two sets created from the lists."
   ]
  },
  {
   "cell_type": "code",
   "execution_count": 140,
   "id": "fb3ae9d8",
   "metadata": {},
   "outputs": [
    {
     "name": "stdout",
     "output_type": "stream",
     "text": [
      "[3, 4, 5]\n"
     ]
    }
   ],
   "source": [
    "list1 = [1, 2, 3, 4, 5]\n",
    "list2 = [3, 4, 5, 6, 7]\n",
    "\n",
    "common_elements = list(set(list1).intersection(list2))\n",
    "print(common_elements) "
   ]
  },
  {
   "cell_type": "markdown",
   "id": "c0d91e3c",
   "metadata": {},
   "source": [
    "## Nested List"
   ]
  },
  {
   "cell_type": "markdown",
   "id": "76ddc814",
   "metadata": {},
   "source": [
    "- Nested lists in Python are lists that contain other lists as elements.\n",
    "- This means that you can have a list within another list, forming a two-dimensional structure.\n",
    "- Nested lists allow you to represent and work with multi-dimensional data in Python."
   ]
  },
  {
   "cell_type": "code",
   "execution_count": 141,
   "id": "184b5042",
   "metadata": {},
   "outputs": [],
   "source": [
    "nested_list = [[1, 2, 3], [4, 5, 6], [7, 8, 9]]"
   ]
  },
  {
   "cell_type": "code",
   "execution_count": 143,
   "id": "66457c90",
   "metadata": {},
   "outputs": [
    {
     "data": {
      "text/plain": [
       "[[1, 2, 3], [4, 5, 6], [7, 8, 9]]"
      ]
     },
     "execution_count": 143,
     "metadata": {},
     "output_type": "execute_result"
    }
   ],
   "source": [
    "nested_list"
   ]
  },
  {
   "cell_type": "markdown",
   "id": "328c965c",
   "metadata": {},
   "source": [
    "### **1. Matrix Representation**"
   ]
  },
  {
   "cell_type": "markdown",
   "id": "dc3f69dd",
   "metadata": {},
   "source": [
    "- Nested lists are commonly used to represent matrices in mathematics. \n",
    "- Each inner list represents a row of the matrix, and the elements within each inner list represent the columns."
   ]
  },
  {
   "cell_type": "code",
   "execution_count": 144,
   "id": "c79e1163",
   "metadata": {},
   "outputs": [],
   "source": [
    "matrix = [[1, 2, 3],\n",
    "         [4, 5, 6],\n",
    "         [7, 8, 9]]"
   ]
  },
  {
   "cell_type": "code",
   "execution_count": 145,
   "id": "17c08077",
   "metadata": {
    "scrolled": true
   },
   "outputs": [
    {
     "data": {
      "text/plain": [
       "[[1, 2, 3], [4, 5, 6], [7, 8, 9]]"
      ]
     },
     "execution_count": 145,
     "metadata": {},
     "output_type": "execute_result"
    }
   ],
   "source": [
    "matrix"
   ]
  },
  {
   "cell_type": "code",
   "execution_count": null,
   "id": "be325e96",
   "metadata": {},
   "outputs": [],
   "source": []
  },
  {
   "cell_type": "code",
   "execution_count": 147,
   "id": "efcb0356",
   "metadata": {},
   "outputs": [
    {
     "data": {
      "text/plain": [
       "2"
      ]
     },
     "execution_count": 147,
     "metadata": {},
     "output_type": "execute_result"
    }
   ],
   "source": [
    "matrix[0][1]"
   ]
  },
  {
   "cell_type": "code",
   "execution_count": null,
   "id": "bf50f8ac",
   "metadata": {},
   "outputs": [],
   "source": []
  },
  {
   "cell_type": "markdown",
   "id": "0202ca07",
   "metadata": {},
   "source": [
    "- In this matrix representation, `matrix[0]` represents the first row `[1, 2, 3]`, `matrix[1]` represents the second row `[4, 5, 6]`, and so on."
   ]
  },
  {
   "cell_type": "markdown",
   "id": "00ceddb4",
   "metadata": {},
   "source": [
    "### **2. Tabular Data**"
   ]
  },
  {
   "cell_type": "markdown",
   "id": "51c782dc",
   "metadata": {},
   "source": [
    "- Nested lists can be used to represent tabular data, where each inner list represents a row of data with multiple columns."
   ]
  },
  {
   "cell_type": "code",
   "execution_count": 148,
   "id": "49b7fc25",
   "metadata": {},
   "outputs": [],
   "source": [
    "student_data = [\n",
    "   ['Alice', 20, 'A'],\n",
    "   ['Bob', 22, 'B'],\n",
    "   ['Charlie', 21, 'A']\n",
    "]"
   ]
  },
  {
   "cell_type": "code",
   "execution_count": 149,
   "id": "0f1b462b",
   "metadata": {},
   "outputs": [
    {
     "data": {
      "text/plain": [
       "[['Alice', 20, 'A'], ['Bob', 22, 'B'], ['Charlie', 21, 'A']]"
      ]
     },
     "execution_count": 149,
     "metadata": {},
     "output_type": "execute_result"
    }
   ],
   "source": [
    "student_data"
   ]
  },
  {
   "cell_type": "code",
   "execution_count": 150,
   "id": "620e87fd",
   "metadata": {},
   "outputs": [],
   "source": [
    "import pandas as pd"
   ]
  },
  {
   "cell_type": "code",
   "execution_count": 151,
   "id": "5bf1ed50",
   "metadata": {},
   "outputs": [
    {
     "data": {
      "text/html": [
       "<div>\n",
       "<style scoped>\n",
       "    .dataframe tbody tr th:only-of-type {\n",
       "        vertical-align: middle;\n",
       "    }\n",
       "\n",
       "    .dataframe tbody tr th {\n",
       "        vertical-align: top;\n",
       "    }\n",
       "\n",
       "    .dataframe thead th {\n",
       "        text-align: right;\n",
       "    }\n",
       "</style>\n",
       "<table border=\"1\" class=\"dataframe\">\n",
       "  <thead>\n",
       "    <tr style=\"text-align: right;\">\n",
       "      <th></th>\n",
       "      <th>0</th>\n",
       "      <th>1</th>\n",
       "      <th>2</th>\n",
       "    </tr>\n",
       "  </thead>\n",
       "  <tbody>\n",
       "    <tr>\n",
       "      <th>0</th>\n",
       "      <td>Alice</td>\n",
       "      <td>20</td>\n",
       "      <td>A</td>\n",
       "    </tr>\n",
       "    <tr>\n",
       "      <th>1</th>\n",
       "      <td>Bob</td>\n",
       "      <td>22</td>\n",
       "      <td>B</td>\n",
       "    </tr>\n",
       "    <tr>\n",
       "      <th>2</th>\n",
       "      <td>Charlie</td>\n",
       "      <td>21</td>\n",
       "      <td>A</td>\n",
       "    </tr>\n",
       "  </tbody>\n",
       "</table>\n",
       "</div>"
      ],
      "text/plain": [
       "         0   1  2\n",
       "0    Alice  20  A\n",
       "1      Bob  22  B\n",
       "2  Charlie  21  A"
      ]
     },
     "execution_count": 151,
     "metadata": {},
     "output_type": "execute_result"
    }
   ],
   "source": [
    "pd.DataFrame(student_data)"
   ]
  },
  {
   "cell_type": "markdown",
   "id": "61bb2a2b",
   "metadata": {},
   "source": [
    "- In this example, each inner list contains information about a student, such as their name, age, and grade."
   ]
  },
  {
   "cell_type": "markdown",
   "id": "0b51aeea",
   "metadata": {},
   "source": [
    "### **3. Game Boards**"
   ]
  },
  {
   "cell_type": "markdown",
   "id": "439a6a80",
   "metadata": {},
   "source": [
    "- Nested lists can represent game boards for games like Tic-Tac-Toe or Sudoku.\n",
    "- Each inner list represents a row or column of the game board."
   ]
  },
  {
   "cell_type": "code",
   "execution_count": 152,
   "id": "063fb304",
   "metadata": {},
   "outputs": [],
   "source": [
    "tic_tac_toe_board = [\n",
    "   ['X', 'O', 'X'],\n",
    "   ['O', 'X', 'O'],\n",
    "   ['X', 'X', 'O']\n",
    "]"
   ]
  },
  {
   "cell_type": "code",
   "execution_count": 153,
   "id": "dccda151",
   "metadata": {},
   "outputs": [
    {
     "data": {
      "text/plain": [
       "[['X', 'O', 'X'], ['O', 'X', 'O'], ['X', 'X', 'O']]"
      ]
     },
     "execution_count": 153,
     "metadata": {},
     "output_type": "execute_result"
    }
   ],
   "source": [
    "tic_tac_toe_board"
   ]
  },
  {
   "cell_type": "code",
   "execution_count": null,
   "id": "6e605f3e",
   "metadata": {},
   "outputs": [],
   "source": []
  },
  {
   "cell_type": "markdown",
   "id": "a8299ca1",
   "metadata": {},
   "source": [
    "- In this example, each inner list represents a row of the Tic-Tac-Toe board, with `'X'` and `'O'` indicating the player's moves."
   ]
  },
  {
   "cell_type": "markdown",
   "id": "c7dde293",
   "metadata": {},
   "source": [
    "### **4. Tree-like Structures**"
   ]
  },
  {
   "cell_type": "markdown",
   "id": "281a5081",
   "metadata": {},
   "source": [
    "- Nested lists can represent hierarchical or tree-like structures, where each inner list contains sublists representing branches or nodes."
   ]
  },
  {
   "cell_type": "code",
   "execution_count": 155,
   "id": "11856529",
   "metadata": {},
   "outputs": [],
   "source": [
    "family_tree = [\n",
    "   ['Alice', ['Bob', 'Charlie']],\n",
    "   ['Bob', ['David', 'Eve']],\n",
    "   ['Charlie', ['Frank', 'Grace']]\n",
    "]"
   ]
  },
  {
   "cell_type": "code",
   "execution_count": 156,
   "id": "1afc111a",
   "metadata": {},
   "outputs": [
    {
     "data": {
      "text/plain": [
       "[['Alice', ['Bob', 'Charlie']],\n",
       " ['Bob', ['David', 'Eve']],\n",
       " ['Charlie', ['Frank', 'Grace']]]"
      ]
     },
     "execution_count": 156,
     "metadata": {},
     "output_type": "execute_result"
    }
   ],
   "source": [
    "family_tree"
   ]
  },
  {
   "cell_type": "markdown",
   "id": "1a478a9e",
   "metadata": {},
   "source": [
    "- In this example, each inner list contains a person's name followed by a list of their children."
   ]
  },
  {
   "cell_type": "markdown",
   "id": "4457f049",
   "metadata": {},
   "source": [
    "**5. Images**"
   ]
  },
  {
   "cell_type": "markdown",
   "id": "1dd324dc",
   "metadata": {},
   "source": [
    "- In image processing, nested lists can represent pixel values of an image.\n",
    "- Each inner list represents a row of pixels, and each pixel can have multiple values (e.g., RGB values for colored images)."
   ]
  },
  {
   "cell_type": "code",
   "execution_count": 157,
   "id": "47ecd4c4",
   "metadata": {},
   "outputs": [],
   "source": [
    "# 120 Megapixel - 120 Million pixels\n",
    "image_pixels = [\n",
    "   [(255, 0, 0), (0, 255, 0), (0, 0, 255)],\n",
    "   [(0, 255, 255), (255, 255, 0), (255, 0, 255)],\n",
    "   [(128, 128, 128), (64, 64, 64), (192, 192, 192)]\n",
    "]"
   ]
  },
  {
   "cell_type": "code",
   "execution_count": 158,
   "id": "678cf4ac",
   "metadata": {},
   "outputs": [
    {
     "data": {
      "text/plain": [
       "[[(255, 0, 0), (0, 255, 0), (0, 0, 255)],\n",
       " [(0, 255, 255), (255, 255, 0), (255, 0, 255)],\n",
       " [(128, 128, 128), (64, 64, 64), (192, 192, 192)]]"
      ]
     },
     "execution_count": 158,
     "metadata": {},
     "output_type": "execute_result"
    }
   ],
   "source": [
    "image_pixels"
   ]
  },
  {
   "cell_type": "markdown",
   "id": "c68e6c17",
   "metadata": {},
   "source": [
    "- In this example, each inner list represents a row of pixels, and each pixel is represented by a tuple containing RGB values."
   ]
  },
  {
   "cell_type": "markdown",
   "id": "8bcd8d57",
   "metadata": {},
   "source": [
    "**Nested lists provide a flexible and powerful way to represent and manipulate multi-dimensional data in Python, making them valuable in various real-life scenarios.**"
   ]
  },
  {
   "cell_type": "markdown",
   "id": "43fbf96d",
   "metadata": {},
   "source": [
    "## Sorting different Data types in List"
   ]
  },
  {
   "cell_type": "markdown",
   "id": "bf9fb24a",
   "metadata": {},
   "source": [
    "- In Python, you can sort lists containing different types of data using various methods and techniques.\n",
    "- Here are some commonly used methods along with explanations:"
   ]
  },
  {
   "cell_type": "markdown",
   "id": "5d199026",
   "metadata": {},
   "source": [
    "### **1. Using the `sorted()` Function**"
   ]
  },
  {
   "cell_type": "markdown",
   "id": "034f21d5",
   "metadata": {},
   "source": [
    "- The `sorted()` function returns a new sorted list from the elements of any iterable object, including lists.\n",
    "- It does not modify the original list but returns a new sorted list."
   ]
  },
  {
   "cell_type": "code",
   "execution_count": 110,
   "id": "c430b790",
   "metadata": {},
   "outputs": [],
   "source": [
    "my_list = [3, 1, 4, 1, 5, 9, 2, 6]"
   ]
  },
  {
   "cell_type": "code",
   "execution_count": 111,
   "id": "dab541b4",
   "metadata": {},
   "outputs": [
    {
     "name": "stdout",
     "output_type": "stream",
     "text": [
      "[1, 1, 2, 3, 4, 5, 6, 9]\n"
     ]
    }
   ],
   "source": [
    "# Sort the list in ascending order\n",
    "sorted_list = sorted(my_list)\n",
    "print(sorted_list)"
   ]
  },
  {
   "cell_type": "markdown",
   "id": "ee2bce9d",
   "metadata": {},
   "source": [
    "**You can also use the `reverse` parameter to sort in descending order**"
   ]
  },
  {
   "cell_type": "code",
   "execution_count": 112,
   "id": "dbf5f53b",
   "metadata": {},
   "outputs": [
    {
     "name": "stdout",
     "output_type": "stream",
     "text": [
      "[9, 6, 5, 4, 3, 2, 1, 1]\n"
     ]
    }
   ],
   "source": [
    "# Sort the list in descending order\n",
    "sorted_list_desc = sorted(my_list, reverse=True)\n",
    "print(sorted_list_desc)"
   ]
  },
  {
   "cell_type": "markdown",
   "id": "a9b2c60a",
   "metadata": {},
   "source": [
    "### **2. Using the `sort()` Method**"
   ]
  },
  {
   "cell_type": "markdown",
   "id": "34079cd5",
   "metadata": {},
   "source": [
    "- The `sort()` method is a built-in method of lists in Python that sorts the list in place.\n",
    "- It modifies the original list and does not return a new list."
   ]
  },
  {
   "cell_type": "code",
   "execution_count": 159,
   "id": "37749e32",
   "metadata": {},
   "outputs": [],
   "source": [
    "my_list = [3, 1, 4, 1, 5, 9, 2, 6]"
   ]
  },
  {
   "cell_type": "code",
   "execution_count": 160,
   "id": "e6d017e2",
   "metadata": {},
   "outputs": [
    {
     "name": "stdout",
     "output_type": "stream",
     "text": [
      "[1, 1, 2, 3, 4, 5, 6, 9]\n"
     ]
    }
   ],
   "source": [
    "# Sort the list in ascending order\n",
    "my_list.sort()\n",
    "print(my_list)"
   ]
  },
  {
   "cell_type": "markdown",
   "id": "ab9afddc",
   "metadata": {},
   "source": [
    "**Similar to `sorted()`, you can use the `reverse` parameter to sort in descending order**"
   ]
  },
  {
   "cell_type": "code",
   "execution_count": 161,
   "id": "c391cf75",
   "metadata": {},
   "outputs": [
    {
     "name": "stdout",
     "output_type": "stream",
     "text": [
      "[9, 6, 5, 4, 3, 2, 1, 1]\n"
     ]
    }
   ],
   "source": [
    "# Sort the list in descending order\n",
    "my_list.sort(reverse=True)\n",
    "print(my_list)  # Output: [9, 6, 5, 4, 3, 2, 1, 1]"
   ]
  },
  {
   "cell_type": "markdown",
   "id": "300d9cad",
   "metadata": {},
   "source": [
    "### **3. Sorting Lists of Tuples by Specific Element**"
   ]
  },
  {
   "cell_type": "markdown",
   "id": "c7216699",
   "metadata": {},
   "source": [
    "- If you have a list of tuples and want to sort them based on a specific element in each tuple, you can use the `key` parameter in `sorted()` or `sort()`."
   ]
  },
  {
   "cell_type": "code",
   "execution_count": 162,
   "id": "79734f13",
   "metadata": {},
   "outputs": [],
   "source": [
    "my_list = [(3, 'c'), (1, 'a'), (4, 'd'), (1, 'b'), (5, 'e')]"
   ]
  },
  {
   "cell_type": "code",
   "execution_count": 163,
   "id": "617cbc19",
   "metadata": {},
   "outputs": [
    {
     "data": {
      "text/plain": [
       "list"
      ]
     },
     "execution_count": 163,
     "metadata": {},
     "output_type": "execute_result"
    }
   ],
   "source": [
    "type(my_list)"
   ]
  },
  {
   "cell_type": "code",
   "execution_count": 164,
   "id": "0a406ccf",
   "metadata": {},
   "outputs": [
    {
     "data": {
      "text/plain": [
       "(3, 'c')"
      ]
     },
     "execution_count": 164,
     "metadata": {},
     "output_type": "execute_result"
    }
   ],
   "source": [
    "my_list[0]"
   ]
  },
  {
   "cell_type": "code",
   "execution_count": 165,
   "id": "c5b72105",
   "metadata": {},
   "outputs": [
    {
     "data": {
      "text/plain": [
       "tuple"
      ]
     },
     "execution_count": 165,
     "metadata": {},
     "output_type": "execute_result"
    }
   ],
   "source": [
    "type(my_list[0])"
   ]
  },
  {
   "cell_type": "code",
   "execution_count": 166,
   "id": "78ee4cc2",
   "metadata": {},
   "outputs": [
    {
     "data": {
      "text/plain": [
       "3"
      ]
     },
     "execution_count": 166,
     "metadata": {},
     "output_type": "execute_result"
    }
   ],
   "source": [
    "my_list[0][0]"
   ]
  },
  {
   "cell_type": "code",
   "execution_count": 167,
   "id": "1f3535d4",
   "metadata": {},
   "outputs": [
    {
     "data": {
      "text/plain": [
       "int"
      ]
     },
     "execution_count": 167,
     "metadata": {},
     "output_type": "execute_result"
    }
   ],
   "source": [
    "type(my_list[0][0])"
   ]
  },
  {
   "cell_type": "code",
   "execution_count": null,
   "id": "63ee389f",
   "metadata": {},
   "outputs": [],
   "source": []
  },
  {
   "cell_type": "code",
   "execution_count": 117,
   "id": "75017211",
   "metadata": {},
   "outputs": [
    {
     "name": "stdout",
     "output_type": "stream",
     "text": [
      "[(1, 'a'), (1, 'b'), (3, 'c'), (4, 'd'), (5, 'e')]\n"
     ]
    }
   ],
   "source": [
    "# Sort the list of tuples based on the first element of each tuple\n",
    "sorted_list = sorted(my_list, key=lambda x: x[0])\n",
    "print(sorted_list)"
   ]
  },
  {
   "cell_type": "markdown",
   "id": "9d3ca06c",
   "metadata": {},
   "source": [
    "### **4. Using Custom Sorting Functions**"
   ]
  },
  {
   "cell_type": "markdown",
   "id": "c45b6d17",
   "metadata": {},
   "source": [
    "- You can define custom sorting functions and use them with the `key` parameter to sort lists based on custom criteria."
   ]
  },
  {
   "cell_type": "code",
   "execution_count": 170,
   "id": "caded640",
   "metadata": {},
   "outputs": [],
   "source": [
    "def custom_sort(item):\n",
    "    \"\"\"\n",
    "    Sort based on the last part of each string separated by '_'\n",
    "    \"\"\"\n",
    "    return item.split('_')[-1]"
   ]
  },
  {
   "cell_type": "code",
   "execution_count": 171,
   "id": "fd46292f",
   "metadata": {},
   "outputs": [],
   "source": [
    "my_list = ['file_10', 'file_2', 'file_1', 'file_20']"
   ]
  },
  {
   "cell_type": "code",
   "execution_count": 178,
   "id": "09f08ae7",
   "metadata": {},
   "outputs": [
    {
     "data": {
      "text/plain": [
       "str"
      ]
     },
     "execution_count": 178,
     "metadata": {},
     "output_type": "execute_result"
    }
   ],
   "source": [
    "type(my_list[0])"
   ]
  },
  {
   "cell_type": "code",
   "execution_count": 175,
   "id": "f27160c6",
   "metadata": {},
   "outputs": [
    {
     "data": {
      "text/plain": [
       "'10'"
      ]
     },
     "execution_count": 175,
     "metadata": {},
     "output_type": "execute_result"
    }
   ],
   "source": [
    "my_list[0].split(\"_\")[-1]"
   ]
  },
  {
   "cell_type": "code",
   "execution_count": 180,
   "id": "ecf494b0",
   "metadata": {},
   "outputs": [
    {
     "data": {
      "text/plain": [
       "['fil', '_2']"
      ]
     },
     "execution_count": 180,
     "metadata": {},
     "output_type": "execute_result"
    }
   ],
   "source": [
    "my_list[1].split(\"e\")"
   ]
  },
  {
   "cell_type": "code",
   "execution_count": null,
   "id": "aec8e39f",
   "metadata": {},
   "outputs": [],
   "source": []
  },
  {
   "cell_type": "code",
   "execution_count": null,
   "id": "11145206",
   "metadata": {},
   "outputs": [],
   "source": []
  },
  {
   "cell_type": "code",
   "execution_count": 176,
   "id": "54bf3a3d",
   "metadata": {},
   "outputs": [
    {
     "name": "stdout",
     "output_type": "stream",
     "text": [
      "['file_1', 'file_10', 'file_2', 'file_20']\n"
     ]
    }
   ],
   "source": [
    "# Sort the list using a custom sorting function\n",
    "sorted_list = sorted(my_list, key=custom_sort)\n",
    "print(sorted_list)"
   ]
  },
  {
   "cell_type": "markdown",
   "id": "cd6a5f4b",
   "metadata": {},
   "source": [
    "## Lists as Matrices"
   ]
  },
  {
   "cell_type": "markdown",
   "id": "d005db5d",
   "metadata": {},
   "source": [
    "- Nested lists are commonly used to represent matrices in Python.\n",
    "- A matrix is a two-dimensional array where each element is identified by two indices:\n",
    "    - a **row index** and \n",
    "    - a **column index**.\n",
    "- Nested lists allow you to organize and manipulate matrix data efficiently. \n"
   ]
  },
  {
   "cell_type": "markdown",
   "id": "3f2fd28e",
   "metadata": {},
   "source": [
    "### **Example: Creating a Matrix as a Nested List**"
   ]
  },
  {
   "cell_type": "code",
   "execution_count": 183,
   "id": "3ad62d79",
   "metadata": {},
   "outputs": [],
   "source": [
    "# Define a 3x3 matrix as a nested list\n",
    "matrix = [\n",
    "    [1, 2, 3],\n",
    "    [4, 5, 6],\n",
    "    [7, 8, 9]\n",
    "]"
   ]
  },
  {
   "cell_type": "code",
   "execution_count": 184,
   "id": "4007e3ab",
   "metadata": {},
   "outputs": [
    {
     "name": "stdout",
     "output_type": "stream",
     "text": [
      "1\n"
     ]
    }
   ],
   "source": [
    "# Accessing elements of the matrix\n",
    "print(matrix[0][0])"
   ]
  },
  {
   "cell_type": "code",
   "execution_count": 185,
   "id": "7f1614a4",
   "metadata": {},
   "outputs": [
    {
     "name": "stdout",
     "output_type": "stream",
     "text": [
      "6\n"
     ]
    }
   ],
   "source": [
    "print(matrix[1][2])"
   ]
  },
  {
   "cell_type": "code",
   "execution_count": 186,
   "id": "7544d30a",
   "metadata": {},
   "outputs": [
    {
     "name": "stdout",
     "output_type": "stream",
     "text": [
      "8\n"
     ]
    }
   ],
   "source": [
    "print(matrix[2][1])"
   ]
  },
  {
   "cell_type": "markdown",
   "id": "8bedb1e8",
   "metadata": {},
   "source": [
    "## **Operations on Matrix using Nested Lists**"
   ]
  },
  {
   "cell_type": "markdown",
   "id": "5eb226bd",
   "metadata": {},
   "source": [
    "### 1. **Traversal**"
   ]
  },
  {
   "cell_type": "markdown",
   "id": "03695f4e",
   "metadata": {},
   "source": [
    "- You can traverse through the elements of the matrix using nested loops."
   ]
  },
  {
   "cell_type": "code",
   "execution_count": 187,
   "id": "f43aec8b",
   "metadata": {},
   "outputs": [
    {
     "name": "stdout",
     "output_type": "stream",
     "text": [
      "1 2 3 \n",
      "4 5 6 \n",
      "7 8 9 \n"
     ]
    }
   ],
   "source": [
    "# Traverse and print all elements of the matrix\n",
    "for row in matrix:\n",
    "    for element in row:\n",
    "        print(element, end=' ')\n",
    "    print()\n",
    "# move to the last line after printing each row"
   ]
  },
  {
   "cell_type": "markdown",
   "id": "9d2d8536",
   "metadata": {},
   "source": [
    "### 2. **Matrix Addition**"
   ]
  },
  {
   "cell_type": "markdown",
   "id": "30c1ddaf",
   "metadata": {},
   "source": [
    "**You can perform addition of two matrices using nested loops and store the result in a new matrix.**"
   ]
  },
  {
   "cell_type": "code",
   "execution_count": 188,
   "id": "44e8087b",
   "metadata": {},
   "outputs": [],
   "source": [
    "# first matrix\n",
    "matrix1 = [\n",
    "   [1, 2, 3],\n",
    "   [4, 5, 6],\n",
    "   [7, 8, 9]\n",
    "]"
   ]
  },
  {
   "cell_type": "code",
   "execution_count": 189,
   "id": "193a439b",
   "metadata": {},
   "outputs": [],
   "source": [
    "# second matrix\n",
    "matrix2 = [\n",
    "   [9, 8, 7],\n",
    "   [6, 5, 4],\n",
    "   [3, 2, 1]\n",
    "]"
   ]
  },
  {
   "cell_type": "code",
   "execution_count": 190,
   "id": "5017d972",
   "metadata": {},
   "outputs": [
    {
     "data": {
      "text/plain": [
       "[[1, 2, 3], [4, 5, 6], [7, 8, 9]]"
      ]
     },
     "execution_count": 190,
     "metadata": {},
     "output_type": "execute_result"
    }
   ],
   "source": [
    "matrix1"
   ]
  },
  {
   "cell_type": "code",
   "execution_count": 192,
   "id": "15edcfd9",
   "metadata": {},
   "outputs": [
    {
     "name": "stdout",
     "output_type": "stream",
     "text": [
      "1 2 3 \n",
      "4 5 6 \n",
      "7 8 9 \n"
     ]
    }
   ],
   "source": [
    "# Traverse and print all elements of the matrix\n",
    "for row in matrix1:\n",
    "    for element in row:\n",
    "        print(element, end=' ')\n",
    "    print()\n",
    "# move to the last line after printing each row"
   ]
  },
  {
   "cell_type": "code",
   "execution_count": 191,
   "id": "8428ff58",
   "metadata": {},
   "outputs": [
    {
     "data": {
      "text/plain": [
       "[[9, 8, 7], [6, 5, 4], [3, 2, 1]]"
      ]
     },
     "execution_count": 191,
     "metadata": {},
     "output_type": "execute_result"
    }
   ],
   "source": [
    "matrix2"
   ]
  },
  {
   "cell_type": "code",
   "execution_count": 193,
   "id": "5a7da209",
   "metadata": {},
   "outputs": [
    {
     "name": "stdout",
     "output_type": "stream",
     "text": [
      "9 8 7 \n",
      "6 5 4 \n",
      "3 2 1 \n"
     ]
    }
   ],
   "source": [
    "# Traverse and print all elements of the matrix\n",
    "for row in matrix2:\n",
    "    for element in row:\n",
    "        print(element, end=' ')\n",
    "    print()\n",
    "# move to the last line after printing each row"
   ]
  },
  {
   "cell_type": "code",
   "execution_count": 194,
   "id": "35f9c279",
   "metadata": {},
   "outputs": [],
   "source": [
    "result_matrix = []\n",
    "for i in range(len(matrix1)):\n",
    "    row = []\n",
    "    for j in range(len(matrix1[0])):\n",
    "        row.append(matrix1[i][j] + matrix2[i][j])\n",
    "    result_matrix.append(row)"
   ]
  },
  {
   "cell_type": "code",
   "execution_count": 195,
   "id": "b3b36628",
   "metadata": {},
   "outputs": [
    {
     "data": {
      "text/plain": [
       "[[10, 10, 10], [10, 10, 10], [10, 10, 10]]"
      ]
     },
     "execution_count": 195,
     "metadata": {},
     "output_type": "execute_result"
    }
   ],
   "source": [
    "result_matrix"
   ]
  },
  {
   "cell_type": "markdown",
   "id": "aee77d91",
   "metadata": {},
   "source": [
    "### 3. **Matrix Multiplication**"
   ]
  },
  {
   "cell_type": "markdown",
   "id": "a1a397b4",
   "metadata": {},
   "source": [
    "- Matrix multiplication involves multiplying rows of the first matrix with columns of the second matrix. \n",
    "- It can be achieved using nested loops."
   ]
  },
  {
   "cell_type": "markdown",
   "id": "0879a624",
   "metadata": {},
   "source": [
    "[**Step by step Matrix Multiplication**](https://www.wikihow.com/Multiply-Matrices)"
   ]
  },
  {
   "cell_type": "code",
   "execution_count": 196,
   "id": "c258e9fe",
   "metadata": {},
   "outputs": [],
   "source": [
    "matrix1 = [\n",
    "   [1, 2, 3],\n",
    "   [4, 5, 6]\n",
    "]"
   ]
  },
  {
   "cell_type": "code",
   "execution_count": 197,
   "id": "1be68a91",
   "metadata": {},
   "outputs": [],
   "source": [
    "matrix2 = [\n",
    "   [7, 8],\n",
    "   [9, 10],\n",
    "   [11, 12]\n",
    "]"
   ]
  },
  {
   "cell_type": "code",
   "execution_count": 198,
   "id": "2d8ce18a",
   "metadata": {},
   "outputs": [
    {
     "data": {
      "text/plain": [
       "[[1, 2, 3], [4, 5, 6]]"
      ]
     },
     "execution_count": 198,
     "metadata": {},
     "output_type": "execute_result"
    }
   ],
   "source": [
    "matrix1"
   ]
  },
  {
   "cell_type": "code",
   "execution_count": 199,
   "id": "b634f052",
   "metadata": {},
   "outputs": [
    {
     "data": {
      "text/plain": [
       "[[7, 8], [9, 10], [11, 12]]"
      ]
     },
     "execution_count": 199,
     "metadata": {},
     "output_type": "execute_result"
    }
   ],
   "source": [
    "matrix2"
   ]
  },
  {
   "cell_type": "code",
   "execution_count": 201,
   "id": "519ddaa3",
   "metadata": {},
   "outputs": [
    {
     "data": {
      "text/plain": [
       "range(0, 2)"
      ]
     },
     "execution_count": 201,
     "metadata": {},
     "output_type": "execute_result"
    }
   ],
   "source": [
    "range(len(matrix1))"
   ]
  },
  {
   "cell_type": "code",
   "execution_count": 204,
   "id": "589af7ee",
   "metadata": {},
   "outputs": [
    {
     "data": {
      "text/plain": [
       "range(0, 2)"
      ]
     },
     "execution_count": 204,
     "metadata": {},
     "output_type": "execute_result"
    }
   ],
   "source": [
    "range(len(matrix2[0]))"
   ]
  },
  {
   "cell_type": "code",
   "execution_count": 207,
   "id": "426ea409",
   "metadata": {},
   "outputs": [],
   "source": [
    "result_matrix = []\n",
    "for i in range(len(matrix1)):\n",
    "    row = []\n",
    "    for j in range(len(matrix2[0])):\n",
    "        sum = 0\n",
    "        for k in range(len(matrix2)):\n",
    "            sum += matrix1[i][k] * matrix2[k][j]\n",
    "        row.append(sum)\n",
    "    result_matrix.append(row)"
   ]
  },
  {
   "cell_type": "code",
   "execution_count": 208,
   "id": "9b9a8338",
   "metadata": {},
   "outputs": [
    {
     "name": "stdout",
     "output_type": "stream",
     "text": [
      "[[58, 64], [139, 154]]\n"
     ]
    }
   ],
   "source": [
    "print(result_matrix)"
   ]
  },
  {
   "cell_type": "markdown",
   "id": "8f361949",
   "metadata": {},
   "source": [
    "## List Comprehensions"
   ]
  },
  {
   "cell_type": "markdown",
   "id": "e8a18c56",
   "metadata": {},
   "source": [
    "- List comprehensions provide a concise and expressive way to create lists in Python by **applying an expression to each element of an iterable object** (e.g., list, tuple, string) and **optionally filtering the elements based on a condition.**\n",
    "- They offer a **more readable and compact alternative** to traditional loops and conditional statements. "
   ]
  },
  {
   "cell_type": "markdown",
   "id": "09883f53",
   "metadata": {},
   "source": [
    "#### **General Syntax**"
   ]
  },
  {
   "cell_type": "code",
   "execution_count": null,
   "id": "9d450a78",
   "metadata": {},
   "outputs": [],
   "source": [
    "[expression for item in iterable if condition]"
   ]
  },
  {
   "cell_type": "markdown",
   "id": "6c5f8e0f",
   "metadata": {},
   "source": [
    "- `expression`: The expression to be applied to each item in the iterable.\n",
    "- `item`: A variable representing each item in the iterable.\n",
    "- `iterable`: An iterable object (e.g., list, tuple, string) whose elements will be processed by the expression.\n",
    "- `condition` (optional): An optional condition that filters the items. Only items for which the condition evaluates to `True` will be included in the resulting list."
   ]
  },
  {
   "cell_type": "markdown",
   "id": "9cc314ba",
   "metadata": {},
   "source": [
    "### **Examples**"
   ]
  },
  {
   "cell_type": "markdown",
   "id": "0454daab",
   "metadata": {},
   "source": [
    "### 1. **Basic List Comprehension**"
   ]
  },
  {
   "cell_type": "code",
   "execution_count": 209,
   "id": "66da4004",
   "metadata": {},
   "outputs": [
    {
     "name": "stdout",
     "output_type": "stream",
     "text": [
      "[0, 1, 4, 9, 16]\n"
     ]
    }
   ],
   "source": [
    "# Create a list of squares of numbers from 0 to 4\n",
    "squares = [x**2 for x in range(5)]\n",
    "print(squares)"
   ]
  },
  {
   "cell_type": "markdown",
   "id": "94bb5080",
   "metadata": {},
   "source": [
    "### 2. **List Comprehension with Condition**"
   ]
  },
  {
   "cell_type": "code",
   "execution_count": 210,
   "id": "192d3d83",
   "metadata": {},
   "outputs": [
    {
     "name": "stdout",
     "output_type": "stream",
     "text": [
      "[0, 2, 4, 6, 8]\n"
     ]
    }
   ],
   "source": [
    "# Create a list of even numbers from 0 to 9\n",
    "even_numbers = [x for x in range(10) if x % 2 == 0]\n",
    "print(even_numbers)"
   ]
  },
  {
   "cell_type": "markdown",
   "id": "b5ab4664",
   "metadata": {},
   "source": [
    "### 3. **List Comprehension with Conditional Expression**"
   ]
  },
  {
   "cell_type": "code",
   "execution_count": 211,
   "id": "10270308",
   "metadata": {},
   "outputs": [
    {
     "name": "stdout",
     "output_type": "stream",
     "text": [
      "['even', 'odd', 'even', 'odd', 'even']\n"
     ]
    }
   ],
   "source": [
    "# Create a list where even numbers are represented as 'even' and odd numbers as 'odd'\n",
    "even_odd_labels = ['even' if x % 2 == 0 else 'odd' for x in range(5)]\n",
    "print(even_odd_labels)"
   ]
  },
  {
   "cell_type": "markdown",
   "id": "170b78ad",
   "metadata": {},
   "source": [
    "## **Advantages**"
   ]
  },
  {
   "cell_type": "markdown",
   "id": "63a66e77",
   "metadata": {},
   "source": [
    "- **Readability:** List comprehensions provide a more concise and readable way to create lists compared to traditional loops."
   ]
  },
  {
   "cell_type": "markdown",
   "id": "97cae097",
   "metadata": {},
   "source": [
    "- **Expressiveness:** They allow you to express complex transformations and filtering operations in a single line of code."
   ]
  },
  {
   "cell_type": "markdown",
   "id": "76ebd4b9",
   "metadata": {},
   "source": [
    "- **Performance:** List comprehensions are often more efficient than equivalent loop-based approaches, especially for simple operations."
   ]
  },
  {
   "cell_type": "markdown",
   "id": "f40dc424",
   "metadata": {},
   "source": [
    "## **Limitations**"
   ]
  },
  {
   "cell_type": "markdown",
   "id": "de20c222",
   "metadata": {},
   "source": [
    "- **Readability**\n",
    "  Complex list comprehensions may become less readable and harder to understand, especially for beginners."
   ]
  },
  {
   "cell_type": "markdown",
   "id": "3dd8a824",
   "metadata": {},
   "source": [
    "- **Nested Structures:** Nesting list comprehensions can lead to decreased readability and difficulty in debugging."
   ]
  },
  {
   "cell_type": "markdown",
   "id": "d584e0ec",
   "metadata": {},
   "source": [
    "- **Memory Usage:** In some cases, list comprehensions may consume more memory than equivalent loop-based approaches, especially for large iterables."
   ]
  },
  {
   "cell_type": "code",
   "execution_count": null,
   "id": "b6e089e4",
   "metadata": {},
   "outputs": [],
   "source": []
  }
 ],
 "metadata": {
  "kernelspec": {
   "display_name": "Python 3 (ipykernel)",
   "language": "python",
   "name": "python3"
  },
  "language_info": {
   "codemirror_mode": {
    "name": "ipython",
    "version": 3
   },
   "file_extension": ".py",
   "mimetype": "text/x-python",
   "name": "python",
   "nbconvert_exporter": "python",
   "pygments_lexer": "ipython3",
   "version": "3.11.5"
  }
 },
 "nbformat": 4,
 "nbformat_minor": 5
}
