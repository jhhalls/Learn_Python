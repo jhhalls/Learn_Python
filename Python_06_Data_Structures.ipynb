{
 "cells": [
  {
   "cell_type": "markdown",
   "id": "890042d9",
   "metadata": {},
   "source": [
    "- Data Structures\n",
    "    - What ar DS\n",
    "    - Types of Data Structures\n",
    "        - Lists\n",
    "        - Tuples\n",
    "        - Dictionary\n",
    "        - Sets\n",
    "        - Arrays\n",
    "        - String (Data Type)"
   ]
  },
  {
   "cell_type": "markdown",
   "id": "edee19c8",
   "metadata": {},
   "source": [
    "# Data Structures"
   ]
  },
  {
   "cell_type": "markdown",
   "id": "fb6ca252",
   "metadata": {},
   "source": [
    "- In the world of programming, **data structures are the backbone of efficient and organized data management.**\n",
    "- They form the very foundation upon which algorithms operate, enabling us to manipulate and process data with precision and speed.\n",
    "- Today, we'll embark on a journey to explore the fascinating world of data structures in Python, uncovering their significance, types, and real-world applications."
   ]
  },
  {
   "cell_type": "markdown",
   "id": "f028a373",
   "metadata": {},
   "source": [
    "## What are Data Structures?"
   ]
  },
  {
   "cell_type": "markdown",
   "id": "b023135e",
   "metadata": {},
   "source": [
    "- Data structures in Python are essentially a way of organizing and storing data in a computer so that it can be used efficiently.\n",
    "- They provide a means to manage and manipulate collections of data, and they play a crucial role in programming by enabling efficient storage, retrieval, and manipulation of data.\n",
    "- Data structures are fundamental building blocks in programming that enable efficient storage, retrieval, and manipulation of data, leading to more scalable, maintainable, and optimized code.\n",
    "- Understanding different data structures and knowing when to use each one is essential for becoming a proficient programmer."
   ]
  },
  {
   "cell_type": "markdown",
   "id": "72f383f2",
   "metadata": {},
   "source": [
    "## Why Data Strutures Matter?"
   ]
  },
  {
   "cell_type": "markdown",
   "id": "3186c12e",
   "metadata": {},
   "source": [
    "- Imagine a library without shelves, a filing cabinet without folders, or a puzzle with scattered pieces.\n",
    "- Chaos ensues when data lacks structure, making it cumbersome to access, manipulate, and analyze.\n",
    "- **Data structures provide order to this chaos, offering organized ways to store, retrieve, and manage data efficiently.**'\n",
    "- They <u>**optimize memory usage**</u>, <u>**enhance performance**</u>, and <u>**enable us to tackle complex computational problems**</u> with ease."
   ]
  },
  {
   "cell_type": "markdown",
   "id": "b12b1c40",
   "metadata": {},
   "source": [
    "## Advantage in Python"
   ]
  },
  {
   "cell_type": "markdown",
   "id": "013b27ee",
   "metadata": {},
   "source": [
    "- Python, renowned for its **simplicity** and **versatility**, offers a rich arsenal of <u>**built-in data structures**</u> that cater to diverse programming needs. \n",
    "- From <u>**lists** to **dictionaries**</u>, Python's intuitive syntax and extensive libraries empower developers to implement sophisticated algorithms effortlessly.\n",
    "- Whether you're a beginner learning the ropes or a seasoned developer crafting robust solutions, Python's data structures pave the way for elegant and efficient code."
   ]
  },
  {
   "cell_type": "markdown",
   "id": "f8e5b097",
   "metadata": {},
   "source": [
    "## Bird Eye View"
   ]
  },
  {
   "cell_type": "markdown",
   "id": "dcfafdbd",
   "metadata": {},
   "source": [
    "### 1. List"
   ]
  },
  {
   "cell_type": "markdown",
   "id": "64982013",
   "metadata": {},
   "source": [
    "- Lists are one of the most commonly used data structures in Python.\n",
    "- They are ordered collections of items, where each item has an index associated with it.\n",
    "- Lists are versatile and can hold elements of different data types.\n",
    "- They are mutable, meaning that you can change, add, or remove elements from them."
   ]
  },
  {
   "cell_type": "markdown",
   "id": "d9c46089",
   "metadata": {},
   "source": [
    "#### Example:\n",
    "my_list = [1, 2, 3, 4, 5]"
   ]
  },
  {
   "cell_type": "code",
   "execution_count": 16,
   "id": "1a828b74",
   "metadata": {},
   "outputs": [],
   "source": [
    "my_list = [1, 2, 3, 4, 5]"
   ]
  },
  {
   "cell_type": "code",
   "execution_count": 17,
   "id": "03a434ff",
   "metadata": {},
   "outputs": [
    {
     "data": {
      "text/plain": [
       "[1, 2, 3, 4, 5]"
      ]
     },
     "execution_count": 17,
     "metadata": {},
     "output_type": "execute_result"
    }
   ],
   "source": [
    "my_list"
   ]
  },
  {
   "cell_type": "code",
   "execution_count": 18,
   "id": "39b284e8",
   "metadata": {},
   "outputs": [
    {
     "data": {
      "text/plain": [
       "list"
      ]
     },
     "execution_count": 18,
     "metadata": {},
     "output_type": "execute_result"
    }
   ],
   "source": [
    "type(my_list)"
   ]
  },
  {
   "cell_type": "markdown",
   "id": "a3b8947e",
   "metadata": {},
   "source": [
    "### 2. **Tuples**"
   ]
  },
  {
   "cell_type": "markdown",
   "id": "76152049",
   "metadata": {},
   "source": [
    "- Tuples are similar to lists, but they are **immutable**, meaning that once created, their elements cannot be changed.\n",
    "- They are often used to store heterogeneous data and are particularly useful for returning multiple values from a function."
   ]
  },
  {
   "cell_type": "markdown",
   "id": "755581a6",
   "metadata": {},
   "source": [
    "#### Example\n",
    "my_tuple = (1, 'a', 3.14)"
   ]
  },
  {
   "cell_type": "code",
   "execution_count": 4,
   "id": "66ff9cce",
   "metadata": {},
   "outputs": [],
   "source": [
    "my_tuple = (1, 'a', 3.14)"
   ]
  },
  {
   "cell_type": "code",
   "execution_count": 5,
   "id": "431e9967",
   "metadata": {},
   "outputs": [
    {
     "data": {
      "text/plain": [
       "(1, 'a', 3.14)"
      ]
     },
     "execution_count": 5,
     "metadata": {},
     "output_type": "execute_result"
    }
   ],
   "source": [
    "my_tuple"
   ]
  },
  {
   "cell_type": "code",
   "execution_count": 6,
   "id": "1965b8f2",
   "metadata": {},
   "outputs": [
    {
     "data": {
      "text/plain": [
       "tuple"
      ]
     },
     "execution_count": 6,
     "metadata": {},
     "output_type": "execute_result"
    }
   ],
   "source": [
    "type(my_tuple)"
   ]
  },
  {
   "cell_type": "markdown",
   "id": "9566fe62",
   "metadata": {},
   "source": [
    "### 3. **Dictionaries**"
   ]
  },
  {
   "cell_type": "markdown",
   "id": "af3014b6",
   "metadata": {},
   "source": [
    "- Dictionaries are unordered collections of key-value pairs.\n",
    "- They provide a way to store and retrieve data using keys rather than indices.\n",
    "- Dictionaries are highly efficient for accessing, inserting, and deleting elements, especially when the size of the data set is large."
   ]
  },
  {
   "cell_type": "markdown",
   "id": "a38473a4",
   "metadata": {},
   "source": [
    "#### Example\n",
    "my_dict = {'name': 'John', 'age': 30, 'city': 'New York'}\n"
   ]
  },
  {
   "cell_type": "code",
   "execution_count": 7,
   "id": "467006d2",
   "metadata": {},
   "outputs": [],
   "source": [
    "my_dict = {'name': 'John', 'age': 30, 'city': 'New York'}"
   ]
  },
  {
   "cell_type": "code",
   "execution_count": 8,
   "id": "b9fd3b4a",
   "metadata": {},
   "outputs": [
    {
     "data": {
      "text/plain": [
       "{'name': 'John', 'age': 30, 'city': 'New York'}"
      ]
     },
     "execution_count": 8,
     "metadata": {},
     "output_type": "execute_result"
    }
   ],
   "source": [
    "my_dict"
   ]
  },
  {
   "cell_type": "code",
   "execution_count": 9,
   "id": "faa7a5c5",
   "metadata": {},
   "outputs": [
    {
     "data": {
      "text/plain": [
       "dict"
      ]
     },
     "execution_count": 9,
     "metadata": {},
     "output_type": "execute_result"
    }
   ],
   "source": [
    "type(my_dict)"
   ]
  },
  {
   "cell_type": "markdown",
   "id": "622fd119",
   "metadata": {},
   "source": [
    "### 4. **Sets**"
   ]
  },
  {
   "cell_type": "markdown",
   "id": "75506b60",
   "metadata": {},
   "source": [
    "- Sets are unordered collections of unique elements.\n",
    "- They are useful for tasks that involve testing for membership, removing duplicates from a sequence, and performing mathematical set operations such as **union, intersection, difference, and symmetric difference.**"
   ]
  },
  {
   "cell_type": "markdown",
   "id": "d28d668f",
   "metadata": {},
   "source": [
    "Example:\n",
    "my_set = {1, 2, 3, 4, 5}"
   ]
  },
  {
   "cell_type": "code",
   "execution_count": 10,
   "id": "9d0ae69d",
   "metadata": {},
   "outputs": [],
   "source": [
    "my_set = {1, 2, 3, 4, 5}"
   ]
  },
  {
   "cell_type": "code",
   "execution_count": 11,
   "id": "8746b736",
   "metadata": {},
   "outputs": [
    {
     "data": {
      "text/plain": [
       "{1, 2, 3, 4, 5}"
      ]
     },
     "execution_count": 11,
     "metadata": {},
     "output_type": "execute_result"
    }
   ],
   "source": [
    "my_set"
   ]
  },
  {
   "cell_type": "code",
   "execution_count": 12,
   "id": "fd569dfd",
   "metadata": {},
   "outputs": [
    {
     "data": {
      "text/plain": [
       "set"
      ]
     },
     "execution_count": 12,
     "metadata": {},
     "output_type": "execute_result"
    }
   ],
   "source": [
    "type(my_set)"
   ]
  },
  {
   "cell_type": "markdown",
   "id": "517a5293",
   "metadata": {},
   "source": [
    "### 5. **Arrays**"
   ]
  },
  {
   "cell_type": "markdown",
   "id": "01de12c3",
   "metadata": {},
   "source": [
    "- Arrays are similar to lists, but they can only store elements of the same data type.\n",
    "- They offer faster access and more efficient storage compared to lists, especially when dealing with large amounts of numeric data."
   ]
  },
  {
   "cell_type": "markdown",
   "id": "02834c8a",
   "metadata": {},
   "source": [
    "Example:\n",
    "import array\n",
    "my_array = array.array('i', [1, 2, 3, 4, 5])  # 'i' represents integer type\n"
   ]
  },
  {
   "cell_type": "code",
   "execution_count": 13,
   "id": "7bdc911e",
   "metadata": {},
   "outputs": [],
   "source": [
    "import array \n",
    "my_array = array.array('i', [1, 2, 3, 4, 5])"
   ]
  },
  {
   "cell_type": "code",
   "execution_count": 14,
   "id": "ba3faa26",
   "metadata": {},
   "outputs": [
    {
     "data": {
      "text/plain": [
       "array('i', [1, 2, 3, 4, 5])"
      ]
     },
     "execution_count": 14,
     "metadata": {},
     "output_type": "execute_result"
    }
   ],
   "source": [
    "my_array"
   ]
  },
  {
   "cell_type": "code",
   "execution_count": 15,
   "id": "d44b8d5d",
   "metadata": {},
   "outputs": [
    {
     "data": {
      "text/plain": [
       "array.array"
      ]
     },
     "execution_count": 15,
     "metadata": {},
     "output_type": "execute_result"
    }
   ],
   "source": [
    "type(my_array)"
   ]
  },
  {
   "cell_type": "markdown",
   "id": "44234a71",
   "metadata": {},
   "source": [
    "## Importance & Features - Data Structures"
   ]
  },
  {
   "cell_type": "markdown",
   "id": "301a88c2",
   "metadata": {},
   "source": [
    "### **Efficiency**"
   ]
  },
  {
   "cell_type": "markdown",
   "id": "f5da0a07",
   "metadata": {},
   "source": [
    "- Different data structures offer different time and space complexities for operations such as **insertion, deletion, searching, and sorting.**\n",
    "- Choosing the right data structure for a specific task can significantly improve the efficiency of the program."
   ]
  },
  {
   "cell_type": "markdown",
   "id": "aaafaf43",
   "metadata": {},
   "source": [
    "### **Organization**"
   ]
  },
  {
   "cell_type": "markdown",
   "id": "d26abcf4",
   "metadata": {},
   "source": [
    "- Data structures help in **organizing and managing data** in a structured manner, making it easier to **understand and manipulate.**"
   ]
  },
  {
   "cell_type": "markdown",
   "id": "ce7f16bf",
   "metadata": {},
   "source": [
    "### **Abstraction**"
   ]
  },
  {
   "cell_type": "markdown",
   "id": "e3cff223",
   "metadata": {},
   "source": [
    "- Data structures provide a level of abstraction that allows programmers to focus on the logical structure of the data rather than its physical representation.\n",
    "- This abstraction simplifies the implementation of algorithms and improves code readability and maintainability."
   ]
  },
  {
   "cell_type": "markdown",
   "id": "168f72d0",
   "metadata": {},
   "source": [
    "### **Optimization**"
   ]
  },
  {
   "cell_type": "markdown",
   "id": "4366ffed",
   "metadata": {},
   "source": [
    "- By choosing appropriate data structures, programmers can **optimize the performance of their programs** and **reduce memory usage**, leading to **faster execution and better scalability.**"
   ]
  },
  {
   "cell_type": "markdown",
   "id": "74730ff3",
   "metadata": {},
   "source": [
    "### **Reusability**"
   ]
  },
  {
   "cell_type": "markdown",
   "id": "d63d26be",
   "metadata": {},
   "source": [
    "- Many data structures are implemented as built-in or standard library modules in programming languages like Python, making them readily available for reuse in different projects and applications."
   ]
  },
  {
   "cell_type": "markdown",
   "id": "a55734c5",
   "metadata": {},
   "source": []
  }
 ],
 "metadata": {
  "kernelspec": {
   "display_name": "Python 3 (ipykernel)",
   "language": "python",
   "name": "python3"
  },
  "language_info": {
   "codemirror_mode": {
    "name": "ipython",
    "version": 3
   },
   "file_extension": ".py",
   "mimetype": "text/x-python",
   "name": "python",
   "nbconvert_exporter": "python",
   "pygments_lexer": "ipython3",
   "version": "3.11.5"
  }
 },
 "nbformat": 4,
 "nbformat_minor": 5
}
