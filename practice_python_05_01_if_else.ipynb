{
 "cells": [
  {
   "cell_type": "markdown",
   "id": "45460467",
   "metadata": {},
   "source": [
    "# Beginner"
   ]
  },
  {
   "cell_type": "markdown",
   "id": "c7b130fb",
   "metadata": {},
   "source": [
    "### 1. Write a Python program to check if a number is positive, negative, or zero."
   ]
  },
  {
   "cell_type": "code",
   "execution_count": 1,
   "id": "a9bfdb34",
   "metadata": {},
   "outputs": [
    {
     "name": "stdout",
     "output_type": "stream",
     "text": [
      "Enter a number: 23\n",
      "Positive number\n"
     ]
    }
   ],
   "source": [
    "num = float(input(\"Enter a number: \"))\n",
    "if num > 0:\n",
    "    print(\"Positive number\")\n",
    "elif num < 0:\n",
    "    print(\"Negative number\")\n",
    "else:\n",
    "    print(\"Zero\")\n"
   ]
  },
  {
   "cell_type": "markdown",
   "id": "d3056ee2",
   "metadata": {},
   "source": [
    "### 2. Create a program to determine if a given year is a leap year or not."
   ]
  },
  {
   "cell_type": "code",
   "execution_count": 2,
   "id": "f201d68e",
   "metadata": {},
   "outputs": [
    {
     "name": "stdout",
     "output_type": "stream",
     "text": [
      "Enter a year: 2023\n",
      "Not a leap year\n"
     ]
    }
   ],
   "source": [
    "year = int(input(\"Enter a year: \"))\n",
    "if (year % 4 == 0 and year % 100 != 0) or (year % 400 == 0):\n",
    "    print(\"Leap year\")\n",
    "else:\n",
    "    print(\"Not a leap year\")"
   ]
  },
  {
   "cell_type": "markdown",
   "id": "2e3a8531",
   "metadata": {},
   "source": [
    "### 3. Write a program to check if a character entered by the user is a vowel or a consonant."
   ]
  },
  {
   "cell_type": "code",
   "execution_count": 4,
   "id": "0e791cbe",
   "metadata": {},
   "outputs": [
    {
     "name": "stdout",
     "output_type": "stream",
     "text": [
      "Enter a character: r\n",
      "Consonant\n"
     ]
    }
   ],
   "source": [
    "char = input(\"Enter a character: \")\n",
    "if char.lower() in 'aeiou':\n",
    "    print(\"Vowel\")\n",
    "else:\n",
    "    print(\"Consonant\")"
   ]
  },
  {
   "cell_type": "markdown",
   "id": "e54cb9ed",
   "metadata": {},
   "source": [
    "### 4. Create a program to find the largest among three numbers entered by the user without using the max function"
   ]
  },
  {
   "cell_type": "code",
   "execution_count": 5,
   "id": "a55d726b",
   "metadata": {},
   "outputs": [
    {
     "name": "stdout",
     "output_type": "stream",
     "text": [
      "Enter first number: 12\n",
      "Enter second number: 2\n",
      "Enter third number: 34\n",
      "Largest number: 34.0\n"
     ]
    }
   ],
   "source": [
    "num1 = float(input(\"Enter first number: \"))\n",
    "num2 = float(input(\"Enter second number: \"))\n",
    "num3 = float(input(\"Enter third number: \"))\n",
    "if num1 >= num2 and num1 >= num3:\n",
    "    print(\"Largest number:\", num1)\n",
    "elif num2 >= num1 and num2 >= num3:\n",
    "    print(\"Largest number:\", num2)\n",
    "else:\n",
    "    print(\"Largest number:\", num3)"
   ]
  },
  {
   "cell_type": "markdown",
   "id": "593e92da",
   "metadata": {},
   "source": [
    "### 5. Write a Python program to check if a number is even or odd."
   ]
  },
  {
   "cell_type": "code",
   "execution_count": 6,
   "id": "1d1440d3",
   "metadata": {},
   "outputs": [
    {
     "name": "stdout",
     "output_type": "stream",
     "text": [
      "Enter a number: 12\n",
      "Even\n"
     ]
    }
   ],
   "source": [
    "num = int(input(\"Enter a number: \"))\n",
    "if num % 2 == 0:\n",
    "    print(\"Even\")\n",
    "else:\n",
    "    print(\"Odd\")"
   ]
  },
  {
   "cell_type": "markdown",
   "id": "f1fd52b9",
   "metadata": {},
   "source": [
    "### 6. Create a program to determine the eligibility of a person to vote based on their age (considering the legal voting age to be 18)."
   ]
  },
  {
   "cell_type": "code",
   "execution_count": 10,
   "id": "5769ebb5",
   "metadata": {},
   "outputs": [
    {
     "name": "stdout",
     "output_type": "stream",
     "text": [
      "Enter your age: 23\n",
      "Eligible to vote\n"
     ]
    }
   ],
   "source": [
    "age = int(input(\"Enter your age: \"))\n",
    "if age>=0:\n",
    "    if age >= 18:\n",
    "        print(\"Eligible to vote\")\n",
    "    else:\n",
    "        print(\"Not eligible to vote\")\n",
    "else:\n",
    "    print(\"Enter a valid age\")"
   ]
  },
  {
   "cell_type": "markdown",
   "id": "a073a897",
   "metadata": {},
   "source": [
    "### 7. Write a program to determine the grade of a student based on their percentage marks. Consider grades as follows: A (90-100), B (80-89), C (70-79), D (60-69), and F (below 60)."
   ]
  },
  {
   "cell_type": "code",
   "execution_count": 11,
   "id": "e55ddf8c",
   "metadata": {},
   "outputs": [
    {
     "name": "stdout",
     "output_type": "stream",
     "text": [
      "Enter percentage marks: 12\n",
      "Grade: F\n"
     ]
    }
   ],
   "source": [
    "percentage = float(input(\"Enter percentage marks: \"))\n",
    "if percentage >= 90:\n",
    "    print(\"Grade: A\")\n",
    "elif percentage >= 80:\n",
    "    print(\"Grade: B\")\n",
    "elif percentage >= 70:\n",
    "    print(\"Grade: C\")\n",
    "elif percentage >= 60:\n",
    "    print(\"Grade: D\")\n",
    "else:\n",
    "    print(\"Grade: F\")"
   ]
  },
  {
   "cell_type": "markdown",
   "id": "4130df86",
   "metadata": {},
   "source": [
    "### 8. Create a program to determine if a given year is a century year or not."
   ]
  },
  {
   "cell_type": "code",
   "execution_count": 12,
   "id": "d33ac3f2",
   "metadata": {},
   "outputs": [
    {
     "name": "stdout",
     "output_type": "stream",
     "text": [
      "Enter a year: 2000\n",
      "Century year\n"
     ]
    }
   ],
   "source": [
    "year = int(input(\"Enter a year: \"))\n",
    "if year % 100 == 0:\n",
    "    print(\"Century year\")\n",
    "else:\n",
    "    print(\"Not a century year\")"
   ]
  },
  {
   "cell_type": "markdown",
   "id": "083c1ad0",
   "metadata": {},
   "source": [
    "### 9. Write a program to determine the largest among four numbers entered by the user."
   ]
  },
  {
   "cell_type": "code",
   "execution_count": 13,
   "id": "ed181dd8",
   "metadata": {},
   "outputs": [
    {
     "name": "stdout",
     "output_type": "stream",
     "text": [
      "Enter first number: 12\n",
      "Enter second number: 23\n",
      "Enter third number: 34\n",
      "Enter fourth number: 4\n",
      "Largest number: 34.0\n"
     ]
    }
   ],
   "source": [
    "num1 = float(input(\"Enter first number: \"))\n",
    "num2 = float(input(\"Enter second number: \"))\n",
    "num3 = float(input(\"Enter third number: \"))\n",
    "num4 = float(input(\"Enter fourth number: \"))\n",
    "max_num = max(num1, num2, num3, num4)\n",
    "print(\"Largest number:\", max_num)"
   ]
  },
  {
   "cell_type": "markdown",
   "id": "305666ef",
   "metadata": {},
   "source": [
    "### 10. Create a program to check if a given string is a palindrome or not."
   ]
  },
  {
   "cell_type": "code",
   "execution_count": 15,
   "id": "69b59c2a",
   "metadata": {},
   "outputs": [
    {
     "name": "stdout",
     "output_type": "stream",
     "text": [
      "Enter a string: radar\n",
      "Palindrome\n"
     ]
    }
   ],
   "source": [
    "string = input(\"Enter a string: \")\n",
    "if string == string[::-1]:\n",
    "    print(\"Palindrome\")\n",
    "else:\n",
    "    print(\"Not a palindrome\")"
   ]
  },
  {
   "cell_type": "markdown",
   "id": "58b27c2a",
   "metadata": {},
   "source": [
    "# Intermediate"
   ]
  },
  {
   "cell_type": "markdown",
   "id": "8bdadf1d",
   "metadata": {},
   "source": [
    "#### 1. Write a Python program to determine if a given year is a leap year or not, considering both the Gregorian and Julian calendar rules."
   ]
  },
  {
   "cell_type": "code",
   "execution_count": 17,
   "id": "1254fc88",
   "metadata": {},
   "outputs": [
    {
     "name": "stdout",
     "output_type": "stream",
     "text": [
      "Enter a year: 12\n",
      "Leap year (Gregorian calendar)\n"
     ]
    }
   ],
   "source": [
    "year = int(input(\"Enter a year: \"))\n",
    "if (year % 4 == 0 and year % 100 != 0) or (year % 400 == 0):\n",
    "    print(\"Leap year (Gregorian calendar)\")\n",
    "elif year % 4 == 0:\n",
    "    print(\"Leap year (Julian calendar)\")\n",
    "else:\n",
    "    print(\"Not a leap year\")"
   ]
  },
  {
   "cell_type": "markdown",
   "id": "5b2708ef",
   "metadata": {},
   "source": [
    "#### 2. Create a program to check if a given string is a pangram or not (a pangram is a sentence containing every letter of the alphabet at least once)."
   ]
  },
  {
   "cell_type": "code",
   "execution_count": 18,
   "id": "31fa626c",
   "metadata": {},
   "outputs": [
    {
     "name": "stdout",
     "output_type": "stream",
     "text": [
      "Enter a sentence: helloo world\n",
      "Not a pangram\n"
     ]
    }
   ],
   "source": [
    "# Pnagram a sentence containing every letter of the alphabet.\n",
    "import string\n",
    "\n",
    "def is_pangram(sentence):\n",
    "    alphabet = set(string.ascii_lowercase)\n",
    "    return set(sentence.lower()) >= alphabet\n",
    "\n",
    "sentence = input(\"Enter a sentence: \")\n",
    "if is_pangram(sentence):\n",
    "    print(\"Pangram\")\n",
    "else:\n",
    "    print(\"Not a pangram\")"
   ]
  },
  {
   "cell_type": "markdown",
   "id": "132c0649",
   "metadata": {},
   "source": [
    "#### 3. Write a program to calculate the total fare for a ride-sharing service based on distance traveled and time taken, considering different pricing structures for different times of the day."
   ]
  },
  {
   "cell_type": "code",
   "execution_count": 19,
   "id": "4e41915a",
   "metadata": {},
   "outputs": [
    {
     "name": "stdout",
     "output_type": "stream",
     "text": [
      "Enter distance traveled (miles): 12\n",
      "Enter time taken (minutes): 40\n",
      "Is it peak hours? (yes/no): yes\n",
      "Total fare: $ 45.75\n"
     ]
    }
   ],
   "source": [
    "def calculate_fare(distance, time, is_peak_time):\n",
    "    base_fare = 2.50\n",
    "    distance_rate = 1.50  # $1.50 per mile\n",
    "    time_rate = 0.25     # $0.25 per minute\n",
    "    peak_time_rate = 1.5  # 50% surcharge during peak hours\n",
    "    \n",
    "    fare = base_fare + (distance * distance_rate) + (time * time_rate)\n",
    "    if is_peak_time:\n",
    "        fare *= peak_time_rate\n",
    "    \n",
    "    return fare\n",
    "\n",
    "distance_traveled = float(input(\"Enter distance traveled (miles): \"))\n",
    "time_taken = float(input(\"Enter time taken (minutes): \"))\n",
    "peak_hours = input(\"Is it peak hours? (yes/no): \").lower() == 'yes'\n",
    "\n",
    "total_fare = calculate_fare(distance_traveled, time_taken, peak_hours)\n",
    "print(\"Total fare: $\", total_fare)"
   ]
  },
  {
   "cell_type": "markdown",
   "id": "981fc6bc",
   "metadata": {},
   "source": [
    "#### 4. Create a program to determine the eligibility of a person to drive based on their age and whether they have a valid driver's license."
   ]
  },
  {
   "cell_type": "code",
   "execution_count": 20,
   "id": "255a9aea",
   "metadata": {},
   "outputs": [
    {
     "name": "stdout",
     "output_type": "stream",
     "text": [
      "Enter your age: 12\n",
      "Do you have a valid driver's license? (yes/no): yes\n",
      "You are not eligible to drive\n"
     ]
    }
   ],
   "source": [
    "age = int(input(\"Enter your age: \"))\n",
    "has_license = input(\"Do you have a valid driver's license? (yes/no): \").lower() == 'yes'\n",
    "if age >= 18 and has_license:\n",
    "    print(\"You are eligible to drive\")\n",
    "else:\n",
    "    print(\"You are not eligible to drive\")"
   ]
  },
  {
   "cell_type": "markdown",
   "id": "ed0b62d3",
   "metadata": {},
   "source": [
    "#### 5. Write a Python program to calculate the income tax payable by an individual based on their annual income, considering different tax brackets."
   ]
  },
  {
   "cell_type": "code",
   "execution_count": 21,
   "id": "28b93368",
   "metadata": {},
   "outputs": [
    {
     "name": "stdout",
     "output_type": "stream",
     "text": [
      "Enter annual income: $1000\n",
      "Income tax payable: $ 100.0\n"
     ]
    }
   ],
   "source": [
    "def calculate_tax(income):\n",
    "    if income <= 10000:\n",
    "        tax = 0.10 * income\n",
    "    elif income <= 50000:\n",
    "        tax = 0.20 * (income - 10000) + 1000  # 10% tax for first 10,000, 20% for remaining\n",
    "    else:\n",
    "        tax = 0.30 * (income - 50000) + 10000  # 30% tax for income above 50,000 + 10,000 (20% of 50,000)\n",
    "    return tax\n",
    "\n",
    "annual_income = float(input(\"Enter annual income: $\"))\n",
    "income_tax = calculate_tax(annual_income)\n",
    "print(\"Income tax payable: $\", income_tax)"
   ]
  },
  {
   "cell_type": "markdown",
   "id": "748bd321",
   "metadata": {},
   "source": [
    "#### 6. Create a program to determine the type of triangle based on the lengths of its sides."
   ]
  },
  {
   "cell_type": "code",
   "execution_count": 22,
   "id": "25ddc1fd",
   "metadata": {},
   "outputs": [
    {
     "name": "stdout",
     "output_type": "stream",
     "text": [
      "Enter the length of side a: 2\n",
      "Enter the length of side b: 3\n",
      "Enter the length of side c: 2\n",
      "Isosceles triangle\n"
     ]
    }
   ],
   "source": [
    "a = float(input(\"Enter the length of side a: \"))\n",
    "b = float(input(\"Enter the length of side b: \"))\n",
    "c = float(input(\"Enter the length of side c: \"))\n",
    "if a == b == c:\n",
    "    print(\"Equilateral triangle\")\n",
    "elif a == b or b == c or c == a:\n",
    "    print(\"Isosceles triangle\")\n",
    "else:\n",
    "    print(\"Scalene triangle\")"
   ]
  },
  {
   "cell_type": "markdown",
   "id": "b0e9f2ef",
   "metadata": {},
   "source": [
    "#### 7. Write a program to determine if a given year is a leap year or not, considering leap years in various calendars such as the Islamic calendar or the Hebrew calendar."
   ]
  },
  {
   "cell_type": "code",
   "execution_count": 23,
   "id": "8b91388c",
   "metadata": {},
   "outputs": [
    {
     "name": "stdout",
     "output_type": "stream",
     "text": [
      "Enter a year: 2020\n",
      "Enter the calendar type (Gregorian or Julian): Julian\n",
      "Leap year\n"
     ]
    }
   ],
   "source": [
    "# A different approach to solve the same problem\n",
    "def is_leap_year(year, calendar):\n",
    "    if calendar == \"Gregorian\":\n",
    "        if (year % 4 == 0 and year % 100 != 0) or (year % 400 == 0):\n",
    "            return True\n",
    "        else:\n",
    "            return False\n",
    "    elif calendar == \"Julian\":\n",
    "        if year % 4 == 0:\n",
    "            return True\n",
    "        else:\n",
    "            return False\n",
    "    else:\n",
    "        return False\n",
    "\n",
    "year = int(input(\"Enter a year: \"))\n",
    "calendar_type = input(\"Enter the calendar type (Gregorian or Julian): \").capitalize()\n",
    "if is_leap_year(year, calendar_type):\n",
    "    print(\"Leap year\")\n",
    "else:\n",
    "    print(\"Not a leap year\")"
   ]
  },
  {
   "cell_type": "markdown",
   "id": "d0e8be58",
   "metadata": {},
   "source": [
    "#### 8. Create a program to determine if a given string is an anagram of another string."
   ]
  },
  {
   "cell_type": "code",
   "execution_count": 26,
   "id": "4e783525",
   "metadata": {},
   "outputs": [
    {
     "name": "stdout",
     "output_type": "stream",
     "text": [
      "Enter the first string: tri\n",
      "Enter the second string: rit\n",
      "Anagram\n"
     ]
    }
   ],
   "source": [
    "\"\"\"\n",
    "An anagram is a word or phrase that's formed by rearranging the letters of another wordor phrase.\n",
    "\n",
    "For example,\n",
    "    - the letters that make up \n",
    "        \n",
    "        “A decimal point”\n",
    "    - \n",
    "    can be turned into the anagram \n",
    "        \n",
    "        “I'm a dot in place.”\n",
    "\"\"\"\n",
    "def is_anagram(str1, str2):\n",
    "    return sorted(str1.lower()) == sorted(str2.lower())\n",
    "\n",
    "str1 = input(\"Enter the first string: \")\n",
    "str2 = input(\"Enter the second string: \")\n",
    "if is_anagram(str1, str2):\n",
    "    print(\"Anagram\")\n",
    "else:\n",
    "    print(\"Not an anagram\")"
   ]
  },
  {
   "cell_type": "markdown",
   "id": "5af23162",
   "metadata": {},
   "source": [
    "#### 9. Write a Python program to calculate the total cost of a shopping cart, considering discounts and taxes."
   ]
  },
  {
   "cell_type": "code",
   "execution_count": 27,
   "id": "2694a2aa",
   "metadata": {},
   "outputs": [
    {
     "name": "stdout",
     "output_type": "stream",
     "text": [
      "Total cost of shopping cart: $ 1477.44\n"
     ]
    }
   ],
   "source": [
    "def calculate_total_cost(items):\n",
    "    total_cost = 0\n",
    "    for item, price in items.items():\n",
    "        total_cost += price\n",
    "    \n",
    "    # Apply discount if total cost exceeds $100\n",
    "    if total_cost > 100:\n",
    "        total_cost *= 0.9  # 10% discount\n",
    "    \n",
    "    # Apply 8% sales tax\n",
    "    total_cost *= 1.08\n",
    "    \n",
    "    return total_cost\n",
    "\n",
    "# Sample shopping cart data (item: price)\n",
    "shopping_cart = {\n",
    "    \"Laptop\": 800,\n",
    "    \"Smartphone\": 600,\n",
    "    \"Headphones\": 100,\n",
    "    \"Charger\": 20\n",
    "}\n",
    "\n",
    "total_cost = calculate_total_cost(shopping_cart)\n",
    "print(\"Total cost of shopping cart: $\", round(total_cost, 2))"
   ]
  },
  {
   "cell_type": "markdown",
   "id": "6d3b21a0",
   "metadata": {},
   "source": [
    "#### *Modify the above program to take user input and proceed further*"
   ]
  },
  {
   "cell_type": "markdown",
   "id": "c564a397",
   "metadata": {},
   "source": [
    "#### 10. Create a program to determine the eligibility of a person to apply for a particular job position based on their qualifications and years of experience."
   ]
  },
  {
   "cell_type": "code",
   "execution_count": 29,
   "id": "e87fcafb",
   "metadata": {},
   "outputs": [
    {
     "name": "stdout",
     "output_type": "stream",
     "text": [
      "Do you have the required qualifications? (yes/no): yes\n",
      "Enter years of experience: 3\n",
      "You are eligible to apply\n"
     ]
    }
   ],
   "source": [
    "qualifications = input(\"Do you have the required qualifications? (yes/no): \").lower() == 'yes'\n",
    "experience_years = int(input(\"Enter years of experience: \"))\n",
    "if qualifications and experience_years >= 2:\n",
    "    print(\"You are eligible to apply\")\n",
    "else:\n",
    "    print(\"You are not eligible to apply\")"
   ]
  },
  {
   "cell_type": "markdown",
   "id": "c1efbb5e",
   "metadata": {},
   "source": [
    "# Advanced"
   ]
  },
  {
   "cell_type": "markdown",
   "id": "2a7a2671",
   "metadata": {},
   "source": [
    "#### 1. Write a Python program to determine if a given year is a leap year or not, considering leap years in various calendars such as the Islamic calendar or the Hebrew calendar."
   ]
  },
  {
   "cell_type": "code",
   "execution_count": null,
   "id": "2be635d9",
   "metadata": {},
   "outputs": [],
   "source": []
  },
  {
   "cell_type": "markdown",
   "id": "ca943013",
   "metadata": {},
   "source": [
    "2. Create a program to deter4mine the type of quadrilateral based on the lengths of its four sides."
   ]
  },
  {
   "cell_type": "code",
   "execution_count": 30,
   "id": "10337e26",
   "metadata": {},
   "outputs": [
    {
     "name": "stdout",
     "output_type": "stream",
     "text": [
      "Enter length of side a: 2\n",
      "Enter length of side b: 3\n",
      "Enter length of side c: 2\n",
      "Enter length of side d: 4\n",
      "Quadrilateral\n"
     ]
    }
   ],
   "source": [
    "a = float(input(\"Enter length of side a: \"))\n",
    "b = float(input(\"Enter length of side b: \"))\n",
    "c = float(input(\"Enter length of side c: \"))\n",
    "d = float(input(\"Enter length of side d: \"))\n",
    "\n",
    "if a == b == c == d:\n",
    "    print(\"Square\")\n",
    "elif (a == b and c == d) or (a == c and b == d) or (a == d and b == c):\n",
    "    print(\"Rectangle\")\n",
    "elif (a == b != c == d) or (a == c != b == d) or (a == d != b == c) or (b == c != a == d):\n",
    "    print(\"Parallelogram\")\n",
    "else:\n",
    "    print(\"Quadrilateral\")"
   ]
  },
  {
   "cell_type": "markdown",
   "id": "eaff4f04",
   "metadata": {},
   "source": [
    "#### 3. Write a program to determine the winner of a rock-paper-scissors game between two players."
   ]
  },
  {
   "cell_type": "code",
   "execution_count": 32,
   "id": "349589b8",
   "metadata": {},
   "outputs": [
    {
     "name": "stdout",
     "output_type": "stream",
     "text": [
      "Player 1(rock/paper/scissors): rocl\n",
      "Player 2(rock/paper/scissors): paper\n",
      "Player 2 wins!\n"
     ]
    }
   ],
   "source": [
    "player1 = input(\"Player 1(rock/paper/scissors): \").lower()\n",
    "player2 = input(\"Player 2(rock/paper/scissors): \").lower()\n",
    "\n",
    "if player1 == player2:\n",
    "    print(\"It's a tie!\")\n",
    "elif (player1 == \"rock\" and player2 == \"scissors\") or (player1 == \"paper\" and player2 == \"rock\") or (player1 == \"scissors\" and player2 == \"paper\"):\n",
    "    print(\"Player 1 wins!\")\n",
    "else:\n",
    "    print(\"Player 2 wins!\")"
   ]
  },
  {
   "cell_type": "markdown",
   "id": "a142ba02",
   "metadata": {},
   "source": [
    "#### 4. Determine the eligibility of a person to participate in a marathon based on their age and gender"
   ]
  },
  {
   "cell_type": "code",
   "execution_count": 40,
   "id": "25d06ffa",
   "metadata": {},
   "outputs": [
    {
     "name": "stdout",
     "output_type": "stream",
     "text": [
      "Enter your age: 23\n",
      "Enter your gender (male/female): male\n",
      "You are eligible to participate in the marathon.\n"
     ]
    }
   ],
   "source": [
    "age = int(input(\"Enter your age: \"))\n",
    "gender = input(\"Enter your gender (male/female): \").lower()\n",
    "\n",
    "if age >= 18:\n",
    "    if gender == \"male\":\n",
    "        print(\"You are eligible to participate in the marathon.\")\n",
    "    elif gender == \"female\" and age >= 16:\n",
    "        print(\"You are eligible to participate in the marathon.\")\n",
    "    else:\n",
    "        print(\"Sorry, you are not eligible to participate in the marathon.\")\n",
    "else:\n",
    "    print(\"Sorry, you are not eligible to participate in the marathon.\")"
   ]
  },
  {
   "cell_type": "markdown",
   "id": "042428e2",
   "metadata": {},
   "source": [
    "#### 5. Write a Python program to calculate the factorial of a given number using recursion."
   ]
  },
  {
   "cell_type": "code",
   "execution_count": 33,
   "id": "ffdfac98",
   "metadata": {},
   "outputs": [
    {
     "name": "stdout",
     "output_type": "stream",
     "text": [
      "Enter a number: 3\n",
      "Factorial: 6\n"
     ]
    }
   ],
   "source": [
    "def factorial(n):\n",
    "    if n == 0:\n",
    "        return 1\n",
    "    else:\n",
    "        return n * factorial(n - 1)\n",
    "\n",
    "num = int(input(\"Enter a number: \"))\n",
    "print(\"Factorial:\", factorial(num))"
   ]
  },
  {
   "cell_type": "markdown",
   "id": "c452fa15",
   "metadata": {},
   "source": [
    "#### 6. Create a program to determine if a given string is a valid email address, considering various rules such as the presence of \"@\" and \".\" symbols."
   ]
  },
  {
   "cell_type": "code",
   "execution_count": 34,
   "id": "d8ead326",
   "metadata": {},
   "outputs": [
    {
     "name": "stdout",
     "output_type": "stream",
     "text": [
      "Enter an email address: user@admin.com\n",
      "Valid email address\n"
     ]
    }
   ],
   "source": [
    "import re\n",
    "\n",
    "def is_valid_email(email):\n",
    "    pattern = r'^[a-zA-Z0-9._%+-]+@[a-zA-Z0-9.-]+\\.[a-zA-Z]{2,}$'\n",
    "    return re.match(pattern, email) is not None\n",
    "\n",
    "email = input(\"Enter an email address: \")\n",
    "if is_valid_email(email):\n",
    "    print(\"Valid email address\")\n",
    "else:\n",
    "    print(\"Invalid email address\")"
   ]
  },
  {
   "cell_type": "markdown",
   "id": "b3262695",
   "metadata": {},
   "source": [
    "#### 7. Write a program to determine the winner of a tic-tac-toe game given the current board configuration."
   ]
  },
  {
   "cell_type": "code",
   "execution_count": 35,
   "id": "2e04ba5b",
   "metadata": {},
   "outputs": [
    {
     "name": "stdout",
     "output_type": "stream",
     "text": [
      "Player 1 wins\n"
     ]
    }
   ],
   "source": [
    "def check_winner(board):\n",
    "    # Check rows\n",
    "    for row in board:\n",
    "        if all(cell == 'X' for cell in row):\n",
    "            return 'Player 1 wins'\n",
    "        elif all(cell == 'O' for cell in row):\n",
    "            return 'Player 2 wins'\n",
    "\n",
    "    # Check columns\n",
    "    for col in range(3):\n",
    "        if all(board[row][col] == 'X' for row in range(3)):\n",
    "            return 'Player 1 wins'\n",
    "        elif all(board[row][col] == 'O' for row in range(3)):\n",
    "            return 'Player 2 wins'\n",
    "\n",
    "    # Check diagonals\n",
    "    if all(board[i][i] == 'X' for i in range(3)) or all(board[i][2-i] == 'X' for i in range(3)):\n",
    "        return 'Player 1 wins'\n",
    "    elif all(board[i][i] == 'O' for i in range(3)) or all(board[i][2-i] == 'O' for i in range(3)):\n",
    "        return 'Player 2 wins'\n",
    "\n",
    "    return 'No winner'\n",
    "\n",
    "# Sample board configuration\n",
    "board = [\n",
    "    ['X', 'O', 'X'],\n",
    "    ['O', 'X', 'O'],\n",
    "    ['X', None, 'X']\n",
    "]\n",
    "\n",
    "print(check_winner(board))"
   ]
  },
  {
   "cell_type": "markdown",
   "id": "e3b7c052",
   "metadata": {},
   "source": [
    "#### 8. Create a program to determine the day of the week based on a numerical input (1 for Monday, 2 for Tuesday, etc.)."
   ]
  },
  {
   "cell_type": "code",
   "execution_count": 39,
   "id": "57ae5a70",
   "metadata": {},
   "outputs": [
    {
     "name": "stdout",
     "output_type": "stream",
     "text": [
      "Enter a number (1 for Monday, 2 for Tuesday, etc.): 4\n",
      "Thursday\n"
     ]
    }
   ],
   "source": [
    "day_number = int(input(\"Enter a number (1 for Monday, 2 for Tuesday, etc.): \"))\n",
    "\n",
    "if day_number == 1:\n",
    "    print(\"Monday\")\n",
    "elif day_number == 2:\n",
    "    print(\"Tuesday\")\n",
    "elif day_number == 3:\n",
    "    print(\"Wednesday\")\n",
    "elif day_number == 4:\n",
    "    print(\"Thursday\")\n",
    "elif day_number == 5:\n",
    "    print(\"Friday\")\n",
    "elif day_number == 6:\n",
    "    print(\"Saturday\")\n",
    "elif day_number == 7:\n",
    "    print(\"Sunday\")\n",
    "else:\n",
    "    print(\"Invalid input. Please enter a number between 1 and 7.\")\n"
   ]
  },
  {
   "cell_type": "markdown",
   "id": "c264fba2",
   "metadata": {},
   "source": [
    "#### 9. Write a Python program to determine the winner of an election based on the number of votes each candidate receives, considering factors such as majority voting and runoff elections."
   ]
  },
  {
   "cell_type": "code",
   "execution_count": 37,
   "id": "40d2da38",
   "metadata": {},
   "outputs": [
    {
     "name": "stdout",
     "output_type": "stream",
     "text": [
      "The winner is Candidate B with 550 votes.\n"
     ]
    }
   ],
   "source": [
    "def determine_winner(votes):\n",
    "    max_votes = max(votes.values())\n",
    "    winners = [candidate for candidate, vote_count in votes.items() if vote_count == max_votes]\n",
    "    if len(winners) == 1:\n",
    "        return f\"The winner is {winners[0]} with {max_votes} votes.\"\n",
    "    else:\n",
    "        return \"There is a tie between the following candidates: \" + \", \".join(winners)\n",
    "\n",
    "# Sample vote counts\n",
    "votes = {\n",
    "    \"Candidate A\": 500,\n",
    "    \"Candidate B\": 550,\n",
    "    \"Candidate C\": 500\n",
    "}\n",
    "\n",
    "print(determine_winner(votes))\n"
   ]
  },
  {
   "cell_type": "markdown",
   "id": "dd89ebca",
   "metadata": {},
   "source": [
    "#### 10. Create a program to determine if a given Sudoku puzzle is valid, considering the rules of Sudoku (no duplicate numbers in each row, column, or 3x3 subgrid)."
   ]
  },
  {
   "cell_type": "code",
   "execution_count": 38,
   "id": "c62e1c6e",
   "metadata": {},
   "outputs": [
    {
     "name": "stdout",
     "output_type": "stream",
     "text": [
      "Invalid Sudoku puzzle\n"
     ]
    }
   ],
   "source": [
    "def is_valid_sudoku(board):\n",
    "    def is_valid_row(row):\n",
    "        return len(set(row)) == 9 and all(cell.isdigit() and 1 <= int(cell) <= 9 for cell in row)\n",
    "\n",
    "    def is_valid_column(col):\n",
    "        return len(set(board[row][col] for row in range(9))) == 9\n",
    "\n",
    "    def is_valid_3x3_square(row, col):\n",
    "        square = [board[i][j] for i in range(row, row + 3) for j in range(col, col + 3)]\n",
    "        return len(set(square)) == 9\n",
    "\n",
    "    for i in range(9):\n",
    "        if not (is_valid_row(board[i]) and is_valid_column(i)):\n",
    "            return False\n",
    "\n",
    "    for i in range(0, 9, 3):\n",
    "        for j in range(0, 9, 3):\n",
    "            if not is_valid_3x3_square(i, j):\n",
    "                return False\n",
    "\n",
    "    return True\n",
    "\n",
    "# Sample Sudoku puzzle\n",
    "sudoku_board = [\n",
    "    ['5', '3', '.', '.', '7', '.', '.', '.', '.'],\n",
    "    ['6', '.', '.', '1', '9', '5', '.', '.', '.'],\n",
    "    ['.', '9', '8', '.', '.', '.', '.', '6', '.'],\n",
    "    ['8', '.', '.', '.', '6', '.', '.', '.', '3'],\n",
    "    ['4', '.', '.', '8', '.', '3', '.', '.', '1'],\n",
    "    ['7', '.', '.', '.', '2', '.', '.', '.', '6'],\n",
    "    ['.', '6', '.', '.', '.', '.', '2', '8', '.'],\n",
    "    ['.', '.', '.', '4', '1', '9', '.', '.', '5'],\n",
    "    ['.', '.', '.', '.', '8', '.', '.', '7', '9']\n",
    "]\n",
    "\n",
    "if is_valid_sudoku(sudoku_board):\n",
    "    print(\"Valid Sudoku puzzle\")\n",
    "else:\n",
    "    print(\"Invalid Sudoku puzzle\")\n"
   ]
  },
  {
   "cell_type": "code",
   "execution_count": null,
   "id": "06a329ef",
   "metadata": {},
   "outputs": [],
   "source": []
  }
 ],
 "metadata": {
  "kernelspec": {
   "display_name": "Python 3 (ipykernel)",
   "language": "python",
   "name": "python3"
  },
  "language_info": {
   "codemirror_mode": {
    "name": "ipython",
    "version": 3
   },
   "file_extension": ".py",
   "mimetype": "text/x-python",
   "name": "python",
   "nbconvert_exporter": "python",
   "pygments_lexer": "ipython3",
   "version": "3.11.5"
  }
 },
 "nbformat": 4,
 "nbformat_minor": 5
}
