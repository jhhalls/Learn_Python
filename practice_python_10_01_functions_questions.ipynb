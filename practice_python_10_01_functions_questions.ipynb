{
 "cells": [
  {
   "cell_type": "markdown",
   "id": "681d7fc6",
   "metadata": {},
   "source": [
    "# Function"
   ]
  },
  {
   "cell_type": "markdown",
   "id": "95e31d5f",
   "metadata": {},
   "source": [
    "### Question 1: Palindrome Checker"
   ]
  },
  {
   "cell_type": "markdown",
   "id": "e062b9ff",
   "metadata": {},
   "source": [
    "Write a Python function called is_palindrome that takes a string as input and returns True if the string is a palindrome (reads the same forwards and backwards), and False otherwise. The function should ignore spaces and consider uppercase and lowercase characters as the same. \n",
    "\n",
    "    For example,\n",
    "    \"Racecar\" and \"A man a plan a canal Panama\" should both return True."
   ]
  },
  {
   "cell_type": "markdown",
   "id": "dbada586",
   "metadata": {},
   "source": [
    "### Question 2: Fibonacci Sequence"
   ]
  },
  {
   "cell_type": "markdown",
   "id": "33ce9ee7",
   "metadata": {},
   "source": [
    "Write a Python function called fibonacci that takes an integer n as input and returns the nth Fibonacci number. The Fibonacci sequence starts with 0 and 1, and each subsequent number is the sum of the two preceding ones. \n",
    "\n",
    "    For example,\n",
    "    the first six Fibonacci numbers are 0, 1, 1, 2, 3, 5."
   ]
  },
  {
   "cell_type": "markdown",
   "id": "245ae8bd",
   "metadata": {},
   "source": [
    "### Question 3: Prime Number Checker"
   ]
  },
  {
   "cell_type": "markdown",
   "id": "7ba105b2",
   "metadata": {},
   "source": [
    "Write a Python function called is_prime that takes an integer as input and returns True if the number is prime (has no divisors other than 1 and itself), and False otherwise."
   ]
  },
  {
   "cell_type": "markdown",
   "id": "159aa1e8",
   "metadata": {},
   "source": [
    "### Question 4: Unique Elements"
   ]
  },
  {
   "cell_type": "markdown",
   "id": "f76060fb",
   "metadata": {},
   "source": [
    "Write a Python function called unique_elements that takes a list as input and returns a new list containing only the unique elements from the input list, preserving their original order. \n",
    "\n",
    "    For example,\n",
    "    given the input list [1, 2, 2, 3, 4, 4, 5], the function should return [1, 2, 3, 4, 5]."
   ]
  },
  {
   "cell_type": "markdown",
   "id": "539de7a3",
   "metadata": {},
   "source": [
    "### Question 5: Factorial Sum"
   ]
  },
  {
   "cell_type": "markdown",
   "id": "38437893",
   "metadata": {},
   "source": [
    "Write a Python function called factorial_sum that takes an integer n as input and returns the sum of the factorials of all positive integers less than or equal to n. \n",
    "\n",
    "\n",
    "    For example,\n",
    "    if n is 5, the function should return 1! + 2! + 3! + 4! + 5! = 1 + 2 + 6 + 24 + 120 = 153."
   ]
  },
  {
   "cell_type": "markdown",
   "id": "56d7e77d",
   "metadata": {},
   "source": [
    "### Question 6: Anagram Checker"
   ]
  },
  {
   "cell_type": "markdown",
   "id": "bd32e54e",
   "metadata": {},
   "source": [
    "Write a Python function called is_anagram that takes two strings as input and returns True if they are anagrams of each other (contain the same characters but in a different order), and False otherwise.\n",
    "\n",
    "    For example,\n",
    "    \"listen\" and \"silent\" are anagrams."
   ]
  },
  {
   "cell_type": "markdown",
   "id": "c3bb0750",
   "metadata": {},
   "source": [
    "### Question 7: Sum of Squares"
   ]
  },
  {
   "cell_type": "markdown",
   "id": "af7824be",
   "metadata": {},
   "source": [
    "Write a Python function called sum_of_squares that takes a list of numbers as input and returns the sum of the squares of all the elements in the list. \n",
    "\n",
    "\n",
    "    For example, \n",
    "    given the input list [1, 2, 3, 4], \n",
    "    the function should return\n",
    "    1^2 + 2^2 + 3^2 + 4^2 = 30."
   ]
  },
  {
   "cell_type": "markdown",
   "id": "fb80404f",
   "metadata": {},
   "source": [
    "### Question 8: Number of Vowels"
   ]
  },
  {
   "cell_type": "markdown",
   "id": "badef000",
   "metadata": {},
   "source": [
    "Write a Python function called count_vowels that takes a string as input and returns the number of vowels (case-insensitive) in the string."
   ]
  },
  {
   "cell_type": "markdown",
   "id": "ba6c0c88",
   "metadata": {},
   "source": [
    "### Question 9: Caesar Cipher"
   ]
  },
  {
   "cell_type": "markdown",
   "id": "b5639e6a",
   "metadata": {},
   "source": [
    "Write a Python function called caesar_cipher that takes a string and an integer shift as input and returns the string encrypted using the Caesar cipher technique. The Caesar cipher replaces each letter in the string with a letter located shift positions down the alphabet. \n",
    "\n",
    "\n",
    "    For example,\n",
    "    with a shift of 3, \"HELLO\" should be encrypted to \"KHOOR\"."
   ]
  },
  {
   "cell_type": "markdown",
   "id": "466e8b14",
   "metadata": {},
   "source": [
    "## Question 10: Perfect Number"
   ]
  },
  {
   "cell_type": "markdown",
   "id": "18de6cc9",
   "metadata": {},
   "source": [
    "Write a Python function called is_perfect_number that takes an integer as input and returns True if the number is a perfect number (the sum of its proper divisors equals the number itself), and False otherwise."
   ]
  },
  {
   "cell_type": "markdown",
   "id": "4711b1c2",
   "metadata": {},
   "source": [
    "# Lambda Function"
   ]
  },
  {
   "cell_type": "markdown",
   "id": "43365394",
   "metadata": {},
   "source": [
    "## Level 1"
   ]
  },
  {
   "cell_type": "markdown",
   "id": "22e7cba6",
   "metadata": {},
   "source": [
    "### Question 1: Square Function"
   ]
  },
  {
   "cell_type": "markdown",
   "id": "c4d4f23d",
   "metadata": {},
   "source": [
    "Write a lambda function that takes an integer x as input and returns the square of x."
   ]
  },
  {
   "cell_type": "markdown",
   "id": "b571b0f8",
   "metadata": {},
   "source": [
    "### Question 2: Add Two Numbers"
   ]
  },
  {
   "cell_type": "markdown",
   "id": "a5a87f21",
   "metadata": {},
   "source": [
    "Write a lambda function that takes two integers a and b as input and returns their sum."
   ]
  },
  {
   "cell_type": "markdown",
   "id": "f2233c93",
   "metadata": {},
   "source": [
    "### Question 3: String Length"
   ]
  },
  {
   "cell_type": "markdown",
   "id": "457a7cdd",
   "metadata": {},
   "source": [
    "Write a lambda function that takes a string s as input and returns the length of the string."
   ]
  },
  {
   "cell_type": "markdown",
   "id": "23e92b58",
   "metadata": {},
   "source": [
    "### Question 4: Check Even Number"
   ]
  },
  {
   "cell_type": "markdown",
   "id": "73ea873a",
   "metadata": {},
   "source": [
    "Write a lambda function that takes an integer num as input and returns True if num is "
   ]
  },
  {
   "cell_type": "markdown",
   "id": "fcf4a213",
   "metadata": {},
   "source": [
    "### Question 5: Reverse a String"
   ]
  },
  {
   "cell_type": "markdown",
   "id": "f729c501",
   "metadata": {},
   "source": [
    "Write a lambda function that takes a string s as input and returns the reverse of the string."
   ]
  },
  {
   "cell_type": "markdown",
   "id": "97e1582b",
   "metadata": {},
   "source": [
    "### Question 6: Power Function"
   ]
  },
  {
   "cell_type": "markdown",
   "id": "c99846af",
   "metadata": {},
   "source": [
    "Write a lambda function that takes two floats base and exponent as input and returns base raised to the power of exponent."
   ]
  },
  {
   "cell_type": "markdown",
   "id": "41d665ba",
   "metadata": {},
   "source": [
    "### Question 7: Check Vowel"
   ]
  },
  {
   "cell_type": "markdown",
   "id": "b7d416b7",
   "metadata": {},
   "source": [
    "Write a lambda function that takes a character c as input and returns True if c is a vowel (case-insensitive), and False otherwise."
   ]
  },
  {
   "cell_type": "markdown",
   "id": "e34e21d1",
   "metadata": {},
   "source": [
    "### Question 8: Extract First Name"
   ]
  },
  {
   "cell_type": "markdown",
   "id": "63e487fc",
   "metadata": {},
   "source": [
    "Write a lambda function that takes a string full_name as input (format: \"First Last\") and returns the first name."
   ]
  },
  {
   "cell_type": "markdown",
   "id": "8cc781dd",
   "metadata": {},
   "source": [
    "### Question 9 : Check Prime Number"
   ]
  },
  {
   "cell_type": "markdown",
   "id": "54311342",
   "metadata": {},
   "source": [
    "Write a lambda function that takes an integer num as input and returns True if num is prime (has no divisors other than 1 and itself), and False otherwise."
   ]
  },
  {
   "cell_type": "markdown",
   "id": "56784342",
   "metadata": {},
   "source": [
    "### Question 10: Multiply Two Numbers"
   ]
  },
  {
   "cell_type": "markdown",
   "id": "b17f45a4",
   "metadata": {},
   "source": [
    "Write a lambda function that takes two floats a and b as input and returns their product."
   ]
  },
  {
   "cell_type": "markdown",
   "id": "af6d674a",
   "metadata": {},
   "source": [
    "## Level 2"
   ]
  },
  {
   "cell_type": "markdown",
   "id": "bf270456",
   "metadata": {},
   "source": [
    "### Question 1. Higher-Order Function Mapping"
   ]
  },
  {
   "cell_type": "markdown",
   "id": "e9445742",
   "metadata": {},
   "source": [
    "Write a lambda function that takes a list of integers and returns a new list containing the squares of all the odd numbers in the input list."
   ]
  },
  {
   "cell_type": "markdown",
   "id": "742329c9",
   "metadata": {},
   "source": [
    "### Question 2. Sorting with Lambda"
   ]
  },
  {
   "cell_type": "markdown",
   "id": "86255fdd",
   "metadata": {},
   "source": [
    "Using lambda functions, sort a list of tuples based on the second element of each tuple in ascending order."
   ]
  },
  {
   "cell_type": "markdown",
   "id": "25969c23",
   "metadata": {},
   "source": [
    "### Question 3. Higher-Order Function Reducing"
   ]
  },
  {
   "cell_type": "markdown",
   "id": "67b41061",
   "metadata": {},
   "source": [
    "Write a lambda function that takes a list of integers and returns the product of all the elements in the list."
   ]
  },
  {
   "cell_type": "markdown",
   "id": "e7640944",
   "metadata": {},
   "source": [
    "### Question 4. Custom Sorting"
   ]
  },
  {
   "cell_type": "markdown",
   "id": "a999fc2d",
   "metadata": {},
   "source": [
    "Given a list of strings, sort the list based on the length of each string in descending order, using a lambda function."
   ]
  },
  {
   "cell_type": "markdown",
   "id": "a82a5aed",
   "metadata": {},
   "source": [
    "### Question 5. Function Composition with Lambda"
   ]
  },
  {
   "cell_type": "markdown",
   "id": "4fd30e78",
   "metadata": {},
   "source": [
    "Write a lambda function that takes a list of integers, squares each element, and then sums up all the squared values."
   ]
  },
  {
   "cell_type": "markdown",
   "id": "810e0d0c",
   "metadata": {},
   "source": [
    "### Question 6. Advanced Filtering"
   ]
  },
  {
   "cell_type": "markdown",
   "id": "3ad6f89a",
   "metadata": {},
   "source": [
    "Using lambda functions, filter a list of strings and return a new list containing only those strings that have more than five characters and start with a vowel."
   ]
  },
  {
   "cell_type": "markdown",
   "id": "f5d1eaef",
   "metadata": {},
   "source": [
    "### Question 7. Higher-Order Function Mapping with Multiple Lists"
   ]
  },
  {
   "cell_type": "markdown",
   "id": "3fb6c0e8",
   "metadata": {},
   "source": [
    "Given two lists of integers, combine the elements from both lists by adding them together and return a new list using a lambda function."
   ]
  },
  {
   "cell_type": "markdown",
   "id": "a6e447d4",
   "metadata": {},
   "source": [
    "### Question 8. Custom Grouping with Lambda"
   ]
  },
  {
   "cell_type": "markdown",
   "id": "1113dcb7",
   "metadata": {},
   "source": [
    "Using lambda functions, group a list of strings based on the first character of each string and return a dictionary with the grouped strings."
   ]
  },
  {
   "cell_type": "markdown",
   "id": "4695bd7d",
   "metadata": {},
   "source": [
    "### Question 9. Higher-Order Function Partial Application"
   ]
  },
  {
   "cell_type": "markdown",
   "id": "8409cc43",
   "metadata": {},
   "source": [
    "Write a lambda function that partially applies a given function with a constant value for one of its arguments."
   ]
  },
  {
   "cell_type": "markdown",
   "id": "c967b3b7",
   "metadata": {},
   "source": [
    "### Question 10. Recursive Lambda"
   ]
  },
  {
   "cell_type": "markdown",
   "id": "39eada67",
   "metadata": {},
   "source": [
    "Create a lambda function that computes the nth Fibonacci number using recursion."
   ]
  },
  {
   "cell_type": "markdown",
   "id": "1da530df",
   "metadata": {},
   "source": [
    "# MAP"
   ]
  },
  {
   "cell_type": "markdown",
   "id": "918ba743",
   "metadata": {},
   "source": [
    "## Level 1"
   ]
  },
  {
   "cell_type": "markdown",
   "id": "6ef3ce43",
   "metadata": {},
   "source": [
    "### Solve the Level 1 questions using both user-defined function and lambda function"
   ]
  },
  {
   "cell_type": "markdown",
   "id": "2693d5f0",
   "metadata": {},
   "source": [
    "#### Question 1. Map with basic arithmetic"
   ]
  },
  {
   "cell_type": "markdown",
   "id": "56edf5e7",
   "metadata": {},
   "source": [
    "Write a Python program that takes a list of integers as input and uses map to add 10 to each element in the list. Print the resulting list."
   ]
  },
  {
   "cell_type": "markdown",
   "id": "eb1d27ea",
   "metadata": {},
   "source": [
    "#### Question 2. Map with String Concatenation"
   ]
  },
  {
   "cell_type": "markdown",
   "id": "522dfc7c",
   "metadata": {},
   "source": [
    "Create a Python program that takes a list of strings as input and uses map to concatenate \"Hello, \" before each string in the list. Print the resulting list."
   ]
  },
  {
   "cell_type": "markdown",
   "id": "1c8dff3b",
   "metadata": {},
   "source": [
    "#### Question 3. Map with Multiple Lists"
   ]
  },
  {
   "cell_type": "markdown",
   "id": "80952581",
   "metadata": {},
   "source": [
    "Create a Python program that takes two lists of integers as input and uses map to add the corresponding elements of the two lists. Print the resulting list."
   ]
  },
  {
   "cell_type": "markdown",
   "id": "07375be1",
   "metadata": {},
   "source": [
    "#### Question 4. Map with Type Conversion"
   ]
  },
  {
   "cell_type": "markdown",
   "id": "00271577",
   "metadata": {},
   "source": [
    "Write a Python program that takes a list of strings representing numbers as input and uses map to convert each string to its corresponding integer value. Print the resulting list."
   ]
  },
  {
   "cell_type": "markdown",
   "id": "b42a86ae",
   "metadata": {},
   "source": [
    "#### question 5. Convert celcius to fahrenheit"
   ]
  },
  {
   "cell_type": "markdown",
   "id": "97f32e65",
   "metadata": {},
   "source": [
    "Write a Python program that takes a list of temperatures in Fahrenheit as input and uses map to convert each temperature to Celsius using the formula (F - 32) * 5/9. Print the resulting list of temperatures in Celsius."
   ]
  },
  {
   "cell_type": "markdown",
   "id": "0992a40d",
   "metadata": {},
   "source": [
    "#### Question 6. Uppercase Words"
   ]
  },
  {
   "cell_type": "markdown",
   "id": "95c761dc",
   "metadata": {},
   "source": [
    "Create a Python program that takes a list of sentences as input and uses map with a custom function to convert each sentence to uppercase, but only the first word of each sentence. Print the resulting list of sentences."
   ]
  },
  {
   "cell_type": "markdown",
   "id": "abb5ac83",
   "metadata": {},
   "source": [
    "#### Question 7. Map with Nested Lists"
   ]
  },
  {
   "cell_type": "markdown",
   "id": "e738e764",
   "metadata": {},
   "source": [
    "Write a Python program that takes a list of nested lists containing integers as input and uses map with a  function to calculate the sum of each nested list. Print the resulting list of sums."
   ]
  },
  {
   "cell_type": "code",
   "execution_count": null,
   "id": "955dc03f",
   "metadata": {},
   "outputs": [],
   "source": []
  }
 ],
 "metadata": {
  "kernelspec": {
   "display_name": "Python 3 (ipykernel)",
   "language": "python",
   "name": "python3"
  },
  "language_info": {
   "codemirror_mode": {
    "name": "ipython",
    "version": 3
   },
   "file_extension": ".py",
   "mimetype": "text/x-python",
   "name": "python",
   "nbconvert_exporter": "python",
   "pygments_lexer": "ipython3",
   "version": "3.11.4"
  },
  "vp": {
   "vp_config_version": "1.0.0",
   "vp_menu_width": 273,
   "vp_note_display": false,
   "vp_note_width": 0,
   "vp_position": {
    "width": 278
   },
   "vp_section_display": false,
   "vp_signature": "VisualPython"
  }
 },
 "nbformat": 4,
 "nbformat_minor": 5
}
